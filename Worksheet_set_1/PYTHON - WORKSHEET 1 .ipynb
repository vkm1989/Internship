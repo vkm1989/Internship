{
 "cells": [
  {
   "cell_type": "markdown",
   "id": "771d39f6",
   "metadata": {},
   "source": [
    "Q11 to Q15 are programming questions. Answer them in Jupyter Notebook. "
   ]
  },
  {
   "cell_type": "raw",
   "id": "1a87ef10",
   "metadata": {},
   "source": [
    " 11.\tWrite a python program to find the factorial of a number."
   ]
  },
  {
   "cell_type": "code",
   "execution_count": 1,
   "id": "882c3c1f",
   "metadata": {},
   "outputs": [
    {
     "name": "stdout",
     "output_type": "stream",
     "text": [
      "Enter Number:  7\n",
      "The Factorial of 7 : 5040\n"
     ]
    }
   ],
   "source": [
    "# define num variable for user input value\n",
    "\n",
    "num = int(input(\"Enter Number:  \"))\n",
    "fact = 1\n",
    "\n",
    "# chek if the number is positive or not, using if, elif, or else condition\n",
    "if num<0:\n",
    "    print(\"Wrong Enter, Factorial Does Not Exist\")\n",
    "elif num==0:\n",
    "    print(\"The factorial of 0 is : 1\")\n",
    "else:\n",
    "    \n",
    "    # using for loop and range() function to calculate the factorial\n",
    "    for i in range(1, num + 1):\n",
    "        fact = fact*i\n",
    "    print(\"The Factorial of\", num, \":\", fact)"
   ]
  },
  {
   "cell_type": "raw",
   "id": "f78f1a5e",
   "metadata": {},
   "source": [
    "12.\tWrite a python program to find whether a number is prime or composite. "
   ]
  },
  {
   "cell_type": "code",
   "execution_count": 2,
   "id": "7730d630",
   "metadata": {},
   "outputs": [
    {
     "name": "stdout",
     "output_type": "stream",
     "text": [
      "Enter Number: 21\n",
      "Number is Prime not Composite Number:  21\n"
     ]
    }
   ],
   "source": [
    "# define num variable for user input value\n",
    "num = int(input(\"Enter Number: \"))\n",
    "\n",
    "if num==0 or num==1:\n",
    "    print(\"Number is Prime not Composite: \", num )\n",
    "elif num > 1:\n",
    "    for i in range(2, num):\n",
    "        if num % i == 0:\n",
    "            print(\"Number is Composite not Prime: \", num)\n",
    "            # use break for condition is true then break statement is executed\n",
    "            break\n",
    "        else:\n",
    "            print(\"Number is Prime not Composite Number: \", num)\n",
    "            break\n",
    "            \n",
    "else:\n",
    "    print(\"Please Enter Positive Number Only\")\n"
   ]
  },
  {
   "cell_type": "raw",
   "id": "22c4ae87",
   "metadata": {},
   "source": [
    "13.\tWrite a python program to check whether a given string is palindrome or not. "
   ]
  },
  {
   "cell_type": "code",
   "execution_count": 3,
   "id": "8badc1a3",
   "metadata": {},
   "outputs": [
    {
     "name": "stdout",
     "output_type": "stream",
     "text": [
      "Enter string value:  madam\n",
      "palindrome\n"
     ]
    }
   ],
   "source": [
    "# using extend() and reverse() method\n",
    "# define function() Palindrome\n",
    "\n",
    "def Palindrome(a):\n",
    "    x=list(a)\n",
    "    \n",
    "    # empty list y\n",
    "    y=[]\n",
    "    \n",
    "    # extend list elements\n",
    "    y.extend(x)\n",
    "    \n",
    "    # reverse a list\n",
    "    x.reverse()\n",
    "    if x==y:\n",
    "        return True  # if condition is true, return true or palindrome\n",
    "    \n",
    "    return False     # if condition is false, return false or not palindrome\n",
    "a=str(input(\"Enter string value:  \"))\n",
    "#a =\"chandigarh\"\n",
    "b = Palindrome(a)\n",
    "\n",
    "if b:\n",
    "    print(\"palindrome\")\n",
    "else:\n",
    "    print(\"Not palindrome\")\n"
   ]
  },
  {
   "cell_type": "raw",
   "id": "c937f667",
   "metadata": {},
   "source": [
    "14.\tWrite a Python program to get the third side of right-angled triangle from two given sides."
   ]
  },
  {
   "cell_type": "code",
   "execution_count": 1,
   "id": "d3380fe3",
   "metadata": {},
   "outputs": [],
   "source": [
    "#from math import sqrt"
   ]
  },
  {
   "cell_type": "code",
   "execution_count": 12,
   "id": "70136720",
   "metadata": {},
   "outputs": [
    {
     "name": "stdout",
     "output_type": "stream",
     "text": [
      "Enter length of first side: 1\n",
      "Enter length of second side: 2\n",
      "The Third side is :  2.23606797749979\n"
     ]
    }
   ],
   "source": [
    "# define function\n",
    "\n",
    "def third_side_triangle(s1, s2):\n",
    "    s3=(s1 * s1 + s2 * s2)**0.5\n",
    "    return s3\n",
    "\n",
    "s1=float(input(\"Enter length of first side: \"))\n",
    "s2=float(input(\"Enter length of second side: \"))\n",
    "\n",
    "\n",
    "print(\"The Third side is : \", third_side_triangle(s1,s2))\n"
   ]
  },
  {
   "cell_type": "raw",
   "id": "e7beebaa",
   "metadata": {},
   "source": [
    "15.\tWrite a python program to print the frequency of each of the characters present in a given string."
   ]
  },
  {
   "cell_type": "code",
   "execution_count": 16,
   "id": "d543a303",
   "metadata": {},
   "outputs": [
    {
     "name": "stdout",
     "output_type": "stream",
     "text": [
      "Enter the string value: DataTrained\n",
      "The frequency of all character is: {'e': 1, 'n': 1, 't': 1, 'D': 1, 'a': 3, 'd': 1, 'r': 1, 'i': 1, 'T': 1}\n"
     ]
    }
   ],
   "source": [
    "val_str = str(input(\"Enter the string value: \"))\n",
    "\n",
    "# using set() or count() method to get count of each element in string\n",
    "\n",
    "freq = {i : val_str.count(i) for i in set(val_str)}\n",
    "\n",
    "print(\"The frequency of all character is: \" + str(freq))"
   ]
  },
  {
   "cell_type": "code",
   "execution_count": null,
   "id": "6a9ecd70",
   "metadata": {},
   "outputs": [],
   "source": []
  }
 ],
 "metadata": {
  "kernelspec": {
   "display_name": "Python 3 (ipykernel)",
   "language": "python",
   "name": "python3"
  },
  "language_info": {
   "codemirror_mode": {
    "name": "ipython",
    "version": 3
   },
   "file_extension": ".py",
   "mimetype": "text/x-python",
   "name": "python",
   "nbconvert_exporter": "python",
   "pygments_lexer": "ipython3",
   "version": "3.9.7"
  }
 },
 "nbformat": 4,
 "nbformat_minor": 5
}
