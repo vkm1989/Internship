{
 "cells": [
  {
   "cell_type": "code",
   "execution_count": null,
   "id": "b363b4a2",
   "metadata": {},
   "outputs": [],
   "source": [
    "\n"
   ]
  },
  {
   "cell_type": "code",
   "execution_count": null,
   "id": "54f3444b",
   "metadata": {},
   "outputs": [],
   "source": [
    "print (keyword.kwlist)"
   ]
  },
  {
   "cell_type": "code",
   "execution_count": null,
   "id": "1c0f61ba",
   "metadata": {},
   "outputs": [],
   "source": [
    "print (keyword.kwlist)"
   ]
  },
  {
   "cell_type": "code",
   "execution_count": null,
   "id": "0f47c234",
   "metadata": {},
   "outputs": [],
   "source": [
    "print (keyword.kwlist)"
   ]
  },
  {
   "cell_type": "code",
   "execution_count": null,
   "id": "831611bb",
   "metadata": {},
   "outputs": [],
   "source": [
    "True and False"
   ]
  },
  {
   "cell_type": "code",
   "execution_count": null,
   "id": "1ae621ed",
   "metadata": {},
   "outputs": [],
   "source": [
    "not True"
   ]
  },
  {
   "cell_type": "raw",
   "id": "e68f9f58",
   "metadata": {},
   "source": [
    "True or False "
   ]
  },
  {
   "cell_type": "code",
   "execution_count": null,
   "id": "e9cfd471",
   "metadata": {},
   "outputs": [],
   "source": [
    "True or False"
   ]
  },
  {
   "cell_type": "code",
   "execution_count": null,
   "id": "9f68edcb",
   "metadata": {},
   "outputs": [],
   "source": [
    "\"a\" is \"x\""
   ]
  },
  {
   "cell_type": "code",
   "execution_count": null,
   "id": "a70cde5b",
   "metadata": {},
   "outputs": [],
   "source": [
    "\"a\" is \"a\""
   ]
  },
  {
   "cell_type": "code",
   "execution_count": null,
   "id": "aec0754c",
   "metadata": {},
   "outputs": [],
   "source": [
    "True + True"
   ]
  },
  {
   "cell_type": "code",
   "execution_count": null,
   "id": "78a07c5b",
   "metadata": {},
   "outputs": [],
   "source": [
    "True+ False"
   ]
  },
  {
   "cell_type": "code",
   "execution_count": null,
   "id": "3a24d55c",
   "metadata": {},
   "outputs": [],
   "source": [
    "a=5.5"
   ]
  },
  {
   "cell_type": "code",
   "execution_count": null,
   "id": "f0c4b11b",
   "metadata": {},
   "outputs": [],
   "source": [
    "type (a)"
   ]
  },
  {
   "cell_type": "code",
   "execution_count": null,
   "id": "7dae494c",
   "metadata": {},
   "outputs": [],
   "source": [
    "a=1\n",
    "a"
   ]
  },
  {
   "cell_type": "code",
   "execution_count": null,
   "id": "a4ac214a",
   "metadata": {},
   "outputs": [],
   "source": [
    "employee=[\"ramesh\"]"
   ]
  },
  {
   "cell_type": "code",
   "execution_count": null,
   "id": "7e2fb174",
   "metadata": {},
   "outputs": [],
   "source": [
    "employee"
   ]
  },
  {
   "cell_type": "code",
   "execution_count": null,
   "id": "73bd8b6d",
   "metadata": {},
   "outputs": [],
   "source": [
    "employee.append(\"radha\")"
   ]
  },
  {
   "cell_type": "code",
   "execution_count": null,
   "id": "bfe91484",
   "metadata": {},
   "outputs": [],
   "source": [
    "employee\n"
   ]
  },
  {
   "cell_type": "code",
   "execution_count": null,
   "id": "8e0c1e8d",
   "metadata": {},
   "outputs": [],
   "source": [
    "employee.insert (1,\"ujjwal\")"
   ]
  },
  {
   "cell_type": "code",
   "execution_count": null,
   "id": "ee55c541",
   "metadata": {},
   "outputs": [],
   "source": [
    "employee"
   ]
  },
  {
   "cell_type": "markdown",
   "id": "9f966bb4",
   "metadata": {},
   "source": [
    "employee.reverse"
   ]
  },
  {
   "cell_type": "code",
   "execution_count": null,
   "id": "34e8ad66",
   "metadata": {},
   "outputs": [],
   "source": [
    "employee"
   ]
  },
  {
   "cell_type": "code",
   "execution_count": null,
   "id": "bd9432cd",
   "metadata": {},
   "outputs": [],
   "source": [
    "employee.reverse()"
   ]
  },
  {
   "cell_type": "code",
   "execution_count": null,
   "id": "197bcb5f",
   "metadata": {},
   "outputs": [],
   "source": [
    "employee"
   ]
  },
  {
   "cell_type": "code",
   "execution_count": null,
   "id": "871e7e88",
   "metadata": {},
   "outputs": [],
   "source": [
    "employee"
   ]
  },
  {
   "cell_type": "code",
   "execution_count": null,
   "id": "a0509d22",
   "metadata": {},
   "outputs": [],
   "source": [
    "employee.extend[\"ujji\" \"rami\"]"
   ]
  },
  {
   "cell_type": "code",
   "execution_count": 43,
   "id": "9a963669",
   "metadata": {},
   "outputs": [
    {
     "data": {
      "text/plain": [
       "1"
      ]
     },
     "execution_count": 43,
     "metadata": {},
     "output_type": "execute_result"
    }
   ],
   "source": [
    "True+False"
   ]
  },
  {
   "cell_type": "code",
   "execution_count": 44,
   "id": "b8b99939",
   "metadata": {},
   "outputs": [
    {
     "data": {
      "text/plain": [
       "2"
      ]
     },
     "execution_count": 44,
     "metadata": {},
     "output_type": "execute_result"
    }
   ],
   "source": [
    "True+True\n"
   ]
  },
  {
   "cell_type": "code",
   "execution_count": 45,
   "id": "edf43db2",
   "metadata": {},
   "outputs": [
    {
     "data": {
      "text/plain": [
       "True"
      ]
     },
     "execution_count": 45,
     "metadata": {},
     "output_type": "execute_result"
    }
   ],
   "source": [
    "10==10"
   ]
  },
  {
   "cell_type": "code",
   "execution_count": 47,
   "id": "72f45875",
   "metadata": {},
   "outputs": [
    {
     "data": {
      "text/plain": [
       "True"
      ]
     },
     "execution_count": 47,
     "metadata": {},
     "output_type": "execute_result"
    }
   ],
   "source": [
    "10==10"
   ]
  },
  {
   "cell_type": "code",
   "execution_count": 48,
   "id": "44452019",
   "metadata": {},
   "outputs": [],
   "source": [
    "Ujjwal=[\"earn\",\"money\"]"
   ]
  },
  {
   "cell_type": "code",
   "execution_count": 49,
   "id": "06da9add",
   "metadata": {},
   "outputs": [
    {
     "data": {
      "text/plain": [
       "['earn', 'money']"
      ]
     },
     "execution_count": 49,
     "metadata": {},
     "output_type": "execute_result"
    }
   ],
   "source": [
    "Ujjwal"
   ]
  },
  {
   "cell_type": "code",
   "execution_count": null,
   "id": "a0b7f19c",
   "metadata": {},
   "outputs": [],
   "source": []
  },
  {
   "cell_type": "code",
   "execution_count": 54,
   "id": "84dea887",
   "metadata": {},
   "outputs": [
    {
     "name": "stdout",
     "output_type": "stream",
     "text": [
      "20\n"
     ]
    },
    {
     "data": {
      "text/plain": [
       "int"
      ]
     },
     "execution_count": 54,
     "metadata": {},
     "output_type": "execute_result"
    }
   ],
   "source": [
    "b=20\n",
    "a=10\n",
    "print (b)\n",
    "type (b)"
   ]
  },
  {
   "cell_type": "code",
   "execution_count": 52,
   "id": "e13589de",
   "metadata": {},
   "outputs": [
    {
     "data": {
      "text/plain": [
       "20.0"
      ]
     },
     "execution_count": 52,
     "metadata": {},
     "output_type": "execute_result"
    }
   ],
   "source": [
    "b"
   ]
  },
  {
   "cell_type": "code",
   "execution_count": 56,
   "id": "a7a22a84",
   "metadata": {},
   "outputs": [
    {
     "name": "stdout",
     "output_type": "stream",
     "text": [
      "300\n"
     ]
    }
   ],
   "source": [
    "c=a+b\n",
    "print(c*10)"
   ]
  },
  {
   "cell_type": "code",
   "execution_count": 59,
   "id": "ffcebd88",
   "metadata": {},
   "outputs": [
    {
     "name": "stdout",
     "output_type": "stream",
     "text": [
      "python is easy\n"
     ]
    }
   ],
   "source": [
    "print(\"python is easy\")"
   ]
  },
  {
   "cell_type": "code",
   "execution_count": 71,
   "id": "0a23dd90",
   "metadata": {},
   "outputs": [
    {
     "name": "stdout",
     "output_type": "stream",
     "text": [
      "pythonmust be learned to update ourselves\n"
     ]
    }
   ],
   "source": [
    "print (\"python\" + \"must be learned\", \"to update ourselves\")"
   ]
  },
  {
   "cell_type": "code",
   "execution_count": 64,
   "id": "ec2f1ec5",
   "metadata": {},
   "outputs": [
    {
     "name": "stdout",
     "output_type": "stream",
     "text": [
      "python is easy to learn\n"
     ]
    }
   ],
   "source": [
    "print (\"python\", \"is easy\",\"to learn\")"
   ]
  },
  {
   "cell_type": "code",
   "execution_count": 65,
   "id": "baf06247",
   "metadata": {},
   "outputs": [
    {
     "name": "stdout",
     "output_type": "stream",
     "text": [
      "pythonis easy\n"
     ]
    }
   ],
   "source": [
    "print (\"python\" + \"is easy\")"
   ]
  },
  {
   "cell_type": "code",
   "execution_count": 67,
   "id": "0ff03ed9",
   "metadata": {},
   "outputs": [
    {
     "name": "stdout",
     "output_type": "stream",
     "text": [
      "daydaydaydaydaydaydaydayday\n"
     ]
    }
   ],
   "source": [
    "print (\"day\" * 9)"
   ]
  },
  {
   "cell_type": "code",
   "execution_count": 70,
   "id": "9a495383",
   "metadata": {},
   "outputs": [
    {
     "name": "stdout",
     "output_type": "stream",
     "text": [
      "daydaydaydaydaydaydaydayday\n"
     ]
    }
   ],
   "source": [
    "print(\"day\" * 9)"
   ]
  },
  {
   "cell_type": "code",
   "execution_count": 72,
   "id": "ab9da976",
   "metadata": {},
   "outputs": [
    {
     "name": "stdout",
     "output_type": "stream",
     "text": [
      "DayDayDayDayDayDayDayDayDay\n"
     ]
    }
   ],
   "source": [
    "print (\"Day\" * 9)"
   ]
  },
  {
   "cell_type": "code",
   "execution_count": 74,
   "id": "bf51d3a4",
   "metadata": {},
   "outputs": [
    {
     "name": "stdout",
     "output_type": "stream",
     "text": [
      "day2\n"
     ]
    }
   ],
   "source": [
    "print (\"day\"+str(2))"
   ]
  },
  {
   "cell_type": "code",
   "execution_count": null,
   "id": "11d6043a",
   "metadata": {},
   "outputs": [],
   "source": []
  }
 ],
 "metadata": {
  "kernelspec": {
   "display_name": "Python 3 (ipykernel)",
   "language": "python",
   "name": "python3"
  },
  "language_info": {
   "codemirror_mode": {
    "name": "ipython",
    "version": 3
   },
   "file_extension": ".py",
   "mimetype": "text/x-python",
   "name": "python",
   "nbconvert_exporter": "python",
   "pygments_lexer": "ipython3",
   "version": "3.9.7"
  }
 },
 "nbformat": 4,
 "nbformat_minor": 5
}
