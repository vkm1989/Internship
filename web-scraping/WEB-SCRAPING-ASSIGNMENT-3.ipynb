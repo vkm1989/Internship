{
 "cells": [
  {
   "cell_type": "markdown",
   "id": "80e4c143",
   "metadata": {},
   "source": [
    "#                                           WEB SCRAPING-ASSIGNMENT3"
   ]
  },
  {
   "cell_type": "code",
   "execution_count": 1,
   "id": "e4e5c76a",
   "metadata": {},
   "outputs": [],
   "source": [
    "import selenium\n",
    "import pandas as pd\n",
    "from selenium import webdriver\n",
    "import warnings\n",
    "warnings.filterwarnings('ignore')\n",
    "from selenium.common.exceptions import StaleElementReferenceException, NoSuchElementException, TimeoutException, ElementNotVisibleException\n",
    "from selenium.webdriver.common.by import By\n",
    "import time\n",
    "import re"
   ]
  },
  {
   "cell_type": "code",
   "execution_count": 62,
   "id": "04994b1e",
   "metadata": {},
   "outputs": [],
   "source": [
    "# First connect to the driver\n",
    "driver = webdriver.Chrome(\"C:\\\\Users\\\\hp\\Desktop\\\\task\\\\driver\\\\chromedriver.exe\")\n",
    "driver.maximize_window()"
   ]
  },
  {
   "cell_type": "markdown",
   "id": "06d65284",
   "metadata": {},
   "source": [
    "# 1.\tWrite a python program which searches all the product under a particular product from www.amazon.in. The product to be searched will be taken as input from user. For e.g. If user input is ‘guitar’. Then search for guitars. "
   ]
  },
  {
   "cell_type": "code",
   "execution_count": 63,
   "id": "b2982e09",
   "metadata": {},
   "outputs": [],
   "source": [
    "# opening the www.amazon.in page and automated chrome browser\n",
    "driver.get(\"https://www.amazon.in/\")\n",
    "time.sleep(5)\n"
   ]
  },
  {
   "cell_type": "code",
   "execution_count": 65,
   "id": "c2283f2b",
   "metadata": {},
   "outputs": [
    {
     "name": "stdout",
     "output_type": "stream",
     "text": [
      "Exception Raised:   Message: no such element: Unable to locate element: {\"method\":\"css selector\",\"selector\":\".nav-input nav-progressive-attribute\"}\n",
      "  (Session info: chrome=106.0.5249.119)\n",
      "Stacktrace:\n",
      "Backtrace:\n",
      "\tOrdinal0 [0x00411ED3+2236115]\n",
      "\tOrdinal0 [0x003A92F1+1807089]\n",
      "\tOrdinal0 [0x002B66FD+812797]\n",
      "\tOrdinal0 [0x002E55DF+1005023]\n",
      "\tOrdinal0 [0x002E57CB+1005515]\n",
      "\tOrdinal0 [0x00317632+1209906]\n",
      "\tOrdinal0 [0x00301AD4+1120980]\n",
      "\tOrdinal0 [0x003159E2+1202658]\n",
      "\tOrdinal0 [0x003018A6+1120422]\n",
      "\tOrdinal0 [0x002DA73D+960317]\n",
      "\tOrdinal0 [0x002DB71F+964383]\n",
      "\tGetHandleVerifier [0x006BE7E2+2743074]\n",
      "\tGetHandleVerifier [0x006B08D4+2685972]\n",
      "\tGetHandleVerifier [0x004A2BAA+532202]\n",
      "\tGetHandleVerifier [0x004A1990+527568]\n",
      "\tOrdinal0 [0x003B080C+1837068]\n",
      "\tOrdinal0 [0x003B4CD8+1854680]\n",
      "\tOrdinal0 [0x003B4DC5+1854917]\n",
      "\tOrdinal0 [0x003BED64+1895780]\n",
      "\tBaseThreadInitThunk [0x753EFA29+25]\n",
      "\tRtlGetAppContainerNamedObjectPath [0x771D7BBE+286]\n",
      "\tRtlGetAppContainerNamedObjectPath [0x771D7B8E+238]\n",
      "\n",
      "\n",
      "guitar\n"
     ]
    }
   ],
   "source": [
    "# search item from amazon user input\n",
    "try:\n",
    "    item=driver.find_element(By.CLASS_NAME, \"nav-input nav-progressive-attribute\")\n",
    "    print(item.text)\n",
    "    \n",
    "except NoSuchElementException as a:\n",
    "    print(\"Exception Raised:  \", a)\n",
    "    item=driver.find_element(By.XPATH, \"/html/body/div[1]/header/div/div[1]/div[2]/div/form/div[2]/div[1]/input\")\n",
    "    print(item.text)\n",
    "    item_name=input()\n",
    "    item.send_keys(item_name)\n",
    "    \n",
    "\n",
    "    \n"
   ]
  },
  {
   "cell_type": "code",
   "execution_count": 66,
   "id": "0e543a50",
   "metadata": {},
   "outputs": [],
   "source": [
    "search=driver.find_element(By.XPATH, '/html/body/div[1]/header/div/div[1]/div[2]/div/form/div[3]/div/span/input')\n",
    "search.click()"
   ]
  },
  {
   "cell_type": "markdown",
   "id": "e0f8c903",
   "metadata": {},
   "source": [
    "# 2.\tIn the above question, now scrape the following details of each product listed in first 3 pages of your search results and save it in a data frame and csv. In case if any product has less than 3 pages in search results then scrape all the products available under that product name. Details to be scraped are: \"Brand \n",
    "Name\", \"Name of the Product\", \"Price\", \"Return/Exchange\", \"Expected Delivery\", \"Availability\" and \n",
    "“Product URL”. In case, if any of the details are missing for any of the product then replace it by “-“. \n"
   ]
  },
  {
   "cell_type": "code",
   "execution_count": 2,
   "id": "3fcd145d",
   "metadata": {},
   "outputs": [],
   "source": [
    "import numpy as np\n",
    "import pandas as pd\n",
    "from selenium.webdriver.support.ui import WebDriverWait\n",
    "from selenium.webdriver.support import expected_conditions as EC"
   ]
  },
  {
   "cell_type": "code",
   "execution_count": 68,
   "id": "0902013b",
   "metadata": {},
   "outputs": [],
   "source": [
    "# create empty list\n",
    "\n",
    "gtr_brand=[]\n",
    "gtr_price=[]\n",
    "gtr_rtnexc=[]\n",
    "gtr_delivery=[]\n",
    "gtr_avil=[]\n",
    "gtr_url=[]"
   ]
  },
  {
   "cell_type": "code",
   "execution_count": 69,
   "id": "cf69b5bc",
   "metadata": {},
   "outputs": [
    {
     "name": "stdout",
     "output_type": "stream",
     "text": [
      "Try Again\n",
      "Try Again\n",
      "Try Again\n"
     ]
    }
   ],
   "source": [
    "# scraping gitar brand from the given page\n",
    "#a=0\n",
    "#b=2\n",
    "\n",
    "\n",
    "for page in range(0, 3):\n",
    "    \n",
    "    try:\n",
    "        \n",
    "    \n",
    "        gtr_name = driver.find_elements(By.XPATH,'//span[@class=\"a-size-base-plus a-color-base a-text-normal\"]')\n",
    "        for i in gtr_name:\n",
    "            gtr_brand.append(i.text)\n",
    "            \n",
    "    #except ValueError:\n",
    "       # print(gtr_brand.append(i.text))\n",
    "        \n",
    "        \n",
    "    # scrap data from next page \n",
    "    \n",
    "    \n",
    "        WebDriverWait(driver, 10).until(EC.presence_of_element_located((By.CLASS_NAME, 's-pagination-item s-pagination-next s-pagination-button s-pagination-separator')))\n",
    "        next_button = driver.find_element(By.XPATH, '/html/body/div[1]/div[2]/div[1]/div[1]/div/span[3]/div[2]/div[66]/div/div/span/a[3]')\n",
    "        next_button.click()\n",
    "        \n",
    "    except NoSuchElementException:\n",
    "        gtr_brand.append(\"_\")\n",
    "        \n",
    "    except TimeoutException:\n",
    "        print(\"Try Again\")\n",
    "        \n",
    "    \n",
    "        \n",
    "    \n",
    "    "
   ]
  },
  {
   "cell_type": "code",
   "execution_count": 70,
   "id": "f071dcfd",
   "metadata": {},
   "outputs": [
    {
     "data": {
      "text/plain": [
       "180"
      ]
     },
     "execution_count": 70,
     "metadata": {},
     "output_type": "execute_result"
    }
   ],
   "source": [
    "len(gtr_brand)"
   ]
  },
  {
   "cell_type": "code",
   "execution_count": 74,
   "id": "99d23325",
   "metadata": {},
   "outputs": [
    {
     "name": "stdout",
     "output_type": "stream",
     "text": [
      "Try Again\n",
      "Try Again\n",
      "Try Again\n"
     ]
    }
   ],
   "source": [
    "# scraping gitar price from the given page\n",
    "#c=0\n",
    "#d=2\n",
    "\n",
    "\n",
    "for page in range(0, 3):\n",
    "    \n",
    "    try:\n",
    "    \n",
    "        price = driver.find_elements(By.XPATH, '//span[@class=\"a-price-whole\"]')\n",
    "        for i in price:\n",
    "            gtr_price.append(i.text.split(' ')[0])\n",
    "        \n",
    "        \n",
    "    # scrap data from next page   \n",
    "    \n",
    "\n",
    "        \n",
    "        WebDriverWait(driver, 10).until(EC.presence_of_element_located((By.CLASS_NAME, 's-pagination-item s-pagination-next s-pagination-button s-pagination-separator')))\n",
    "        next_button1 = driver.find_element(By.XPATH,'/html/body/div[1]/div[2]/div[1]/div[1]/div/span[3]/div[2]/div[66]/div/div/span/a[3]')\n",
    "        #print(next_button1)\n",
    "        next_button1.click()\n",
    "        \n",
    "    except NoSuchElementException:\n",
    "        gtr_price.append(\"_\")\n",
    "        \n",
    "    except TimeoutException:\n",
    "        print(\"Try Again\")\n",
    "    "
   ]
  },
  {
   "cell_type": "code",
   "execution_count": 75,
   "id": "11a01792",
   "metadata": {},
   "outputs": [
    {
     "data": {
      "text/plain": [
       "372"
      ]
     },
     "execution_count": 75,
     "metadata": {},
     "output_type": "execute_result"
    }
   ],
   "source": [
    "len(gtr_price)"
   ]
  },
  {
   "cell_type": "code",
   "execution_count": 77,
   "id": "e06c3700",
   "metadata": {},
   "outputs": [],
   "source": [
    "#gtr_price\n"
   ]
  },
  {
   "cell_type": "code",
   "execution_count": 72,
   "id": "de89c77e",
   "metadata": {},
   "outputs": [],
   "source": [
    "#gtr_brand"
   ]
  },
  {
   "cell_type": "code",
   "execution_count": 84,
   "id": "a517e30e",
   "metadata": {},
   "outputs": [
    {
     "name": "stdout",
     "output_type": "stream",
     "text": [
      "Try Again\n",
      "Try Again\n",
      "Try Again\n"
     ]
    }
   ],
   "source": [
    "# scrap guitar delivery date\n",
    "\n",
    "for page in range(0, 3):\n",
    "    try:\n",
    "        \n",
    "    \n",
    "        delivery = driver.find_elements(By.XPATH, '//span[@class=\"a-color-base puis-medium-weight-text\"]')\n",
    "        for i in delivery:\n",
    "            \n",
    "        \n",
    "            gtr_delivery.append(i.text)\n",
    "        \n",
    "        \n",
    "    # scrap data from next page   \n",
    "    \n",
    "    \n",
    "        \n",
    "        WebDriverWait(driver, 10).until(EC.presence_of_element_located((By.CLASS_NAME, 's-pagination-item s-pagination-next s-pagination-button s-pagination-separator')))\n",
    "        next_button1 = driver.find_element(By.XPATH,'/html/body/div[1]/div[2]/div[1]/div[1]/div/span[3]/div[2]/div[66]/div/div/span/a[3]')\n",
    "        #print(next_button1)\n",
    "        next_button1.click()\n",
    "        \n",
    "    except NoSuchElementException:\n",
    "        gtr_delivery.append(\"_\")\n",
    "        \n",
    "    except TimeoutException:\n",
    "        print(\"Try Again\")\n",
    "    "
   ]
  },
  {
   "cell_type": "code",
   "execution_count": 85,
   "id": "6ba1ec2d",
   "metadata": {},
   "outputs": [
    {
     "data": {
      "text/plain": [
       "567"
      ]
     },
     "execution_count": 85,
     "metadata": {},
     "output_type": "execute_result"
    }
   ],
   "source": [
    "len(gtr_delivery)"
   ]
  },
  {
   "cell_type": "code",
   "execution_count": 88,
   "id": "084e0e78",
   "metadata": {},
   "outputs": [],
   "source": [
    "#gtr_delivery"
   ]
  },
  {
   "cell_type": "code",
   "execution_count": 97,
   "id": "7bcf953d",
   "metadata": {},
   "outputs": [
    {
     "name": "stdout",
     "output_type": "stream",
     "text": [
      "Wait for a seconds\n",
      "Wait for a seconds\n",
      "Wait for a seconds\n"
     ]
    }
   ],
   "source": [
    "# guitar category\n",
    "\n",
    "for page in range(0, 3):\n",
    "    \n",
    "    try:\n",
    "        \n",
    "    \n",
    "        avil = driver.find_elements(By.XPATH,'//span[@class=\"a-size-base a-color-base\"]')\n",
    "        for i in avil:\n",
    "            gtr_avil.append(i.text.split())\n",
    "        \n",
    "        \n",
    "    # scrap data from next page \n",
    "    \n",
    "    \n",
    "        WebDriverWait(driver, 10).until(EC.presence_of_element_located((By.CLASS_NAME, 's-pagination-item s-pagination-next s-pagination-button s-pagination-separator')))\n",
    "        next_button = driver.find_element(By.XPATH, '/html/body/div[1]/div[2]/div[1]/div[1]/div/span[3]/div[2]/div[66]/div/div/span/a[3]')\n",
    "        next_button.click()\n",
    "        \n",
    "    except NoSuchElementException:\n",
    "        gtr_avil.append(\"_\")\n",
    "        \n",
    "    except TimeoutException:\n",
    "        print(\"Wait for a seconds\")\n",
    "        "
   ]
  },
  {
   "cell_type": "code",
   "execution_count": 90,
   "id": "006098e3",
   "metadata": {},
   "outputs": [
    {
     "data": {
      "text/plain": [
       "183"
      ]
     },
     "execution_count": 90,
     "metadata": {},
     "output_type": "execute_result"
    }
   ],
   "source": [
    "len(gtr_avil)"
   ]
  },
  {
   "cell_type": "code",
   "execution_count": 99,
   "id": "f99dd823",
   "metadata": {},
   "outputs": [],
   "source": [
    "#gtr_avil"
   ]
  },
  {
   "cell_type": "code",
   "execution_count": 100,
   "id": "6e53afaf",
   "metadata": {},
   "outputs": [
    {
     "name": "stdout",
     "output_type": "stream",
     "text": [
      "Wait for a second\n",
      "Wait for a second\n",
      "Wait for a second\n"
     ]
    }
   ],
   "source": [
    "# scrap url\n",
    "\n",
    "\n",
    "for page in range(0, 3):\n",
    "    \n",
    "    try:\n",
    "        \n",
    "    \n",
    "        url= driver.find_elements(By.XPATH,'//a[@class=\"a-link-normal s-underline-text s-underline-link-text s-link-style a-text-normal\"]')\n",
    "        for i in url:\n",
    "            gtr_url.append(i.get_attribute('href'))\n",
    "        \n",
    "        \n",
    "    # scrap data from next page \n",
    "    \n",
    "    \n",
    "        WebDriverWait(driver, 10).until(EC.presence_of_element_located((By.CLASS_NAME, 's-pagination-item s-pagination-next s-pagination-button s-pagination-separator')))\n",
    "        next_button = driver.find_element(By.XPATH, '/html/body/div[1]/div[2]/div[1]/div[1]/div/span[3]/div[2]/div[66]/div/div/span/a[3]')\n",
    "        next_button.click()\n",
    "        \n",
    "    except NoSuchElementException:\n",
    "        gtr_url.append(\"_\")\n",
    "        \n",
    "    \n",
    "        \n",
    "    except TimeoutException:\n",
    "        print(\"Wait for a second\")"
   ]
  },
  {
   "cell_type": "code",
   "execution_count": 101,
   "id": "91f83e71",
   "metadata": {},
   "outputs": [
    {
     "data": {
      "text/plain": [
       "180"
      ]
     },
     "execution_count": 101,
     "metadata": {},
     "output_type": "execute_result"
    }
   ],
   "source": [
    "len(gtr_url)"
   ]
  },
  {
   "cell_type": "code",
   "execution_count": 103,
   "id": "37c03cc3",
   "metadata": {},
   "outputs": [],
   "source": [
    "#gtr_url[0:10]"
   ]
  },
  {
   "cell_type": "code",
   "execution_count": 104,
   "id": "e0b5ca0c",
   "metadata": {},
   "outputs": [
    {
     "data": {
      "text/html": [
       "<div>\n",
       "<style scoped>\n",
       "    .dataframe tbody tr th:only-of-type {\n",
       "        vertical-align: middle;\n",
       "    }\n",
       "\n",
       "    .dataframe tbody tr th {\n",
       "        vertical-align: top;\n",
       "    }\n",
       "\n",
       "    .dataframe thead th {\n",
       "        text-align: right;\n",
       "    }\n",
       "</style>\n",
       "<table border=\"1\" class=\"dataframe\">\n",
       "  <thead>\n",
       "    <tr style=\"text-align: right;\">\n",
       "      <th></th>\n",
       "      <th>GUITAR_BRAND</th>\n",
       "      <th>PRICE</th>\n",
       "      <th>DELIVERY_DATE</th>\n",
       "      <th>AVAILIBALITY</th>\n",
       "      <th>URL</th>\n",
       "    </tr>\n",
       "  </thead>\n",
       "  <tbody>\n",
       "    <tr>\n",
       "      <th>0</th>\n",
       "      <td>Kadence Slowhand Premium Jumbo Semi Acoustic G...</td>\n",
       "      <td>[9,999]</td>\n",
       "      <td>Thursday,</td>\n",
       "      <td>Guitar</td>\n",
       "      <td>https://www.amazon.in/sspa/click?ie=UTF8&amp;spc=M...</td>\n",
       "    </tr>\n",
       "    <tr>\n",
       "      <th>1</th>\n",
       "      <td>Blueberry 38C, 38\" Acoustic Guitar Kit with Ba...</td>\n",
       "      <td>[2,425]</td>\n",
       "      <td>Thursday,</td>\n",
       "      <td>Acoustic</td>\n",
       "      <td>https://www.amazon.in/sspa/click?ie=UTF8&amp;spc=M...</td>\n",
       "    </tr>\n",
       "    <tr>\n",
       "      <th>2</th>\n",
       "      <td>Hontral S4 String Decor Guitar Children's Musi...</td>\n",
       "      <td>[899]</td>\n",
       "      <td>Thursday,</td>\n",
       "      <td>Acoustic</td>\n",
       "      <td>https://www.amazon.in/sspa/click?ie=UTF8&amp;spc=M...</td>\n",
       "    </tr>\n",
       "    <tr>\n",
       "      <th>3</th>\n",
       "      <td>Blueberry B-D38, 38\" Acoustic Guitar Kit Inbui...</td>\n",
       "      <td>[2,895]</td>\n",
       "      <td>Thursday,</td>\n",
       "      <td>Acoustic</td>\n",
       "      <td>https://www.amazon.in/sspa/click?ie=UTF8&amp;spc=M...</td>\n",
       "    </tr>\n",
       "    <tr>\n",
       "      <th>4</th>\n",
       "      <td>Juârez Acoustic Guitar, 38 Inch Cutaway, 038C ...</td>\n",
       "      <td>[2,399]</td>\n",
       "      <td>Thursday,</td>\n",
       "      <td>Electric</td>\n",
       "      <td>https://www.amazon.in/Juarez-Acoustic-Cutaway-...</td>\n",
       "    </tr>\n",
       "    <tr>\n",
       "      <th>...</th>\n",
       "      <td>...</td>\n",
       "      <td>...</td>\n",
       "      <td>...</td>\n",
       "      <td>...</td>\n",
       "      <td>...</td>\n",
       "    </tr>\n",
       "    <tr>\n",
       "      <th>95</th>\n",
       "      <td>Yamaha FSX80C 25 Inches wood Semi Acoustic Cut...</td>\n",
       "      <td>[7,099]</td>\n",
       "      <td>Thursday,</td>\n",
       "      <td>₹10,000</td>\n",
       "      <td>https://www.amazon.in/Yamaha-FSX80C-Acoustic-C...</td>\n",
       "    </tr>\n",
       "    <tr>\n",
       "      <th>96</th>\n",
       "      <td>Revel 38 Inches Cutaway Design Acoustic Guitar...</td>\n",
       "      <td>[2,599]</td>\n",
       "      <td>Thursday,</td>\n",
       "      <td>Over</td>\n",
       "      <td>https://www.amazon.in/Acoustic-Plectrums-Begin...</td>\n",
       "    </tr>\n",
       "    <tr>\n",
       "      <th>97</th>\n",
       "      <td>Belear I280 38 Inch Black Matt Spruce Cutaway,...</td>\n",
       "      <td>[11,490]</td>\n",
       "      <td>Wednesday,</td>\n",
       "      <td>Today's</td>\n",
       "      <td>https://www.amazon.in/Belear-I280-Black-Matt-A...</td>\n",
       "    </tr>\n",
       "    <tr>\n",
       "      <th>98</th>\n",
       "      <td>JUAREZ JRZ-HSS01 ELECTRIC GUITAR (SUNBURST) - ...</td>\n",
       "      <td>[12,490]</td>\n",
       "      <td>Friday,</td>\n",
       "      <td>Eligible</td>\n",
       "      <td>https://www.amazon.in/JUAREZ-JRZ-HSS01-ELECTRI...</td>\n",
       "    </tr>\n",
       "    <tr>\n",
       "      <th>99</th>\n",
       "      <td>DEVICE OF URBAN INFOTECH Tuning Peg Silver for...</td>\n",
       "      <td>[2,278]</td>\n",
       "      <td>Thursday,</td>\n",
       "      <td>Ebony</td>\n",
       "      <td>https://www.amazon.in/DEVICE-URBAN-INFOTECH-Ac...</td>\n",
       "    </tr>\n",
       "  </tbody>\n",
       "</table>\n",
       "<p>100 rows × 5 columns</p>\n",
       "</div>"
      ],
      "text/plain": [
       "                                         GUITAR_BRAND     PRICE DELIVERY_DATE  \\\n",
       "0   Kadence Slowhand Premium Jumbo Semi Acoustic G...   [9,999]     Thursday,   \n",
       "1   Blueberry 38C, 38\" Acoustic Guitar Kit with Ba...   [2,425]     Thursday,   \n",
       "2   Hontral S4 String Decor Guitar Children's Musi...     [899]     Thursday,   \n",
       "3   Blueberry B-D38, 38\" Acoustic Guitar Kit Inbui...   [2,895]     Thursday,   \n",
       "4   Juârez Acoustic Guitar, 38 Inch Cutaway, 038C ...   [2,399]     Thursday,   \n",
       "..                                                ...       ...           ...   \n",
       "95  Yamaha FSX80C 25 Inches wood Semi Acoustic Cut...   [7,099]     Thursday,   \n",
       "96  Revel 38 Inches Cutaway Design Acoustic Guitar...   [2,599]     Thursday,   \n",
       "97  Belear I280 38 Inch Black Matt Spruce Cutaway,...  [11,490]    Wednesday,   \n",
       "98  JUAREZ JRZ-HSS01 ELECTRIC GUITAR (SUNBURST) - ...  [12,490]       Friday,   \n",
       "99  DEVICE OF URBAN INFOTECH Tuning Peg Silver for...   [2,278]     Thursday,   \n",
       "\n",
       "   AVAILIBALITY                                                URL  \n",
       "0        Guitar  https://www.amazon.in/sspa/click?ie=UTF8&spc=M...  \n",
       "1      Acoustic  https://www.amazon.in/sspa/click?ie=UTF8&spc=M...  \n",
       "2      Acoustic  https://www.amazon.in/sspa/click?ie=UTF8&spc=M...  \n",
       "3      Acoustic  https://www.amazon.in/sspa/click?ie=UTF8&spc=M...  \n",
       "4      Electric  https://www.amazon.in/Juarez-Acoustic-Cutaway-...  \n",
       "..          ...                                                ...  \n",
       "95      ₹10,000  https://www.amazon.in/Yamaha-FSX80C-Acoustic-C...  \n",
       "96         Over  https://www.amazon.in/Acoustic-Plectrums-Begin...  \n",
       "97      Today's  https://www.amazon.in/Belear-I280-Black-Matt-A...  \n",
       "98     Eligible  https://www.amazon.in/JUAREZ-JRZ-HSS01-ELECTRI...  \n",
       "99        Ebony  https://www.amazon.in/DEVICE-URBAN-INFOTECH-Ac...  \n",
       "\n",
       "[100 rows x 5 columns]"
      ]
     },
     "execution_count": 104,
     "metadata": {},
     "output_type": "execute_result"
    }
   ],
   "source": [
    "df= pd.DataFrame({'GUITAR_BRAND':gtr_brand[0:100], 'PRICE':gtr_price[0:100], 'DELIVERY_DATE':gtr_delivery[0:100], 'AVAILIBALITY':gtr_avil[0:100], 'URL':gtr_url[0:100]})\n",
    "df"
   ]
  },
  {
   "cell_type": "code",
   "execution_count": 105,
   "id": "a6469680",
   "metadata": {},
   "outputs": [],
   "source": [
    "# convert into csv file\n",
    "\n",
    "df.to_csv('guitar_data.csv')"
   ]
  },
  {
   "cell_type": "code",
   "execution_count": 106,
   "id": "a965d446",
   "metadata": {},
   "outputs": [
    {
     "data": {
      "text/html": [
       "<div>\n",
       "<style scoped>\n",
       "    .dataframe tbody tr th:only-of-type {\n",
       "        vertical-align: middle;\n",
       "    }\n",
       "\n",
       "    .dataframe tbody tr th {\n",
       "        vertical-align: top;\n",
       "    }\n",
       "\n",
       "    .dataframe thead th {\n",
       "        text-align: right;\n",
       "    }\n",
       "</style>\n",
       "<table border=\"1\" class=\"dataframe\">\n",
       "  <thead>\n",
       "    <tr style=\"text-align: right;\">\n",
       "      <th></th>\n",
       "      <th>Unnamed: 0</th>\n",
       "      <th>GUITAR_BRAND</th>\n",
       "      <th>PRICE</th>\n",
       "      <th>DELIVERY_DATE</th>\n",
       "      <th>AVAILIBALITY</th>\n",
       "      <th>URL</th>\n",
       "    </tr>\n",
       "  </thead>\n",
       "  <tbody>\n",
       "    <tr>\n",
       "      <th>0</th>\n",
       "      <td>0</td>\n",
       "      <td>Kadence Slowhand Premium Jumbo Semi Acoustic G...</td>\n",
       "      <td>['9,999']</td>\n",
       "      <td>Thursday,</td>\n",
       "      <td>Guitar</td>\n",
       "      <td>https://www.amazon.in/sspa/click?ie=UTF8&amp;spc=M...</td>\n",
       "    </tr>\n",
       "    <tr>\n",
       "      <th>1</th>\n",
       "      <td>1</td>\n",
       "      <td>Blueberry 38C, 38\" Acoustic Guitar Kit with Ba...</td>\n",
       "      <td>['2,425']</td>\n",
       "      <td>Thursday,</td>\n",
       "      <td>Acoustic</td>\n",
       "      <td>https://www.amazon.in/sspa/click?ie=UTF8&amp;spc=M...</td>\n",
       "    </tr>\n",
       "    <tr>\n",
       "      <th>2</th>\n",
       "      <td>2</td>\n",
       "      <td>Hontral S4 String Decor Guitar Children's Musi...</td>\n",
       "      <td>['899']</td>\n",
       "      <td>Thursday,</td>\n",
       "      <td>Acoustic</td>\n",
       "      <td>https://www.amazon.in/sspa/click?ie=UTF8&amp;spc=M...</td>\n",
       "    </tr>\n",
       "    <tr>\n",
       "      <th>3</th>\n",
       "      <td>3</td>\n",
       "      <td>Blueberry B-D38, 38\" Acoustic Guitar Kit Inbui...</td>\n",
       "      <td>['2,895']</td>\n",
       "      <td>Thursday,</td>\n",
       "      <td>Acoustic</td>\n",
       "      <td>https://www.amazon.in/sspa/click?ie=UTF8&amp;spc=M...</td>\n",
       "    </tr>\n",
       "    <tr>\n",
       "      <th>4</th>\n",
       "      <td>4</td>\n",
       "      <td>Juârez Acoustic Guitar, 38 Inch Cutaway, 038C ...</td>\n",
       "      <td>['2,399']</td>\n",
       "      <td>Thursday,</td>\n",
       "      <td>Electric</td>\n",
       "      <td>https://www.amazon.in/Juarez-Acoustic-Cutaway-...</td>\n",
       "    </tr>\n",
       "    <tr>\n",
       "      <th>...</th>\n",
       "      <td>...</td>\n",
       "      <td>...</td>\n",
       "      <td>...</td>\n",
       "      <td>...</td>\n",
       "      <td>...</td>\n",
       "      <td>...</td>\n",
       "    </tr>\n",
       "    <tr>\n",
       "      <th>95</th>\n",
       "      <td>95</td>\n",
       "      <td>Yamaha FSX80C 25 Inches wood Semi Acoustic Cut...</td>\n",
       "      <td>['7,099']</td>\n",
       "      <td>Thursday,</td>\n",
       "      <td>₹10,000</td>\n",
       "      <td>https://www.amazon.in/Yamaha-FSX80C-Acoustic-C...</td>\n",
       "    </tr>\n",
       "    <tr>\n",
       "      <th>96</th>\n",
       "      <td>96</td>\n",
       "      <td>Revel 38 Inches Cutaway Design Acoustic Guitar...</td>\n",
       "      <td>['2,599']</td>\n",
       "      <td>Thursday,</td>\n",
       "      <td>Over</td>\n",
       "      <td>https://www.amazon.in/Acoustic-Plectrums-Begin...</td>\n",
       "    </tr>\n",
       "    <tr>\n",
       "      <th>97</th>\n",
       "      <td>97</td>\n",
       "      <td>Belear I280 38 Inch Black Matt Spruce Cutaway,...</td>\n",
       "      <td>['11,490']</td>\n",
       "      <td>Wednesday,</td>\n",
       "      <td>Today's</td>\n",
       "      <td>https://www.amazon.in/Belear-I280-Black-Matt-A...</td>\n",
       "    </tr>\n",
       "    <tr>\n",
       "      <th>98</th>\n",
       "      <td>98</td>\n",
       "      <td>JUAREZ JRZ-HSS01 ELECTRIC GUITAR (SUNBURST) - ...</td>\n",
       "      <td>['12,490']</td>\n",
       "      <td>Friday,</td>\n",
       "      <td>Eligible</td>\n",
       "      <td>https://www.amazon.in/JUAREZ-JRZ-HSS01-ELECTRI...</td>\n",
       "    </tr>\n",
       "    <tr>\n",
       "      <th>99</th>\n",
       "      <td>99</td>\n",
       "      <td>DEVICE OF URBAN INFOTECH Tuning Peg Silver for...</td>\n",
       "      <td>['2,278']</td>\n",
       "      <td>Thursday,</td>\n",
       "      <td>Ebony</td>\n",
       "      <td>https://www.amazon.in/DEVICE-URBAN-INFOTECH-Ac...</td>\n",
       "    </tr>\n",
       "  </tbody>\n",
       "</table>\n",
       "<p>100 rows × 6 columns</p>\n",
       "</div>"
      ],
      "text/plain": [
       "    Unnamed: 0                                       GUITAR_BRAND       PRICE  \\\n",
       "0            0  Kadence Slowhand Premium Jumbo Semi Acoustic G...   ['9,999']   \n",
       "1            1  Blueberry 38C, 38\" Acoustic Guitar Kit with Ba...   ['2,425']   \n",
       "2            2  Hontral S4 String Decor Guitar Children's Musi...     ['899']   \n",
       "3            3  Blueberry B-D38, 38\" Acoustic Guitar Kit Inbui...   ['2,895']   \n",
       "4            4  Juârez Acoustic Guitar, 38 Inch Cutaway, 038C ...   ['2,399']   \n",
       "..         ...                                                ...         ...   \n",
       "95          95  Yamaha FSX80C 25 Inches wood Semi Acoustic Cut...   ['7,099']   \n",
       "96          96  Revel 38 Inches Cutaway Design Acoustic Guitar...   ['2,599']   \n",
       "97          97  Belear I280 38 Inch Black Matt Spruce Cutaway,...  ['11,490']   \n",
       "98          98  JUAREZ JRZ-HSS01 ELECTRIC GUITAR (SUNBURST) - ...  ['12,490']   \n",
       "99          99  DEVICE OF URBAN INFOTECH Tuning Peg Silver for...   ['2,278']   \n",
       "\n",
       "   DELIVERY_DATE AVAILIBALITY  \\\n",
       "0      Thursday,       Guitar   \n",
       "1      Thursday,     Acoustic   \n",
       "2      Thursday,     Acoustic   \n",
       "3      Thursday,     Acoustic   \n",
       "4      Thursday,     Electric   \n",
       "..           ...          ...   \n",
       "95     Thursday,      ₹10,000   \n",
       "96     Thursday,         Over   \n",
       "97    Wednesday,      Today's   \n",
       "98       Friday,     Eligible   \n",
       "99     Thursday,        Ebony   \n",
       "\n",
       "                                                  URL  \n",
       "0   https://www.amazon.in/sspa/click?ie=UTF8&spc=M...  \n",
       "1   https://www.amazon.in/sspa/click?ie=UTF8&spc=M...  \n",
       "2   https://www.amazon.in/sspa/click?ie=UTF8&spc=M...  \n",
       "3   https://www.amazon.in/sspa/click?ie=UTF8&spc=M...  \n",
       "4   https://www.amazon.in/Juarez-Acoustic-Cutaway-...  \n",
       "..                                                ...  \n",
       "95  https://www.amazon.in/Yamaha-FSX80C-Acoustic-C...  \n",
       "96  https://www.amazon.in/Acoustic-Plectrums-Begin...  \n",
       "97  https://www.amazon.in/Belear-I280-Black-Matt-A...  \n",
       "98  https://www.amazon.in/JUAREZ-JRZ-HSS01-ELECTRI...  \n",
       "99  https://www.amazon.in/DEVICE-URBAN-INFOTECH-Ac...  \n",
       "\n",
       "[100 rows x 6 columns]"
      ]
     },
     "execution_count": 106,
     "metadata": {},
     "output_type": "execute_result"
    }
   ],
   "source": [
    "# read csv file of guitar\n",
    "\n",
    "df_rd = pd.read_csv('guitar_data.csv')\n",
    "df_rd"
   ]
  },
  {
   "cell_type": "code",
   "execution_count": 107,
   "id": "575dc4f3",
   "metadata": {},
   "outputs": [],
   "source": [
    "driver.close()"
   ]
  },
  {
   "cell_type": "markdown",
   "id": "517cde68",
   "metadata": {},
   "source": [
    "# 3. Write a python program to access the search bar and search button on images.google.com and scrape 10 images each for keywords ‘fruits’, ‘cars’ and ‘Machine Learning’, ‘Guitar’, ‘Cakes’. "
   ]
  },
  {
   "cell_type": "code",
   "execution_count": 38,
   "id": "9a3f0f6c",
   "metadata": {},
   "outputs": [],
   "source": [
    "# First connect to the driver\n",
    "driver = webdriver.Chrome(\"C:\\\\Users\\\\hp\\Desktop\\\\task\\\\driver\\\\chromedriver.exe\")\n",
    "driver.maximize_window()"
   ]
  },
  {
   "cell_type": "code",
   "execution_count": 39,
   "id": "766e3e70",
   "metadata": {},
   "outputs": [],
   "source": [
    "# opening the www.images.google.com in page and automated chrome browser\n",
    "driver.get(\"https://images.google.com/\")\n",
    "time.sleep(5)"
   ]
  },
  {
   "cell_type": "code",
   "execution_count": 40,
   "id": "043abdbc",
   "metadata": {},
   "outputs": [
    {
     "name": "stdout",
     "output_type": "stream",
     "text": [
      "Unable To Locate Element\n",
      "\n",
      "guitar\n"
     ]
    }
   ],
   "source": [
    "# search item from google image user input\n",
    "try:\n",
    "    item=driver.find_element(By.CLASS_NAME, \"gLFyf gsfi\")\n",
    "    print(item.text)\n",
    "    \n",
    "except NoSuchElementException:\n",
    "    print(\"Unable To Locate Element\")\n",
    "    item=driver.find_element(By.XPATH, \"/html/body/div[1]/div[3]/form/div[1]/div[1]/div[1]/div/div[2]/input\")\n",
    "    print(item.text)\n",
    "    item_name=input()\n",
    "    item.send_keys(item_name)"
   ]
  },
  {
   "cell_type": "code",
   "execution_count": 41,
   "id": "03a429f8",
   "metadata": {},
   "outputs": [],
   "source": [
    "search=driver.find_element(By.XPATH, '/html/body/div[1]/div[3]/form/div[1]/div[1]/div[1]/button/div/span')\n",
    "search.click()"
   ]
  },
  {
   "cell_type": "code",
   "execution_count": 52,
   "id": "a67941ab",
   "metadata": {},
   "outputs": [],
   "source": [
    " #empty list"
   ]
  },
  {
   "cell_type": "code",
   "execution_count": 54,
   "id": "22549452",
   "metadata": {},
   "outputs": [],
   "source": [
    "# scraping fruits images\n",
    "\n",
    "fruits=[]\n",
    "\n",
    "try:\n",
    "    \n",
    "    img_fruits=driver.find_elements(By.XPATH, '//img[@class=\"rg_i Q4LuWd\"]')\n",
    "    for i in img_fruits[0:10]:\n",
    "        img=i.get_attribute('src')\n",
    "        fruits.append(img)\n",
    "        \n",
    "            \n",
    "                    \n",
    "except StaleElementReferenceException as a:\n",
    "    print('Exception Raised: ', a)\n",
    "    print('Refreshing The Page !!')\n",
    "    driver.get(\"https://images.google.com/\")\n",
    "    WebDriverWait(driver, 10).until(EC.presence_of_element_located((By.CLASS_NAME, 'rg_i Q4LuWd')))\n",
    "    img_fruits=driver.find_elements(By.XPATH, '//img[@class=\"rg_i Q4LuWd\"]')\n",
    "    print(img_fruits)\n",
    "    \n",
    "        \n",
    "except NoSuchElementException:\n",
    "    \n",
    "    print('choose right xpath')\n",
    "    \n",
    "except TimeoutException:\n",
    "    \n",
    "    print(\"Wait for a second\")"
   ]
  },
  {
   "cell_type": "code",
   "execution_count": 55,
   "id": "0d044423",
   "metadata": {},
   "outputs": [
    {
     "data": {
      "text/plain": [
       "10"
      ]
     },
     "execution_count": 55,
     "metadata": {},
     "output_type": "execute_result"
    }
   ],
   "source": [
    "len(fruits)"
   ]
  },
  {
   "cell_type": "code",
   "execution_count": 9,
   "id": "a17cdecf",
   "metadata": {},
   "outputs": [],
   "source": [
    "#fruits"
   ]
  },
  {
   "cell_type": "code",
   "execution_count": 20,
   "id": "9731aa1d",
   "metadata": {},
   "outputs": [],
   "source": [
    "# scraping cars images\n",
    "\n",
    "cars=[] #empty list\n",
    "\n",
    "try:\n",
    "    \n",
    "    img_cars=driver.find_elements(By.XPATH, '//img[@class=\"rg_i Q4LuWd\"]')\n",
    "    for i in img_cars[0:10]:\n",
    "        img_1=i.get_attribute('src')\n",
    "        cars.append(img_1)\n",
    "        \n",
    "            \n",
    "                    \n",
    "except StaleElementReferenceException as a:\n",
    "    print('Exception Raised: ', a)\n",
    "    print('Refreshing The Page !!')\n",
    "    driver.get(\"https://images.google.com/\")\n",
    "    WebDriverWait(driver, 10).until(EC.presence_of_element_located((By.CLASS_NAME, 'rg_i Q4LuWd')))\n",
    "    img_cars=driver.find_elements(By.XPATH, '//img[@class=\"rg_i Q4LuWd\"]')\n",
    "    \n",
    "    \n",
    "        \n",
    "except NoSuchElementException:\n",
    "    \n",
    "    print('choose right xpath')\n",
    "    \n",
    "except TimeoutException:\n",
    "    \n",
    "    print(\"Wait for a second\")"
   ]
  },
  {
   "cell_type": "code",
   "execution_count": 56,
   "id": "2a83d9b7",
   "metadata": {},
   "outputs": [
    {
     "data": {
      "text/plain": [
       "10"
      ]
     },
     "execution_count": 56,
     "metadata": {},
     "output_type": "execute_result"
    }
   ],
   "source": [
    "len(cars)"
   ]
  },
  {
   "cell_type": "code",
   "execution_count": 14,
   "id": "f32ffb9f",
   "metadata": {},
   "outputs": [],
   "source": [
    "#cars"
   ]
  },
  {
   "cell_type": "code",
   "execution_count": 22,
   "id": "6d21dfeb",
   "metadata": {},
   "outputs": [],
   "source": [
    "# scraping machine learning images\n",
    "\n",
    "ML=[] #empty list\n",
    "\n",
    "try:\n",
    "    \n",
    "    img_ml=driver.find_elements(By.XPATH, '//img[@class=\"rg_i Q4LuWd\"]')\n",
    "    for i in img_ml[0:10]:\n",
    "        img_2=i.get_attribute('src')\n",
    "        ML.append(img_2)\n",
    "        \n",
    "            \n",
    "                    \n",
    "except StaleElementReferenceException as a:\n",
    "    print('Exception Raised: ', a)\n",
    "    print('Refreshing The Page !!')\n",
    "    driver.get(\"https://images.google.com/\")\n",
    "    WebDriverWait(driver, 10).until(EC.presence_of_element_located((By.CLASS_NAME, 'rg_i Q4LuWd')))\n",
    "    img_ml=driver.find_elements(By.XPATH, '//img[@class=\"rg_i Q4LuWd\"]')\n",
    "    \n",
    "    \n",
    "        \n",
    "except NoSuchElementException:\n",
    "    \n",
    "    print('choose right xpath')\n",
    "    \n",
    "except TimeoutException:\n",
    "    \n",
    "    print(\"Wait for a second\")"
   ]
  },
  {
   "cell_type": "code",
   "execution_count": 57,
   "id": "d2ac6dc6",
   "metadata": {},
   "outputs": [
    {
     "data": {
      "text/plain": [
       "10"
      ]
     },
     "execution_count": 57,
     "metadata": {},
     "output_type": "execute_result"
    }
   ],
   "source": [
    "len(ML)"
   ]
  },
  {
   "cell_type": "code",
   "execution_count": 26,
   "id": "6a440307",
   "metadata": {},
   "outputs": [],
   "source": [
    "#print(ML)"
   ]
  },
  {
   "cell_type": "code",
   "execution_count": 42,
   "id": "db440860",
   "metadata": {},
   "outputs": [],
   "source": [
    "# scraping guitar images\n",
    "\n",
    "guitar=[] #empty list\n",
    "\n",
    "try:\n",
    "    \n",
    "    img_guitar=driver.find_elements(By.XPATH, '//img[@class=\"rg_i Q4LuWd\"]')\n",
    "    for i in img_guitar[0:10]:\n",
    "        img_3=i.get_attribute('src')\n",
    "        guitar.append(img_3)\n",
    "        \n",
    "            \n",
    "                    \n",
    "except StaleElementReferenceException as a:\n",
    "    print('Exception Raised: ', a)\n",
    "    print('Refreshing The Page !!')\n",
    "    driver.get(\"https://images.google.com/\")\n",
    "    WebDriverWait(driver, 10).until(EC.presence_of_element_located((By.CLASS_NAME, 'rg_i Q4LuWd')))\n",
    "    img_guitar=driver.find_elements(By.XPATH, '//img[@class=\"rg_i Q4LuWd\"]')\n",
    "    \n",
    "    \n",
    "        \n",
    "except NoSuchElementException:\n",
    "    \n",
    "    print('choose right xpath')\n",
    "    \n",
    "except TimeoutException:\n",
    "    \n",
    "    print(\"Wait for a second\")"
   ]
  },
  {
   "cell_type": "code",
   "execution_count": 58,
   "id": "86e6fe4c",
   "metadata": {},
   "outputs": [
    {
     "data": {
      "text/plain": [
       "10"
      ]
     },
     "execution_count": 58,
     "metadata": {},
     "output_type": "execute_result"
    }
   ],
   "source": [
    "len(guitar)"
   ]
  },
  {
   "cell_type": "code",
   "execution_count": 45,
   "id": "2a234c11",
   "metadata": {},
   "outputs": [],
   "source": [
    "#guitar"
   ]
  },
  {
   "cell_type": "code",
   "execution_count": 46,
   "id": "9073128b",
   "metadata": {},
   "outputs": [],
   "source": [
    "# scraping cake images\n",
    "\n",
    "cake=[] #empty list\n",
    "\n",
    "try:\n",
    "    \n",
    "    img_cake=driver.find_elements(By.XPATH, '//img[@class=\"rg_i Q4LuWd\"]')\n",
    "    for i in img_cake[0:10]:\n",
    "        img_4=i.get_attribute('src')\n",
    "        cake.append(img_4)\n",
    "        \n",
    "            \n",
    "                    \n",
    "except StaleElementReferenceException as a:\n",
    "    print('Exception Raised: ', a)\n",
    "    print('Refreshing The Page !!')\n",
    "    driver.get(\"https://images.google.com/\")\n",
    "    WebDriverWait(driver, 10).until(EC.presence_of_element_located((By.CLASS_NAME, 'rg_i Q4LuWd')))\n",
    "    img_cake=driver.find_elements(By.XPATH, '//img[@class=\"rg_i Q4LuWd\"]')\n",
    "    \n",
    "    \n",
    "        \n",
    "except NoSuchElementException:\n",
    "    \n",
    "    print('choose right xpath')\n",
    "    \n",
    "except TimeoutException:\n",
    "    \n",
    "    print(\"Wait for a second\")"
   ]
  },
  {
   "cell_type": "code",
   "execution_count": 59,
   "id": "5fac5bd8",
   "metadata": {},
   "outputs": [
    {
     "data": {
      "text/plain": [
       "10"
      ]
     },
     "execution_count": 59,
     "metadata": {},
     "output_type": "execute_result"
    }
   ],
   "source": [
    "len(cake)"
   ]
  },
  {
   "cell_type": "code",
   "execution_count": 49,
   "id": "2e7a02e9",
   "metadata": {},
   "outputs": [],
   "source": [
    "#cake"
   ]
  },
  {
   "cell_type": "code",
   "execution_count": 60,
   "id": "cb173f14",
   "metadata": {},
   "outputs": [
    {
     "data": {
      "text/html": [
       "<div>\n",
       "<style scoped>\n",
       "    .dataframe tbody tr th:only-of-type {\n",
       "        vertical-align: middle;\n",
       "    }\n",
       "\n",
       "    .dataframe tbody tr th {\n",
       "        vertical-align: top;\n",
       "    }\n",
       "\n",
       "    .dataframe thead th {\n",
       "        text-align: right;\n",
       "    }\n",
       "</style>\n",
       "<table border=\"1\" class=\"dataframe\">\n",
       "  <thead>\n",
       "    <tr style=\"text-align: right;\">\n",
       "      <th></th>\n",
       "      <th>FRUIT_IMAGES</th>\n",
       "      <th>CAR_IMAGES</th>\n",
       "      <th>M.L_IMAGES</th>\n",
       "      <th>GUITAR_IMAGES</th>\n",
       "      <th>CAKE_IMAGES</th>\n",
       "    </tr>\n",
       "  </thead>\n",
       "  <tbody>\n",
       "    <tr>\n",
       "      <th>0</th>\n",
       "      <td>data:image/jpeg;base64,/9j/4AAQSkZJRgABAQAAAQA...</td>\n",
       "      <td>data:image/jpeg;base64,/9j/4AAQSkZJRgABAQAAAQA...</td>\n",
       "      <td>data:image/jpeg;base64,/9j/4AAQSkZJRgABAQAAAQA...</td>\n",
       "      <td>data:image/jpeg;base64,/9j/4AAQSkZJRgABAQAAAQA...</td>\n",
       "      <td>data:image/jpeg;base64,/9j/4AAQSkZJRgABAQAAAQA...</td>\n",
       "    </tr>\n",
       "    <tr>\n",
       "      <th>1</th>\n",
       "      <td>data:image/jpeg;base64,/9j/4AAQSkZJRgABAQAAAQA...</td>\n",
       "      <td>data:image/png;base64,iVBORw0KGgoAAAANSUhEUgAA...</td>\n",
       "      <td>data:image/png;base64,iVBORw0KGgoAAAANSUhEUgAA...</td>\n",
       "      <td>data:image/jpeg;base64,/9j/4AAQSkZJRgABAQAAAQA...</td>\n",
       "      <td>data:image/jpeg;base64,/9j/4AAQSkZJRgABAQAAAQA...</td>\n",
       "    </tr>\n",
       "    <tr>\n",
       "      <th>2</th>\n",
       "      <td>data:image/jpeg;base64,/9j/4AAQSkZJRgABAQAAAQA...</td>\n",
       "      <td>data:image/jpeg;base64,/9j/4AAQSkZJRgABAQAAAQA...</td>\n",
       "      <td>data:image/jpeg;base64,/9j/4AAQSkZJRgABAQAAAQA...</td>\n",
       "      <td>data:image/jpeg;base64,/9j/4AAQSkZJRgABAQAAAQA...</td>\n",
       "      <td>data:image/jpeg;base64,/9j/4AAQSkZJRgABAQAAAQA...</td>\n",
       "    </tr>\n",
       "    <tr>\n",
       "      <th>3</th>\n",
       "      <td>data:image/jpeg;base64,/9j/4AAQSkZJRgABAQAAAQA...</td>\n",
       "      <td>data:image/jpeg;base64,/9j/4AAQSkZJRgABAQAAAQA...</td>\n",
       "      <td>data:image/jpeg;base64,/9j/4AAQSkZJRgABAQAAAQA...</td>\n",
       "      <td>data:image/jpeg;base64,/9j/4AAQSkZJRgABAQAAAQA...</td>\n",
       "      <td>data:image/jpeg;base64,/9j/4AAQSkZJRgABAQAAAQA...</td>\n",
       "    </tr>\n",
       "    <tr>\n",
       "      <th>4</th>\n",
       "      <td>data:image/jpeg;base64,/9j/4AAQSkZJRgABAQAAAQA...</td>\n",
       "      <td>data:image/jpeg;base64,/9j/4AAQSkZJRgABAQAAAQA...</td>\n",
       "      <td>data:image/jpeg;base64,/9j/4AAQSkZJRgABAQAAAQA...</td>\n",
       "      <td>data:image/jpeg;base64,/9j/4AAQSkZJRgABAQAAAQA...</td>\n",
       "      <td>data:image/jpeg;base64,/9j/4AAQSkZJRgABAQAAAQA...</td>\n",
       "    </tr>\n",
       "    <tr>\n",
       "      <th>5</th>\n",
       "      <td>data:image/jpeg;base64,/9j/4AAQSkZJRgABAQAAAQA...</td>\n",
       "      <td>data:image/jpeg;base64,/9j/4AAQSkZJRgABAQAAAQA...</td>\n",
       "      <td>data:image/jpeg;base64,/9j/4AAQSkZJRgABAQAAAQA...</td>\n",
       "      <td>data:image/jpeg;base64,/9j/4AAQSkZJRgABAQAAAQA...</td>\n",
       "      <td>data:image/jpeg;base64,/9j/4AAQSkZJRgABAQAAAQA...</td>\n",
       "    </tr>\n",
       "    <tr>\n",
       "      <th>6</th>\n",
       "      <td>data:image/jpeg;base64,/9j/4AAQSkZJRgABAQAAAQA...</td>\n",
       "      <td>data:image/jpeg;base64,/9j/4AAQSkZJRgABAQAAAQA...</td>\n",
       "      <td>data:image/jpeg;base64,/9j/4AAQSkZJRgABAQAAAQA...</td>\n",
       "      <td>data:image/jpeg;base64,/9j/4AAQSkZJRgABAQAAAQA...</td>\n",
       "      <td>data:image/jpeg;base64,/9j/4AAQSkZJRgABAQAAAQA...</td>\n",
       "    </tr>\n",
       "    <tr>\n",
       "      <th>7</th>\n",
       "      <td>data:image/jpeg;base64,/9j/4AAQSkZJRgABAQAAAQA...</td>\n",
       "      <td>data:image/jpeg;base64,/9j/4AAQSkZJRgABAQAAAQA...</td>\n",
       "      <td>data:image/jpeg;base64,/9j/4AAQSkZJRgABAQAAAQA...</td>\n",
       "      <td>data:image/jpeg;base64,/9j/4AAQSkZJRgABAQAAAQA...</td>\n",
       "      <td>data:image/jpeg;base64,/9j/4AAQSkZJRgABAQAAAQA...</td>\n",
       "    </tr>\n",
       "    <tr>\n",
       "      <th>8</th>\n",
       "      <td>data:image/jpeg;base64,/9j/4AAQSkZJRgABAQAAAQA...</td>\n",
       "      <td>data:image/png;base64,iVBORw0KGgoAAAANSUhEUgAA...</td>\n",
       "      <td>data:image/png;base64,iVBORw0KGgoAAAANSUhEUgAA...</td>\n",
       "      <td>data:image/jpeg;base64,/9j/4AAQSkZJRgABAQAAAQA...</td>\n",
       "      <td>data:image/jpeg;base64,/9j/4AAQSkZJRgABAQAAAQA...</td>\n",
       "    </tr>\n",
       "    <tr>\n",
       "      <th>9</th>\n",
       "      <td>data:image/jpeg;base64,/9j/4AAQSkZJRgABAQAAAQA...</td>\n",
       "      <td>data:image/png;base64,iVBORw0KGgoAAAANSUhEUgAA...</td>\n",
       "      <td>data:image/png;base64,iVBORw0KGgoAAAANSUhEUgAA...</td>\n",
       "      <td>data:image/jpeg;base64,/9j/4AAQSkZJRgABAQAAAQA...</td>\n",
       "      <td>data:image/jpeg;base64,/9j/4AAQSkZJRgABAQAAAQA...</td>\n",
       "    </tr>\n",
       "  </tbody>\n",
       "</table>\n",
       "</div>"
      ],
      "text/plain": [
       "                                        FRUIT_IMAGES  \\\n",
       "0  data:image/jpeg;base64,/9j/4AAQSkZJRgABAQAAAQA...   \n",
       "1  data:image/jpeg;base64,/9j/4AAQSkZJRgABAQAAAQA...   \n",
       "2  data:image/jpeg;base64,/9j/4AAQSkZJRgABAQAAAQA...   \n",
       "3  data:image/jpeg;base64,/9j/4AAQSkZJRgABAQAAAQA...   \n",
       "4  data:image/jpeg;base64,/9j/4AAQSkZJRgABAQAAAQA...   \n",
       "5  data:image/jpeg;base64,/9j/4AAQSkZJRgABAQAAAQA...   \n",
       "6  data:image/jpeg;base64,/9j/4AAQSkZJRgABAQAAAQA...   \n",
       "7  data:image/jpeg;base64,/9j/4AAQSkZJRgABAQAAAQA...   \n",
       "8  data:image/jpeg;base64,/9j/4AAQSkZJRgABAQAAAQA...   \n",
       "9  data:image/jpeg;base64,/9j/4AAQSkZJRgABAQAAAQA...   \n",
       "\n",
       "                                          CAR_IMAGES  \\\n",
       "0  data:image/jpeg;base64,/9j/4AAQSkZJRgABAQAAAQA...   \n",
       "1  data:image/png;base64,iVBORw0KGgoAAAANSUhEUgAA...   \n",
       "2  data:image/jpeg;base64,/9j/4AAQSkZJRgABAQAAAQA...   \n",
       "3  data:image/jpeg;base64,/9j/4AAQSkZJRgABAQAAAQA...   \n",
       "4  data:image/jpeg;base64,/9j/4AAQSkZJRgABAQAAAQA...   \n",
       "5  data:image/jpeg;base64,/9j/4AAQSkZJRgABAQAAAQA...   \n",
       "6  data:image/jpeg;base64,/9j/4AAQSkZJRgABAQAAAQA...   \n",
       "7  data:image/jpeg;base64,/9j/4AAQSkZJRgABAQAAAQA...   \n",
       "8  data:image/png;base64,iVBORw0KGgoAAAANSUhEUgAA...   \n",
       "9  data:image/png;base64,iVBORw0KGgoAAAANSUhEUgAA...   \n",
       "\n",
       "                                          M.L_IMAGES  \\\n",
       "0  data:image/jpeg;base64,/9j/4AAQSkZJRgABAQAAAQA...   \n",
       "1  data:image/png;base64,iVBORw0KGgoAAAANSUhEUgAA...   \n",
       "2  data:image/jpeg;base64,/9j/4AAQSkZJRgABAQAAAQA...   \n",
       "3  data:image/jpeg;base64,/9j/4AAQSkZJRgABAQAAAQA...   \n",
       "4  data:image/jpeg;base64,/9j/4AAQSkZJRgABAQAAAQA...   \n",
       "5  data:image/jpeg;base64,/9j/4AAQSkZJRgABAQAAAQA...   \n",
       "6  data:image/jpeg;base64,/9j/4AAQSkZJRgABAQAAAQA...   \n",
       "7  data:image/jpeg;base64,/9j/4AAQSkZJRgABAQAAAQA...   \n",
       "8  data:image/png;base64,iVBORw0KGgoAAAANSUhEUgAA...   \n",
       "9  data:image/png;base64,iVBORw0KGgoAAAANSUhEUgAA...   \n",
       "\n",
       "                                       GUITAR_IMAGES  \\\n",
       "0  data:image/jpeg;base64,/9j/4AAQSkZJRgABAQAAAQA...   \n",
       "1  data:image/jpeg;base64,/9j/4AAQSkZJRgABAQAAAQA...   \n",
       "2  data:image/jpeg;base64,/9j/4AAQSkZJRgABAQAAAQA...   \n",
       "3  data:image/jpeg;base64,/9j/4AAQSkZJRgABAQAAAQA...   \n",
       "4  data:image/jpeg;base64,/9j/4AAQSkZJRgABAQAAAQA...   \n",
       "5  data:image/jpeg;base64,/9j/4AAQSkZJRgABAQAAAQA...   \n",
       "6  data:image/jpeg;base64,/9j/4AAQSkZJRgABAQAAAQA...   \n",
       "7  data:image/jpeg;base64,/9j/4AAQSkZJRgABAQAAAQA...   \n",
       "8  data:image/jpeg;base64,/9j/4AAQSkZJRgABAQAAAQA...   \n",
       "9  data:image/jpeg;base64,/9j/4AAQSkZJRgABAQAAAQA...   \n",
       "\n",
       "                                         CAKE_IMAGES  \n",
       "0  data:image/jpeg;base64,/9j/4AAQSkZJRgABAQAAAQA...  \n",
       "1  data:image/jpeg;base64,/9j/4AAQSkZJRgABAQAAAQA...  \n",
       "2  data:image/jpeg;base64,/9j/4AAQSkZJRgABAQAAAQA...  \n",
       "3  data:image/jpeg;base64,/9j/4AAQSkZJRgABAQAAAQA...  \n",
       "4  data:image/jpeg;base64,/9j/4AAQSkZJRgABAQAAAQA...  \n",
       "5  data:image/jpeg;base64,/9j/4AAQSkZJRgABAQAAAQA...  \n",
       "6  data:image/jpeg;base64,/9j/4AAQSkZJRgABAQAAAQA...  \n",
       "7  data:image/jpeg;base64,/9j/4AAQSkZJRgABAQAAAQA...  \n",
       "8  data:image/jpeg;base64,/9j/4AAQSkZJRgABAQAAAQA...  \n",
       "9  data:image/jpeg;base64,/9j/4AAQSkZJRgABAQAAAQA...  "
      ]
     },
     "execution_count": 60,
     "metadata": {},
     "output_type": "execute_result"
    }
   ],
   "source": [
    "df1= pd.DataFrame({'FRUIT_IMAGES':fruits, 'CAR_IMAGES':cars, 'M.L_IMAGES':ML, 'GUITAR_IMAGES':guitar, 'CAKE_IMAGES':cake})\n",
    "df1"
   ]
  },
  {
   "cell_type": "markdown",
   "id": "a6104b63",
   "metadata": {},
   "source": [
    "# 4.\tWrite a python program to search for a smartphone(e.g.: Oneplus Nord, pixel 4A, etc.) on www.flipkart.com and scrape following details for all the search results displayed on 1st page. Details to be scraped: “Brand Name”, “Smartphone name”, “Colour”, “RAM”, “Storage(ROM)”, “Primary Camera”, “Secondary Camera”, “Display Size”, “Battery Capacity”, “Price”, “Product URL”. Incase if any of the details is missing then replace it by “- “. Save your results in a dataframe and CSV. \n"
   ]
  },
  {
   "cell_type": "code",
   "execution_count": 301,
   "id": "9f9919ee",
   "metadata": {},
   "outputs": [],
   "source": [
    "# First connect to the driver\n",
    "driver = webdriver.Chrome(\"C:\\\\Users\\\\hp\\Desktop\\\\task\\\\driver\\\\chromedriver.exe\")\n",
    "driver.maximize_window()"
   ]
  },
  {
   "cell_type": "code",
   "execution_count": 355,
   "id": "201cfc86",
   "metadata": {},
   "outputs": [],
   "source": [
    "# opening the www.flipkart.com in page and automated chrome browser\n",
    "driver.get(\"https://www.flipkart.com/\")\n",
    "time.sleep(5)"
   ]
  },
  {
   "cell_type": "code",
   "execution_count": 303,
   "id": "76e9acfc",
   "metadata": {},
   "outputs": [
    {
     "name": "stdout",
     "output_type": "stream",
     "text": [
      "latest smartphones\n"
     ]
    }
   ],
   "source": [
    "# search item from flipkart.com user input\n",
    "\n",
    "product=driver.find_element(By.CLASS_NAME, \"_3704LK\")\n",
    "mob=input()\n",
    "product.send_keys(mob)\n",
    "    \n",
    "    \n",
    "\n",
    "    \n",
    "    "
   ]
  },
  {
   "cell_type": "code",
   "execution_count": 304,
   "id": "7d393f7b",
   "metadata": {},
   "outputs": [],
   "source": [
    "search=driver.find_element(By.CLASS_NAME, \"L0Z3Pu\")\n",
    "search.click()"
   ]
  },
  {
   "cell_type": "code",
   "execution_count": 333,
   "id": "270f6cc3",
   "metadata": {},
   "outputs": [],
   "source": [
    "# empty list\n",
    "\n",
    "mob_brand=[]\n",
    "mob_color=[]\n",
    "mob_storage=[]\n",
    "m_camera=[]\n",
    "disp_size=[]\n",
    "batt_cap=[]\n",
    "price=[]\n",
    "m_url=[]\n",
    "    "
   ]
  },
  {
   "cell_type": "code",
   "execution_count": 180,
   "id": "8445bb27",
   "metadata": {},
   "outputs": [],
   "source": [
    "#mob_brand"
   ]
  },
  {
   "cell_type": "code",
   "execution_count": 274,
   "id": "b4eb454b",
   "metadata": {},
   "outputs": [],
   "source": [
    "#len(mob_color)"
   ]
  },
  {
   "cell_type": "code",
   "execution_count": 273,
   "id": "3c348597",
   "metadata": {},
   "outputs": [],
   "source": [
    "#mob_storage"
   ]
  },
  {
   "cell_type": "code",
   "execution_count": 334,
   "id": "26faaada",
   "metadata": {},
   "outputs": [],
   "source": [
    "# Collecting URLs for each product on the page\n",
    "\n",
    "\n",
    "mob_url=driver.find_elements(By.XPATH, '//a[@class=\"_1fQZEK\"]')\n",
    "\n",
    "for i in mob_url:\n",
    "    \n",
    "    m_url.append(i.get_attribute('href'))\n",
    "    "
   ]
  },
  {
   "cell_type": "code",
   "execution_count": 335,
   "id": "16067912",
   "metadata": {},
   "outputs": [],
   "source": [
    "# collecting mobile brand name\n",
    "\n",
    "m_brand=driver.find_elements(By.XPATH, '//div[@class=\"_4rR01T\"]')\n",
    "for b in m_brand:\n",
    "    mob_brand.append(b.text.split()[0:3])"
   ]
  },
  {
   "cell_type": "code",
   "execution_count": 336,
   "id": "7585df00",
   "metadata": {},
   "outputs": [],
   "source": [
    "# collecting mobile color\n",
    "\n",
    "m_color=driver.find_elements(By.XPATH, '//div[@class=\"_4rR01T\"]')\n",
    "for c in m_color:\n",
    "    mob_color.append(c.text.split()[-3])"
   ]
  },
  {
   "cell_type": "code",
   "execution_count": 337,
   "id": "5b2ed00f",
   "metadata": {},
   "outputs": [],
   "source": [
    "# collecting mobile storage capacity\n",
    "\n",
    "m_storage=driver.find_elements(By.XPATH, \"//ul[@class='_1xgFaf']//li[1]\")\n",
    "for li in m_storage:\n",
    "    \n",
    "    mob_storage.append(li.text)"
   ]
  },
  {
   "cell_type": "code",
   "execution_count": 338,
   "id": "f8079cac",
   "metadata": {},
   "outputs": [],
   "source": [
    "#mob_storage"
   ]
  },
  {
   "cell_type": "code",
   "execution_count": 339,
   "id": "674441bc",
   "metadata": {},
   "outputs": [],
   "source": [
    "# collecting camera specification\n",
    "\n",
    "camera=driver.find_elements(By.XPATH, \"//ul[@class='_1xgFaf']//li[3]\")\n",
    "for cm in camera:\n",
    "    m_camera.append(cm.text)"
   ]
  },
  {
   "cell_type": "code",
   "execution_count": 340,
   "id": "93ca332d",
   "metadata": {},
   "outputs": [
    {
     "data": {
      "text/plain": [
       "24"
      ]
     },
     "execution_count": 340,
     "metadata": {},
     "output_type": "execute_result"
    }
   ],
   "source": [
    "len(m_camera)"
   ]
  },
  {
   "cell_type": "code",
   "execution_count": 341,
   "id": "63bb739c",
   "metadata": {},
   "outputs": [],
   "source": [
    "# collecting display specification\n",
    "\n",
    "dis=driver.find_elements(By.XPATH, \"//ul[@class='_1xgFaf']//li[2]\")\n",
    "for ds in dis:\n",
    "    disp_size.append(ds.text)"
   ]
  },
  {
   "cell_type": "code",
   "execution_count": 342,
   "id": "4a7b5ea2",
   "metadata": {},
   "outputs": [],
   "source": [
    "#disp_size"
   ]
  },
  {
   "cell_type": "code",
   "execution_count": 343,
   "id": "ba2a8a57",
   "metadata": {},
   "outputs": [],
   "source": [
    "# collecting battery specification\n",
    "try:\n",
    "    \n",
    "    batt=driver.find_elements(By.XPATH, \"//ul[@class='_1xgFaf']//li[4]\")\n",
    "    for bt in batt:\n",
    "        batt_cap.append(bt.text)\n",
    "        \n",
    "except NoSuchElementException:\n",
    "    batt_cap.append(\"_\")"
   ]
  },
  {
   "cell_type": "code",
   "execution_count": 344,
   "id": "26638e00",
   "metadata": {},
   "outputs": [
    {
     "data": {
      "text/plain": [
       "24"
      ]
     },
     "execution_count": 344,
     "metadata": {},
     "output_type": "execute_result"
    }
   ],
   "source": [
    "len(batt_cap)"
   ]
  },
  {
   "cell_type": "code",
   "execution_count": 345,
   "id": "8b3db7c7",
   "metadata": {},
   "outputs": [],
   "source": [
    "# collecting mobile price \n",
    "try:\n",
    "    \n",
    "    rate=driver.find_elements(By.XPATH, '//div[@class=\"_30jeq3 _1_WHN1\"]')\n",
    "    for rt in rate:\n",
    "        price.append(rt.text)\n",
    "        \n",
    "        \n",
    "except NoSuchElementException:\n",
    "    price.append(\"_\")"
   ]
  },
  {
   "cell_type": "code",
   "execution_count": 346,
   "id": "6c89f2af",
   "metadata": {},
   "outputs": [
    {
     "data": {
      "text/plain": [
       "24"
      ]
     },
     "execution_count": 346,
     "metadata": {},
     "output_type": "execute_result"
    }
   ],
   "source": [
    "len(price)"
   ]
  },
  {
   "cell_type": "code",
   "execution_count": 348,
   "id": "a54cdc28",
   "metadata": {},
   "outputs": [
    {
     "data": {
      "text/plain": [
       "24"
      ]
     },
     "execution_count": 348,
     "metadata": {},
     "output_type": "execute_result"
    }
   ],
   "source": [
    "len(mob_brand)\n",
    "len(mob_color)\n",
    "len(mob_storage)\n",
    "len(m_camera)\n",
    "len(disp_size)\n",
    "len(batt_cap)\n",
    "len(price)\n",
    "len(m_url)"
   ]
  },
  {
   "cell_type": "code",
   "execution_count": 349,
   "id": "1132aad1",
   "metadata": {},
   "outputs": [
    {
     "data": {
      "text/html": [
       "<div>\n",
       "<style scoped>\n",
       "    .dataframe tbody tr th:only-of-type {\n",
       "        vertical-align: middle;\n",
       "    }\n",
       "\n",
       "    .dataframe tbody tr th {\n",
       "        vertical-align: top;\n",
       "    }\n",
       "\n",
       "    .dataframe thead th {\n",
       "        text-align: right;\n",
       "    }\n",
       "</style>\n",
       "<table border=\"1\" class=\"dataframe\">\n",
       "  <thead>\n",
       "    <tr style=\"text-align: right;\">\n",
       "      <th></th>\n",
       "      <th>MOBILE_BRAND</th>\n",
       "      <th>COLOR</th>\n",
       "      <th>STORAGE</th>\n",
       "      <th>CAMERA</th>\n",
       "      <th>DISPLAY</th>\n",
       "      <th>BATTERY</th>\n",
       "      <th>MOBILE_PRICE</th>\n",
       "      <th>URL</th>\n",
       "    </tr>\n",
       "  </thead>\n",
       "  <tbody>\n",
       "    <tr>\n",
       "      <th>0</th>\n",
       "      <td>[SAMSUNG, Galaxy, F13]</td>\n",
       "      <td>Blue,</td>\n",
       "      <td>4 GB RAM | 64 GB ROM | Expandable Upto 1 TB</td>\n",
       "      <td>50MP + 5MP + 2MP | 8MP Front Camera</td>\n",
       "      <td>16.76 cm (6.6 inch) Full HD+ Display</td>\n",
       "      <td>6000 mAh Lithium Ion Battery</td>\n",
       "      <td>₹9,499</td>\n",
       "      <td>https://www.flipkart.com/samsung-galaxy-f13-wa...</td>\n",
       "    </tr>\n",
       "    <tr>\n",
       "      <th>1</th>\n",
       "      <td>[SAMSUNG, Galaxy, F13]</td>\n",
       "      <td>Green,</td>\n",
       "      <td>4 GB RAM | 64 GB ROM | Expandable Upto 1 TB</td>\n",
       "      <td>50MP + 5MP + 2MP | 8MP Front Camera</td>\n",
       "      <td>16.76 cm (6.6 inch) Full HD+ Display</td>\n",
       "      <td>6000 mAh Lithium Ion Battery</td>\n",
       "      <td>₹9,499</td>\n",
       "      <td>https://www.flipkart.com/samsung-galaxy-f13-ni...</td>\n",
       "    </tr>\n",
       "    <tr>\n",
       "      <th>2</th>\n",
       "      <td>[SAMSUNG, Galaxy, F13]</td>\n",
       "      <td>Copper,</td>\n",
       "      <td>4 GB RAM | 64 GB ROM | Expandable Upto 1 TB</td>\n",
       "      <td>50MP + 5MP + 2MP | 8MP Front Camera</td>\n",
       "      <td>16.76 cm (6.6 inch) Full HD+ Display</td>\n",
       "      <td>6000 mAh Lithium Ion Battery</td>\n",
       "      <td>₹9,499</td>\n",
       "      <td>https://www.flipkart.com/samsung-galaxy-f13-su...</td>\n",
       "    </tr>\n",
       "    <tr>\n",
       "      <th>3</th>\n",
       "      <td>[REDMI, 9i, Sport]</td>\n",
       "      <td>Black,</td>\n",
       "      <td>4 GB RAM | 64 GB ROM | Expandable Upto 512 GB</td>\n",
       "      <td>13MP Rear Camera | 5MP Front Camera</td>\n",
       "      <td>16.59 cm (6.53 inch) HD+ Display</td>\n",
       "      <td>5000 mAh Li-Polymer Battery</td>\n",
       "      <td>₹8,099</td>\n",
       "      <td>https://www.flipkart.com/redmi-9i-sport-carbon...</td>\n",
       "    </tr>\n",
       "    <tr>\n",
       "      <th>4</th>\n",
       "      <td>[SAMSUNG, Galaxy, F23]</td>\n",
       "      <td>Blue,</td>\n",
       "      <td>6 GB RAM | 128 GB ROM | Expandable Upto 1 TB</td>\n",
       "      <td>50MP + 8MP + 2MP | 8MP Front Camera</td>\n",
       "      <td>16.76 cm (6.6 inch) Full HD+ Display</td>\n",
       "      <td>5000 mAh Lithium Ion Battery</td>\n",
       "      <td>₹14,499</td>\n",
       "      <td>https://www.flipkart.com/samsung-galaxy-f23-5g...</td>\n",
       "    </tr>\n",
       "    <tr>\n",
       "      <th>5</th>\n",
       "      <td>[realme, 9i, (Prism]</td>\n",
       "      <td>Black,</td>\n",
       "      <td>4 GB RAM | 128 GB ROM | Expandable Upto 1 TB</td>\n",
       "      <td>50MP + 2MP + 2MP | 16MP Front Camera</td>\n",
       "      <td>16.76 cm (6.6 inch) Full HD+ Display</td>\n",
       "      <td>5000 mAh Lithium ion Battery</td>\n",
       "      <td>₹11,999</td>\n",
       "      <td>https://www.flipkart.com/realme-9i-prism-black...</td>\n",
       "    </tr>\n",
       "    <tr>\n",
       "      <th>6</th>\n",
       "      <td>[realme, 9i, (Prism]</td>\n",
       "      <td>Blue,</td>\n",
       "      <td>4 GB RAM | 128 GB ROM | Expandable Upto 1 TB</td>\n",
       "      <td>50MP + 2MP + 2MP | 16MP Front Camera</td>\n",
       "      <td>16.76 cm (6.6 inch) Full HD+ Display</td>\n",
       "      <td>5000 mAh Lithium ion Battery</td>\n",
       "      <td>₹11,999</td>\n",
       "      <td>https://www.flipkart.com/realme-9i-prism-blue-...</td>\n",
       "    </tr>\n",
       "    <tr>\n",
       "      <th>7</th>\n",
       "      <td>[SAMSUNG, Galaxy, F23]</td>\n",
       "      <td>Green,</td>\n",
       "      <td>6 GB RAM | 128 GB ROM | Expandable Upto 1 TB</td>\n",
       "      <td>50MP + 8MP + 2MP | 8MP Front Camera</td>\n",
       "      <td>16.76 cm (6.6 inch) Full HD+ Display</td>\n",
       "      <td>5000 mAh Lithium Ion Battery</td>\n",
       "      <td>₹14,499</td>\n",
       "      <td>https://www.flipkart.com/samsung-galaxy-f23-5g...</td>\n",
       "    </tr>\n",
       "    <tr>\n",
       "      <th>8</th>\n",
       "      <td>[SAMSUNG, Galaxy, F23]</td>\n",
       "      <td>Blush,</td>\n",
       "      <td>6 GB RAM | 128 GB ROM | Expandable Upto 1 TB</td>\n",
       "      <td>50MP + 8MP + 2MP | 8MP Front Camera</td>\n",
       "      <td>16.76 cm (6.6 inch) Full HD+ Display</td>\n",
       "      <td>5000 mAh Lithium Ion Battery</td>\n",
       "      <td>₹14,499</td>\n",
       "      <td>https://www.flipkart.com/samsung-galaxy-f23-5g...</td>\n",
       "    </tr>\n",
       "    <tr>\n",
       "      <th>9</th>\n",
       "      <td>[Infinix, HOT, 12]</td>\n",
       "      <td>Gold,</td>\n",
       "      <td>4 GB RAM | 64 GB ROM | Expandable Upto 256 GB</td>\n",
       "      <td>13MP + Depth Lens | 8MP Front Camera</td>\n",
       "      <td>17.32 cm (6.82 inch) HD+ Display</td>\n",
       "      <td>6000 mAh Li-ion Polymer Battery</td>\n",
       "      <td>₹8,399</td>\n",
       "      <td>https://www.flipkart.com/infinix-hot-12-play-c...</td>\n",
       "    </tr>\n",
       "    <tr>\n",
       "      <th>10</th>\n",
       "      <td>[REDMI, 9i, Sport]</td>\n",
       "      <td>Blue,</td>\n",
       "      <td>4 GB RAM | 64 GB ROM | Expandable Upto 512 GB</td>\n",
       "      <td>13MP Rear Camera | 5MP Front Camera</td>\n",
       "      <td>16.59 cm (6.53 inch) HD+ Display</td>\n",
       "      <td>5000 mAh Li-Polymer Battery</td>\n",
       "      <td>₹8,099</td>\n",
       "      <td>https://www.flipkart.com/redmi-9i-sport-metall...</td>\n",
       "    </tr>\n",
       "    <tr>\n",
       "      <th>11</th>\n",
       "      <td>[realme, C35, (Glowing]</td>\n",
       "      <td>Green,</td>\n",
       "      <td>4 GB RAM | 64 GB ROM | Expandable Upto 1 TB</td>\n",
       "      <td>50MP + 2MP + 0.3MP | 8MP Front Camera</td>\n",
       "      <td>16.76 cm (6.6 inch) Full HD+ Display</td>\n",
       "      <td>5000 mAh Lithium Polymer Battery</td>\n",
       "      <td>₹11,499</td>\n",
       "      <td>https://www.flipkart.com/realme-c35-glowing-gr...</td>\n",
       "    </tr>\n",
       "    <tr>\n",
       "      <th>12</th>\n",
       "      <td>[APPLE, iPhone, 11]</td>\n",
       "      <td>(Black,</td>\n",
       "      <td>64 GB ROM</td>\n",
       "      <td>12MP + 12MP | 12MP Front Camera</td>\n",
       "      <td>15.49 cm (6.1 inch) Liquid Retina HD Display</td>\n",
       "      <td>A13 Bionic Chip Processor</td>\n",
       "      <td>₹41,990</td>\n",
       "      <td>https://www.flipkart.com/apple-iphone-11-black...</td>\n",
       "    </tr>\n",
       "    <tr>\n",
       "      <th>13</th>\n",
       "      <td>[APPLE, iPhone, 11]</td>\n",
       "      <td>(Black,</td>\n",
       "      <td>128 GB ROM</td>\n",
       "      <td>12MP + 12MP | 12MP Front Camera</td>\n",
       "      <td>15.49 cm (6.1 inch) Liquid Retina HD Display</td>\n",
       "      <td>A13 Bionic Chip Processor</td>\n",
       "      <td>₹46,990</td>\n",
       "      <td>https://www.flipkart.com/apple-iphone-11-black...</td>\n",
       "    </tr>\n",
       "    <tr>\n",
       "      <th>14</th>\n",
       "      <td>[SAMSUNG, Galaxy, F13]</td>\n",
       "      <td>Green,</td>\n",
       "      <td>4 GB RAM | 128 GB ROM | Expandable Upto 1 TB</td>\n",
       "      <td>50MP + 5MP + 2MP | 8MP Front Camera</td>\n",
       "      <td>16.76 cm (6.6 inch) Full HD+ Display</td>\n",
       "      <td>6000 mAh Lithium Ion Battery</td>\n",
       "      <td>₹10,499</td>\n",
       "      <td>https://www.flipkart.com/samsung-galaxy-f13-ni...</td>\n",
       "    </tr>\n",
       "    <tr>\n",
       "      <th>15</th>\n",
       "      <td>[vivo, T1, 5G]</td>\n",
       "      <td>Fantasy,</td>\n",
       "      <td>6 GB RAM | 128 GB ROM | Expandable Upto 1 TB</td>\n",
       "      <td>50MP + 2MP + 2MP | 16MP Front Camera</td>\n",
       "      <td>16.71 cm (6.58 inch) Full HD+ Display</td>\n",
       "      <td>5000 mAh Lithium Battery</td>\n",
       "      <td>₹16,990</td>\n",
       "      <td>https://www.flipkart.com/vivo-t1-5g-rainbow-fa...</td>\n",
       "    </tr>\n",
       "    <tr>\n",
       "      <th>16</th>\n",
       "      <td>[Infinix, HOT, 12]</td>\n",
       "      <td>Green,</td>\n",
       "      <td>4 GB RAM | 64 GB ROM | Expandable Upto 256 GB</td>\n",
       "      <td>13MP + Depth Lens | 8MP Front Camera</td>\n",
       "      <td>17.32 cm (6.82 inch) HD+ Display</td>\n",
       "      <td>6000 mAh Li-ion Polymer Battery</td>\n",
       "      <td>₹8,399</td>\n",
       "      <td>https://www.flipkart.com/infinix-hot-12-play-d...</td>\n",
       "    </tr>\n",
       "    <tr>\n",
       "      <th>17</th>\n",
       "      <td>[REDMI, 10, (Pacific]</td>\n",
       "      <td>Blue,</td>\n",
       "      <td>4 GB RAM | 64 GB ROM | Expandable Upto 1 TB</td>\n",
       "      <td>50MP + 2MP | 5MP Front Camera</td>\n",
       "      <td>17.02 cm (6.7 inch) HD+ Display</td>\n",
       "      <td>6000 mAh Lithium Polymer Battery</td>\n",
       "      <td>₹9,999</td>\n",
       "      <td>https://www.flipkart.com/redmi-10-pacific-blue...</td>\n",
       "    </tr>\n",
       "    <tr>\n",
       "      <th>18</th>\n",
       "      <td>[MOTOROLA, e40, (Pink]</td>\n",
       "      <td>Clay,</td>\n",
       "      <td>4 GB RAM | 64 GB ROM | Expandable Upto 1 TB</td>\n",
       "      <td>48MP + 2MP + 2MP | 8MP Front Camera</td>\n",
       "      <td>16.51 cm (6.5 inch) HD+ Display</td>\n",
       "      <td>5000 mAh Battery</td>\n",
       "      <td>₹8,599</td>\n",
       "      <td>https://www.flipkart.com/motorola-e40-pink-cla...</td>\n",
       "    </tr>\n",
       "    <tr>\n",
       "      <th>19</th>\n",
       "      <td>[SAMSUNG, Galaxy, F22]</td>\n",
       "      <td>Blue,</td>\n",
       "      <td>4 GB RAM | 64 GB ROM | Expandable Upto 1 TB</td>\n",
       "      <td>48MP + 8MP + 2MP + 2MP | 13MP Front Camera</td>\n",
       "      <td>16.26 cm (6.4 inch) HD+ Display</td>\n",
       "      <td>6000 mAh Lithium-ion Battery</td>\n",
       "      <td>₹10,499</td>\n",
       "      <td>https://www.flipkart.com/samsung-galaxy-f22-de...</td>\n",
       "    </tr>\n",
       "    <tr>\n",
       "      <th>20</th>\n",
       "      <td>[MOTOROLA, e40, (Carbon]</td>\n",
       "      <td>Gray,</td>\n",
       "      <td>4 GB RAM | 64 GB ROM | Expandable Upto 1 TB</td>\n",
       "      <td>48MP + 2MP + 2MP | 8MP Front Camera</td>\n",
       "      <td>16.51 cm (6.5 inch) HD+ Display</td>\n",
       "      <td>5000 mAh Battery</td>\n",
       "      <td>₹8,599</td>\n",
       "      <td>https://www.flipkart.com/motorola-e40-carbon-g...</td>\n",
       "    </tr>\n",
       "    <tr>\n",
       "      <th>21</th>\n",
       "      <td>[REDMI, 10, (Midnight]</td>\n",
       "      <td>Black,</td>\n",
       "      <td>4 GB RAM | 64 GB ROM | Expandable Upto 1 TB</td>\n",
       "      <td>50MP + 2MP | 5MP Front Camera</td>\n",
       "      <td>17.02 cm (6.7 inch) HD+ Display</td>\n",
       "      <td>6000 mAh Lithium Polymer Battery</td>\n",
       "      <td>₹9,999</td>\n",
       "      <td>https://www.flipkart.com/redmi-10-midnight-bla...</td>\n",
       "    </tr>\n",
       "    <tr>\n",
       "      <th>22</th>\n",
       "      <td>[SAMSUNG, Galaxy, F13]</td>\n",
       "      <td>Blue,</td>\n",
       "      <td>4 GB RAM | 128 GB ROM | Expandable Upto 1 TB</td>\n",
       "      <td>50MP + 5MP + 2MP | 8MP Front Camera</td>\n",
       "      <td>16.76 cm (6.6 inch) Full HD+ Display</td>\n",
       "      <td>6000 mAh Lithium Ion Battery</td>\n",
       "      <td>₹10,499</td>\n",
       "      <td>https://www.flipkart.com/samsung-galaxy-f13-wa...</td>\n",
       "    </tr>\n",
       "    <tr>\n",
       "      <th>23</th>\n",
       "      <td>[realme, C30, (Bamboo]</td>\n",
       "      <td>Green,</td>\n",
       "      <td>2 GB RAM | 32 GB ROM | Expandable Upto 1 TB</td>\n",
       "      <td>8MP Rear Camera | 5MP Front Camera</td>\n",
       "      <td>16.51 cm (6.5 inch) HD+ Display</td>\n",
       "      <td>5000 mAh Lithium Ion Battery</td>\n",
       "      <td>₹6,849</td>\n",
       "      <td>https://www.flipkart.com/realme-c30-bamboo-gre...</td>\n",
       "    </tr>\n",
       "  </tbody>\n",
       "</table>\n",
       "</div>"
      ],
      "text/plain": [
       "                MOBILE_BRAND     COLOR  \\\n",
       "0     [SAMSUNG, Galaxy, F13]     Blue,   \n",
       "1     [SAMSUNG, Galaxy, F13]    Green,   \n",
       "2     [SAMSUNG, Galaxy, F13]   Copper,   \n",
       "3         [REDMI, 9i, Sport]    Black,   \n",
       "4     [SAMSUNG, Galaxy, F23]     Blue,   \n",
       "5       [realme, 9i, (Prism]    Black,   \n",
       "6       [realme, 9i, (Prism]     Blue,   \n",
       "7     [SAMSUNG, Galaxy, F23]    Green,   \n",
       "8     [SAMSUNG, Galaxy, F23]    Blush,   \n",
       "9         [Infinix, HOT, 12]     Gold,   \n",
       "10        [REDMI, 9i, Sport]     Blue,   \n",
       "11   [realme, C35, (Glowing]    Green,   \n",
       "12       [APPLE, iPhone, 11]   (Black,   \n",
       "13       [APPLE, iPhone, 11]   (Black,   \n",
       "14    [SAMSUNG, Galaxy, F13]    Green,   \n",
       "15            [vivo, T1, 5G]  Fantasy,   \n",
       "16        [Infinix, HOT, 12]    Green,   \n",
       "17     [REDMI, 10, (Pacific]     Blue,   \n",
       "18    [MOTOROLA, e40, (Pink]     Clay,   \n",
       "19    [SAMSUNG, Galaxy, F22]     Blue,   \n",
       "20  [MOTOROLA, e40, (Carbon]     Gray,   \n",
       "21    [REDMI, 10, (Midnight]    Black,   \n",
       "22    [SAMSUNG, Galaxy, F13]     Blue,   \n",
       "23    [realme, C30, (Bamboo]    Green,   \n",
       "\n",
       "                                          STORAGE  \\\n",
       "0     4 GB RAM | 64 GB ROM | Expandable Upto 1 TB   \n",
       "1     4 GB RAM | 64 GB ROM | Expandable Upto 1 TB   \n",
       "2     4 GB RAM | 64 GB ROM | Expandable Upto 1 TB   \n",
       "3   4 GB RAM | 64 GB ROM | Expandable Upto 512 GB   \n",
       "4    6 GB RAM | 128 GB ROM | Expandable Upto 1 TB   \n",
       "5    4 GB RAM | 128 GB ROM | Expandable Upto 1 TB   \n",
       "6    4 GB RAM | 128 GB ROM | Expandable Upto 1 TB   \n",
       "7    6 GB RAM | 128 GB ROM | Expandable Upto 1 TB   \n",
       "8    6 GB RAM | 128 GB ROM | Expandable Upto 1 TB   \n",
       "9   4 GB RAM | 64 GB ROM | Expandable Upto 256 GB   \n",
       "10  4 GB RAM | 64 GB ROM | Expandable Upto 512 GB   \n",
       "11    4 GB RAM | 64 GB ROM | Expandable Upto 1 TB   \n",
       "12                                      64 GB ROM   \n",
       "13                                     128 GB ROM   \n",
       "14   4 GB RAM | 128 GB ROM | Expandable Upto 1 TB   \n",
       "15   6 GB RAM | 128 GB ROM | Expandable Upto 1 TB   \n",
       "16  4 GB RAM | 64 GB ROM | Expandable Upto 256 GB   \n",
       "17    4 GB RAM | 64 GB ROM | Expandable Upto 1 TB   \n",
       "18    4 GB RAM | 64 GB ROM | Expandable Upto 1 TB   \n",
       "19    4 GB RAM | 64 GB ROM | Expandable Upto 1 TB   \n",
       "20    4 GB RAM | 64 GB ROM | Expandable Upto 1 TB   \n",
       "21    4 GB RAM | 64 GB ROM | Expandable Upto 1 TB   \n",
       "22   4 GB RAM | 128 GB ROM | Expandable Upto 1 TB   \n",
       "23    2 GB RAM | 32 GB ROM | Expandable Upto 1 TB   \n",
       "\n",
       "                                        CAMERA  \\\n",
       "0          50MP + 5MP + 2MP | 8MP Front Camera   \n",
       "1          50MP + 5MP + 2MP | 8MP Front Camera   \n",
       "2          50MP + 5MP + 2MP | 8MP Front Camera   \n",
       "3          13MP Rear Camera | 5MP Front Camera   \n",
       "4          50MP + 8MP + 2MP | 8MP Front Camera   \n",
       "5         50MP + 2MP + 2MP | 16MP Front Camera   \n",
       "6         50MP + 2MP + 2MP | 16MP Front Camera   \n",
       "7          50MP + 8MP + 2MP | 8MP Front Camera   \n",
       "8          50MP + 8MP + 2MP | 8MP Front Camera   \n",
       "9         13MP + Depth Lens | 8MP Front Camera   \n",
       "10         13MP Rear Camera | 5MP Front Camera   \n",
       "11       50MP + 2MP + 0.3MP | 8MP Front Camera   \n",
       "12             12MP + 12MP | 12MP Front Camera   \n",
       "13             12MP + 12MP | 12MP Front Camera   \n",
       "14         50MP + 5MP + 2MP | 8MP Front Camera   \n",
       "15        50MP + 2MP + 2MP | 16MP Front Camera   \n",
       "16        13MP + Depth Lens | 8MP Front Camera   \n",
       "17               50MP + 2MP | 5MP Front Camera   \n",
       "18         48MP + 2MP + 2MP | 8MP Front Camera   \n",
       "19  48MP + 8MP + 2MP + 2MP | 13MP Front Camera   \n",
       "20         48MP + 2MP + 2MP | 8MP Front Camera   \n",
       "21               50MP + 2MP | 5MP Front Camera   \n",
       "22         50MP + 5MP + 2MP | 8MP Front Camera   \n",
       "23          8MP Rear Camera | 5MP Front Camera   \n",
       "\n",
       "                                         DISPLAY  \\\n",
       "0           16.76 cm (6.6 inch) Full HD+ Display   \n",
       "1           16.76 cm (6.6 inch) Full HD+ Display   \n",
       "2           16.76 cm (6.6 inch) Full HD+ Display   \n",
       "3               16.59 cm (6.53 inch) HD+ Display   \n",
       "4           16.76 cm (6.6 inch) Full HD+ Display   \n",
       "5           16.76 cm (6.6 inch) Full HD+ Display   \n",
       "6           16.76 cm (6.6 inch) Full HD+ Display   \n",
       "7           16.76 cm (6.6 inch) Full HD+ Display   \n",
       "8           16.76 cm (6.6 inch) Full HD+ Display   \n",
       "9               17.32 cm (6.82 inch) HD+ Display   \n",
       "10              16.59 cm (6.53 inch) HD+ Display   \n",
       "11          16.76 cm (6.6 inch) Full HD+ Display   \n",
       "12  15.49 cm (6.1 inch) Liquid Retina HD Display   \n",
       "13  15.49 cm (6.1 inch) Liquid Retina HD Display   \n",
       "14          16.76 cm (6.6 inch) Full HD+ Display   \n",
       "15         16.71 cm (6.58 inch) Full HD+ Display   \n",
       "16              17.32 cm (6.82 inch) HD+ Display   \n",
       "17               17.02 cm (6.7 inch) HD+ Display   \n",
       "18               16.51 cm (6.5 inch) HD+ Display   \n",
       "19               16.26 cm (6.4 inch) HD+ Display   \n",
       "20               16.51 cm (6.5 inch) HD+ Display   \n",
       "21               17.02 cm (6.7 inch) HD+ Display   \n",
       "22          16.76 cm (6.6 inch) Full HD+ Display   \n",
       "23               16.51 cm (6.5 inch) HD+ Display   \n",
       "\n",
       "                             BATTERY MOBILE_PRICE  \\\n",
       "0       6000 mAh Lithium Ion Battery       ₹9,499   \n",
       "1       6000 mAh Lithium Ion Battery       ₹9,499   \n",
       "2       6000 mAh Lithium Ion Battery       ₹9,499   \n",
       "3        5000 mAh Li-Polymer Battery       ₹8,099   \n",
       "4       5000 mAh Lithium Ion Battery      ₹14,499   \n",
       "5       5000 mAh Lithium ion Battery      ₹11,999   \n",
       "6       5000 mAh Lithium ion Battery      ₹11,999   \n",
       "7       5000 mAh Lithium Ion Battery      ₹14,499   \n",
       "8       5000 mAh Lithium Ion Battery      ₹14,499   \n",
       "9    6000 mAh Li-ion Polymer Battery       ₹8,399   \n",
       "10       5000 mAh Li-Polymer Battery       ₹8,099   \n",
       "11  5000 mAh Lithium Polymer Battery      ₹11,499   \n",
       "12         A13 Bionic Chip Processor      ₹41,990   \n",
       "13         A13 Bionic Chip Processor      ₹46,990   \n",
       "14      6000 mAh Lithium Ion Battery      ₹10,499   \n",
       "15          5000 mAh Lithium Battery      ₹16,990   \n",
       "16   6000 mAh Li-ion Polymer Battery       ₹8,399   \n",
       "17  6000 mAh Lithium Polymer Battery       ₹9,999   \n",
       "18                  5000 mAh Battery       ₹8,599   \n",
       "19      6000 mAh Lithium-ion Battery      ₹10,499   \n",
       "20                  5000 mAh Battery       ₹8,599   \n",
       "21  6000 mAh Lithium Polymer Battery       ₹9,999   \n",
       "22      6000 mAh Lithium Ion Battery      ₹10,499   \n",
       "23      5000 mAh Lithium Ion Battery       ₹6,849   \n",
       "\n",
       "                                                  URL  \n",
       "0   https://www.flipkart.com/samsung-galaxy-f13-wa...  \n",
       "1   https://www.flipkart.com/samsung-galaxy-f13-ni...  \n",
       "2   https://www.flipkart.com/samsung-galaxy-f13-su...  \n",
       "3   https://www.flipkart.com/redmi-9i-sport-carbon...  \n",
       "4   https://www.flipkart.com/samsung-galaxy-f23-5g...  \n",
       "5   https://www.flipkart.com/realme-9i-prism-black...  \n",
       "6   https://www.flipkart.com/realme-9i-prism-blue-...  \n",
       "7   https://www.flipkart.com/samsung-galaxy-f23-5g...  \n",
       "8   https://www.flipkart.com/samsung-galaxy-f23-5g...  \n",
       "9   https://www.flipkart.com/infinix-hot-12-play-c...  \n",
       "10  https://www.flipkart.com/redmi-9i-sport-metall...  \n",
       "11  https://www.flipkart.com/realme-c35-glowing-gr...  \n",
       "12  https://www.flipkart.com/apple-iphone-11-black...  \n",
       "13  https://www.flipkart.com/apple-iphone-11-black...  \n",
       "14  https://www.flipkart.com/samsung-galaxy-f13-ni...  \n",
       "15  https://www.flipkart.com/vivo-t1-5g-rainbow-fa...  \n",
       "16  https://www.flipkart.com/infinix-hot-12-play-d...  \n",
       "17  https://www.flipkart.com/redmi-10-pacific-blue...  \n",
       "18  https://www.flipkart.com/motorola-e40-pink-cla...  \n",
       "19  https://www.flipkart.com/samsung-galaxy-f22-de...  \n",
       "20  https://www.flipkart.com/motorola-e40-carbon-g...  \n",
       "21  https://www.flipkart.com/redmi-10-midnight-bla...  \n",
       "22  https://www.flipkart.com/samsung-galaxy-f13-wa...  \n",
       "23  https://www.flipkart.com/realme-c30-bamboo-gre...  "
      ]
     },
     "execution_count": 349,
     "metadata": {},
     "output_type": "execute_result"
    }
   ],
   "source": [
    "df2= pd.DataFrame({'MOBILE_BRAND':mob_brand, 'COLOR':mob_color, 'STORAGE':mob_storage, 'CAMERA':m_camera, 'DISPLAY':disp_size, 'BATTERY':batt_cap, 'MOBILE_PRICE':price, 'URL':m_url})\n",
    "df2"
   ]
  },
  {
   "cell_type": "code",
   "execution_count": 350,
   "id": "888b645e",
   "metadata": {},
   "outputs": [],
   "source": [
    "# convert into csv file\n",
    "\n",
    "df2.to_csv('mobile_data.csv')"
   ]
  },
  {
   "cell_type": "code",
   "execution_count": 351,
   "id": "2dedd460",
   "metadata": {},
   "outputs": [
    {
     "data": {
      "text/html": [
       "<div>\n",
       "<style scoped>\n",
       "    .dataframe tbody tr th:only-of-type {\n",
       "        vertical-align: middle;\n",
       "    }\n",
       "\n",
       "    .dataframe tbody tr th {\n",
       "        vertical-align: top;\n",
       "    }\n",
       "\n",
       "    .dataframe thead th {\n",
       "        text-align: right;\n",
       "    }\n",
       "</style>\n",
       "<table border=\"1\" class=\"dataframe\">\n",
       "  <thead>\n",
       "    <tr style=\"text-align: right;\">\n",
       "      <th></th>\n",
       "      <th>Unnamed: 0</th>\n",
       "      <th>MOBILE_BRAND</th>\n",
       "      <th>COLOR</th>\n",
       "      <th>STORAGE</th>\n",
       "      <th>CAMERA</th>\n",
       "      <th>DISPLAY</th>\n",
       "      <th>BATTERY</th>\n",
       "      <th>MOBILE_PRICE</th>\n",
       "      <th>URL</th>\n",
       "    </tr>\n",
       "  </thead>\n",
       "  <tbody>\n",
       "    <tr>\n",
       "      <th>0</th>\n",
       "      <td>0</td>\n",
       "      <td>['SAMSUNG', 'Galaxy', 'F13']</td>\n",
       "      <td>Blue,</td>\n",
       "      <td>4 GB RAM | 64 GB ROM | Expandable Upto 1 TB</td>\n",
       "      <td>50MP + 5MP + 2MP | 8MP Front Camera</td>\n",
       "      <td>16.76 cm (6.6 inch) Full HD+ Display</td>\n",
       "      <td>6000 mAh Lithium Ion Battery</td>\n",
       "      <td>₹9,499</td>\n",
       "      <td>https://www.flipkart.com/samsung-galaxy-f13-wa...</td>\n",
       "    </tr>\n",
       "    <tr>\n",
       "      <th>1</th>\n",
       "      <td>1</td>\n",
       "      <td>['SAMSUNG', 'Galaxy', 'F13']</td>\n",
       "      <td>Green,</td>\n",
       "      <td>4 GB RAM | 64 GB ROM | Expandable Upto 1 TB</td>\n",
       "      <td>50MP + 5MP + 2MP | 8MP Front Camera</td>\n",
       "      <td>16.76 cm (6.6 inch) Full HD+ Display</td>\n",
       "      <td>6000 mAh Lithium Ion Battery</td>\n",
       "      <td>₹9,499</td>\n",
       "      <td>https://www.flipkart.com/samsung-galaxy-f13-ni...</td>\n",
       "    </tr>\n",
       "    <tr>\n",
       "      <th>2</th>\n",
       "      <td>2</td>\n",
       "      <td>['SAMSUNG', 'Galaxy', 'F13']</td>\n",
       "      <td>Copper,</td>\n",
       "      <td>4 GB RAM | 64 GB ROM | Expandable Upto 1 TB</td>\n",
       "      <td>50MP + 5MP + 2MP | 8MP Front Camera</td>\n",
       "      <td>16.76 cm (6.6 inch) Full HD+ Display</td>\n",
       "      <td>6000 mAh Lithium Ion Battery</td>\n",
       "      <td>₹9,499</td>\n",
       "      <td>https://www.flipkart.com/samsung-galaxy-f13-su...</td>\n",
       "    </tr>\n",
       "    <tr>\n",
       "      <th>3</th>\n",
       "      <td>3</td>\n",
       "      <td>['REDMI', '9i', 'Sport']</td>\n",
       "      <td>Black,</td>\n",
       "      <td>4 GB RAM | 64 GB ROM | Expandable Upto 512 GB</td>\n",
       "      <td>13MP Rear Camera | 5MP Front Camera</td>\n",
       "      <td>16.59 cm (6.53 inch) HD+ Display</td>\n",
       "      <td>5000 mAh Li-Polymer Battery</td>\n",
       "      <td>₹8,099</td>\n",
       "      <td>https://www.flipkart.com/redmi-9i-sport-carbon...</td>\n",
       "    </tr>\n",
       "    <tr>\n",
       "      <th>4</th>\n",
       "      <td>4</td>\n",
       "      <td>['SAMSUNG', 'Galaxy', 'F23']</td>\n",
       "      <td>Blue,</td>\n",
       "      <td>6 GB RAM | 128 GB ROM | Expandable Upto 1 TB</td>\n",
       "      <td>50MP + 8MP + 2MP | 8MP Front Camera</td>\n",
       "      <td>16.76 cm (6.6 inch) Full HD+ Display</td>\n",
       "      <td>5000 mAh Lithium Ion Battery</td>\n",
       "      <td>₹14,499</td>\n",
       "      <td>https://www.flipkart.com/samsung-galaxy-f23-5g...</td>\n",
       "    </tr>\n",
       "    <tr>\n",
       "      <th>5</th>\n",
       "      <td>5</td>\n",
       "      <td>['realme', '9i', '(Prism']</td>\n",
       "      <td>Black,</td>\n",
       "      <td>4 GB RAM | 128 GB ROM | Expandable Upto 1 TB</td>\n",
       "      <td>50MP + 2MP + 2MP | 16MP Front Camera</td>\n",
       "      <td>16.76 cm (6.6 inch) Full HD+ Display</td>\n",
       "      <td>5000 mAh Lithium ion Battery</td>\n",
       "      <td>₹11,999</td>\n",
       "      <td>https://www.flipkart.com/realme-9i-prism-black...</td>\n",
       "    </tr>\n",
       "    <tr>\n",
       "      <th>6</th>\n",
       "      <td>6</td>\n",
       "      <td>['realme', '9i', '(Prism']</td>\n",
       "      <td>Blue,</td>\n",
       "      <td>4 GB RAM | 128 GB ROM | Expandable Upto 1 TB</td>\n",
       "      <td>50MP + 2MP + 2MP | 16MP Front Camera</td>\n",
       "      <td>16.76 cm (6.6 inch) Full HD+ Display</td>\n",
       "      <td>5000 mAh Lithium ion Battery</td>\n",
       "      <td>₹11,999</td>\n",
       "      <td>https://www.flipkart.com/realme-9i-prism-blue-...</td>\n",
       "    </tr>\n",
       "    <tr>\n",
       "      <th>7</th>\n",
       "      <td>7</td>\n",
       "      <td>['SAMSUNG', 'Galaxy', 'F23']</td>\n",
       "      <td>Green,</td>\n",
       "      <td>6 GB RAM | 128 GB ROM | Expandable Upto 1 TB</td>\n",
       "      <td>50MP + 8MP + 2MP | 8MP Front Camera</td>\n",
       "      <td>16.76 cm (6.6 inch) Full HD+ Display</td>\n",
       "      <td>5000 mAh Lithium Ion Battery</td>\n",
       "      <td>₹14,499</td>\n",
       "      <td>https://www.flipkart.com/samsung-galaxy-f23-5g...</td>\n",
       "    </tr>\n",
       "    <tr>\n",
       "      <th>8</th>\n",
       "      <td>8</td>\n",
       "      <td>['SAMSUNG', 'Galaxy', 'F23']</td>\n",
       "      <td>Blush,</td>\n",
       "      <td>6 GB RAM | 128 GB ROM | Expandable Upto 1 TB</td>\n",
       "      <td>50MP + 8MP + 2MP | 8MP Front Camera</td>\n",
       "      <td>16.76 cm (6.6 inch) Full HD+ Display</td>\n",
       "      <td>5000 mAh Lithium Ion Battery</td>\n",
       "      <td>₹14,499</td>\n",
       "      <td>https://www.flipkart.com/samsung-galaxy-f23-5g...</td>\n",
       "    </tr>\n",
       "    <tr>\n",
       "      <th>9</th>\n",
       "      <td>9</td>\n",
       "      <td>['Infinix', 'HOT', '12']</td>\n",
       "      <td>Gold,</td>\n",
       "      <td>4 GB RAM | 64 GB ROM | Expandable Upto 256 GB</td>\n",
       "      <td>13MP + Depth Lens | 8MP Front Camera</td>\n",
       "      <td>17.32 cm (6.82 inch) HD+ Display</td>\n",
       "      <td>6000 mAh Li-ion Polymer Battery</td>\n",
       "      <td>₹8,399</td>\n",
       "      <td>https://www.flipkart.com/infinix-hot-12-play-c...</td>\n",
       "    </tr>\n",
       "    <tr>\n",
       "      <th>10</th>\n",
       "      <td>10</td>\n",
       "      <td>['REDMI', '9i', 'Sport']</td>\n",
       "      <td>Blue,</td>\n",
       "      <td>4 GB RAM | 64 GB ROM | Expandable Upto 512 GB</td>\n",
       "      <td>13MP Rear Camera | 5MP Front Camera</td>\n",
       "      <td>16.59 cm (6.53 inch) HD+ Display</td>\n",
       "      <td>5000 mAh Li-Polymer Battery</td>\n",
       "      <td>₹8,099</td>\n",
       "      <td>https://www.flipkart.com/redmi-9i-sport-metall...</td>\n",
       "    </tr>\n",
       "    <tr>\n",
       "      <th>11</th>\n",
       "      <td>11</td>\n",
       "      <td>['realme', 'C35', '(Glowing']</td>\n",
       "      <td>Green,</td>\n",
       "      <td>4 GB RAM | 64 GB ROM | Expandable Upto 1 TB</td>\n",
       "      <td>50MP + 2MP + 0.3MP | 8MP Front Camera</td>\n",
       "      <td>16.76 cm (6.6 inch) Full HD+ Display</td>\n",
       "      <td>5000 mAh Lithium Polymer Battery</td>\n",
       "      <td>₹11,499</td>\n",
       "      <td>https://www.flipkart.com/realme-c35-glowing-gr...</td>\n",
       "    </tr>\n",
       "    <tr>\n",
       "      <th>12</th>\n",
       "      <td>12</td>\n",
       "      <td>['APPLE', 'iPhone', '11']</td>\n",
       "      <td>(Black,</td>\n",
       "      <td>64 GB ROM</td>\n",
       "      <td>12MP + 12MP | 12MP Front Camera</td>\n",
       "      <td>15.49 cm (6.1 inch) Liquid Retina HD Display</td>\n",
       "      <td>A13 Bionic Chip Processor</td>\n",
       "      <td>₹41,990</td>\n",
       "      <td>https://www.flipkart.com/apple-iphone-11-black...</td>\n",
       "    </tr>\n",
       "    <tr>\n",
       "      <th>13</th>\n",
       "      <td>13</td>\n",
       "      <td>['APPLE', 'iPhone', '11']</td>\n",
       "      <td>(Black,</td>\n",
       "      <td>128 GB ROM</td>\n",
       "      <td>12MP + 12MP | 12MP Front Camera</td>\n",
       "      <td>15.49 cm (6.1 inch) Liquid Retina HD Display</td>\n",
       "      <td>A13 Bionic Chip Processor</td>\n",
       "      <td>₹46,990</td>\n",
       "      <td>https://www.flipkart.com/apple-iphone-11-black...</td>\n",
       "    </tr>\n",
       "    <tr>\n",
       "      <th>14</th>\n",
       "      <td>14</td>\n",
       "      <td>['SAMSUNG', 'Galaxy', 'F13']</td>\n",
       "      <td>Green,</td>\n",
       "      <td>4 GB RAM | 128 GB ROM | Expandable Upto 1 TB</td>\n",
       "      <td>50MP + 5MP + 2MP | 8MP Front Camera</td>\n",
       "      <td>16.76 cm (6.6 inch) Full HD+ Display</td>\n",
       "      <td>6000 mAh Lithium Ion Battery</td>\n",
       "      <td>₹10,499</td>\n",
       "      <td>https://www.flipkart.com/samsung-galaxy-f13-ni...</td>\n",
       "    </tr>\n",
       "    <tr>\n",
       "      <th>15</th>\n",
       "      <td>15</td>\n",
       "      <td>['vivo', 'T1', '5G']</td>\n",
       "      <td>Fantasy,</td>\n",
       "      <td>6 GB RAM | 128 GB ROM | Expandable Upto 1 TB</td>\n",
       "      <td>50MP + 2MP + 2MP | 16MP Front Camera</td>\n",
       "      <td>16.71 cm (6.58 inch) Full HD+ Display</td>\n",
       "      <td>5000 mAh Lithium Battery</td>\n",
       "      <td>₹16,990</td>\n",
       "      <td>https://www.flipkart.com/vivo-t1-5g-rainbow-fa...</td>\n",
       "    </tr>\n",
       "    <tr>\n",
       "      <th>16</th>\n",
       "      <td>16</td>\n",
       "      <td>['Infinix', 'HOT', '12']</td>\n",
       "      <td>Green,</td>\n",
       "      <td>4 GB RAM | 64 GB ROM | Expandable Upto 256 GB</td>\n",
       "      <td>13MP + Depth Lens | 8MP Front Camera</td>\n",
       "      <td>17.32 cm (6.82 inch) HD+ Display</td>\n",
       "      <td>6000 mAh Li-ion Polymer Battery</td>\n",
       "      <td>₹8,399</td>\n",
       "      <td>https://www.flipkart.com/infinix-hot-12-play-d...</td>\n",
       "    </tr>\n",
       "    <tr>\n",
       "      <th>17</th>\n",
       "      <td>17</td>\n",
       "      <td>['REDMI', '10', '(Pacific']</td>\n",
       "      <td>Blue,</td>\n",
       "      <td>4 GB RAM | 64 GB ROM | Expandable Upto 1 TB</td>\n",
       "      <td>50MP + 2MP | 5MP Front Camera</td>\n",
       "      <td>17.02 cm (6.7 inch) HD+ Display</td>\n",
       "      <td>6000 mAh Lithium Polymer Battery</td>\n",
       "      <td>₹9,999</td>\n",
       "      <td>https://www.flipkart.com/redmi-10-pacific-blue...</td>\n",
       "    </tr>\n",
       "    <tr>\n",
       "      <th>18</th>\n",
       "      <td>18</td>\n",
       "      <td>['MOTOROLA', 'e40', '(Pink']</td>\n",
       "      <td>Clay,</td>\n",
       "      <td>4 GB RAM | 64 GB ROM | Expandable Upto 1 TB</td>\n",
       "      <td>48MP + 2MP + 2MP | 8MP Front Camera</td>\n",
       "      <td>16.51 cm (6.5 inch) HD+ Display</td>\n",
       "      <td>5000 mAh Battery</td>\n",
       "      <td>₹8,599</td>\n",
       "      <td>https://www.flipkart.com/motorola-e40-pink-cla...</td>\n",
       "    </tr>\n",
       "    <tr>\n",
       "      <th>19</th>\n",
       "      <td>19</td>\n",
       "      <td>['SAMSUNG', 'Galaxy', 'F22']</td>\n",
       "      <td>Blue,</td>\n",
       "      <td>4 GB RAM | 64 GB ROM | Expandable Upto 1 TB</td>\n",
       "      <td>48MP + 8MP + 2MP + 2MP | 13MP Front Camera</td>\n",
       "      <td>16.26 cm (6.4 inch) HD+ Display</td>\n",
       "      <td>6000 mAh Lithium-ion Battery</td>\n",
       "      <td>₹10,499</td>\n",
       "      <td>https://www.flipkart.com/samsung-galaxy-f22-de...</td>\n",
       "    </tr>\n",
       "    <tr>\n",
       "      <th>20</th>\n",
       "      <td>20</td>\n",
       "      <td>['MOTOROLA', 'e40', '(Carbon']</td>\n",
       "      <td>Gray,</td>\n",
       "      <td>4 GB RAM | 64 GB ROM | Expandable Upto 1 TB</td>\n",
       "      <td>48MP + 2MP + 2MP | 8MP Front Camera</td>\n",
       "      <td>16.51 cm (6.5 inch) HD+ Display</td>\n",
       "      <td>5000 mAh Battery</td>\n",
       "      <td>₹8,599</td>\n",
       "      <td>https://www.flipkart.com/motorola-e40-carbon-g...</td>\n",
       "    </tr>\n",
       "    <tr>\n",
       "      <th>21</th>\n",
       "      <td>21</td>\n",
       "      <td>['REDMI', '10', '(Midnight']</td>\n",
       "      <td>Black,</td>\n",
       "      <td>4 GB RAM | 64 GB ROM | Expandable Upto 1 TB</td>\n",
       "      <td>50MP + 2MP | 5MP Front Camera</td>\n",
       "      <td>17.02 cm (6.7 inch) HD+ Display</td>\n",
       "      <td>6000 mAh Lithium Polymer Battery</td>\n",
       "      <td>₹9,999</td>\n",
       "      <td>https://www.flipkart.com/redmi-10-midnight-bla...</td>\n",
       "    </tr>\n",
       "    <tr>\n",
       "      <th>22</th>\n",
       "      <td>22</td>\n",
       "      <td>['SAMSUNG', 'Galaxy', 'F13']</td>\n",
       "      <td>Blue,</td>\n",
       "      <td>4 GB RAM | 128 GB ROM | Expandable Upto 1 TB</td>\n",
       "      <td>50MP + 5MP + 2MP | 8MP Front Camera</td>\n",
       "      <td>16.76 cm (6.6 inch) Full HD+ Display</td>\n",
       "      <td>6000 mAh Lithium Ion Battery</td>\n",
       "      <td>₹10,499</td>\n",
       "      <td>https://www.flipkart.com/samsung-galaxy-f13-wa...</td>\n",
       "    </tr>\n",
       "    <tr>\n",
       "      <th>23</th>\n",
       "      <td>23</td>\n",
       "      <td>['realme', 'C30', '(Bamboo']</td>\n",
       "      <td>Green,</td>\n",
       "      <td>2 GB RAM | 32 GB ROM | Expandable Upto 1 TB</td>\n",
       "      <td>8MP Rear Camera | 5MP Front Camera</td>\n",
       "      <td>16.51 cm (6.5 inch) HD+ Display</td>\n",
       "      <td>5000 mAh Lithium Ion Battery</td>\n",
       "      <td>₹6,849</td>\n",
       "      <td>https://www.flipkart.com/realme-c30-bamboo-gre...</td>\n",
       "    </tr>\n",
       "  </tbody>\n",
       "</table>\n",
       "</div>"
      ],
      "text/plain": [
       "    Unnamed: 0                    MOBILE_BRAND     COLOR  \\\n",
       "0            0    ['SAMSUNG', 'Galaxy', 'F13']     Blue,   \n",
       "1            1    ['SAMSUNG', 'Galaxy', 'F13']    Green,   \n",
       "2            2    ['SAMSUNG', 'Galaxy', 'F13']   Copper,   \n",
       "3            3        ['REDMI', '9i', 'Sport']    Black,   \n",
       "4            4    ['SAMSUNG', 'Galaxy', 'F23']     Blue,   \n",
       "5            5      ['realme', '9i', '(Prism']    Black,   \n",
       "6            6      ['realme', '9i', '(Prism']     Blue,   \n",
       "7            7    ['SAMSUNG', 'Galaxy', 'F23']    Green,   \n",
       "8            8    ['SAMSUNG', 'Galaxy', 'F23']    Blush,   \n",
       "9            9        ['Infinix', 'HOT', '12']     Gold,   \n",
       "10          10        ['REDMI', '9i', 'Sport']     Blue,   \n",
       "11          11   ['realme', 'C35', '(Glowing']    Green,   \n",
       "12          12       ['APPLE', 'iPhone', '11']   (Black,   \n",
       "13          13       ['APPLE', 'iPhone', '11']   (Black,   \n",
       "14          14    ['SAMSUNG', 'Galaxy', 'F13']    Green,   \n",
       "15          15            ['vivo', 'T1', '5G']  Fantasy,   \n",
       "16          16        ['Infinix', 'HOT', '12']    Green,   \n",
       "17          17     ['REDMI', '10', '(Pacific']     Blue,   \n",
       "18          18    ['MOTOROLA', 'e40', '(Pink']     Clay,   \n",
       "19          19    ['SAMSUNG', 'Galaxy', 'F22']     Blue,   \n",
       "20          20  ['MOTOROLA', 'e40', '(Carbon']     Gray,   \n",
       "21          21    ['REDMI', '10', '(Midnight']    Black,   \n",
       "22          22    ['SAMSUNG', 'Galaxy', 'F13']     Blue,   \n",
       "23          23    ['realme', 'C30', '(Bamboo']    Green,   \n",
       "\n",
       "                                          STORAGE  \\\n",
       "0     4 GB RAM | 64 GB ROM | Expandable Upto 1 TB   \n",
       "1     4 GB RAM | 64 GB ROM | Expandable Upto 1 TB   \n",
       "2     4 GB RAM | 64 GB ROM | Expandable Upto 1 TB   \n",
       "3   4 GB RAM | 64 GB ROM | Expandable Upto 512 GB   \n",
       "4    6 GB RAM | 128 GB ROM | Expandable Upto 1 TB   \n",
       "5    4 GB RAM | 128 GB ROM | Expandable Upto 1 TB   \n",
       "6    4 GB RAM | 128 GB ROM | Expandable Upto 1 TB   \n",
       "7    6 GB RAM | 128 GB ROM | Expandable Upto 1 TB   \n",
       "8    6 GB RAM | 128 GB ROM | Expandable Upto 1 TB   \n",
       "9   4 GB RAM | 64 GB ROM | Expandable Upto 256 GB   \n",
       "10  4 GB RAM | 64 GB ROM | Expandable Upto 512 GB   \n",
       "11    4 GB RAM | 64 GB ROM | Expandable Upto 1 TB   \n",
       "12                                      64 GB ROM   \n",
       "13                                     128 GB ROM   \n",
       "14   4 GB RAM | 128 GB ROM | Expandable Upto 1 TB   \n",
       "15   6 GB RAM | 128 GB ROM | Expandable Upto 1 TB   \n",
       "16  4 GB RAM | 64 GB ROM | Expandable Upto 256 GB   \n",
       "17    4 GB RAM | 64 GB ROM | Expandable Upto 1 TB   \n",
       "18    4 GB RAM | 64 GB ROM | Expandable Upto 1 TB   \n",
       "19    4 GB RAM | 64 GB ROM | Expandable Upto 1 TB   \n",
       "20    4 GB RAM | 64 GB ROM | Expandable Upto 1 TB   \n",
       "21    4 GB RAM | 64 GB ROM | Expandable Upto 1 TB   \n",
       "22   4 GB RAM | 128 GB ROM | Expandable Upto 1 TB   \n",
       "23    2 GB RAM | 32 GB ROM | Expandable Upto 1 TB   \n",
       "\n",
       "                                        CAMERA  \\\n",
       "0          50MP + 5MP + 2MP | 8MP Front Camera   \n",
       "1          50MP + 5MP + 2MP | 8MP Front Camera   \n",
       "2          50MP + 5MP + 2MP | 8MP Front Camera   \n",
       "3          13MP Rear Camera | 5MP Front Camera   \n",
       "4          50MP + 8MP + 2MP | 8MP Front Camera   \n",
       "5         50MP + 2MP + 2MP | 16MP Front Camera   \n",
       "6         50MP + 2MP + 2MP | 16MP Front Camera   \n",
       "7          50MP + 8MP + 2MP | 8MP Front Camera   \n",
       "8          50MP + 8MP + 2MP | 8MP Front Camera   \n",
       "9         13MP + Depth Lens | 8MP Front Camera   \n",
       "10         13MP Rear Camera | 5MP Front Camera   \n",
       "11       50MP + 2MP + 0.3MP | 8MP Front Camera   \n",
       "12             12MP + 12MP | 12MP Front Camera   \n",
       "13             12MP + 12MP | 12MP Front Camera   \n",
       "14         50MP + 5MP + 2MP | 8MP Front Camera   \n",
       "15        50MP + 2MP + 2MP | 16MP Front Camera   \n",
       "16        13MP + Depth Lens | 8MP Front Camera   \n",
       "17               50MP + 2MP | 5MP Front Camera   \n",
       "18         48MP + 2MP + 2MP | 8MP Front Camera   \n",
       "19  48MP + 8MP + 2MP + 2MP | 13MP Front Camera   \n",
       "20         48MP + 2MP + 2MP | 8MP Front Camera   \n",
       "21               50MP + 2MP | 5MP Front Camera   \n",
       "22         50MP + 5MP + 2MP | 8MP Front Camera   \n",
       "23          8MP Rear Camera | 5MP Front Camera   \n",
       "\n",
       "                                         DISPLAY  \\\n",
       "0           16.76 cm (6.6 inch) Full HD+ Display   \n",
       "1           16.76 cm (6.6 inch) Full HD+ Display   \n",
       "2           16.76 cm (6.6 inch) Full HD+ Display   \n",
       "3               16.59 cm (6.53 inch) HD+ Display   \n",
       "4           16.76 cm (6.6 inch) Full HD+ Display   \n",
       "5           16.76 cm (6.6 inch) Full HD+ Display   \n",
       "6           16.76 cm (6.6 inch) Full HD+ Display   \n",
       "7           16.76 cm (6.6 inch) Full HD+ Display   \n",
       "8           16.76 cm (6.6 inch) Full HD+ Display   \n",
       "9               17.32 cm (6.82 inch) HD+ Display   \n",
       "10              16.59 cm (6.53 inch) HD+ Display   \n",
       "11          16.76 cm (6.6 inch) Full HD+ Display   \n",
       "12  15.49 cm (6.1 inch) Liquid Retina HD Display   \n",
       "13  15.49 cm (6.1 inch) Liquid Retina HD Display   \n",
       "14          16.76 cm (6.6 inch) Full HD+ Display   \n",
       "15         16.71 cm (6.58 inch) Full HD+ Display   \n",
       "16              17.32 cm (6.82 inch) HD+ Display   \n",
       "17               17.02 cm (6.7 inch) HD+ Display   \n",
       "18               16.51 cm (6.5 inch) HD+ Display   \n",
       "19               16.26 cm (6.4 inch) HD+ Display   \n",
       "20               16.51 cm (6.5 inch) HD+ Display   \n",
       "21               17.02 cm (6.7 inch) HD+ Display   \n",
       "22          16.76 cm (6.6 inch) Full HD+ Display   \n",
       "23               16.51 cm (6.5 inch) HD+ Display   \n",
       "\n",
       "                             BATTERY MOBILE_PRICE  \\\n",
       "0       6000 mAh Lithium Ion Battery       ₹9,499   \n",
       "1       6000 mAh Lithium Ion Battery       ₹9,499   \n",
       "2       6000 mAh Lithium Ion Battery       ₹9,499   \n",
       "3        5000 mAh Li-Polymer Battery       ₹8,099   \n",
       "4       5000 mAh Lithium Ion Battery      ₹14,499   \n",
       "5       5000 mAh Lithium ion Battery      ₹11,999   \n",
       "6       5000 mAh Lithium ion Battery      ₹11,999   \n",
       "7       5000 mAh Lithium Ion Battery      ₹14,499   \n",
       "8       5000 mAh Lithium Ion Battery      ₹14,499   \n",
       "9    6000 mAh Li-ion Polymer Battery       ₹8,399   \n",
       "10       5000 mAh Li-Polymer Battery       ₹8,099   \n",
       "11  5000 mAh Lithium Polymer Battery      ₹11,499   \n",
       "12         A13 Bionic Chip Processor      ₹41,990   \n",
       "13         A13 Bionic Chip Processor      ₹46,990   \n",
       "14      6000 mAh Lithium Ion Battery      ₹10,499   \n",
       "15          5000 mAh Lithium Battery      ₹16,990   \n",
       "16   6000 mAh Li-ion Polymer Battery       ₹8,399   \n",
       "17  6000 mAh Lithium Polymer Battery       ₹9,999   \n",
       "18                  5000 mAh Battery       ₹8,599   \n",
       "19      6000 mAh Lithium-ion Battery      ₹10,499   \n",
       "20                  5000 mAh Battery       ₹8,599   \n",
       "21  6000 mAh Lithium Polymer Battery       ₹9,999   \n",
       "22      6000 mAh Lithium Ion Battery      ₹10,499   \n",
       "23      5000 mAh Lithium Ion Battery       ₹6,849   \n",
       "\n",
       "                                                  URL  \n",
       "0   https://www.flipkart.com/samsung-galaxy-f13-wa...  \n",
       "1   https://www.flipkart.com/samsung-galaxy-f13-ni...  \n",
       "2   https://www.flipkart.com/samsung-galaxy-f13-su...  \n",
       "3   https://www.flipkart.com/redmi-9i-sport-carbon...  \n",
       "4   https://www.flipkart.com/samsung-galaxy-f23-5g...  \n",
       "5   https://www.flipkart.com/realme-9i-prism-black...  \n",
       "6   https://www.flipkart.com/realme-9i-prism-blue-...  \n",
       "7   https://www.flipkart.com/samsung-galaxy-f23-5g...  \n",
       "8   https://www.flipkart.com/samsung-galaxy-f23-5g...  \n",
       "9   https://www.flipkart.com/infinix-hot-12-play-c...  \n",
       "10  https://www.flipkart.com/redmi-9i-sport-metall...  \n",
       "11  https://www.flipkart.com/realme-c35-glowing-gr...  \n",
       "12  https://www.flipkart.com/apple-iphone-11-black...  \n",
       "13  https://www.flipkart.com/apple-iphone-11-black...  \n",
       "14  https://www.flipkart.com/samsung-galaxy-f13-ni...  \n",
       "15  https://www.flipkart.com/vivo-t1-5g-rainbow-fa...  \n",
       "16  https://www.flipkart.com/infinix-hot-12-play-d...  \n",
       "17  https://www.flipkart.com/redmi-10-pacific-blue...  \n",
       "18  https://www.flipkart.com/motorola-e40-pink-cla...  \n",
       "19  https://www.flipkart.com/samsung-galaxy-f22-de...  \n",
       "20  https://www.flipkart.com/motorola-e40-carbon-g...  \n",
       "21  https://www.flipkart.com/redmi-10-midnight-bla...  \n",
       "22  https://www.flipkart.com/samsung-galaxy-f13-wa...  \n",
       "23  https://www.flipkart.com/realme-c30-bamboo-gre...  "
      ]
     },
     "execution_count": 351,
     "metadata": {},
     "output_type": "execute_result"
    }
   ],
   "source": [
    "ab=pd.read_csv('mobile_data.csv')\n",
    "ab"
   ]
  },
  {
   "cell_type": "code",
   "execution_count": 352,
   "id": "5be5373d",
   "metadata": {},
   "outputs": [],
   "source": [
    "driver.close()"
   ]
  },
  {
   "cell_type": "markdown",
   "id": "45bf69f3",
   "metadata": {},
   "source": [
    "# 5.\tWrite a program to scrap geospatial coordinates (latitude, longitude) of a city searched on google maps"
   ]
  },
  {
   "cell_type": "code",
   "execution_count": 356,
   "id": "38d91da9",
   "metadata": {},
   "outputs": [],
   "source": [
    "# First connect to the driver\n",
    "driver = webdriver.Chrome(\"C:\\\\Users\\\\hp\\Desktop\\\\task\\\\driver\\\\chromedriver.exe\")\n",
    "driver.maximize_window()"
   ]
  },
  {
   "cell_type": "code",
   "execution_count": 357,
   "id": "b0968605",
   "metadata": {},
   "outputs": [],
   "source": [
    "# opening the google map in page and automated chrome browser\n",
    "driver.get(\"https://www.google.co.in/maps\")\n",
    "time.sleep(5)"
   ]
  },
  {
   "cell_type": "code",
   "execution_count": 358,
   "id": "6a73fdb3",
   "metadata": {},
   "outputs": [
    {
     "name": "stdout",
     "output_type": "stream",
     "text": [
      "Enter City Name : madhubani bihar\n"
     ]
    }
   ],
   "source": [
    "# user input city to be searched\n",
    "\n",
    "city = input('Enter City Name : ')                                         \n",
    "search = driver.find_element(By.XPATH, '/html/body/div[3]/div[9]/div[3]/div[1]/div[1]/div[1]/div[2]/form/div[2]/div[3]/div/input[1]')                       \n",
    "search.clear()                                                             \n",
    "time.sleep(5)\n",
    "search.send_keys(city)                                                     \n",
    "button = driver.find_element(By.XPATH, '/html/body/div[3]/div[9]/div[3]/div[1]/div[1]/div[1]/div[2]/div[1]/button')               \n",
    "button.click()                                                             \n",
    "time.sleep(3)"
   ]
  },
  {
   "cell_type": "code",
   "execution_count": 367,
   "id": "0f0a7d99",
   "metadata": {},
   "outputs": [
    {
     "name": "stdout",
     "output_type": "stream",
     "text": [
      "Data Extracted:  https://www.google.co.in/maps/place/Madhubani,+Bihar/@26.3460115,86.0037327,12z/data=!3m1!4b1!4m5!3m4!1s0x39edcd30bc1d5d47:0x8bbe389999d9c709!8m2!3d26.3482938!4d86.0711661\n",
      "Latitude =26.3460115 \n",
      "Longitude =86.0037327 \n"
     ]
    }
   ],
   "source": [
    "try:\n",
    "    cur_url = driver.current_url\n",
    "    print(\"Data Extracted: \", cur_url)\n",
    "    lt_ln = re.findall('data', cur_url)\n",
    "    if len(lt_ln):\n",
    "        list = lt_ln[0].split(\",\")\n",
    "        if len(list)>=2:\n",
    "            lat = list[0]\n",
    "            lng = list[1]\n",
    "        print(\"Latitude ={} \".format(lat)) \n",
    "        print(\"Longitude ={} \".format(lng))\n",
    "\n",
    "except NoSuchElementException as e:\n",
    "        print(\"Not Found: \", e)"
   ]
  },
  {
   "cell_type": "code",
   "execution_count": 368,
   "id": "5f85d733",
   "metadata": {},
   "outputs": [],
   "source": [
    "driver.close()"
   ]
  },
  {
   "cell_type": "markdown",
   "id": "a959aab1",
   "metadata": {},
   "source": [
    "# 6.\tWrite a program to scrap details of all the funding deals for second quarter (i.e Jan 21 – March 21) from trak.in. "
   ]
  },
  {
   "cell_type": "code",
   "execution_count": 369,
   "id": "5f7e4936",
   "metadata": {},
   "outputs": [],
   "source": [
    "# First connect to the driver\n",
    "driver = webdriver.Chrome(\"C:\\\\Users\\\\hp\\Desktop\\\\task\\\\driver\\\\chromedriver.exe\")\n",
    "driver.maximize_window()"
   ]
  },
  {
   "cell_type": "code",
   "execution_count": 370,
   "id": "6ded8a0b",
   "metadata": {},
   "outputs": [],
   "source": [
    "# opening the track.in  page and automated chrome browser\n",
    "driver.get(\"https://trak.in/india-startup-funding-investment-2015/\")\n",
    "time.sleep(5)"
   ]
  },
  {
   "cell_type": "code",
   "execution_count": 399,
   "id": "031d332f",
   "metadata": {},
   "outputs": [],
   "source": [
    "# empty list\n",
    "\n",
    "date=[]\n",
    "company=[]\n",
    "industry=[]\n",
    "investor_name=[]\n",
    "investment_type=[]\n",
    "amount=[]"
   ]
  },
  {
   "cell_type": "code",
   "execution_count": 400,
   "id": "af575a1e",
   "metadata": {},
   "outputs": [],
   "source": [
    "#scraping the company_name \n",
    "try:\n",
    "    \n",
    "    comp=driver.find_elements(By.XPATH, '//td[@class=\"column-3\"]')\n",
    "    for i in comp:\n",
    "        company.append(i.text) \n",
    "    \n",
    "except NoSuchElementException:\n",
    "    company.append('_')\n"
   ]
  },
  {
   "cell_type": "code",
   "execution_count": 401,
   "id": "dc77299a",
   "metadata": {},
   "outputs": [
    {
     "data": {
      "text/plain": [
       "392"
      ]
     },
     "execution_count": 401,
     "metadata": {},
     "output_type": "execute_result"
    }
   ],
   "source": [
    "len(company)"
   ]
  },
  {
   "cell_type": "code",
   "execution_count": 402,
   "id": "554bcc4b",
   "metadata": {},
   "outputs": [],
   "source": [
    "#scraping the industry name \n",
    "try:\n",
    "    \n",
    "    indus=driver.find_elements(By.XPATH, '//td[@class=\"column-4\"]')\n",
    "    for i in indus:\n",
    "        industry.append(i.text) \n",
    "    \n",
    "except NoSuchElementException:\n",
    "    industry.append('_')"
   ]
  },
  {
   "cell_type": "code",
   "execution_count": 403,
   "id": "75e12d3f",
   "metadata": {},
   "outputs": [
    {
     "data": {
      "text/plain": [
       "392"
      ]
     },
     "execution_count": 403,
     "metadata": {},
     "output_type": "execute_result"
    }
   ],
   "source": [
    "len(industry)"
   ]
  },
  {
   "cell_type": "code",
   "execution_count": 404,
   "id": "3af2da7b",
   "metadata": {},
   "outputs": [],
   "source": [
    "#industry"
   ]
  },
  {
   "cell_type": "code",
   "execution_count": 405,
   "id": "2e86b4f3",
   "metadata": {},
   "outputs": [],
   "source": [
    "#scraping the date \n",
    "try:\n",
    "    \n",
    "    dt=driver.find_elements(By.XPATH, '//td[@class=\"column-2\"]')\n",
    "    for i in dt:\n",
    "        date.append(i.text) \n",
    "    \n",
    "except NoSuchElementException:\n",
    "    date.append('_')"
   ]
  },
  {
   "cell_type": "code",
   "execution_count": 406,
   "id": "677a5d42",
   "metadata": {},
   "outputs": [
    {
     "data": {
      "text/plain": [
       "392"
      ]
     },
     "execution_count": 406,
     "metadata": {},
     "output_type": "execute_result"
    }
   ],
   "source": [
    "len(date)"
   ]
  },
  {
   "cell_type": "code",
   "execution_count": 407,
   "id": "e95405c1",
   "metadata": {},
   "outputs": [],
   "source": [
    "#date"
   ]
  },
  {
   "cell_type": "code",
   "execution_count": 408,
   "id": "b71d8b8a",
   "metadata": {},
   "outputs": [],
   "source": [
    "#scraping an investors name \n",
    "try:\n",
    "    \n",
    "    inv_name=driver.find_elements(By.XPATH, '//td[@class=\"column-7\"]')\n",
    "    for i in inv_name:\n",
    "        investor_name.append(i.text) \n",
    "    \n",
    "except NoSuchElementException:\n",
    "    investor_name.append('_')"
   ]
  },
  {
   "cell_type": "code",
   "execution_count": 409,
   "id": "a97cf21f",
   "metadata": {},
   "outputs": [
    {
     "data": {
      "text/plain": [
       "392"
      ]
     },
     "execution_count": 409,
     "metadata": {},
     "output_type": "execute_result"
    }
   ],
   "source": [
    "len(investor_name)"
   ]
  },
  {
   "cell_type": "code",
   "execution_count": 410,
   "id": "5fc6d393",
   "metadata": {},
   "outputs": [],
   "source": [
    "#investor_name"
   ]
  },
  {
   "cell_type": "code",
   "execution_count": 411,
   "id": "bb2f46b3",
   "metadata": {},
   "outputs": [],
   "source": [
    "#scraping an investment type \n",
    "try:\n",
    "    \n",
    "    inv_type=driver.find_elements(By.XPATH, '//td[@class=\"column-8\"]')\n",
    "    for i in inv_type:\n",
    "        investment_type.append(i.text) \n",
    "    \n",
    "except NoSuchElementException:\n",
    "    investment_type.append('_')"
   ]
  },
  {
   "cell_type": "code",
   "execution_count": 412,
   "id": "cb5adb13",
   "metadata": {},
   "outputs": [
    {
     "data": {
      "text/plain": [
       "392"
      ]
     },
     "execution_count": 412,
     "metadata": {},
     "output_type": "execute_result"
    }
   ],
   "source": [
    "len(investment_type)"
   ]
  },
  {
   "cell_type": "code",
   "execution_count": 413,
   "id": "41190920",
   "metadata": {},
   "outputs": [],
   "source": [
    "#scraping an investment amount \n",
    "try:\n",
    "    \n",
    "    inv_amount=driver.find_elements(By.XPATH, '//td[@class=\"column-9\"]')\n",
    "    for i in inv_amount:\n",
    "        amount.append(i.text) \n",
    "    \n",
    "except NoSuchElementException:\n",
    "    amount.append('_')"
   ]
  },
  {
   "cell_type": "code",
   "execution_count": 414,
   "id": "119bf64c",
   "metadata": {},
   "outputs": [
    {
     "data": {
      "text/plain": [
       "392"
      ]
     },
     "execution_count": 414,
     "metadata": {},
     "output_type": "execute_result"
    }
   ],
   "source": [
    "len(amount)"
   ]
  },
  {
   "cell_type": "code",
   "execution_count": 415,
   "id": "12902d83",
   "metadata": {},
   "outputs": [],
   "source": [
    "#amount"
   ]
  },
  {
   "cell_type": "code",
   "execution_count": 416,
   "id": "17d1dd02",
   "metadata": {},
   "outputs": [
    {
     "data": {
      "text/html": [
       "<div>\n",
       "<style scoped>\n",
       "    .dataframe tbody tr th:only-of-type {\n",
       "        vertical-align: middle;\n",
       "    }\n",
       "\n",
       "    .dataframe tbody tr th {\n",
       "        vertical-align: top;\n",
       "    }\n",
       "\n",
       "    .dataframe thead th {\n",
       "        text-align: right;\n",
       "    }\n",
       "</style>\n",
       "<table border=\"1\" class=\"dataframe\">\n",
       "  <thead>\n",
       "    <tr style=\"text-align: right;\">\n",
       "      <th></th>\n",
       "      <th>DATE</th>\n",
       "      <th>COMPANY_NAME</th>\n",
       "      <th>INDUSTRY</th>\n",
       "      <th>INVESTORS</th>\n",
       "      <th>INVESTMENT_TYPE</th>\n",
       "      <th>AMOUNT(IN RS)</th>\n",
       "    </tr>\n",
       "  </thead>\n",
       "  <tbody>\n",
       "    <tr>\n",
       "      <th>0</th>\n",
       "      <td>01/04/2021</td>\n",
       "      <td>BYJU’S</td>\n",
       "      <td>Edu-tech</td>\n",
       "      <td>Innoven Capital</td>\n",
       "      <td>Series F</td>\n",
       "      <td>460,000,000</td>\n",
       "    </tr>\n",
       "    <tr>\n",
       "      <th>1</th>\n",
       "      <td>05/04/2021</td>\n",
       "      <td>Meesho</td>\n",
       "      <td>E-commerce</td>\n",
       "      <td>SoftBank Vision Fund 2</td>\n",
       "      <td>Series E</td>\n",
       "      <td>300,000,000</td>\n",
       "    </tr>\n",
       "    <tr>\n",
       "      <th>2</th>\n",
       "      <td>14/04/2021</td>\n",
       "      <td>Swiggy</td>\n",
       "      <td>Online Food Delivery</td>\n",
       "      <td>Amansa Holdings, Carmignac, Falcon Edge Capita...</td>\n",
       "      <td>Series J</td>\n",
       "      <td>343,000,000</td>\n",
       "    </tr>\n",
       "    <tr>\n",
       "      <th>3</th>\n",
       "      <td>07/04/2021</td>\n",
       "      <td>Groww</td>\n",
       "      <td>FinTech</td>\n",
       "      <td>MC Global Edtech, B Capital, Baron, others</td>\n",
       "      <td>Series D</td>\n",
       "      <td>83,000,000</td>\n",
       "    </tr>\n",
       "    <tr>\n",
       "      <th>4</th>\n",
       "      <td>14/04/2021</td>\n",
       "      <td>Beldara</td>\n",
       "      <td>E-commerce</td>\n",
       "      <td>Hindustan Media Ventures</td>\n",
       "      <td>Venture</td>\n",
       "      <td>7,400,000</td>\n",
       "    </tr>\n",
       "    <tr>\n",
       "      <th>...</th>\n",
       "      <td>...</td>\n",
       "      <td>...</td>\n",
       "      <td>...</td>\n",
       "      <td>...</td>\n",
       "      <td>...</td>\n",
       "      <td>...</td>\n",
       "    </tr>\n",
       "    <tr>\n",
       "      <th>387</th>\n",
       "      <td>09/07/2018</td>\n",
       "      <td>zippserv</td>\n",
       "      <td>Consumer Internet</td>\n",
       "      <td>Info Edge (India) Ltd</td>\n",
       "      <td>Seed/ Angel Funding</td>\n",
       "      <td>440,000</td>\n",
       "    </tr>\n",
       "    <tr>\n",
       "      <th>388</th>\n",
       "      <td>09/07/2018</td>\n",
       "      <td>Groww</td>\n",
       "      <td>Consumer Internet</td>\n",
       "      <td>Insignia Ventures Partners, Lightbridge Partne...</td>\n",
       "      <td>Seed/ Angel Funding</td>\n",
       "      <td>1,100,000</td>\n",
       "    </tr>\n",
       "    <tr>\n",
       "      <th>389</th>\n",
       "      <td>10/07/2018</td>\n",
       "      <td>Avenue Growth</td>\n",
       "      <td>Consumer Internet</td>\n",
       "      <td>Avtar Monga, chief operating office at IDFC Ba...</td>\n",
       "      <td>Seed/ Angel Funding</td>\n",
       "      <td>437,000</td>\n",
       "    </tr>\n",
       "    <tr>\n",
       "      <th>390</th>\n",
       "      <td>10/07/2018</td>\n",
       "      <td>iNICU</td>\n",
       "      <td>Healthcare</td>\n",
       "      <td>Venture Catalysts</td>\n",
       "      <td>Seed/ Angel Funding</td>\n",
       "      <td>N/A</td>\n",
       "    </tr>\n",
       "    <tr>\n",
       "      <th>391</th>\n",
       "      <td>10/07/2018</td>\n",
       "      <td>Kinara Capital</td>\n",
       "      <td>Finance</td>\n",
       "      <td>ResponsAbility</td>\n",
       "      <td>Private Equity</td>\n",
       "      <td>5,000,000</td>\n",
       "    </tr>\n",
       "  </tbody>\n",
       "</table>\n",
       "<p>392 rows × 6 columns</p>\n",
       "</div>"
      ],
      "text/plain": [
       "           DATE    COMPANY_NAME              INDUSTRY  \\\n",
       "0    01/04/2021          BYJU’S              Edu-tech   \n",
       "1    05/04/2021          Meesho            E-commerce   \n",
       "2    14/04/2021          Swiggy  Online Food Delivery   \n",
       "3    07/04/2021           Groww               FinTech   \n",
       "4    14/04/2021         Beldara            E-commerce   \n",
       "..          ...             ...                   ...   \n",
       "387  09/07/2018        zippserv     Consumer Internet   \n",
       "388  09/07/2018           Groww     Consumer Internet   \n",
       "389  10/07/2018   Avenue Growth     Consumer Internet   \n",
       "390  10/07/2018           iNICU            Healthcare   \n",
       "391  10/07/2018  Kinara Capital               Finance   \n",
       "\n",
       "                                             INVESTORS      INVESTMENT_TYPE  \\\n",
       "0                                      Innoven Capital             Series F   \n",
       "1                               SoftBank Vision Fund 2             Series E   \n",
       "2    Amansa Holdings, Carmignac, Falcon Edge Capita...             Series J   \n",
       "3           MC Global Edtech, B Capital, Baron, others             Series D   \n",
       "4                             Hindustan Media Ventures              Venture   \n",
       "..                                                 ...                  ...   \n",
       "387                              Info Edge (India) Ltd  Seed/ Angel Funding   \n",
       "388  Insignia Ventures Partners, Lightbridge Partne...  Seed/ Angel Funding   \n",
       "389  Avtar Monga, chief operating office at IDFC Ba...  Seed/ Angel Funding   \n",
       "390                                  Venture Catalysts  Seed/ Angel Funding   \n",
       "391                                     ResponsAbility       Private Equity   \n",
       "\n",
       "    AMOUNT(IN RS)  \n",
       "0     460,000,000  \n",
       "1     300,000,000  \n",
       "2     343,000,000  \n",
       "3      83,000,000  \n",
       "4       7,400,000  \n",
       "..            ...  \n",
       "387       440,000  \n",
       "388     1,100,000  \n",
       "389       437,000  \n",
       "390           N/A  \n",
       "391     5,000,000  \n",
       "\n",
       "[392 rows x 6 columns]"
      ]
     },
     "execution_count": 416,
     "metadata": {},
     "output_type": "execute_result"
    }
   ],
   "source": [
    "df3=pd.DataFrame({'DATE':date, 'COMPANY_NAME':company, 'INDUSTRY':industry, 'INVESTORS':investor_name, 'INVESTMENT_TYPE':investment_type, 'AMOUNT(IN RS)':amount})\n",
    "df3"
   ]
  },
  {
   "cell_type": "code",
   "execution_count": 417,
   "id": "d386051b",
   "metadata": {},
   "outputs": [],
   "source": [
    "driver.close()"
   ]
  },
  {
   "cell_type": "markdown",
   "id": "a3558ae8",
   "metadata": {},
   "source": [
    "# 7.\tWrite a program to scrap all the available details of best gaming laptops from digit.in. "
   ]
  },
  {
   "cell_type": "code",
   "execution_count": 3,
   "id": "876bb02a",
   "metadata": {},
   "outputs": [],
   "source": [
    "# First connect to the driver\n",
    "driver = webdriver.Chrome(\"C:\\\\Users\\\\hp\\Desktop\\\\task\\\\driver\\\\chromedriver.exe\")\n",
    "driver.maximize_window()"
   ]
  },
  {
   "cell_type": "code",
   "execution_count": 4,
   "id": "729fc898",
   "metadata": {},
   "outputs": [],
   "source": [
    "# opening the digit.in  page and automated chrome browser\n",
    "driver.get(\"https://www.digit.in/top-products/best-gaming-laptops-40.html\")\n",
    "time.sleep(5)"
   ]
  },
  {
   "cell_type": "code",
   "execution_count": 40,
   "id": "7e682a73",
   "metadata": {},
   "outputs": [],
   "source": [
    "# empty list\n",
    "\n",
    "brand=[]\n",
    "description=[]\n",
    "specification=[]\n",
    "price=[]"
   ]
  },
  {
   "cell_type": "code",
   "execution_count": 29,
   "id": "6790690c",
   "metadata": {},
   "outputs": [],
   "source": [
    "#scraping the laptop brand name \n",
    "try:\n",
    "    \n",
    "    lpt_brand=driver.find_elements(By.XPATH, '//div[@class=\"TopNumbeHeading\"]')\n",
    "    for i in lpt_brand:\n",
    "        brand.append(str(i.text).replace(\"\\n\", \"\")) \n",
    "    \n",
    "except NoSuchElementException:\n",
    "    brand.append('_')"
   ]
  },
  {
   "cell_type": "code",
   "execution_count": 30,
   "id": "d88e7570",
   "metadata": {},
   "outputs": [
    {
     "data": {
      "text/plain": [
       "['1.MSI Titan GT77-12UHS',\n",
       " '3.Acer Predator Triton 500 SE PT516-52s',\n",
       " '4.Omen By HP (16-B1371TX)',\n",
       " '5.Acer Predator Helios 300 AN515-45 (NH.QBRSI.0',\n",
       " '6.MSI Delta 15 (A5EFK-083IN)',\n",
       " '7.Omen By HP (16-C0141AX)',\n",
       " '8.Lenovo Legion 5i Pro (82RF00MGIN)',\n",
       " '9.Alienware M15 R5 Ryzen Edition Icc-C780001win',\n",
       " '10.Lenovo Slim 7 Gen 6 (82K8002JIN)']"
      ]
     },
     "execution_count": 30,
     "metadata": {},
     "output_type": "execute_result"
    }
   ],
   "source": [
    "brand"
   ]
  },
  {
   "cell_type": "code",
   "execution_count": 32,
   "id": "d740d697",
   "metadata": {},
   "outputs": [],
   "source": [
    "#scraping the laptop description \n",
    "try:\n",
    "    \n",
    "    lpt_desc=driver.find_elements(By.XPATH, '//div[@class=\"Section-center\"]')\n",
    "    for i in lpt_desc:\n",
    "        description.append(str(i.text).replace(\"\\n\", \"\")) \n",
    "    \n",
    "except NoSuchElementException:\n",
    "    description.append('_')"
   ]
  },
  {
   "cell_type": "code",
   "execution_count": 33,
   "id": "631497fd",
   "metadata": {},
   "outputs": [
    {
     "data": {
      "text/plain": [
       "['The very best MSI gaming laptop featuring an Intel processor is the MSI TITAN GT77 - 12UHS. This is the top of the line model from MSI’s recent refresh of their entire gaming lineup and is powered by the Intel Core i9-12900HX which is a 16 Core (8P+8E) processor that has 24 threads and a maximum Turbo power of 157 Watts. The graphics card in this laptop is the NVIDIA RTX 3080 Ti and it too sports a high TGP of 175 Watts. This is one of the most powerful CPU+GPU combinations with plenty of thermal headroom to allow it to operate at higher clock speeds for longer time periods. As for the memory, the MSI GT77-12UHS can have up to 128 GB of DDR5 memory but ships with 64 GB DDR5 clocked at 4800 MT/s. Being a 12th Gen machine also means that the motherboard has PCIe Gen 5.0 lanes for storage devices such as M.2 SSDs. The GT77-12UHS has four M.2 slots of which one slot is PCIe Gen 5 whereas the remaining three are PCIe Gen 4 slots. Then there’s also the display, the GT77-12UHS features a massive 17.3-inch IPS-level 4K panel with a 120 Hz refresh rate. So you can actually enjoy all the high frame-rate gameplay that the powerful hardware enables. And the cherry on the cake? A built-in mechanical keyboard with Cherry MX switches. All this hardware comes at a ridiculous price of INR 5,26,990. As of now, this is at the top among the best performing gaming laptops in the world. ...Read MoreMORE SPECIFICATIONSProcessor : 12th Gen Intel Core i9-12900HX 16 core processorDisplay : 17.3″ (3840 x 2160) screen, 120 Hz refresh rateOS : Windows 11 HomeMemory : 64 GB DDR5 RAM & 2 TB SSDGraphics Processor : 16 GB DDR6 NVIDIA GeForce RTX 3080 Ti Graphics cardBody : 397 x 330 x 23 mm dimension & 3.3 kg weight',\n",
       " 'Alienware, the premium gaming brand from Dell has its own reputation for building some of the meanest gaming machines for more than two decades. The best Alienware gaming laptop featuring an Intel processor is the Alienware x17 R2. This thing packs an Intel Core i9-12900HK which is a 14-Core (6P+8E) processor which has 20 Threads. The lower P-Core count helps it hit slightly higher clock speeds but the Max Turbo power is capped at 115W which is less than what the MSI GT77 sports. As for the graphics card, the Alienware x17 R2 also sports an NVIDIA RTX 3080 Ti with the peak TGP set to 175 Watts. The CPU+GPU combination of the Alienware x17 R2 comes close to the MSI GT77. As for the memory, the Alienware x17 R2 ships with 32 GB of DDR5 RAM clocked at 4800 MT/s. The display on the x17 R2 is a 17.3-inch FHD 360 Hz panel compared to the 120 Hz 4K panel on the MSI GT77. You’ll end up seeing higher frame rates on the Alienware x17 R2 without any tearing whereas you’ll see crisper visuals at high frame rates on the MSI GT77. Both make for great experiences. This configuration of the Dell Alienware x17 R2 goes for INR 3,89,990 making it a good gaming laptop to buy in 2022. ...Read MoreMORE SPECIFICATIONSProcessor : 12th Gen Intel Core i9-12900H 14 core processor with 5 GHz clock speedDisplay : 17.3″ (1920 x 1080) screen, 360 Hz refresh rateOS : Windows 11 HomeMemory : 32 GB DDR5 RAM & 1 TB SSDGraphics Processor : 16 GB DDR6 NVIDIA GEFORCE RTX 3080 Ti Graphics cardBody : 299 x 359 x 21 mm dimension & 2.96 kg weightPrice : ₹ 389,990',\n",
       " 'The Predator lineup from Acer has shown great promise for gamers ever since they showcased the Predator 21X a couple of years ago. Keeping its legacy intact and also being the best Acer gaming laptop featuring an Intel processor is the Acer Predator Triton 500 SE. This machine is powered by an Intel Core i7-12700H which is a 14-Core (6P+8E) processor with 20 Threads. And the graphics card in this machine is the NVIDIA RTX 3070 Ti. The TGP isn’t specified but the RTX 3070 Ti generally ships with a TGP of between 105 to 150 Watts. For the memory, it has 32 GB of LPDDR5 memory clocked at 4800 MT/s and the display is a 16-inch 2560x1600 IPS panel sporting a 240 Hz refresh rate. Acer makes some intelligent decisions with the hardware by picking a Core i7 processor and pairing it with a high-end RTX 3070 Ti. The power backup in this machine is a 4-Cell 99 Wh Li-ion battery which is the highest that you can get in a laptop legally for it to be carried on aeroplanes. And if we are to talk about the networking then the Acer Predator Triton 500 SE comes with Killer Wi-Fi 6E 1675s and Gigabit Ethernet. This laptop gives you great gaming performance that comes close to machines that cost twice as much. Speaking of price, the Acer Predator Triton 500 SE PT516-52s is priced at INR 2,29,999 in India. ...Read MoreMORE SPECIFICATIONSProcessor : 12th Gen Intel Core i7-12700H 14 core processor with 3.50 GHz clock speedDisplay : 16″ (2560 x 1600) screen, 240 Hz refresh rateOS : Windows 11 HomeMemory : 32 GB DDR5 RAM & 2 TB SSDGraphics Processor : 8 GB DDR6 NVIDIA GeForce RTXTM 3070 Ti Graphics cardBody : 358 x 262 x 19.9 mm dimension & 2.4 kg weightPrice : ₹ 300,000',\n",
       " 'Omen by HP is a premium gaming lineup which is right up there with their Victus gaming laptops. The best HP gaming laptop with an Intel processor is the Omen by HP (16-B1371TX). Like the Acer Predator, this too is powered by the Intel Core i7-12700H which is a 14-Core (6P+8E) processor with 20 Threads. And the graphics card in this machine is the NVIDIA RTX 3070 Ti. Even the memory is a similar configuration with 32 GB of DDR5 RAM rated for 4800 MT/s. One of the great things about the Omen laptops is that the audio setup is powered by Bang&Olufsen for some really great-sounding audio. For the display, the Omen by HP (16-B1371TX) sports a 16.1-inch 165 Hz 2560x1440 IPS panel that is the best of both worlds, resolution and refresh rate. Moreover, it is also NVIDIA G-Sync certified. The keyboard on the HP Omen (16-B1371TX) features a 4-zone RGB backlighting that adds a bit of pizazz to the overall aesthetic. In a way, the HP Omen (16-B1371TX) checks all the boxes and it does so with a price tag of INR 1,82,999 in India. ...Read MoreMORE SPECIFICATIONSProcessor : 12th Gen Intel Core i7-12700H 14 core processor with 4.7 GHz clock speedDisplay : 16.1″ (2560 x 1440) screenOS : Windows 11 HomeMemory : 8 GB DDR5 RAM & 1 TB SSDGraphics Processor : 8 GB GDDR6 NVIDIA GeForce RTX 3070 Graphics cardBody : 369 x 248 x 23 mm dimension & 2.32 kg weightPrice : ₹ 176,290AVAILABLE ₹ 176,290BUY NOWOFFER10% Instant discount on Citi ICICI Kotak Bank and Rupay debit and credit cards.',\n",
       " 'Acer Predator Helios 300 AN515-45 is the best Acer gaming laptop featuring an AMD processor. It is powered by the AMD Ryzen 9 5900HX which is an 8 Core processor that gives you 16 Threads. AMD’s Ryzen 5000 series processors have broken performance records and set new benchmarks and this is the best mobile processor of the entire series. Acer has paired this with the NVIDIA RTX 3070. Together, the two make for a great combination for gaming. On the memory front, there’s 16 GB of DDR4 RAM clocked at 3200 MT/s. The display on the Acer Predator Helios 300 is a 15.6-inch 2560x1440 IPS panel that is tuned for a refresh rate of 165 Hz. Acer also packs Killer E2600 Ethernet in the Predator Helios 300 for folks who’d like to tweak their network prioritisation settings. The TGP for the RTX 3070 has not been mentioned here but a high TGP RTX 3070 can even best a low TGP RTX 3070 Ti, so there might be a few surprises there. For all these features, the Acer Predator Helios 300 carries a price tag of INR 1,39,990 in India. ...Read MoreMORE SPECIFICATIONSProcessor : AMD Ryzen 9-5900HX 8 core processorDisplay : 15.6″ (2560 x 1440) screen, 165 Hz refresh rateOS : Windows 11 HomeMemory : 16 GB DDR4 RAM & 512 GB SSDGraphics Processor : 8 GB DDR6 NVIDIA GeForce RTX 3070 Graphics cardBody : 363 x 255 x 23.9 mm dimension & 2.4 kg weightPrice : ₹ 172,999Acer Predator Helios 300 AN515-45 (NH.QBRSI.0 AlternativesAcer Aspire 3₹ 20500Acer Swift 7₹ 110000Acer Aspire 5₹ 49790',\n",
       " \"The best MSI gaming laptop with an AMD processor is the MSI Delta 15 A5EFK-083IN. It features the top of the line AMD Ryzen 9 5900 HX which is a great 8-Core / 16-Thread processor for gaming and for the graphics card it has an AMD Radeon RX 6700M. The Radeon RX 6000 series graphics cards are well known for their power efficiency thanks to the efficient 7nm process on which the Radeon RX 6000 GPUs are built on. The RX 6700M, in particular, is a great high-end graphics card and can best even an RTX 3070 considering the TGP ranges of the GPUs. For the memory, the MSI Delta 15 comes with 16 GB of dual-channel DDR4 RAM clocked at 3200 MT/s. Coming to the display, the MSI Delta 15 sports a 15.6-inch FHD IPS-level 240 Hz panel that's geared to take advantage of AMD FreeSync. Even the backup is great with an 82 Wh 4-Cell Li-Ion battery. The keyboard on the Delta 15 is backlit and there's always the MSI Dragon Centre management software to help optimise the way you use the laptop. The MSI Delta 15 A5EFK-083IN retails for INR 1,14,990 in India. ...Read MoreMORE SPECIFICATIONSProcessor : AMD 5th Gen Ryzen 9-5900HX 8 core processor with 3.3GHz clock speedDisplay : 15.6″ (1920 x 1080) screen, 240Hz refresh rateOS : Windows 11 HomeMemory : 16 GB DDR4 RAM & 1 TB SSDGraphics Processor : 10 GB DDR6 AMD Radeon RX 6700M Graphics cardBody : 357 x 247 x 19 mm dimension & 1.9 kg weightPrice : ₹ 188,990MSI Delta 15 (A5EFK-083IN) AlternativesMSI GF63 Thin 9SC-240IN₹ 60990MSI GS63VR Stealth Pro₹ 683486MSI GT73VR 7RF Titan Pro 4K₹ 334990\",\n",
       " 'Another worthy gaming laptop from the Omen lineup from HP is the 16-c0141AX. In fact, it\\'s also the best HP gaming laptop with an AMD Processor. This unit also features the best AMD mobile processor which is the AMD Ryzen 9 5900 HX, an 8-Core / 16-Thread flagship CPU that can make mincemeat of all current AAA video games. And for the graphics, HP has included the AMD Radeon RX 6600M which is very power efficient like most GPUs in the RX 6000 series and often performs better than the NVIDIA RTX 3060. Aside from these there’s 16 GB of DDR4 RAM, and for the display, the Omen by HP (16-c0141AX) has a 16.1-inch 2560x1440 IPS panel and it even has a high refresh rate of 165 Hz. HP introduced the OMEN Tempest Cooling technology for their laptops to improve their cooling. Like other Omen laptops, this model also has an audio solution powered by Bang&Olufsen which is a well-known premium audio brand. The Omen by HP (16-c0141AX) retails for INR 1,34,999 in India. ...Read MoreMORE SPECIFICATIONSProcessor : AMD Ryzen™ 9 5900HX 8 core processor with 3.3 GHz clock speedDisplay : 16.1″ (2560 x 1440) screenOS : Windows 11 HomeMemory : 16 GB DDR4 RAM & 1 TB NVMeGraphics Processor : 8 GB GDDR6 AMD Radeon™ RX 6600M Graphics cardBody : 36.92 x 24.8 x 2.3 mm dimension & 2.3 kg weightPrice : ₹ 124,990AVAILABLE ₹ 124,990BUY NOWOFFERSplit your bill in 3 for free with No Cost EMI. Offer available on products priced ₹5000 & more. Select \"Tata Pay\" on the payment page to avail the offer. T&C apply +4 More Offer(s)See more offer detailssee more prices',\n",
       " 'Lenovo has gone a little mainstream with their gaming laptops and the best Lenovo gaming laptop featuring an Intel processor happens to be the Lenovo Legion 5i Pro (82RF00MGIN). It features the powerful Intel Core i7-12700H which is a 14-Core (6P+8E) processor with 20 Threads. There’s 16 GB of DDR5 RAM rated for 4800 MT/s and the graphics card is the NVIDIA RTX 3060. There’s no mention of the TGP of the card on the official spec sheets. Lenovo offers a 16-inch 2560x1600 IPS panel on the Lenovo Legion 5i Pro and it also has a refresh rate of 165 Hz. While most of the specs might seem a little tame compared to the top laptop on this page, the battery is where Lenovo doesn’t hold back any punches. This machine features an 80 Wh 4-Cell battery which is pretty high among gaming laptops. Then there’s the audio setup which is enhanced by Nahimic’s AI-based audio solution for different sound profiles and some of the features can improve your gaming experience. The Lenovo Legion 5i Pro (82RF00MGIN) is priced at INR 1,64,990 in India. ...Read MoreMORE SPECIFICATIONSProcessor : 12th Gen Intel Core i7-12700H 14 core processor with 2.3 GHz clock speedDisplay : 16″ (2560 x 1600) screen, 165 Hz refresh rateOS : Windows 11 HomeMemory : 16 GB DDR5 RAM & 1 TB SSDGraphics Processor : 6 GB DDR6 NVIDIA GeForce RTX 3060 Graphics cardBody : 360 x 264 x 20 mm dimension & 2.49 kg weightPrice : ₹ 168,500AVAILABLE ₹ 168,500BUY NOWOFFER10% Instant discount on Citi ICICI Kotak Bank and Rupay debit and credit cards.',\n",
       " 'Dell not only has gaming laptops under the Dell Gaming brand but also under the Alienware brand. Together, both of them make up for a diverse set of configurations featuring the best hardware that money can buy. If you’re looking for the best Alienware gaming laptop with an AMD processor then the aptly named Alienware m15 R5 Ryzen Edition should be first on your list. This machine features the AMD Ryzen 7 5800H which is an 8-Core / 16-Thread CPU and for the graphics bit, it has an NVIDIA RTX 3060. Being an Alienware machine, you can safely assume that the TGP on the RTX 3060 will be scaled to its maximum allowed limits. As for the networking bit, the Alienware m15 R5 Ryzen Edition comes with Killer Wireless Wi-Fi 6E (1650) which is a top-tier Wi-Fi card that allows you to prioritise networking traffic so that your online gaming experience remains unhampered. As for the display, the Alienware m15 R5 Ryzen Edition comes with a 15.6-inch FHD panel tweaked for a refresh rate of 165 Hz. The Alienware m15 R5 Ryzen Edition retails for INR 1,44,989 in India. ...Read MoreMORE SPECIFICATIONSProcessor : AMD Ryzen R7-5800H 8 core processor with 4.40 GHz clock speedDisplay : 15.6″ (1920 x 1080) screen, 165Hz refresh rateOS : Windows 11 HomeMemory : 16 GB DDR4 RAM & 512 GB SSDGraphics Processor : 6 GB DDR6 NVIDIA GeForce RTX 3060 Graphics cardBody : 356.2 x 272.5 x 22.85 mm dimension & 2.69 kg weightPrice : ₹ 144,990AVAILABLE ₹ 144,990BUY NOWOFFERGet up to ₹3000 instant discount on Netbanking payments +4 More Offer(s)see more prices',\n",
       " 'Lenovo has been pushing for thinner gaming laptops and the fruits of their labour can be clearly seen in the Lenovo Slim 7 Gen 6 gaming laptop. It is the best Lenovo gaming laptop featuring AMD hardware. For the processor it has an AMD Ryzen 7 5800H which is an 8-Core / 16-Thread CPU similar to the Ryzen 9 5900HX but with a lower TDP cap and slightly lower clock speeds. Nevertheless, for gaming, it’s a great processor. The Ryzen 7 5800H is clubbed with the NVIDIA RTX 3060 and there’s even 16 GB of DDR4 RAM clocked at 3200 MT/s. Like the other Lenovo machine in this list, even the Lenovo Slim 7 Gen 6 comes with a 15.6-inch 2560x1440 IPS panel sporting a 165 Hz refresh rate. And it is also certified to work with NVIDIA G-Sync technology. The thin chassis of the Lenovo Slim 7 Gen 6 is made with a combination of aluminium and magnesium for a solid finish and the chassis also doubles up as a passive heat sink. For the power backup, the Lenovo Slim 7 Gen 6 features a 71 Wh 4-Cell Lithium Ion battery. Gamers can find the Lenovo Slim 7 Gen 6 retailing for INR 1,44,990 in India. ...Read MoreMORE SPECIFICATIONSProcessor : Lenovo Ryzen 7-5800H processor with 3.2 GHz clock speedDisplay : 15.6″ screen, 165 Hz refresh rateOS : Windows 11 HomeMemory : 16 GB DDR4 RAM & 1 TB SSDGraphics Processor : 6 GB DDR6 NVIDIA GeForce 3060 Max-Q Graphics cardBody : 356 x 252 x 16 mm dimension & 1.9 kg weightPrice : ₹ 131,990AVAILABLE ₹ 131,990BUY NOWOFFERSplit your bill in 3 for free with No Cost EMI. Offer available on products priced ₹5000 & more. Select \"Tata Pay\" on the payment page to avail the offer. T&C apply +4 More Offer(s)see more prices']"
      ]
     },
     "execution_count": 33,
     "metadata": {},
     "output_type": "execute_result"
    }
   ],
   "source": [
    "description"
   ]
  },
  {
   "cell_type": "code",
   "execution_count": 41,
   "id": "e9e89f9e",
   "metadata": {},
   "outputs": [],
   "source": [
    "#scraping the laptop specification \n",
    "try:\n",
    "    \n",
    "    lpt_spec=driver.find_elements(By.XPATH, '//div[@class=\"Specs-Wrap\"]')\n",
    "    for i in lpt_spec:\n",
    "        specification.append(str(i.text).replace(\"\\n\", \"\")) \n",
    "    \n",
    "except NoSuchElementException:\n",
    "    specification.append('_')"
   ]
  },
  {
   "cell_type": "code",
   "execution_count": 42,
   "id": "7af4a73d",
   "metadata": {},
   "outputs": [
    {
     "data": {
      "text/plain": [
       "['Windows 11 Home OS17.3\" (3840 x 2160) Display12th Gen Intel Core i9-12900HX | NA Processor2 TB SSD/64 GB DDR5 Memory',\n",
       " 'Windows 11 Home OS17.3\" (1920 x 1080) Display12th Gen Intel Core i9-12900H | 5 GHz Processor1 TB SSD/32 GB DDR5 Memory',\n",
       " 'Windows 11 Home OS16\" (2560 x 1600) Display12th Gen Intel Core i7-12700H | 3.50 GHz Processor2 TB SSD/32 GB DDR5 Memory',\n",
       " 'Windows 11 Home OS16.1\" (2560 x 1440) Display12th Gen Intel Core i7-12700H | 4.7 GHz Processor1 TB SSD/8 GB DDR5 Memory',\n",
       " 'Windows 11 Home OS15.6\" (2560 x 1440) DisplayAMD Ryzen 9-5900HX | NA Processor512 GB SSD/16 GB DDR4 Memory',\n",
       " 'Windows 11 Home OS15.6\" (1920 x 1080) DisplayAMD 5th Gen Ryzen 9-5900HX | 3.3GHz Processor1 TB SSD/16 GBGB DDR4 Memory',\n",
       " 'Windows 11 Home OS16.1\" (2560 x 1440) DisplayAMD Ryzen™ 9 5900HX | 3.3 GHz Processor1 TB NVMe/16 GB DDR4 Memory',\n",
       " 'Windows 11 Home OS16\" (2560 x 1600) Display12th Gen Intel Core i7-12700H | 2.3 GHz Processor1 TB SSD/16 GB DDR5 Memory',\n",
       " 'Windows 11 Home OS15.6\" (1920 x 1080) DisplayAMD Ryzen R7-5800H | 4.40 GHz Processor512 GB SSD/16 GB DDR4 Memory',\n",
       " 'Windows 11 Home OS15.6 MP | NA DisplayLenovo Ryzen 7-5800H | 3.2 GHz Processor1 TB SSD/16 GB DDR4 Memory']"
      ]
     },
     "execution_count": 42,
     "metadata": {},
     "output_type": "execute_result"
    }
   ],
   "source": [
    "specification"
   ]
  },
  {
   "cell_type": "code",
   "execution_count": 43,
   "id": "111e6d01",
   "metadata": {},
   "outputs": [],
   "source": [
    "#scraping the laptop price\n",
    "try:\n",
    "    \n",
    "    lpt_price=driver.find_elements(By.XPATH, '//td[@class=\"smprice\"]')\n",
    "    for i in lpt_price:\n",
    "        price.append(str(i.text).replace(\"\\n\", \"\")) \n",
    "    \n",
    "except NoSuchElementException:\n",
    "    price.append('_')"
   ]
  },
  {
   "cell_type": "code",
   "execution_count": 44,
   "id": "bf4b8047",
   "metadata": {},
   "outputs": [
    {
     "data": {
      "text/plain": [
       "['N/A',\n",
       " '₹ 389,990',\n",
       " '₹ 300,000',\n",
       " '₹ 176,290',\n",
       " '₹ 172,999',\n",
       " '₹ 188,990',\n",
       " '₹ 124,990',\n",
       " '₹ 168,500',\n",
       " '₹ 144,990',\n",
       " '₹ 131,990']"
      ]
     },
     "execution_count": 44,
     "metadata": {},
     "output_type": "execute_result"
    }
   ],
   "source": [
    "price"
   ]
  },
  {
   "cell_type": "code",
   "execution_count": 45,
   "id": "44c7842b",
   "metadata": {},
   "outputs": [],
   "source": [
    "driver.close()"
   ]
  },
  {
   "cell_type": "markdown",
   "id": "c11a387e",
   "metadata": {},
   "source": [
    "# 8.\tWrite a python program to scrape the details for all billionaires from www.forbes.com. Details to be scrapped: “Rank”, “Name”, “Net worth”, “Age”, “Citizenship”, “Source”, “Industry”. "
   ]
  },
  {
   "cell_type": "code",
   "execution_count": 103,
   "id": "0e12b8aa",
   "metadata": {},
   "outputs": [],
   "source": [
    "# First connect to the driver\n",
    "driver = webdriver.Chrome(\"C:\\\\Users\\\\hp\\Desktop\\\\task\\\\driver\\\\chromedriver.exe\")\n",
    "driver.maximize_window()"
   ]
  },
  {
   "cell_type": "code",
   "execution_count": 104,
   "id": "c8521e03",
   "metadata": {},
   "outputs": [],
   "source": [
    "# opening the forbes.com  page and automated chrome browser\n",
    "driver.get(\"https://www.forbes.com/billionaires/\")\n",
    "time.sleep(5)"
   ]
  },
  {
   "cell_type": "code",
   "execution_count": 105,
   "id": "6b28b496",
   "metadata": {},
   "outputs": [],
   "source": [
    "# empty list\n",
    "\n",
    "name=[]\n",
    "rank=[]\n",
    "net_worth=[]\n",
    "age=[]\n",
    "country=[]\n",
    "industry=[]\n",
    "source=[]\n"
   ]
  },
  {
   "cell_type": "code",
   "execution_count": 106,
   "id": "7cd66589",
   "metadata": {},
   "outputs": [],
   "source": [
    "#scraping the rank of billionaries\n",
    "try:\n",
    "    \n",
    "    b_rank=driver.find_elements(By.XPATH, '//div[@class=\"rank\"]')\n",
    "    for i in b_rank[0:15]:\n",
    "        rank.append(i.text) \n",
    "    \n",
    "except NoSuchElementException:\n",
    "    rank.append('_')"
   ]
  },
  {
   "cell_type": "code",
   "execution_count": 107,
   "id": "0b544f23",
   "metadata": {},
   "outputs": [],
   "source": [
    "#rank"
   ]
  },
  {
   "cell_type": "code",
   "execution_count": 108,
   "id": "79a71dc4",
   "metadata": {},
   "outputs": [],
   "source": [
    "#scraping the name of billionaries\n",
    "try:\n",
    "    \n",
    "    b_name=driver.find_elements(By.XPATH, '//div[@class=\"personName\"]')\n",
    "    for i in b_name[0:15]:\n",
    "        name.append(i.text) \n",
    "    \n",
    "except NoSuchElementException:\n",
    "    name.append('_')"
   ]
  },
  {
   "cell_type": "code",
   "execution_count": 109,
   "id": "13304a14",
   "metadata": {},
   "outputs": [],
   "source": [
    "#name"
   ]
  },
  {
   "cell_type": "code",
   "execution_count": 110,
   "id": "84527936",
   "metadata": {},
   "outputs": [],
   "source": [
    "#scraping the net worth income of billionaries\n",
    "\n",
    "try:\n",
    "    \n",
    "    b_nworth=driver.find_elements(By.XPATH, '//div[@class=\"netWorth\"]')\n",
    "    for i in b_nworth[0:15]:\n",
    "        net_worth.append(i.text) \n",
    "    \n",
    "except NoSuchElementException:\n",
    "    net_worth.append('_')"
   ]
  },
  {
   "cell_type": "code",
   "execution_count": 111,
   "id": "f54704ab",
   "metadata": {},
   "outputs": [],
   "source": [
    "#net_worth"
   ]
  },
  {
   "cell_type": "code",
   "execution_count": 112,
   "id": "5677ffc9",
   "metadata": {},
   "outputs": [],
   "source": [
    "#scraping an age of billionaries\n",
    "\n",
    "try:\n",
    "    \n",
    "    b_age=driver.find_elements(By.XPATH, '//div[@class=\"age\"]//div')\n",
    "    for i in b_age[0:15]:\n",
    "        age.append(i.text) \n",
    "    \n",
    "except NoSuchElementException:\n",
    "    age.append('_')"
   ]
  },
  {
   "cell_type": "code",
   "execution_count": 113,
   "id": "75cce412",
   "metadata": {},
   "outputs": [
    {
     "data": {
      "text/plain": [
       "['50',\n",
       " '58',\n",
       " '73',\n",
       " '66',\n",
       " '91',\n",
       " '49',\n",
       " '48',\n",
       " '77',\n",
       " '66',\n",
       " '64',\n",
       " '59',\n",
       " '80',\n",
       " '82',\n",
       " '68',\n",
       " '37']"
      ]
     },
     "execution_count": 113,
     "metadata": {},
     "output_type": "execute_result"
    }
   ],
   "source": [
    "age"
   ]
  },
  {
   "cell_type": "code",
   "execution_count": 114,
   "id": "47f0f612",
   "metadata": {},
   "outputs": [],
   "source": [
    "#scraping the country of billionaries\n",
    "\n",
    "try:\n",
    "    \n",
    "    b_country=driver.find_elements(By.XPATH, '//div[@class=\"countryOfCitizenship\"]')\n",
    "    for i in b_country[0:15]:\n",
    "        country.append(i.text) \n",
    "    \n",
    "except NoSuchElementException:\n",
    "    country.append('_')"
   ]
  },
  {
   "cell_type": "code",
   "execution_count": 115,
   "id": "1f0e0558",
   "metadata": {},
   "outputs": [],
   "source": [
    "#scraping the industry of billionaries\n",
    "\n",
    "try:\n",
    "    \n",
    "    b_industry=driver.find_elements(By.XPATH, '//div[@class=\"category\"]')\n",
    "    for i in b_industry[0:15]:\n",
    "        industry.append(i.text) \n",
    "    \n",
    "except NoSuchElementException:\n",
    "    industry.append('_')"
   ]
  },
  {
   "cell_type": "code",
   "execution_count": 116,
   "id": "e86b8321",
   "metadata": {},
   "outputs": [
    {
     "data": {
      "text/plain": [
       "['United States',\n",
       " 'United States',\n",
       " 'France',\n",
       " 'United States',\n",
       " 'United States',\n",
       " 'United States',\n",
       " 'United States',\n",
       " 'United States',\n",
       " 'United States',\n",
       " 'India',\n",
       " 'India',\n",
       " 'United States',\n",
       " 'Mexico',\n",
       " 'France',\n",
       " 'United States']"
      ]
     },
     "execution_count": 116,
     "metadata": {},
     "output_type": "execute_result"
    }
   ],
   "source": [
    "country"
   ]
  },
  {
   "cell_type": "code",
   "execution_count": 117,
   "id": "ee3f0912",
   "metadata": {},
   "outputs": [
    {
     "data": {
      "text/plain": [
       "['Automotive',\n",
       " 'Technology',\n",
       " 'Fashion & Retail',\n",
       " 'Technology',\n",
       " 'Finance & Investments',\n",
       " 'Technology',\n",
       " 'Technology',\n",
       " 'Technology',\n",
       " 'Technology',\n",
       " 'Diversified',\n",
       " 'Diversified',\n",
       " 'Media & Entertainment',\n",
       " 'Telecom',\n",
       " 'Fashion & Retail',\n",
       " 'Technology']"
      ]
     },
     "execution_count": 117,
     "metadata": {},
     "output_type": "execute_result"
    }
   ],
   "source": [
    "industry"
   ]
  },
  {
   "cell_type": "code",
   "execution_count": 118,
   "id": "de3fd272",
   "metadata": {},
   "outputs": [],
   "source": [
    "#scraping the source of billionaries\n",
    "\n",
    "try:\n",
    "    \n",
    "    b_source=driver.find_elements(By.XPATH, '//span[@class=\"source-text\"]')\n",
    "    for i in b_source[0:15]:\n",
    "        source.append(i.text) \n",
    "    \n",
    "except NoSuchElementException:\n",
    "    source.append('_')"
   ]
  },
  {
   "cell_type": "code",
   "execution_count": 119,
   "id": "f9b64115",
   "metadata": {},
   "outputs": [
    {
     "data": {
      "text/plain": [
       "['Tesla, SpaceX',\n",
       " 'Amazon',\n",
       " 'LVMH',\n",
       " 'Microsoft',\n",
       " 'Berkshire Hathaway',\n",
       " 'Google',\n",
       " 'Google',\n",
       " 'software',\n",
       " 'Microsoft',\n",
       " 'diversified',\n",
       " 'infrastructure, commodities',\n",
       " 'Bloomberg LP',\n",
       " 'telecom',\n",
       " \"L'Oréal\",\n",
       " 'Facebook']"
      ]
     },
     "execution_count": 119,
     "metadata": {},
     "output_type": "execute_result"
    }
   ],
   "source": [
    "source"
   ]
  },
  {
   "cell_type": "code",
   "execution_count": 120,
   "id": "8f3ac905",
   "metadata": {},
   "outputs": [
    {
     "data": {
      "text/html": [
       "<div>\n",
       "<style scoped>\n",
       "    .dataframe tbody tr th:only-of-type {\n",
       "        vertical-align: middle;\n",
       "    }\n",
       "\n",
       "    .dataframe tbody tr th {\n",
       "        vertical-align: top;\n",
       "    }\n",
       "\n",
       "    .dataframe thead th {\n",
       "        text-align: right;\n",
       "    }\n",
       "</style>\n",
       "<table border=\"1\" class=\"dataframe\">\n",
       "  <thead>\n",
       "    <tr style=\"text-align: right;\">\n",
       "      <th></th>\n",
       "      <th>RANK</th>\n",
       "      <th>NAME</th>\n",
       "      <th>AGE</th>\n",
       "      <th>COUNTRY</th>\n",
       "      <th>INDUSTRY</th>\n",
       "      <th>SOURCE</th>\n",
       "      <th>NET_WORTH</th>\n",
       "    </tr>\n",
       "  </thead>\n",
       "  <tbody>\n",
       "    <tr>\n",
       "      <th>0</th>\n",
       "      <td>1.</td>\n",
       "      <td>Elon Musk</td>\n",
       "      <td>50</td>\n",
       "      <td>United States</td>\n",
       "      <td>Automotive</td>\n",
       "      <td>Tesla, SpaceX</td>\n",
       "      <td>$219 B</td>\n",
       "    </tr>\n",
       "    <tr>\n",
       "      <th>1</th>\n",
       "      <td>2.</td>\n",
       "      <td>Jeff Bezos</td>\n",
       "      <td>58</td>\n",
       "      <td>United States</td>\n",
       "      <td>Technology</td>\n",
       "      <td>Amazon</td>\n",
       "      <td>$171 B</td>\n",
       "    </tr>\n",
       "    <tr>\n",
       "      <th>2</th>\n",
       "      <td>3.</td>\n",
       "      <td>Bernard Arnault &amp; family</td>\n",
       "      <td>73</td>\n",
       "      <td>France</td>\n",
       "      <td>Fashion &amp; Retail</td>\n",
       "      <td>LVMH</td>\n",
       "      <td>$158 B</td>\n",
       "    </tr>\n",
       "    <tr>\n",
       "      <th>3</th>\n",
       "      <td>4.</td>\n",
       "      <td>Bill Gates</td>\n",
       "      <td>66</td>\n",
       "      <td>United States</td>\n",
       "      <td>Technology</td>\n",
       "      <td>Microsoft</td>\n",
       "      <td>$129 B</td>\n",
       "    </tr>\n",
       "    <tr>\n",
       "      <th>4</th>\n",
       "      <td>5.</td>\n",
       "      <td>Warren Buffett</td>\n",
       "      <td>91</td>\n",
       "      <td>United States</td>\n",
       "      <td>Finance &amp; Investments</td>\n",
       "      <td>Berkshire Hathaway</td>\n",
       "      <td>$118 B</td>\n",
       "    </tr>\n",
       "    <tr>\n",
       "      <th>5</th>\n",
       "      <td>6.</td>\n",
       "      <td>Larry Page</td>\n",
       "      <td>49</td>\n",
       "      <td>United States</td>\n",
       "      <td>Technology</td>\n",
       "      <td>Google</td>\n",
       "      <td>$111 B</td>\n",
       "    </tr>\n",
       "    <tr>\n",
       "      <th>6</th>\n",
       "      <td>7.</td>\n",
       "      <td>Sergey Brin</td>\n",
       "      <td>48</td>\n",
       "      <td>United States</td>\n",
       "      <td>Technology</td>\n",
       "      <td>Google</td>\n",
       "      <td>$107 B</td>\n",
       "    </tr>\n",
       "    <tr>\n",
       "      <th>7</th>\n",
       "      <td>8.</td>\n",
       "      <td>Larry Ellison</td>\n",
       "      <td>77</td>\n",
       "      <td>United States</td>\n",
       "      <td>Technology</td>\n",
       "      <td>software</td>\n",
       "      <td>$106 B</td>\n",
       "    </tr>\n",
       "    <tr>\n",
       "      <th>8</th>\n",
       "      <td>9.</td>\n",
       "      <td>Steve Ballmer</td>\n",
       "      <td>66</td>\n",
       "      <td>United States</td>\n",
       "      <td>Technology</td>\n",
       "      <td>Microsoft</td>\n",
       "      <td>$91.4 B</td>\n",
       "    </tr>\n",
       "    <tr>\n",
       "      <th>9</th>\n",
       "      <td>10.</td>\n",
       "      <td>Mukesh Ambani</td>\n",
       "      <td>64</td>\n",
       "      <td>India</td>\n",
       "      <td>Diversified</td>\n",
       "      <td>diversified</td>\n",
       "      <td>$90.7 B</td>\n",
       "    </tr>\n",
       "    <tr>\n",
       "      <th>10</th>\n",
       "      <td>11.</td>\n",
       "      <td>Gautam Adani</td>\n",
       "      <td>59</td>\n",
       "      <td>India</td>\n",
       "      <td>Diversified</td>\n",
       "      <td>infrastructure, commodities</td>\n",
       "      <td>$90 B</td>\n",
       "    </tr>\n",
       "    <tr>\n",
       "      <th>11</th>\n",
       "      <td>12.</td>\n",
       "      <td>Michael Bloomberg</td>\n",
       "      <td>80</td>\n",
       "      <td>United States</td>\n",
       "      <td>Media &amp; Entertainment</td>\n",
       "      <td>Bloomberg LP</td>\n",
       "      <td>$82 B</td>\n",
       "    </tr>\n",
       "    <tr>\n",
       "      <th>12</th>\n",
       "      <td>13.</td>\n",
       "      <td>Carlos Slim Helu &amp; family</td>\n",
       "      <td>82</td>\n",
       "      <td>Mexico</td>\n",
       "      <td>Telecom</td>\n",
       "      <td>telecom</td>\n",
       "      <td>$81.2 B</td>\n",
       "    </tr>\n",
       "    <tr>\n",
       "      <th>13</th>\n",
       "      <td>14.</td>\n",
       "      <td>Francoise Bettencourt Meyers &amp; family</td>\n",
       "      <td>68</td>\n",
       "      <td>France</td>\n",
       "      <td>Fashion &amp; Retail</td>\n",
       "      <td>L'Oréal</td>\n",
       "      <td>$74.8 B</td>\n",
       "    </tr>\n",
       "    <tr>\n",
       "      <th>14</th>\n",
       "      <td>15.</td>\n",
       "      <td>Mark Zuckerberg</td>\n",
       "      <td>37</td>\n",
       "      <td>United States</td>\n",
       "      <td>Technology</td>\n",
       "      <td>Facebook</td>\n",
       "      <td>$67.3 B</td>\n",
       "    </tr>\n",
       "  </tbody>\n",
       "</table>\n",
       "</div>"
      ],
      "text/plain": [
       "   RANK                                   NAME AGE        COUNTRY  \\\n",
       "0    1.                              Elon Musk  50  United States   \n",
       "1    2.                             Jeff Bezos  58  United States   \n",
       "2    3.               Bernard Arnault & family  73         France   \n",
       "3    4.                             Bill Gates  66  United States   \n",
       "4    5.                         Warren Buffett  91  United States   \n",
       "5    6.                             Larry Page  49  United States   \n",
       "6    7.                            Sergey Brin  48  United States   \n",
       "7    8.                          Larry Ellison  77  United States   \n",
       "8    9.                          Steve Ballmer  66  United States   \n",
       "9   10.                          Mukesh Ambani  64          India   \n",
       "10  11.                           Gautam Adani  59          India   \n",
       "11  12.                      Michael Bloomberg  80  United States   \n",
       "12  13.              Carlos Slim Helu & family  82         Mexico   \n",
       "13  14.  Francoise Bettencourt Meyers & family  68         France   \n",
       "14  15.                        Mark Zuckerberg  37  United States   \n",
       "\n",
       "                 INDUSTRY                       SOURCE NET_WORTH  \n",
       "0              Automotive                Tesla, SpaceX    $219 B  \n",
       "1              Technology                       Amazon    $171 B  \n",
       "2        Fashion & Retail                         LVMH    $158 B  \n",
       "3              Technology                    Microsoft    $129 B  \n",
       "4   Finance & Investments           Berkshire Hathaway    $118 B  \n",
       "5              Technology                       Google    $111 B  \n",
       "6              Technology                       Google    $107 B  \n",
       "7              Technology                     software    $106 B  \n",
       "8              Technology                    Microsoft   $91.4 B  \n",
       "9             Diversified                  diversified   $90.7 B  \n",
       "10            Diversified  infrastructure, commodities     $90 B  \n",
       "11  Media & Entertainment                 Bloomberg LP     $82 B  \n",
       "12                Telecom                      telecom   $81.2 B  \n",
       "13       Fashion & Retail                      L'Oréal   $74.8 B  \n",
       "14             Technology                     Facebook   $67.3 B  "
      ]
     },
     "execution_count": 120,
     "metadata": {},
     "output_type": "execute_result"
    }
   ],
   "source": [
    "df4=pd.DataFrame({'RANK':rank, 'NAME':name, 'AGE':age, 'COUNTRY':country, 'INDUSTRY':industry, 'SOURCE':source, 'NET_WORTH':net_worth})\n",
    "df4"
   ]
  },
  {
   "cell_type": "code",
   "execution_count": 121,
   "id": "38e9e59c",
   "metadata": {},
   "outputs": [],
   "source": [
    "driver.close()"
   ]
  },
  {
   "cell_type": "markdown",
   "id": "be2f7894",
   "metadata": {},
   "source": [
    "# 9.\tWrite a program to extract at least 500 Comments, Comment upvote and time when comment was posted from any YouTube Video. "
   ]
  },
  {
   "cell_type": "code",
   "execution_count": 122,
   "id": "4a2d4fa2",
   "metadata": {},
   "outputs": [],
   "source": [
    "# First connect to the driver\n",
    "driver = webdriver.Chrome(\"C:\\\\Users\\\\hp\\Desktop\\\\task\\\\driver\\\\chromedriver.exe\")\n",
    "driver.maximize_window()"
   ]
  },
  {
   "cell_type": "code",
   "execution_count": 124,
   "id": "3354b47c",
   "metadata": {},
   "outputs": [],
   "source": [
    "# opening the forbes.com  page and automated chrome browser\n",
    "driver.get(\"https://www.youtube.com/watch?v=g6fnFALEseI\")\n",
    "time.sleep(5)"
   ]
  },
  {
   "cell_type": "code",
   "execution_count": 143,
   "id": "7aced0a5",
   "metadata": {},
   "outputs": [],
   "source": [
    "comment=[]\n",
    "\n",
    "\n",
    "try:\n",
    "    \n",
    "    comm=driver.find_elements(By.XPATH, '//div[@class=\"style-scope ytd-comment-renderer\"]')\n",
    "    for i in comm[0:500]:\n",
    "        comment.append(str(i.text).replace(\"\\n\", '')) \n",
    "        \n",
    "    \n",
    "except NoSuchElementException:\n",
    "    comment.append('_')"
   ]
  },
  {
   "cell_type": "code",
   "execution_count": 144,
   "id": "6a14a40b",
   "metadata": {},
   "outputs": [
    {
     "data": {
      "text/plain": [
       "418"
      ]
     },
     "execution_count": 144,
     "metadata": {},
     "output_type": "execute_result"
    }
   ],
   "source": [
    "len(comment)"
   ]
  },
  {
   "cell_type": "code",
   "execution_count": 146,
   "id": "4acaa63c",
   "metadata": {},
   "outputs": [
    {
     "name": "stdout",
     "output_type": "stream",
     "text": [
      "['', '', 'Amol Kadam1 day agolovely song18REPLY', '', 'Amol Kadam1 day agolovely song18REPLY', 'Amol Kadam1 day ago', '', 'Amol Kadam1 day ago', 'lovely song', '', '', '', '', 'Yash Tiwari23 hours agoI love this song 8REPLY', '', 'Yash Tiwari23 hours agoI love this song 8REPLY', 'Yash Tiwari23 hours ago', '', 'Yash Tiwari23 hours ago', 'I love this song ', '', '', '', '', 'Shahmeer khan1 day agoSong of the last two years ️8REPLY', '', 'Shahmeer khan1 day agoSong of the last two years ️8REPLY', 'Shahmeer khan1 day ago', '', 'Shahmeer khan1 day ago', 'Song of the last two years ️', '', '', '', '', 'Rai Lodh16 hours agoLovely lyrics ️1REPLY', '', 'Rai Lodh16 hours agoLovely lyrics ️1REPLY', 'Rai Lodh16 hours ago', '', 'Rai Lodh16 hours ago', 'Lovely lyrics ️', '', '', '', '', 'Salman Khan1 day agoKya voice hai arjit sing 6REPLY', '', 'Salman Khan1 day agoKya voice hai arjit sing 6REPLY', 'Salman Khan1 day ago', '', 'Salman Khan1 day ago', 'Kya voice hai arjit sing ', '', '', '', '', 'Dhanjit Deka1 day agoArjitastra always give us goosebumps ️ Chanda bhi dewana hain Tera... Ranbir Alia nailed it 23REPLY', '', 'Dhanjit Deka1 day agoArjitastra always give us goosebumps ️ Chanda bhi dewana hain Tera... Ranbir Alia nailed it 23REPLY', 'Dhanjit Deka1 day ago', '', 'Dhanjit Deka1 day ago', 'Arjitastra always give us goosebumps ️ Chanda bhi dewana hain Tera... Ranbir Alia nailed it ', '', '', '', '', 'Ajakeys - Topic2 months agoMusic gives a soul to the universe, wings to the mind, flight to the imagination and life to everything193REPLY', '', 'Ajakeys - Topic2 months agoMusic gives a soul to the universe, wings to the mind, flight to the imagination and life to everything193REPLY', 'Ajakeys - Topic2 months ago', '', 'Ajakeys - Topic2 months ago', 'Music gives a soul to the universe, wings to the mind, flight to the imagination and life to everything', '', '', '', '', 'FIRE BOSS2 hours agoFantastic song 1REPLY', '', 'FIRE BOSS2 hours agoFantastic song 1REPLY', 'FIRE BOSS2 hours ago', '', 'FIRE BOSS2 hours ago', 'Fantastic song ', '', '', '', '', 'New Hindi Songs 🧡8 days agoArijit is not just a singer,He is a emotion for millions hearts186REPLY', '', 'New Hindi Songs 🧡8 days agoArijit is not just a singer,He is a emotion for millions hearts186REPLY', 'New Hindi Songs 🧡8 days ago', '', 'New Hindi Songs 🧡8 days ago', 'Arijit is not just a singer,He is a emotion for millions hearts', '', '', '', '', '2X KAPTAN1 day agoSo so so beautiful  song4REPLY', '', '2X KAPTAN1 day agoSo so so beautiful  song4REPLY', '2X KAPTAN1 day ago', '', '2X KAPTAN1 day ago', 'So so so beautiful  song', '', '', '', '', 'Chadmony Khatun2 weeks agoJust 15 seconds of Arijit singing is enough to melt your heart ️70REPLY', '', 'Chadmony Khatun2 weeks agoJust 15 seconds of Arijit singing is enough to melt your heart ️70REPLY', 'Chadmony Khatun2 weeks ago', '', 'Chadmony Khatun2 weeks ago', 'Just 15 seconds of Arijit singing is enough to melt your heart ️', '', '', '', '', 'SURAJIT SAU1 day agoBeautiful song1REPLY', '', 'SURAJIT SAU1 day agoBeautiful song1REPLY', 'SURAJIT SAU1 day ago', '', 'SURAJIT SAU1 day ago', 'Beautiful song', '', '', '', '', 'Fitness Print2 months agoArijit Singh is the legend of this generation...no words to say.. extremely great song286REPLY', '', 'Fitness Print2 months agoArijit Singh is the legend of this generation...no words to say.. extremely great song286REPLY', 'Fitness Print2 months ago', '', 'Fitness Print2 months ago', 'Arijit Singh is the legend of this generation...no words to say.. extremely great song', '', '', '', '', 'Anitha Bonthapale3 hours agoI love this song my favorite 1REPLY', '', 'Anitha Bonthapale3 hours agoI love this song my favorite 1REPLY', 'Anitha Bonthapale3 hours ago', '', 'Anitha Bonthapale3 hours ago', 'I love this song my favorite ', '', '', '', '', 'Chadmony Khatun13 days agoBollywood is incomplete without Arijit Singh 79REPLY', '', 'Chadmony Khatun13 days agoBollywood is incomplete without Arijit Singh 79REPLY', 'Chadmony Khatun13 days ago', '', 'Chadmony Khatun13 days ago', 'Bollywood is incomplete without Arijit Singh ', '', '', '', '', \"Sk Gaming Offical3 weeks agoHeart touching voice. How melodious Arijits voice is!  There are many stars but he is the pole star. He is a wonder of the world. Arijit's songs have a different feeling. His songs soothe our mind and heart.  Many many respects for Arijit sir. And thanks for giving these  heart touching songs. Read more36REPLY\", '', \"Sk Gaming Offical3 weeks agoHeart touching voice. How melodious Arijits voice is!  There are many stars but he is the pole star. He is a wonder of the world. Arijit's songs have a different feeling. His songs soothe our mind and heart.  Many many respects for Arijit sir. And thanks for giving these  heart touching songs. Read more36REPLY\", 'Sk Gaming Offical3 weeks ago', '', 'Sk Gaming Offical3 weeks ago', \"Heart touching voice. How melodious Arijits voice is!  There are many stars but he is the pole star. He is a wonder of the world. Arijit's songs have a different feeling. His songs soothe our mind and heart.  Many many respects for Arijit sir. And thanks for giving these  heart touching songs. Read more\", '', '', '', '', 'new movie upload2 hours agoI love this song1REPLY', '', 'new movie upload2 hours agoI love this song1REPLY', 'new movie upload2 hours ago', '', 'new movie upload2 hours ago', 'I love this song', '', '', '', '', 'Satyam patel𒊹︎︎︎2 months ago (edited)Arijit Sir voice will rule forever our heart. Gem of music Arijit Sir.A beautiful masterpiece song . This song will be remember for centuries. ️️️109REPLY', '', 'Satyam patel𒊹︎︎︎2 months ago (edited)Arijit Sir voice will rule forever our heart. Gem of music Arijit Sir.A beautiful masterpiece song . This song will be remember for centuries. ️️️109REPLY', 'Satyam patel𒊹︎︎︎2 months ago (edited)', '', 'Satyam patel𒊹︎︎︎2 months ago (edited)', 'Arijit Sir voice will rule forever our heart. Gem of music Arijit Sir.A beautiful masterpiece song . This song will be remember for centuries. ️️️', '', '', '', '', 'Akash Kushawah4 days agoअरिजीत सिंह साहब सिर्फ एक गायक ही नहीं अपितु करोड़ों संगीत प्रेमियों के दिल की भावना है।1REPLY', '', 'Akash Kushawah4 days agoअरिजीत सिंह साहब सिर्फ एक गायक ही नहीं अपितु करोड़ों संगीत प्रेमियों के दिल की भावना है।1REPLY', 'Akash Kushawah4 days ago', '', 'Akash Kushawah4 days ago', 'अरिजीत सिंह साहब सिर्फ एक गायक ही नहीं अपितु करोड़ों संगीत प्रेमियों के दिल की भावना है।', '', '', '', '', '', '', '', '', '', '', '', '', '', '', '', '', '', '', '', '', '', '', '', '', '', '', '', '', '', '', '', '', '', '', '', '', '', '', '', '', '', '', '', '', '', '', '', '', '', '', '', '', '', '', '', '', '', '', '', '', '', '', '', '', '', '', '', '', '', '', '', '', '', '', '', '', '', '', '', '', '', '', '', '', '', '', '', '', '', '', '', '', '', '', '', '', '', '', '', '', '', '', '', '', '', '', '', '', '', '', '', '', '', '', '', '', '', '', '', '', '', '', '', '', '', '', '', '', '', '', '', '', '', '', '', '', '', '', '', '', '', '', '', '', '', '', '', '', '', '', '', '', '', '', '', '', '', '', '', '', '', '', '', '', '', '', '', '', '', '', '', '', '', '', '', '', '', '', '', '', '', '', '', '', '', '', '', '', '', '', '', '', '', '', '', '', '', '', '', '', '', '', '', '', '', '', '', '', '', '', '']\n"
     ]
    }
   ],
   "source": [
    "print(comment)"
   ]
  },
  {
   "cell_type": "code",
   "execution_count": 150,
   "id": "d985200d",
   "metadata": {},
   "outputs": [],
   "source": [
    "time_comm=[]\n",
    "\n",
    "\n",
    "try:\n",
    "    \n",
    "    tim_comm=driver.find_elements(By.XPATH, '//a[@class=\"yt-simple-endpoint style-scope yt-formatted-string\"]')\n",
    "    for i in tim_comm[0:500]:\n",
    "        time_comm.append(str(i.text).replace(\"\\n\", ''))\n",
    "        \n",
    "    \n",
    "except NoSuchElementException:\n",
    "    time_comm.append('_')"
   ]
  },
  {
   "cell_type": "code",
   "execution_count": 151,
   "id": "b1fb33bc",
   "metadata": {},
   "outputs": [
    {
     "name": "stdout",
     "output_type": "stream",
     "text": [
      "['', '', '', '', '', '', '', '', '', '', '', '', '', '', '', '', '', '', '', '', '', '', '', '', '', '', '', '', '', '', '', '', '', '', '', '', '', '', '', '', '', '', '23 minutes ago', '1 hour ago', '1 hour ago', '1 hour ago', '1 hour ago', '2 hours ago', '2 hours ago', '2 hours ago', '2 hours ago', '2 hours ago', '3 hours ago', '3 hours ago', '3 hours ago', '4 hours ago', '4 hours ago', '4 hours ago', 'https://youtube.com/channel/UCbM7Pc7jk565IFGMgTBS2PA', '4 hours ago', 'https://youtube.com/channel/UCbM7Pc7jk565IFGMgTBS2PA', '4 hours ago', 'https://youtube.com/channel/UCbM7Pc7jk565IFGMgTBS2PA', '4 hours ago', 'https://youtube.com/channel/UCbM7Pc7jk565IFGMgTBS2PA', '4 hours ago', '#25 TOP MUSIC VIDEO', 'SonyMusicIndiaVEVO', '#Kesariya', '#Brahmastra', '#amitabhbachchan', '#ranbirkapoor', '#aliabhatt', '#arijitsingh', '#pritam', '#ayanmukerji', '#amitabhbhattacharya', 'Get YouTube Premium', '', '', '', '', '', '', '', '', '', '', '', '', '', '', '', '', '', '', '', '', '', '', '', '', '', '', '', '', '', '', '']\n"
     ]
    }
   ],
   "source": [
    "print(time_comm)"
   ]
  },
  {
   "cell_type": "code",
   "execution_count": 152,
   "id": "30a47e2d",
   "metadata": {},
   "outputs": [],
   "source": [
    "vote=[]\n",
    "\n",
    "\n",
    "try:\n",
    "    \n",
    "    like=driver.find_elements(By.XPATH, '//span[@class=\"style-scope ytd-comment-action-buttons-renderer\"]')\n",
    "    for i in like:\n",
    "        vote.append(str(i.text).replace(\"\\n\", ''))\n",
    "        \n",
    "    \n",
    "except NoSuchElementException:\n",
    "    vote.append('_')"
   ]
  },
  {
   "cell_type": "code",
   "execution_count": 154,
   "id": "a1e1a67d",
   "metadata": {},
   "outputs": [
    {
     "name": "stdout",
     "output_type": "stream",
     "text": [
      "['', '18', '', '8', '', '8', '', '1', '', '6', '', '23', '', '193', '', '1', '', '186', '', '3', '', '2', '', '4', '', '286', '', '70', '', '1', '', '79', '', '1', '', '109', '', '36']\n"
     ]
    }
   ],
   "source": [
    "print(vote)"
   ]
  },
  {
   "cell_type": "code",
   "execution_count": 155,
   "id": "ad0f8f26",
   "metadata": {},
   "outputs": [],
   "source": [
    "driver.close()"
   ]
  },
  {
   "cell_type": "code",
   "execution_count": null,
   "id": "957e4540",
   "metadata": {},
   "outputs": [],
   "source": []
  }
 ],
 "metadata": {
  "kernelspec": {
   "display_name": "Python 3 (ipykernel)",
   "language": "python",
   "name": "python3"
  },
  "language_info": {
   "codemirror_mode": {
    "name": "ipython",
    "version": 3
   },
   "file_extension": ".py",
   "mimetype": "text/x-python",
   "name": "python",
   "nbconvert_exporter": "python",
   "pygments_lexer": "ipython3",
   "version": "3.9.7"
  }
 },
 "nbformat": 4,
 "nbformat_minor": 5
}
