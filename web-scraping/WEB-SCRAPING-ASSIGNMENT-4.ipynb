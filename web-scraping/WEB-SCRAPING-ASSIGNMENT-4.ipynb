{
 "cells": [
  {
   "cell_type": "markdown",
   "id": "148a0425",
   "metadata": {},
   "source": [
    "# WEB SCRAPING – ASSIGNMENT 4"
   ]
  },
  {
   "cell_type": "code",
   "execution_count": 434,
   "id": "0a30adab",
   "metadata": {},
   "outputs": [],
   "source": [
    "import selenium\n",
    "import pandas as pd\n",
    "from selenium import webdriver\n",
    "import warnings\n",
    "warnings.filterwarnings('ignore')\n",
    "from selenium.common.exceptions import StaleElementReferenceException, NoSuchElementException, TimeoutException, ElementNotVisibleException\n",
    "from selenium.webdriver.common.by import By\n",
    "import time\n",
    "import re\n",
    "from bs4 import BeautifulSoup\n",
    "import requests"
   ]
  },
  {
   "cell_type": "markdown",
   "id": "09e92115",
   "metadata": {},
   "source": [
    "# 1. Scrape the details of most viewed videos on YouTube from Wikipedia.\n",
    "Url = https://en.wikipedia.org/wiki/List_of_most-viewed_YouTube_videos\n",
    "You need to find following details:\n",
    "A) Rank\n",
    "B) Name\n",
    "C) Artist\n",
    "D) Upload date\n",
    "E) Views\n"
   ]
  },
  {
   "cell_type": "code",
   "execution_count": 2,
   "id": "dfe89f4f",
   "metadata": {},
   "outputs": [],
   "source": [
    "# First connect to the driver\n",
    "driver = webdriver.Chrome(\"C:\\\\Users\\\\hp\\Desktop\\\\task\\\\driver\\\\chromedriver.exe\")\n",
    "driver.maximize_window()"
   ]
  },
  {
   "cell_type": "code",
   "execution_count": 3,
   "id": "83f2ec5b",
   "metadata": {},
   "outputs": [],
   "source": [
    "# opening the youtube page and automated chrome browser\n",
    "driver.get(\"https://en.wikipedia.org/wiki/List_of_most-viewed_YouTube_videos\")\n",
    "time.sleep(5)"
   ]
  },
  {
   "cell_type": "code",
   "execution_count": 4,
   "id": "1e23ae0e",
   "metadata": {},
   "outputs": [],
   "source": [
    "# create empty list\n",
    "\n",
    "Rank=[]\n",
    "Name=[]\n",
    "Artist=[]\n",
    "Upload_Date=[]\n",
    "Views=[]"
   ]
  },
  {
   "cell_type": "code",
   "execution_count": 5,
   "id": "0c3f8bea",
   "metadata": {},
   "outputs": [],
   "source": [
    "# collecting video rank\n",
    "try:\n",
    "    \n",
    "    rnk=driver.find_elements(By.XPATH, '//table[@class=\"wikitable sortable jquery-tablesorter\"]//td[1]')\n",
    "    for rk in rnk[0:30]:\n",
    "        Rank.append(rk.text.split(' '))\n",
    "        \n",
    "except NoSuchElementException:\n",
    "    Rank.append(\"_\")"
   ]
  },
  {
   "cell_type": "code",
   "execution_count": 6,
   "id": "8fdc693e",
   "metadata": {},
   "outputs": [
    {
     "name": "stdout",
     "output_type": "stream",
     "text": [
      "[['1.'], ['2.'], ['3.'], ['4.'], ['5.'], ['6.'], ['7.'], ['8.'], ['9.'], ['10.'], ['11.'], ['12.'], ['13.'], ['14.'], ['15.'], ['16.'], ['17.'], ['18.'], ['18.'], ['20.'], ['21.'], ['22.'], ['23.'], ['24.'], ['25.'], ['26.'], ['27.'], ['28.'], ['29.'], ['30.']]\n"
     ]
    }
   ],
   "source": [
    "print(Rank)"
   ]
  },
  {
   "cell_type": "code",
   "execution_count": 7,
   "id": "bcda3a3e",
   "metadata": {},
   "outputs": [],
   "source": [
    "# collecting video name\n",
    "try:\n",
    "    \n",
    "    nm=driver.find_elements(By.XPATH, '//table[@class=\"wikitable sortable jquery-tablesorter\"]//td[2]')\n",
    "    for n in nm:\n",
    "        Name.append(n.text)\n",
    "        \n",
    "except ElementNotVisibleException:\n",
    "    print(\"_\")"
   ]
  },
  {
   "cell_type": "code",
   "execution_count": 8,
   "id": "0c516fc2",
   "metadata": {},
   "outputs": [
    {
     "name": "stdout",
     "output_type": "stream",
     "text": [
      "['\"Baby Shark Dance\"[3]', '\"Despacito\"[6]', '\"Johny Johny Yes Papa\"[12]', '\"Shape of You\"[13]', '\"Bath Song\"[15]', '\"See You Again\"[16]', '\"Phonics Song with Two Words\"[21]', '\"Uptown Funk\"[22]', '\"Learning Colors – Colorful Eggs on a Farm\"[23]', '\"Gangnam Style\"[24]', '\"Masha and the Bear – Recipe for Disaster\"[29]', '\"Wheels on the Bus\"[30]', '\"Dame Tu Cosita\"[31]', '\"Sugar\"[32]', '\"Roar\"[33]', '\"Counting Stars\"[34]', '\"Sorry\"[35]', '\"Axel F\"[36]', '\"Thinking Out Loud\"[37]', '\"Baa Baa Black Sheep\"[38]', '\"Dark Horse\"[39]', '\"Faded\"[40]', '\"Girls Like You\"[41]', '\"Let Her Go\"[42]', '\"Bailando\"[43]', '\"Perfect\"[44]', '\"Lean On\"[45]', '\"Waka Waka (This Time for Africa)\"[46]', '\"Shake It Off\"[47]', '\"Humpty the train on a fruits ride\"[48]', \"Pinkfong Baby Shark - Kids' Songs & Stories\", 'Luis Fonsi', 'Wiz Khalifa', 'Psy', 'Justin Bieber', 'Lady Gaga', 'HDCYT', 'Judson Laipply', 'RCA Records', 'Judson Laipply', 'CLARUSBARTEL72', 'Judson Laipply', 'Smosh', 'eggtea', 'mugenized', 'youtubedude', 'Nikesoccer', 'larfus', 'jawed']\n"
     ]
    }
   ],
   "source": [
    "print(Name)"
   ]
  },
  {
   "cell_type": "code",
   "execution_count": 9,
   "id": "1741416a",
   "metadata": {},
   "outputs": [],
   "source": [
    "# collecting video artist\n",
    "try:\n",
    "    \n",
    "    art=driver.find_elements(By.XPATH, '//table[@class=\"wikitable sortable jquery-tablesorter\"]//td[3]')\n",
    "    for a in art[0:30]:\n",
    "        Artist.append(a.text)\n",
    "        \n",
    "except NoSuchElementException:\n",
    "    Artist.append(\"_\")"
   ]
  },
  {
   "cell_type": "code",
   "execution_count": 10,
   "id": "be72d0c6",
   "metadata": {},
   "outputs": [
    {
     "data": {
      "text/plain": [
       "[\"Pinkfong Baby Shark - Kids' Songs & Stories\",\n",
       " 'Luis Fonsi',\n",
       " 'LooLoo Kids',\n",
       " 'Ed Sheeran',\n",
       " 'Cocomelon – Nursery Rhymes',\n",
       " 'Wiz Khalifa',\n",
       " 'ChuChu TV',\n",
       " 'Mark Ronson',\n",
       " 'Miroshka TV',\n",
       " 'Psy',\n",
       " 'Get Movies',\n",
       " 'Cocomelon – Nursery Rhymes',\n",
       " 'El Chombo',\n",
       " 'Maroon 5',\n",
       " 'Katy Perry',\n",
       " 'OneRepublic',\n",
       " 'Justin Bieber',\n",
       " 'Crazy Frog',\n",
       " 'Ed Sheeran',\n",
       " 'Cocomelon – Nursery Rhymes',\n",
       " 'Katy Perry',\n",
       " 'Alan Walker',\n",
       " 'Maroon 5',\n",
       " 'Passenger',\n",
       " 'Enrique Iglesias',\n",
       " 'Ed Sheeran',\n",
       " 'Major Lazer',\n",
       " 'Shakira',\n",
       " 'Taylor Swift',\n",
       " 'Kiddiestv Hindi – Nursery Rhymes & Kids Songs']"
      ]
     },
     "execution_count": 10,
     "metadata": {},
     "output_type": "execute_result"
    }
   ],
   "source": [
    "Artist"
   ]
  },
  {
   "cell_type": "code",
   "execution_count": 11,
   "id": "15f256b9",
   "metadata": {},
   "outputs": [],
   "source": [
    "# collecting upload date\n",
    "try:\n",
    "    \n",
    "    date=driver.find_elements(By.XPATH, '//table[@class=\"wikitable sortable jquery-tablesorter\"]//td[5]')\n",
    "    for dt in date[0:30]:\n",
    "        Upload_Date.append(dt.text)\n",
    "        \n",
    "except NoSuchElementException:\n",
    "    Upload_Date.append(\"_\")"
   ]
  },
  {
   "cell_type": "code",
   "execution_count": 12,
   "id": "0b702852",
   "metadata": {},
   "outputs": [
    {
     "data": {
      "text/plain": [
       "['June 17, 2016',\n",
       " 'January 12, 2017',\n",
       " 'October 8, 2016',\n",
       " 'January 30, 2017',\n",
       " 'May 2, 2018',\n",
       " 'April 6, 2015',\n",
       " 'March 6, 2014',\n",
       " 'November 19, 2014',\n",
       " 'February 27, 2018',\n",
       " 'July 15, 2012',\n",
       " 'January 31, 2012',\n",
       " 'May 24, 2018',\n",
       " 'April 5, 2018',\n",
       " 'January 14, 2015',\n",
       " 'September 5, 2013',\n",
       " 'May 31, 2013',\n",
       " 'October 22, 2015',\n",
       " 'June 16, 2009',\n",
       " 'October 7, 2014',\n",
       " 'June 25, 2018',\n",
       " 'February 20, 2014',\n",
       " 'December 3, 2015',\n",
       " 'May 31, 2018',\n",
       " 'July 25, 2012',\n",
       " 'April 11, 2014',\n",
       " 'November 9, 2017',\n",
       " 'March 22, 2015',\n",
       " 'June 4, 2010',\n",
       " 'August 18, 2014',\n",
       " 'January 26, 2018']"
      ]
     },
     "execution_count": 12,
     "metadata": {},
     "output_type": "execute_result"
    }
   ],
   "source": [
    "Upload_Date"
   ]
  },
  {
   "cell_type": "code",
   "execution_count": 14,
   "id": "b6db2cc3",
   "metadata": {},
   "outputs": [],
   "source": [
    "#collecting video views in billions\n",
    "try:\n",
    "    \n",
    "    viw=driver.find_elements(By.XPATH, '//table[@class=\"wikitable sortable jquery-tablesorter\"]//td[4]')\n",
    "    for vw in viw[0:30]:\n",
    "        Views.append(vw.text)\n",
    "        \n",
    "except NoSuchElementException:\n",
    "    Views.append(\"_\")"
   ]
  },
  {
   "cell_type": "code",
   "execution_count": 18,
   "id": "3509a600",
   "metadata": {},
   "outputs": [
    {
     "name": "stdout",
     "output_type": "stream",
     "text": [
      "views in billions: \n",
      " ['11.58', '7.99', '6.50', '5.83', '5.68', '5.68', '4.96', '4.73', '4.69', '4.58', '4.51', '4.50', '4.11', '3.77', '3.67', '3.67', '3.60', '3.56', '3.51', '3.41', '3.37', '3.36', '3.34', '3.32', '3.29', '3.28', '3.28', '3.27', '3.22', '3.19', '11.58', '7.99', '6.50', '5.83', '5.68', '5.68', '4.96', '4.73', '4.69', '4.58', '4.51', '4.50', '4.11', '3.77', '3.67', '3.67', '3.60', '3.56', '3.51', '3.41', '3.37', '3.36', '3.34', '3.32', '3.29', '3.28', '3.28', '3.27', '3.22', '3.19']\n"
     ]
    }
   ],
   "source": [
    "print('views in billions: \\n', Views )"
   ]
  },
  {
   "cell_type": "code",
   "execution_count": 19,
   "id": "71a1f5a8",
   "metadata": {},
   "outputs": [],
   "source": [
    "driver.close()"
   ]
  },
  {
   "cell_type": "markdown",
   "id": "7059a4ae",
   "metadata": {},
   "source": [
    "# 2. Scrape the details team India’s international fixtures from bcci.tv.\n",
    "Url = https://www.bcci.tv/.\n",
    "You need to find following details:\n",
    "A) Match title (I.e. 1st ODI)\n",
    "B) Series\n",
    "C) Place\n",
    "D) Date\n",
    "E) Time\n",
    "Note: - From bcci.tv home page you have reach to the international fixture page through code."
   ]
  },
  {
   "cell_type": "code",
   "execution_count": 27,
   "id": "a09bd383",
   "metadata": {},
   "outputs": [],
   "source": [
    "# First connect to the driver\n",
    "driver = webdriver.Chrome(\"C:\\\\Users\\\\hp\\Desktop\\\\task\\\\driver\\\\chromedriver.exe\")\n",
    "driver.maximize_window()"
   ]
  },
  {
   "cell_type": "code",
   "execution_count": 28,
   "id": "452615c5",
   "metadata": {},
   "outputs": [],
   "source": [
    "# opening the youtube page and automated chrome browser\n",
    "driver.get(\"https://www.bcci.tv/international/fixtures\")\n",
    "time.sleep(5)"
   ]
  },
  {
   "cell_type": "code",
   "execution_count": 74,
   "id": "d791a5c5",
   "metadata": {},
   "outputs": [],
   "source": [
    "# create empty list\n",
    "\n",
    "Match_title=[]\n",
    "Series=[]\n",
    "Place=[]\n",
    "Date=[]\n",
    "Time=[]"
   ]
  },
  {
   "cell_type": "code",
   "execution_count": 75,
   "id": "9c628ee2",
   "metadata": {},
   "outputs": [],
   "source": [
    "# collecting match title\n",
    "try:\n",
    "    \n",
    "    match=driver.find_elements(By.XPATH, '//span[@class=\"matchOrderText ng-binding ng-scope\"]')\n",
    "    for m in match:\n",
    "        Match_title.append(str(m.text).replace(\"-\", ' '))\n",
    "        \n",
    "except NoSuchElementException:\n",
    "    Match_title.append(\"_\")"
   ]
  },
  {
   "cell_type": "code",
   "execution_count": 76,
   "id": "a14ca3ed",
   "metadata": {},
   "outputs": [
    {
     "data": {
      "text/plain": [
       "['5th T20I  ',\n",
       " '1st T20I  ',\n",
       " '2nd T20I  ',\n",
       " '3rd T20I  ',\n",
       " '1st ODI  ',\n",
       " '2nd ODI  ',\n",
       " '3rd ODI  ',\n",
       " '1st ODI  ']"
      ]
     },
     "execution_count": 76,
     "metadata": {},
     "output_type": "execute_result"
    }
   ],
   "source": [
    "Match_title"
   ]
  },
  {
   "cell_type": "code",
   "execution_count": 77,
   "id": "7b3ffc55",
   "metadata": {},
   "outputs": [],
   "source": [
    "# collecting match series data\n",
    "try:\n",
    "    \n",
    "    ser=driver.find_elements(By.XPATH, '//span[@class=\"ng-binding\"]')\n",
    "    for s in ser:\n",
    "        Series.append(str(s.text))\n",
    "        \n",
    "except NoSuchElementException:\n",
    "    Series.append(\"_\")"
   ]
  },
  {
   "cell_type": "code",
   "execution_count": 78,
   "id": "4c493a63",
   "metadata": {},
   "outputs": [
    {
     "data": {
      "text/plain": [
       "['ICC MENS T20 WORLD CUP 2022',\n",
       " 'INDIA TOUR OF NEW ZEALAND T20 SERIES 2022-23',\n",
       " 'INDIA TOUR OF NEW ZEALAND T20 SERIES 2022-23',\n",
       " 'INDIA TOUR OF NEW ZEALAND T20 SERIES 2022-23',\n",
       " 'INDIA TOUR OF NEW ZEALAND ODI SERIES 2022-23',\n",
       " 'INDIA TOUR OF NEW ZEALAND ODI SERIES 2022-23',\n",
       " 'INDIA TOUR OF NEW ZEALAND ODI SERIES 2022-23',\n",
       " 'INDIA TOUR OF BANGLADESH ODI SERIES 2022-23']"
      ]
     },
     "execution_count": 78,
     "metadata": {},
     "output_type": "execute_result"
    }
   ],
   "source": [
    "Series"
   ]
  },
  {
   "cell_type": "code",
   "execution_count": 79,
   "id": "1500e6c0",
   "metadata": {},
   "outputs": [],
   "source": [
    "# collecting match place data\n",
    "try:\n",
    "    \n",
    "    plc=driver.find_elements(By.XPATH, '//div[@class=\"fix-place ng-binding ng-scope\"]')\n",
    "    for pl in plc:\n",
    "        Place.append(pl.text.split(\"-\")[1])\n",
    "        \n",
    "except NoSuchElementException:\n",
    "    Place.append(\"_\")"
   ]
  },
  {
   "cell_type": "code",
   "execution_count": 80,
   "id": "85fb1504",
   "metadata": {},
   "outputs": [
    {
     "data": {
      "text/plain": [
       "[' Melbourne Cricket Ground, Melbourne',\n",
       " ' Sky Stadium, Wellington',\n",
       " ' Bay Oval, Mount Maunganui',\n",
       " ' Mclean Park, Napier',\n",
       " ' Eden Park, Auckland',\n",
       " ' Seddon Park, Hamilton',\n",
       " ' Hagley Oval, Christchurch',\n",
       " ' Shere Bangla National Stadium, Mirpur, Dhaka']"
      ]
     },
     "execution_count": 80,
     "metadata": {},
     "output_type": "execute_result"
    }
   ],
   "source": [
    "Place"
   ]
  },
  {
   "cell_type": "code",
   "execution_count": 81,
   "id": "2663abf0",
   "metadata": {},
   "outputs": [],
   "source": [
    "# collecting match date data\n",
    "try:\n",
    "    \n",
    "    dat=driver.find_elements(By.XPATH, '//h5[@class=\"ng-binding\"]')\n",
    "    for dt in dat:\n",
    "        Date.append(dt.text)\n",
    "        \n",
    "except NoSuchElementException:\n",
    "    Date.append(\"_\")"
   ]
  },
  {
   "cell_type": "code",
   "execution_count": 82,
   "id": "32bc9c73",
   "metadata": {},
   "outputs": [
    {
     "data": {
      "text/plain": [
       "['6 NOV 2022',\n",
       " '18 NOV 2022',\n",
       " '20 NOV 2022',\n",
       " '22 NOV 2022',\n",
       " '25 NOV 2022',\n",
       " '27 NOV 2022',\n",
       " '30 NOV 2022',\n",
       " '4 DEC 2022']"
      ]
     },
     "execution_count": 82,
     "metadata": {},
     "output_type": "execute_result"
    }
   ],
   "source": [
    "Date"
   ]
  },
  {
   "cell_type": "code",
   "execution_count": 83,
   "id": "b9fc564a",
   "metadata": {},
   "outputs": [],
   "source": [
    "# collecting match timing data\n",
    "try:\n",
    "    \n",
    "    time=driver.find_elements(By.XPATH, '//h5[@class=\"text-right ng-binding\"]')\n",
    "    for tm in time:\n",
    "        Time.append(tm.text)\n",
    "        \n",
    "except NoSuchElementException:\n",
    "    Time.append(\"_\")"
   ]
  },
  {
   "cell_type": "code",
   "execution_count": 84,
   "id": "cbe8760c",
   "metadata": {},
   "outputs": [
    {
     "data": {
      "text/plain": [
       "['1:30 PM IST',\n",
       " '12:00 PM IST',\n",
       " '12:00 PM IST',\n",
       " '12:00 PM IST',\n",
       " '7:00 AM IST',\n",
       " '7:00 AM IST',\n",
       " '7:00 AM IST',\n",
       " '12:30 PM IST']"
      ]
     },
     "execution_count": 84,
     "metadata": {},
     "output_type": "execute_result"
    }
   ],
   "source": [
    "Time"
   ]
  },
  {
   "cell_type": "markdown",
   "id": "e6646d4a",
   "metadata": {},
   "source": [
    "MAKE DATA FRAME"
   ]
  },
  {
   "cell_type": "code",
   "execution_count": 72,
   "id": "8e5b3e3c",
   "metadata": {},
   "outputs": [],
   "source": [
    "import pandas as pd"
   ]
  },
  {
   "cell_type": "code",
   "execution_count": null,
   "id": "84972ed5",
   "metadata": {},
   "outputs": [],
   "source": [
    "Match_title=[]\n",
    "Series=[]\n",
    "Place=[]\n",
    "Date=[]\n",
    "Time=[]"
   ]
  },
  {
   "cell_type": "code",
   "execution_count": 85,
   "id": "af529dc9",
   "metadata": {},
   "outputs": [],
   "source": [
    "cricket_df=pd.DataFrame({'MATCH':Match_title, 'SERIES':Series, 'MATCH_PLACE':Place,'DATE':Date, 'MATCH_TIMING(IND)':Time})"
   ]
  },
  {
   "cell_type": "code",
   "execution_count": 86,
   "id": "18c1edab",
   "metadata": {},
   "outputs": [
    {
     "data": {
      "text/html": [
       "<div>\n",
       "<style scoped>\n",
       "    .dataframe tbody tr th:only-of-type {\n",
       "        vertical-align: middle;\n",
       "    }\n",
       "\n",
       "    .dataframe tbody tr th {\n",
       "        vertical-align: top;\n",
       "    }\n",
       "\n",
       "    .dataframe thead th {\n",
       "        text-align: right;\n",
       "    }\n",
       "</style>\n",
       "<table border=\"1\" class=\"dataframe\">\n",
       "  <thead>\n",
       "    <tr style=\"text-align: right;\">\n",
       "      <th></th>\n",
       "      <th>MATCH</th>\n",
       "      <th>SERIES</th>\n",
       "      <th>MATCH_PLACE</th>\n",
       "      <th>DATE</th>\n",
       "      <th>MATCH_TIMING(IND)</th>\n",
       "    </tr>\n",
       "  </thead>\n",
       "  <tbody>\n",
       "    <tr>\n",
       "      <th>0</th>\n",
       "      <td>5th T20I</td>\n",
       "      <td>ICC MENS T20 WORLD CUP 2022</td>\n",
       "      <td>Melbourne Cricket Ground, Melbourne</td>\n",
       "      <td>6 NOV 2022</td>\n",
       "      <td>1:30 PM IST</td>\n",
       "    </tr>\n",
       "    <tr>\n",
       "      <th>1</th>\n",
       "      <td>1st T20I</td>\n",
       "      <td>INDIA TOUR OF NEW ZEALAND T20 SERIES 2022-23</td>\n",
       "      <td>Sky Stadium, Wellington</td>\n",
       "      <td>18 NOV 2022</td>\n",
       "      <td>12:00 PM IST</td>\n",
       "    </tr>\n",
       "    <tr>\n",
       "      <th>2</th>\n",
       "      <td>2nd T20I</td>\n",
       "      <td>INDIA TOUR OF NEW ZEALAND T20 SERIES 2022-23</td>\n",
       "      <td>Bay Oval, Mount Maunganui</td>\n",
       "      <td>20 NOV 2022</td>\n",
       "      <td>12:00 PM IST</td>\n",
       "    </tr>\n",
       "    <tr>\n",
       "      <th>3</th>\n",
       "      <td>3rd T20I</td>\n",
       "      <td>INDIA TOUR OF NEW ZEALAND T20 SERIES 2022-23</td>\n",
       "      <td>Mclean Park, Napier</td>\n",
       "      <td>22 NOV 2022</td>\n",
       "      <td>12:00 PM IST</td>\n",
       "    </tr>\n",
       "    <tr>\n",
       "      <th>4</th>\n",
       "      <td>1st ODI</td>\n",
       "      <td>INDIA TOUR OF NEW ZEALAND ODI SERIES 2022-23</td>\n",
       "      <td>Eden Park, Auckland</td>\n",
       "      <td>25 NOV 2022</td>\n",
       "      <td>7:00 AM IST</td>\n",
       "    </tr>\n",
       "    <tr>\n",
       "      <th>5</th>\n",
       "      <td>2nd ODI</td>\n",
       "      <td>INDIA TOUR OF NEW ZEALAND ODI SERIES 2022-23</td>\n",
       "      <td>Seddon Park, Hamilton</td>\n",
       "      <td>27 NOV 2022</td>\n",
       "      <td>7:00 AM IST</td>\n",
       "    </tr>\n",
       "    <tr>\n",
       "      <th>6</th>\n",
       "      <td>3rd ODI</td>\n",
       "      <td>INDIA TOUR OF NEW ZEALAND ODI SERIES 2022-23</td>\n",
       "      <td>Hagley Oval, Christchurch</td>\n",
       "      <td>30 NOV 2022</td>\n",
       "      <td>7:00 AM IST</td>\n",
       "    </tr>\n",
       "    <tr>\n",
       "      <th>7</th>\n",
       "      <td>1st ODI</td>\n",
       "      <td>INDIA TOUR OF BANGLADESH ODI SERIES 2022-23</td>\n",
       "      <td>Shere Bangla National Stadium, Mirpur, Dhaka</td>\n",
       "      <td>4 DEC 2022</td>\n",
       "      <td>12:30 PM IST</td>\n",
       "    </tr>\n",
       "  </tbody>\n",
       "</table>\n",
       "</div>"
      ],
      "text/plain": [
       "        MATCH                                        SERIES  \\\n",
       "0  5th T20I                     ICC MENS T20 WORLD CUP 2022   \n",
       "1  1st T20I    INDIA TOUR OF NEW ZEALAND T20 SERIES 2022-23   \n",
       "2  2nd T20I    INDIA TOUR OF NEW ZEALAND T20 SERIES 2022-23   \n",
       "3  3rd T20I    INDIA TOUR OF NEW ZEALAND T20 SERIES 2022-23   \n",
       "4   1st ODI    INDIA TOUR OF NEW ZEALAND ODI SERIES 2022-23   \n",
       "5   2nd ODI    INDIA TOUR OF NEW ZEALAND ODI SERIES 2022-23   \n",
       "6   3rd ODI    INDIA TOUR OF NEW ZEALAND ODI SERIES 2022-23   \n",
       "7   1st ODI     INDIA TOUR OF BANGLADESH ODI SERIES 2022-23   \n",
       "\n",
       "                                     MATCH_PLACE         DATE  \\\n",
       "0            Melbourne Cricket Ground, Melbourne   6 NOV 2022   \n",
       "1                        Sky Stadium, Wellington  18 NOV 2022   \n",
       "2                      Bay Oval, Mount Maunganui  20 NOV 2022   \n",
       "3                            Mclean Park, Napier  22 NOV 2022   \n",
       "4                            Eden Park, Auckland  25 NOV 2022   \n",
       "5                          Seddon Park, Hamilton  27 NOV 2022   \n",
       "6                      Hagley Oval, Christchurch  30 NOV 2022   \n",
       "7   Shere Bangla National Stadium, Mirpur, Dhaka   4 DEC 2022   \n",
       "\n",
       "  MATCH_TIMING(IND)  \n",
       "0       1:30 PM IST  \n",
       "1      12:00 PM IST  \n",
       "2      12:00 PM IST  \n",
       "3      12:00 PM IST  \n",
       "4       7:00 AM IST  \n",
       "5       7:00 AM IST  \n",
       "6       7:00 AM IST  \n",
       "7      12:30 PM IST  "
      ]
     },
     "execution_count": 86,
     "metadata": {},
     "output_type": "execute_result"
    }
   ],
   "source": [
    "cricket_df"
   ]
  },
  {
   "cell_type": "code",
   "execution_count": 87,
   "id": "33d238cb",
   "metadata": {},
   "outputs": [],
   "source": [
    "driver.close()"
   ]
  },
  {
   "cell_type": "markdown",
   "id": "9eb99a99",
   "metadata": {},
   "source": [
    "# 3. Scrape the details of selenium exception from guru99.com.\n",
    "Url = https://www.guru99.com/\n",
    "You need to find following details:\n",
    "A) Name\n",
    "B) Description\n",
    "Note: - From guru99 home page you have to reach to selenium exception handling page through code."
   ]
  },
  {
   "cell_type": "code",
   "execution_count": 95,
   "id": "a39a47cc",
   "metadata": {},
   "outputs": [],
   "source": [
    "# First connect to the driver\n",
    "driver = webdriver.Chrome(\"C:\\\\Users\\\\hp\\Desktop\\\\task\\\\driver\\\\chromedriver.exe\")\n",
    "driver.maximize_window()"
   ]
  },
  {
   "cell_type": "code",
   "execution_count": 96,
   "id": "3468f490",
   "metadata": {},
   "outputs": [],
   "source": [
    "# opening the guru99 page and automated chrome browser\n",
    "driver.get(\"https://www.guru99.com/exception-handling-selenium.html\")\n",
    "time.sleep(5)"
   ]
  },
  {
   "cell_type": "code",
   "execution_count": 146,
   "id": "266ed037",
   "metadata": {},
   "outputs": [],
   "source": [
    "#empty list\n",
    "\n",
    "Ex_Name=[]\n",
    "Ex_Desc=[]"
   ]
  },
  {
   "cell_type": "code",
   "execution_count": 147,
   "id": "be82fece",
   "metadata": {},
   "outputs": [],
   "source": [
    "# collecting match date data\n",
    "try:\n",
    "    \n",
    "    excep=driver.find_elements(By.XPATH, '//div[@class=\"entry-content single-content\"]//p//strong')\n",
    "    for e in excep[0:42]:\n",
    "        Ex_Name.append(e.text)\n",
    "        \n",
    "except NoSuchElementException:\n",
    "    Ex_Name.append(\"_\")"
   ]
  },
  {
   "cell_type": "code",
   "execution_count": 148,
   "id": "448c9606",
   "metadata": {},
   "outputs": [
    {
     "data": {
      "text/plain": [
       "['exception',\n",
       " '1. ElementNotVisibleException:',\n",
       " '2. ElementNotSelectableException:',\n",
       " '3. NoSuchElementException:',\n",
       " '4. NoSuchFrameException:',\n",
       " '5. NoAlertPresentException:',\n",
       " '6. NoSuchWindowException:',\n",
       " '7. StaleElementReferenceException:',\n",
       " '8. SessionNotFoundException:',\n",
       " '9. TimeoutException:',\n",
       " '10. WebDriverException:',\n",
       " '11. ConnectionClosedException:',\n",
       " '12. ElementClickInterceptedException:',\n",
       " '13. ElementNotInteractableException:',\n",
       " '14. ErrorInResponseException:',\n",
       " '15. ErrorHandler.UnknownServerException:',\n",
       " '16. ImeActivationFailedException:',\n",
       " '17. ImeNotAvailableException:',\n",
       " '18. InsecureCertificateException:',\n",
       " '19. InvalidArgumentException:',\n",
       " '20. InvalidCookieDomainException:',\n",
       " '21. InvalidCoordinatesException:',\n",
       " '22. InvalidElementStateException:',\n",
       " '23. InvalidSessionIdException:',\n",
       " '24. InvalidSwitchToTargetException:',\n",
       " '25. JavascriptException:',\n",
       " '26. JsonException:',\n",
       " '27. NoSuchAttributeException:',\n",
       " '28. MoveTargetOutOfBoundsException:',\n",
       " '29. NoSuchContextException:',\n",
       " '30. NoSuchCookieException:',\n",
       " '31. NotFoundException:',\n",
       " '32. RemoteDriverServerException:',\n",
       " '33. ScreenshotException:',\n",
       " '34. SessionNotCreatedException:',\n",
       " '35. UnableToSetCookieException:',\n",
       " '36. UnexpectedTagNameException:',\n",
       " '37. UnhandledAlertException:',\n",
       " '38. UnexpectedAlertPresentException:',\n",
       " '39. UnknownMethodException:',\n",
       " '40. UnreachableBrowserException:',\n",
       " '41. UnsupportedCommandException:']"
      ]
     },
     "execution_count": 148,
     "metadata": {},
     "output_type": "execute_result"
    }
   ],
   "source": [
    "Ex_Name"
   ]
  },
  {
   "cell_type": "code",
   "execution_count": 149,
   "id": "9f37800b",
   "metadata": {},
   "outputs": [],
   "source": [
    "# collecting match date data\n",
    "try:\n",
    "    \n",
    "    dec=driver.find_elements(By.XPATH, '//div[@class=\"entry-content single-content\"]//p')\n",
    "    for d in dec[0:42]:\n",
    "        Ex_Desc.append(d.text.split(\":\")[-1])\n",
    "        \n",
    "except NoSuchElementException:\n",
    "    Ex_Desc.append(\"_\")"
   ]
  },
  {
   "cell_type": "code",
   "execution_count": 150,
   "id": "a7495366",
   "metadata": {},
   "outputs": [
    {
     "data": {
      "text/plain": [
       "['An exception is an error that happens at the time of execution of a program. However, while running a program, programming languages generates an exception that should be handled to avoid your program to crash.',\n",
       " 'The exception indicates that, although the event can occur, this type of event happens infrequently. When the method is not able to handle the Exception, it is thrown to its caller function.',\n",
       " ' This type of Selenium exception occurs when an existing element in DOM has a feature set as hidden.',\n",
       " ' This Selenium exception occurs when an element is presented in the DOM, but you can be able to select. Therefore, it is not possible to interact.',\n",
       " ' This Exception occurs if an element could not be found.',\n",
       " ' This Exception occurs if the frame target to be switched to does not exist.',\n",
       " ' This Exception occurs when you switch to no presented alert.',\n",
       " ' This Exception occurs if the window target to be switch does not exist.',\n",
       " ' This Selenium exception occurs happens when the web element is detached from the current DOM.',\n",
       " ' The WebDriver is acting after you quit the browser.',\n",
       " ' Thrown when there is not enough time for a command to be completed. For Example, the element searched wasn’t found in the specified time.',\n",
       " ' This Exception takes place when the WebDriver is acting right after you close the browser.',\n",
       " ' This type of Exception takes place when there is a disconnection in the driver.',\n",
       " ' The command may not be completed as the element receiving the events is concealing the element which was requested clicked.',\n",
       " ' This Selenium exception is thrown when any element is presented in the DOM. However, it is impossible to interact with such an element.',\n",
       " ' This happens while interacting with the Firefox extension or the remote driver server.',\n",
       " ' Exception is used as a placeholder in case if the server returns an error without a stack trace.',\n",
       " ' This expectation will occur when IME engine activation has failed.',\n",
       " ' It takes place when IME support is unavailable.',\n",
       " ' Navigation made the user agent to hit a certificate warning. This can cause by an invalid or expired TLS certificate.',\n",
       " ' It occurs when an argument does not belong to the expected type.',\n",
       " ' This happens when you try to add a cookie under a different domain instead of current URL.',\n",
       " ' This type of Exception matches an interacting operation that is not valid.',\n",
       " ' It occurs when command can’t be finished when the element is invalid.',\n",
       " ' This Exception took place when the given session ID is not included in the list of active sessions. It means the session does not exist or is inactive either.',\n",
       " ' This occurs when the frame or window target to be switched does not exist.',\n",
       " ' This issue occurs while executing JavaScript given by the user.',\n",
       " ' It occurs when you afford to get the session when the session is not created.',\n",
       " ' This kind of Exception occurs when the attribute of an element could not be found.',\n",
       " ' It takes place if the target provided to the ActionChains move() methodology is not valid. For Example, out of the document.',\n",
       " ' ContextAware does mobile device testing.',\n",
       " ' This Exception occurs when no cookie matching with the given pathname found for all the associated cookies of the currently browsing document.',\n",
       " ' This Exception is a subclass of WebDriverException. This will occur when an element on the DOM does not exist.',\n",
       " ' This Selenium exception is thrown when the server is not responding because of the problem that the capabilities described are not proper.',\n",
       " ' It is not possible to capture a screen.',\n",
       " ' It happens when a new session could not be successfully created.',\n",
       " ' This occurs if a driver is unable to set a cookie.',\n",
       " ' Happens if a support class did not get a web element as expected.',\n",
       " ' This expectation occurs when there is an alert, but WebDriver is not able to perform Alert operation.',\n",
       " ' It occurs when there is the appearance of an unexpected alert.',\n",
       " ' This Exception happens when the requested command matches with a known URL but and not matching with a methodology for a specific URL.',\n",
       " ' This Exception occurs only when the browser is not able to be opened or crashed because of some reason.']"
      ]
     },
     "execution_count": 150,
     "metadata": {},
     "output_type": "execute_result"
    }
   ],
   "source": [
    "Ex_Desc"
   ]
  },
  {
   "cell_type": "code",
   "execution_count": 151,
   "id": "521e85f9",
   "metadata": {},
   "outputs": [],
   "source": [
    "#MAKING DATAFRAME\n",
    "\n",
    "Exception_df=pd.DataFrame({'EXCEPTION_NAME':Ex_Name, 'DESCRIPTION':Ex_Desc})"
   ]
  },
  {
   "cell_type": "code",
   "execution_count": 154,
   "id": "e3f954f1",
   "metadata": {},
   "outputs": [
    {
     "data": {
      "text/html": [
       "<div>\n",
       "<style scoped>\n",
       "    .dataframe tbody tr th:only-of-type {\n",
       "        vertical-align: middle;\n",
       "    }\n",
       "\n",
       "    .dataframe tbody tr th {\n",
       "        vertical-align: top;\n",
       "    }\n",
       "\n",
       "    .dataframe thead th {\n",
       "        text-align: right;\n",
       "    }\n",
       "</style>\n",
       "<table border=\"1\" class=\"dataframe\">\n",
       "  <thead>\n",
       "    <tr style=\"text-align: right;\">\n",
       "      <th></th>\n",
       "      <th>EXCEPTION_NAME</th>\n",
       "      <th>DESCRIPTION</th>\n",
       "    </tr>\n",
       "  </thead>\n",
       "  <tbody>\n",
       "    <tr>\n",
       "      <th>0</th>\n",
       "      <td>exception</td>\n",
       "      <td>An exception is an error that happens at the t...</td>\n",
       "    </tr>\n",
       "    <tr>\n",
       "      <th>1</th>\n",
       "      <td>1. ElementNotVisibleException:</td>\n",
       "      <td>The exception indicates that, although the eve...</td>\n",
       "    </tr>\n",
       "    <tr>\n",
       "      <th>2</th>\n",
       "      <td>2. ElementNotSelectableException:</td>\n",
       "      <td>This type of Selenium exception occurs when a...</td>\n",
       "    </tr>\n",
       "    <tr>\n",
       "      <th>3</th>\n",
       "      <td>3. NoSuchElementException:</td>\n",
       "      <td>This Selenium exception occurs when an elemen...</td>\n",
       "    </tr>\n",
       "    <tr>\n",
       "      <th>4</th>\n",
       "      <td>4. NoSuchFrameException:</td>\n",
       "      <td>This Exception occurs if an element could not...</td>\n",
       "    </tr>\n",
       "    <tr>\n",
       "      <th>5</th>\n",
       "      <td>5. NoAlertPresentException:</td>\n",
       "      <td>This Exception occurs if the frame target to ...</td>\n",
       "    </tr>\n",
       "    <tr>\n",
       "      <th>6</th>\n",
       "      <td>6. NoSuchWindowException:</td>\n",
       "      <td>This Exception occurs when you switch to no p...</td>\n",
       "    </tr>\n",
       "    <tr>\n",
       "      <th>7</th>\n",
       "      <td>7. StaleElementReferenceException:</td>\n",
       "      <td>This Exception occurs if the window target to...</td>\n",
       "    </tr>\n",
       "    <tr>\n",
       "      <th>8</th>\n",
       "      <td>8. SessionNotFoundException:</td>\n",
       "      <td>This Selenium exception occurs happens when t...</td>\n",
       "    </tr>\n",
       "    <tr>\n",
       "      <th>9</th>\n",
       "      <td>9. TimeoutException:</td>\n",
       "      <td>The WebDriver is acting after you quit the br...</td>\n",
       "    </tr>\n",
       "    <tr>\n",
       "      <th>10</th>\n",
       "      <td>10. WebDriverException:</td>\n",
       "      <td>Thrown when there is not enough time for a co...</td>\n",
       "    </tr>\n",
       "    <tr>\n",
       "      <th>11</th>\n",
       "      <td>11. ConnectionClosedException:</td>\n",
       "      <td>This Exception takes place when the WebDriver...</td>\n",
       "    </tr>\n",
       "    <tr>\n",
       "      <th>12</th>\n",
       "      <td>12. ElementClickInterceptedException:</td>\n",
       "      <td>This type of Exception takes place when there...</td>\n",
       "    </tr>\n",
       "    <tr>\n",
       "      <th>13</th>\n",
       "      <td>13. ElementNotInteractableException:</td>\n",
       "      <td>The command may not be completed as the eleme...</td>\n",
       "    </tr>\n",
       "    <tr>\n",
       "      <th>14</th>\n",
       "      <td>14. ErrorInResponseException:</td>\n",
       "      <td>This Selenium exception is thrown when any el...</td>\n",
       "    </tr>\n",
       "    <tr>\n",
       "      <th>15</th>\n",
       "      <td>15. ErrorHandler.UnknownServerException:</td>\n",
       "      <td>This happens while interacting with the Firef...</td>\n",
       "    </tr>\n",
       "    <tr>\n",
       "      <th>16</th>\n",
       "      <td>16. ImeActivationFailedException:</td>\n",
       "      <td>Exception is used as a placeholder in case if...</td>\n",
       "    </tr>\n",
       "    <tr>\n",
       "      <th>17</th>\n",
       "      <td>17. ImeNotAvailableException:</td>\n",
       "      <td>This expectation will occur when IME engine a...</td>\n",
       "    </tr>\n",
       "    <tr>\n",
       "      <th>18</th>\n",
       "      <td>18. InsecureCertificateException:</td>\n",
       "      <td>It takes place when IME support is unavailable.</td>\n",
       "    </tr>\n",
       "    <tr>\n",
       "      <th>19</th>\n",
       "      <td>19. InvalidArgumentException:</td>\n",
       "      <td>Navigation made the user agent to hit a certi...</td>\n",
       "    </tr>\n",
       "    <tr>\n",
       "      <th>20</th>\n",
       "      <td>20. InvalidCookieDomainException:</td>\n",
       "      <td>It occurs when an argument does not belong to...</td>\n",
       "    </tr>\n",
       "    <tr>\n",
       "      <th>21</th>\n",
       "      <td>21. InvalidCoordinatesException:</td>\n",
       "      <td>This happens when you try to add a cookie und...</td>\n",
       "    </tr>\n",
       "    <tr>\n",
       "      <th>22</th>\n",
       "      <td>22. InvalidElementStateException:</td>\n",
       "      <td>This type of Exception matches an interacting...</td>\n",
       "    </tr>\n",
       "    <tr>\n",
       "      <th>23</th>\n",
       "      <td>23. InvalidSessionIdException:</td>\n",
       "      <td>It occurs when command can’t be finished when...</td>\n",
       "    </tr>\n",
       "    <tr>\n",
       "      <th>24</th>\n",
       "      <td>24. InvalidSwitchToTargetException:</td>\n",
       "      <td>This Exception took place when the given sess...</td>\n",
       "    </tr>\n",
       "    <tr>\n",
       "      <th>25</th>\n",
       "      <td>25. JavascriptException:</td>\n",
       "      <td>This occurs when the frame or window target t...</td>\n",
       "    </tr>\n",
       "    <tr>\n",
       "      <th>26</th>\n",
       "      <td>26. JsonException:</td>\n",
       "      <td>This issue occurs while executing JavaScript ...</td>\n",
       "    </tr>\n",
       "    <tr>\n",
       "      <th>27</th>\n",
       "      <td>27. NoSuchAttributeException:</td>\n",
       "      <td>It occurs when you afford to get the session ...</td>\n",
       "    </tr>\n",
       "    <tr>\n",
       "      <th>28</th>\n",
       "      <td>28. MoveTargetOutOfBoundsException:</td>\n",
       "      <td>This kind of Exception occurs when the attrib...</td>\n",
       "    </tr>\n",
       "    <tr>\n",
       "      <th>29</th>\n",
       "      <td>29. NoSuchContextException:</td>\n",
       "      <td>It takes place if the target provided to the ...</td>\n",
       "    </tr>\n",
       "    <tr>\n",
       "      <th>30</th>\n",
       "      <td>30. NoSuchCookieException:</td>\n",
       "      <td>ContextAware does mobile device testing.</td>\n",
       "    </tr>\n",
       "    <tr>\n",
       "      <th>31</th>\n",
       "      <td>31. NotFoundException:</td>\n",
       "      <td>This Exception occurs when no cookie matching...</td>\n",
       "    </tr>\n",
       "    <tr>\n",
       "      <th>32</th>\n",
       "      <td>32. RemoteDriverServerException:</td>\n",
       "      <td>This Exception is a subclass of WebDriverExce...</td>\n",
       "    </tr>\n",
       "    <tr>\n",
       "      <th>33</th>\n",
       "      <td>33. ScreenshotException:</td>\n",
       "      <td>This Selenium exception is thrown when the se...</td>\n",
       "    </tr>\n",
       "    <tr>\n",
       "      <th>34</th>\n",
       "      <td>34. SessionNotCreatedException:</td>\n",
       "      <td>It is not possible to capture a screen.</td>\n",
       "    </tr>\n",
       "    <tr>\n",
       "      <th>35</th>\n",
       "      <td>35. UnableToSetCookieException:</td>\n",
       "      <td>It happens when a new session could not be su...</td>\n",
       "    </tr>\n",
       "    <tr>\n",
       "      <th>36</th>\n",
       "      <td>36. UnexpectedTagNameException:</td>\n",
       "      <td>This occurs if a driver is unable to set a co...</td>\n",
       "    </tr>\n",
       "    <tr>\n",
       "      <th>37</th>\n",
       "      <td>37. UnhandledAlertException:</td>\n",
       "      <td>Happens if a support class did not get a web ...</td>\n",
       "    </tr>\n",
       "    <tr>\n",
       "      <th>38</th>\n",
       "      <td>38. UnexpectedAlertPresentException:</td>\n",
       "      <td>This expectation occurs when there is an aler...</td>\n",
       "    </tr>\n",
       "    <tr>\n",
       "      <th>39</th>\n",
       "      <td>39. UnknownMethodException:</td>\n",
       "      <td>It occurs when there is the appearance of an ...</td>\n",
       "    </tr>\n",
       "    <tr>\n",
       "      <th>40</th>\n",
       "      <td>40. UnreachableBrowserException:</td>\n",
       "      <td>This Exception happens when the requested com...</td>\n",
       "    </tr>\n",
       "    <tr>\n",
       "      <th>41</th>\n",
       "      <td>41. UnsupportedCommandException:</td>\n",
       "      <td>This Exception occurs only when the browser i...</td>\n",
       "    </tr>\n",
       "  </tbody>\n",
       "</table>\n",
       "</div>"
      ],
      "text/plain": [
       "                              EXCEPTION_NAME  \\\n",
       "0                                  exception   \n",
       "1             1. ElementNotVisibleException:   \n",
       "2          2. ElementNotSelectableException:   \n",
       "3                 3. NoSuchElementException:   \n",
       "4                   4. NoSuchFrameException:   \n",
       "5                5. NoAlertPresentException:   \n",
       "6                  6. NoSuchWindowException:   \n",
       "7         7. StaleElementReferenceException:   \n",
       "8               8. SessionNotFoundException:   \n",
       "9                       9. TimeoutException:   \n",
       "10                   10. WebDriverException:   \n",
       "11            11. ConnectionClosedException:   \n",
       "12     12. ElementClickInterceptedException:   \n",
       "13      13. ElementNotInteractableException:   \n",
       "14             14. ErrorInResponseException:   \n",
       "15  15. ErrorHandler.UnknownServerException:   \n",
       "16         16. ImeActivationFailedException:   \n",
       "17             17. ImeNotAvailableException:   \n",
       "18         18. InsecureCertificateException:   \n",
       "19             19. InvalidArgumentException:   \n",
       "20         20. InvalidCookieDomainException:   \n",
       "21          21. InvalidCoordinatesException:   \n",
       "22         22. InvalidElementStateException:   \n",
       "23            23. InvalidSessionIdException:   \n",
       "24       24. InvalidSwitchToTargetException:   \n",
       "25                  25. JavascriptException:   \n",
       "26                        26. JsonException:   \n",
       "27             27. NoSuchAttributeException:   \n",
       "28       28. MoveTargetOutOfBoundsException:   \n",
       "29               29. NoSuchContextException:   \n",
       "30                30. NoSuchCookieException:   \n",
       "31                    31. NotFoundException:   \n",
       "32          32. RemoteDriverServerException:   \n",
       "33                  33. ScreenshotException:   \n",
       "34           34. SessionNotCreatedException:   \n",
       "35           35. UnableToSetCookieException:   \n",
       "36           36. UnexpectedTagNameException:   \n",
       "37              37. UnhandledAlertException:   \n",
       "38      38. UnexpectedAlertPresentException:   \n",
       "39               39. UnknownMethodException:   \n",
       "40          40. UnreachableBrowserException:   \n",
       "41          41. UnsupportedCommandException:   \n",
       "\n",
       "                                          DESCRIPTION  \n",
       "0   An exception is an error that happens at the t...  \n",
       "1   The exception indicates that, although the eve...  \n",
       "2    This type of Selenium exception occurs when a...  \n",
       "3    This Selenium exception occurs when an elemen...  \n",
       "4    This Exception occurs if an element could not...  \n",
       "5    This Exception occurs if the frame target to ...  \n",
       "6    This Exception occurs when you switch to no p...  \n",
       "7    This Exception occurs if the window target to...  \n",
       "8    This Selenium exception occurs happens when t...  \n",
       "9    The WebDriver is acting after you quit the br...  \n",
       "10   Thrown when there is not enough time for a co...  \n",
       "11   This Exception takes place when the WebDriver...  \n",
       "12   This type of Exception takes place when there...  \n",
       "13   The command may not be completed as the eleme...  \n",
       "14   This Selenium exception is thrown when any el...  \n",
       "15   This happens while interacting with the Firef...  \n",
       "16   Exception is used as a placeholder in case if...  \n",
       "17   This expectation will occur when IME engine a...  \n",
       "18    It takes place when IME support is unavailable.  \n",
       "19   Navigation made the user agent to hit a certi...  \n",
       "20   It occurs when an argument does not belong to...  \n",
       "21   This happens when you try to add a cookie und...  \n",
       "22   This type of Exception matches an interacting...  \n",
       "23   It occurs when command can’t be finished when...  \n",
       "24   This Exception took place when the given sess...  \n",
       "25   This occurs when the frame or window target t...  \n",
       "26   This issue occurs while executing JavaScript ...  \n",
       "27   It occurs when you afford to get the session ...  \n",
       "28   This kind of Exception occurs when the attrib...  \n",
       "29   It takes place if the target provided to the ...  \n",
       "30           ContextAware does mobile device testing.  \n",
       "31   This Exception occurs when no cookie matching...  \n",
       "32   This Exception is a subclass of WebDriverExce...  \n",
       "33   This Selenium exception is thrown when the se...  \n",
       "34            It is not possible to capture a screen.  \n",
       "35   It happens when a new session could not be su...  \n",
       "36   This occurs if a driver is unable to set a co...  \n",
       "37   Happens if a support class did not get a web ...  \n",
       "38   This expectation occurs when there is an aler...  \n",
       "39   It occurs when there is the appearance of an ...  \n",
       "40   This Exception happens when the requested com...  \n",
       "41   This Exception occurs only when the browser i...  "
      ]
     },
     "execution_count": 154,
     "metadata": {},
     "output_type": "execute_result"
    }
   ],
   "source": [
    "Exception_df"
   ]
  },
  {
   "cell_type": "code",
   "execution_count": 155,
   "id": "79143cd3",
   "metadata": {},
   "outputs": [],
   "source": [
    "driver.close()"
   ]
  },
  {
   "cell_type": "markdown",
   "id": "cfe89e9c",
   "metadata": {},
   "source": [
    "# 4. Scrape the details of State-wise GDP of India from statisticstime.com.\n",
    "Url = http://statisticstimes.com/\n",
    "You have to find following details:\n",
    "A) Rank\n",
    "B) State\n",
    "C) GSDP(18-19)\n",
    "D) GSDP(17-18)\n",
    "E) Share(2017)\n",
    "F) GDP($ billion)\n",
    "Note: - From statisticstimes home page you have to reach to economy page through code."
   ]
  },
  {
   "cell_type": "code",
   "execution_count": 4,
   "id": "8ebc326a",
   "metadata": {},
   "outputs": [],
   "source": [
    "# First connect to the driver\n",
    "driver = webdriver.Chrome(\"C:\\\\Users\\\\hp\\Desktop\\\\task\\\\driver\\\\chromedriver.exe\")\n",
    "driver.maximize_window()"
   ]
  },
  {
   "cell_type": "code",
   "execution_count": 5,
   "id": "fb4a1a1a",
   "metadata": {},
   "outputs": [],
   "source": [
    "# opening the guru99 page and automated chrome browser\n",
    "driver.get(\"https://www.statisticstimes.com/economy/india/indian-states-gdp.php\")\n",
    "time.sleep(5)"
   ]
  },
  {
   "cell_type": "code",
   "execution_count": 67,
   "id": "6bb7aa3e",
   "metadata": {},
   "outputs": [],
   "source": [
    "# empty list\n",
    "\n",
    "Gsdp_Rank=[]\n",
    "State=[]\n",
    "Gsdp=[]\n",
    "Share=[]\n",
    "Gdp=[]\n",
    "Gsdp_2019=[]\n"
   ]
  },
  {
   "cell_type": "code",
   "execution_count": 68,
   "id": "e9cfeb31",
   "metadata": {},
   "outputs": [],
   "source": [
    "# collecting GSDP Rank data\n",
    "try:\n",
    "    \n",
    "    gsdp_rank=driver.find_elements(By.XPATH, '//td[@class=\"data1\"]')\n",
    "    for gs in gsdp_rank[0:34]:\n",
    "        Gsdp_Rank.append(gs.text)\n",
    "        \n",
    "except NoSuchElementException:\n",
    "    Gsdp_Rank.append(\"_\")"
   ]
  },
  {
   "cell_type": "code",
   "execution_count": 69,
   "id": "a96b49fb",
   "metadata": {},
   "outputs": [
    {
     "data": {
      "text/plain": [
       "34"
      ]
     },
     "execution_count": 69,
     "metadata": {},
     "output_type": "execute_result"
    }
   ],
   "source": [
    "len(Gsdp_Rank)"
   ]
  },
  {
   "cell_type": "code",
   "execution_count": 70,
   "id": "d6fa6434",
   "metadata": {},
   "outputs": [],
   "source": [
    "#Gsdp_Rank"
   ]
  },
  {
   "cell_type": "code",
   "execution_count": 71,
   "id": "a290c556",
   "metadata": {},
   "outputs": [],
   "source": [
    "# collecting GSDP State data\n",
    "try:\n",
    "    \n",
    "    gsdp_state=driver.find_elements(By.XPATH, '//td[@class=\"name\"]')\n",
    "    for st in gsdp_state[0:34]:\n",
    "        State.append(st.text)\n",
    "        \n",
    "except NoSuchElementException:\n",
    "    State.append(\"_\")"
   ]
  },
  {
   "cell_type": "code",
   "execution_count": 72,
   "id": "743db996",
   "metadata": {},
   "outputs": [
    {
     "data": {
      "text/plain": [
       "34"
      ]
     },
     "execution_count": 72,
     "metadata": {},
     "output_type": "execute_result"
    }
   ],
   "source": [
    "len(State)"
   ]
  },
  {
   "cell_type": "code",
   "execution_count": 73,
   "id": "1e266845",
   "metadata": {},
   "outputs": [],
   "source": [
    "#State"
   ]
  },
  {
   "cell_type": "code",
   "execution_count": 74,
   "id": "7c11eaf5",
   "metadata": {},
   "outputs": [],
   "source": [
    "# collecting State Wise GSDP data\n",
    "try:\n",
    "    \n",
    "    gsdp=driver.find_elements(By.XPATH, '//td[@class=\"data sorting_1\"]')\n",
    "    for dp in gsdp[0:34]:\n",
    "        Gsdp.append(dp.text)\n",
    "        \n",
    "except NoSuchElementException:\n",
    "    Gsdp.append(\"_\")"
   ]
  },
  {
   "cell_type": "code",
   "execution_count": 75,
   "id": "6d88df37",
   "metadata": {},
   "outputs": [
    {
     "data": {
      "text/plain": [
       "34"
      ]
     },
     "execution_count": 75,
     "metadata": {},
     "output_type": "execute_result"
    }
   ],
   "source": [
    "len(Gsdp)"
   ]
  },
  {
   "cell_type": "code",
   "execution_count": 76,
   "id": "0e84fd81",
   "metadata": {},
   "outputs": [],
   "source": [
    "#Gsdp"
   ]
  },
  {
   "cell_type": "code",
   "execution_count": 77,
   "id": "69b7178a",
   "metadata": {},
   "outputs": [],
   "source": [
    "# collecting State Wise GSDP Share data\n",
    "try:\n",
    "    \n",
    "    gsdp_share=driver.find_elements(By.XPATH, '//td[5][@class=\"data\"]')\n",
    "    for sh in gsdp_share[0:34]:\n",
    "        Share.append(sh.text)\n",
    "        \n",
    "except NoSuchElementException:\n",
    "    Share.append(\"_\")"
   ]
  },
  {
   "cell_type": "code",
   "execution_count": 78,
   "id": "c09d7844",
   "metadata": {},
   "outputs": [
    {
     "data": {
      "text/plain": [
       "34"
      ]
     },
     "execution_count": 78,
     "metadata": {},
     "output_type": "execute_result"
    }
   ],
   "source": [
    "len(Share)"
   ]
  },
  {
   "cell_type": "code",
   "execution_count": 79,
   "id": "c5afba80",
   "metadata": {},
   "outputs": [],
   "source": [
    "#Share"
   ]
  },
  {
   "cell_type": "code",
   "execution_count": 80,
   "id": "973807e8",
   "metadata": {},
   "outputs": [],
   "source": [
    "# collecting State Wise Total GDP data in billions\n",
    "try:\n",
    "    \n",
    "    gdp=driver.find_elements(By.XPATH, '//td[6][@class=\"data\"]')\n",
    "    for gd in gdp[0:34]:\n",
    "        Gdp.append(gd.text)\n",
    "        \n",
    "except NoSuchElementException:\n",
    "    Gdp.append(\"_\")"
   ]
  },
  {
   "cell_type": "code",
   "execution_count": 81,
   "id": "bac03685",
   "metadata": {},
   "outputs": [
    {
     "data": {
      "text/plain": [
       "34"
      ]
     },
     "execution_count": 81,
     "metadata": {},
     "output_type": "execute_result"
    }
   ],
   "source": [
    "len(Gdp)"
   ]
  },
  {
   "cell_type": "code",
   "execution_count": 82,
   "id": "70a9c332",
   "metadata": {},
   "outputs": [],
   "source": [
    "#Gdp"
   ]
  },
  {
   "cell_type": "code",
   "execution_count": 83,
   "id": "467b8c4b",
   "metadata": {},
   "outputs": [],
   "source": [
    "# collecting State Wise GSDP 19-20\n",
    "try:\n",
    "    \n",
    "    gsdp_19=driver.find_elements(By.XPATH, '//td[8][@class=\"data\"]')\n",
    "    for g in gsdp_19[0:34]:\n",
    "        Gsdp_2019.append(g.text)\n",
    "        \n",
    "except NoSuchElementException:\n",
    "    Gsdp_2019.append(\"_\")"
   ]
  },
  {
   "cell_type": "code",
   "execution_count": 84,
   "id": "95747562",
   "metadata": {},
   "outputs": [
    {
     "data": {
      "text/plain": [
       "34"
      ]
     },
     "execution_count": 84,
     "metadata": {},
     "output_type": "execute_result"
    }
   ],
   "source": [
    "len(Gsdp_2019)"
   ]
  },
  {
   "cell_type": "code",
   "execution_count": 85,
   "id": "bfcdb7e9",
   "metadata": {},
   "outputs": [],
   "source": [
    "#Gsdp_2019"
   ]
  },
  {
   "cell_type": "markdown",
   "id": "919585a1",
   "metadata": {},
   "source": [
    "MAKE STATE WISE GDP INDIA DATA FRAME"
   ]
  },
  {
   "cell_type": "code",
   "execution_count": 86,
   "id": "246ffe73",
   "metadata": {},
   "outputs": [],
   "source": [
    "import pandas as pd"
   ]
  },
  {
   "cell_type": "code",
   "execution_count": 89,
   "id": "a740e2fd",
   "metadata": {},
   "outputs": [],
   "source": [
    "Ind_Gdp_df=pd.DataFrame({'STATE_RANK':Gsdp_Rank, 'STATE_NAME':State, 'STATE_GSDP(18-19)':Gsdp, 'STATE_SHARE':Share, 'STATE_GDP($BILLION)':Gdp, 'STATE_GSDP(19-20)':Gsdp_2019})"
   ]
  },
  {
   "cell_type": "code",
   "execution_count": 90,
   "id": "baa7b62f",
   "metadata": {},
   "outputs": [
    {
     "data": {
      "text/html": [
       "<div>\n",
       "<style scoped>\n",
       "    .dataframe tbody tr th:only-of-type {\n",
       "        vertical-align: middle;\n",
       "    }\n",
       "\n",
       "    .dataframe tbody tr th {\n",
       "        vertical-align: top;\n",
       "    }\n",
       "\n",
       "    .dataframe thead th {\n",
       "        text-align: right;\n",
       "    }\n",
       "</style>\n",
       "<table border=\"1\" class=\"dataframe\">\n",
       "  <thead>\n",
       "    <tr style=\"text-align: right;\">\n",
       "      <th></th>\n",
       "      <th>STATE_RANK</th>\n",
       "      <th>STATE_NAME</th>\n",
       "      <th>STATE_GSDP(18-19)</th>\n",
       "      <th>STATE_SHARE</th>\n",
       "      <th>STATE_GDP($BILLION)</th>\n",
       "      <th>STATE_GSDP(19-20)</th>\n",
       "    </tr>\n",
       "  </thead>\n",
       "  <tbody>\n",
       "    <tr>\n",
       "      <th>0</th>\n",
       "      <td>1</td>\n",
       "      <td>Maharashtra</td>\n",
       "      <td>2,632,792</td>\n",
       "      <td>13.94%</td>\n",
       "      <td>399.921</td>\n",
       "      <td>2,039,074</td>\n",
       "    </tr>\n",
       "    <tr>\n",
       "      <th>1</th>\n",
       "      <td>2</td>\n",
       "      <td>Tamil Nadu</td>\n",
       "      <td>1,630,208</td>\n",
       "      <td>8.63%</td>\n",
       "      <td>247.629</td>\n",
       "      <td>1,215,307</td>\n",
       "    </tr>\n",
       "    <tr>\n",
       "      <th>2</th>\n",
       "      <td>3</td>\n",
       "      <td>Uttar Pradesh</td>\n",
       "      <td>1,584,764</td>\n",
       "      <td>8.39%</td>\n",
       "      <td>240.726</td>\n",
       "      <td>1,123,982</td>\n",
       "    </tr>\n",
       "    <tr>\n",
       "      <th>3</th>\n",
       "      <td>4</td>\n",
       "      <td>Gujarat</td>\n",
       "      <td>1,502,899</td>\n",
       "      <td>7.96%</td>\n",
       "      <td>228.290</td>\n",
       "      <td>1,186,379</td>\n",
       "    </tr>\n",
       "    <tr>\n",
       "      <th>4</th>\n",
       "      <td>5</td>\n",
       "      <td>Karnataka</td>\n",
       "      <td>1,493,127</td>\n",
       "      <td>7.91%</td>\n",
       "      <td>226.806</td>\n",
       "      <td>1,091,077</td>\n",
       "    </tr>\n",
       "    <tr>\n",
       "      <th>5</th>\n",
       "      <td>6</td>\n",
       "      <td>West Bengal</td>\n",
       "      <td>1,089,898</td>\n",
       "      <td>5.77%</td>\n",
       "      <td>165.556</td>\n",
       "      <td>739,525</td>\n",
       "    </tr>\n",
       "    <tr>\n",
       "      <th>6</th>\n",
       "      <td>7</td>\n",
       "      <td>Rajasthan</td>\n",
       "      <td>942,586</td>\n",
       "      <td>4.99%</td>\n",
       "      <td>143.179</td>\n",
       "      <td>677,428</td>\n",
       "    </tr>\n",
       "    <tr>\n",
       "      <th>7</th>\n",
       "      <td>8</td>\n",
       "      <td>Andhra Pradesh</td>\n",
       "      <td>862,957</td>\n",
       "      <td>4.57%</td>\n",
       "      <td>131.083</td>\n",
       "      <td>621,301</td>\n",
       "    </tr>\n",
       "    <tr>\n",
       "      <th>8</th>\n",
       "      <td>9</td>\n",
       "      <td>Telangana</td>\n",
       "      <td>861,031</td>\n",
       "      <td>4.56%</td>\n",
       "      <td>130.791</td>\n",
       "      <td>612,828</td>\n",
       "    </tr>\n",
       "    <tr>\n",
       "      <th>9</th>\n",
       "      <td>10</td>\n",
       "      <td>Madhya Pradesh</td>\n",
       "      <td>809,592</td>\n",
       "      <td>4.29%</td>\n",
       "      <td>122.977</td>\n",
       "      <td>522,009</td>\n",
       "    </tr>\n",
       "    <tr>\n",
       "      <th>10</th>\n",
       "      <td>11</td>\n",
       "      <td>Kerala</td>\n",
       "      <td>781,653</td>\n",
       "      <td>4.14%</td>\n",
       "      <td>118.733</td>\n",
       "      <td>559,412</td>\n",
       "    </tr>\n",
       "    <tr>\n",
       "      <th>11</th>\n",
       "      <td>12</td>\n",
       "      <td>Delhi</td>\n",
       "      <td>774,870</td>\n",
       "      <td>4.10%</td>\n",
       "      <td>117.703</td>\n",
       "      <td>590,569</td>\n",
       "    </tr>\n",
       "    <tr>\n",
       "      <th>12</th>\n",
       "      <td>13</td>\n",
       "      <td>Haryana</td>\n",
       "      <td>734,163</td>\n",
       "      <td>3.89%</td>\n",
       "      <td>111.519</td>\n",
       "      <td>531,085</td>\n",
       "    </tr>\n",
       "    <tr>\n",
       "      <th>13</th>\n",
       "      <td>14</td>\n",
       "      <td>Bihar</td>\n",
       "      <td>530,363</td>\n",
       "      <td>2.81%</td>\n",
       "      <td>80.562</td>\n",
       "      <td>375,651</td>\n",
       "    </tr>\n",
       "    <tr>\n",
       "      <th>14</th>\n",
       "      <td>15</td>\n",
       "      <td>Punjab</td>\n",
       "      <td>526,376</td>\n",
       "      <td>2.79%</td>\n",
       "      <td>79.957</td>\n",
       "      <td>397,669</td>\n",
       "    </tr>\n",
       "    <tr>\n",
       "      <th>15</th>\n",
       "      <td>16</td>\n",
       "      <td>Odisha</td>\n",
       "      <td>487,805</td>\n",
       "      <td>2.58%</td>\n",
       "      <td>74.098</td>\n",
       "      <td>376,877</td>\n",
       "    </tr>\n",
       "    <tr>\n",
       "      <th>16</th>\n",
       "      <td>17</td>\n",
       "      <td>Assam</td>\n",
       "      <td>315,881</td>\n",
       "      <td>1.67%</td>\n",
       "      <td>47.982</td>\n",
       "      <td>234,048</td>\n",
       "    </tr>\n",
       "    <tr>\n",
       "      <th>17</th>\n",
       "      <td>18</td>\n",
       "      <td>Chhattisgarh</td>\n",
       "      <td>304,063</td>\n",
       "      <td>1.61%</td>\n",
       "      <td>46.187</td>\n",
       "      <td>231,182</td>\n",
       "    </tr>\n",
       "    <tr>\n",
       "      <th>18</th>\n",
       "      <td>19</td>\n",
       "      <td>Jharkhand</td>\n",
       "      <td>297,204</td>\n",
       "      <td>1.57%</td>\n",
       "      <td>45.145</td>\n",
       "      <td>224,986</td>\n",
       "    </tr>\n",
       "    <tr>\n",
       "      <th>19</th>\n",
       "      <td>20</td>\n",
       "      <td>Uttarakhand</td>\n",
       "      <td>245,895</td>\n",
       "      <td>1.30%</td>\n",
       "      <td>37.351</td>\n",
       "      <td>193,273</td>\n",
       "    </tr>\n",
       "    <tr>\n",
       "      <th>20</th>\n",
       "      <td>21</td>\n",
       "      <td>Jammu &amp; Kashmir</td>\n",
       "      <td>155,956</td>\n",
       "      <td>0.83%</td>\n",
       "      <td>23.690</td>\n",
       "      <td>112,755</td>\n",
       "    </tr>\n",
       "    <tr>\n",
       "      <th>21</th>\n",
       "      <td>22</td>\n",
       "      <td>Himachal Pradesh</td>\n",
       "      <td>153,845</td>\n",
       "      <td>0.81%</td>\n",
       "      <td>23.369</td>\n",
       "      <td>117,851</td>\n",
       "    </tr>\n",
       "    <tr>\n",
       "      <th>22</th>\n",
       "      <td>23</td>\n",
       "      <td>Goa</td>\n",
       "      <td>73,170</td>\n",
       "      <td>0.39%</td>\n",
       "      <td>11.115</td>\n",
       "      <td>57,787</td>\n",
       "    </tr>\n",
       "    <tr>\n",
       "      <th>23</th>\n",
       "      <td>24</td>\n",
       "      <td>Tripura</td>\n",
       "      <td>49,845</td>\n",
       "      <td>0.26%</td>\n",
       "      <td>7.571</td>\n",
       "      <td>36,963</td>\n",
       "    </tr>\n",
       "    <tr>\n",
       "      <th>24</th>\n",
       "      <td>25</td>\n",
       "      <td>Chandigarh</td>\n",
       "      <td>42,114</td>\n",
       "      <td>0.22%</td>\n",
       "      <td>6.397</td>\n",
       "      <td>31,192</td>\n",
       "    </tr>\n",
       "    <tr>\n",
       "      <th>25</th>\n",
       "      <td>26</td>\n",
       "      <td>Puducherry</td>\n",
       "      <td>34,433</td>\n",
       "      <td>0.18%</td>\n",
       "      <td>5.230</td>\n",
       "      <td>23,013</td>\n",
       "    </tr>\n",
       "    <tr>\n",
       "      <th>26</th>\n",
       "      <td>27</td>\n",
       "      <td>Meghalaya</td>\n",
       "      <td>33,481</td>\n",
       "      <td>0.18%</td>\n",
       "      <td>5.086</td>\n",
       "      <td>24,682</td>\n",
       "    </tr>\n",
       "    <tr>\n",
       "      <th>27</th>\n",
       "      <td>28</td>\n",
       "      <td>Sikkim</td>\n",
       "      <td>28,723</td>\n",
       "      <td>0.15%</td>\n",
       "      <td>4.363</td>\n",
       "      <td>18,722</td>\n",
       "    </tr>\n",
       "    <tr>\n",
       "      <th>28</th>\n",
       "      <td>29</td>\n",
       "      <td>Manipur</td>\n",
       "      <td>27,870</td>\n",
       "      <td>0.15%</td>\n",
       "      <td>4.233</td>\n",
       "      <td>19,300</td>\n",
       "    </tr>\n",
       "    <tr>\n",
       "      <th>29</th>\n",
       "      <td>30</td>\n",
       "      <td>Nagaland</td>\n",
       "      <td>27,283</td>\n",
       "      <td>0.14%</td>\n",
       "      <td>4.144</td>\n",
       "      <td>17,647</td>\n",
       "    </tr>\n",
       "    <tr>\n",
       "      <th>30</th>\n",
       "      <td>31</td>\n",
       "      <td>Arunachal Pradesh</td>\n",
       "      <td>24,603</td>\n",
       "      <td>0.13%</td>\n",
       "      <td>3.737</td>\n",
       "      <td>16,676</td>\n",
       "    </tr>\n",
       "    <tr>\n",
       "      <th>31</th>\n",
       "      <td>32</td>\n",
       "      <td>Mizoram</td>\n",
       "      <td>22,287</td>\n",
       "      <td>0.12%</td>\n",
       "      <td>3.385</td>\n",
       "      <td>16,478</td>\n",
       "    </tr>\n",
       "    <tr>\n",
       "      <th>32</th>\n",
       "      <td>33</td>\n",
       "      <td>Andaman &amp; Nicobar Islands</td>\n",
       "      <td>-</td>\n",
       "      <td>-</td>\n",
       "      <td>-</td>\n",
       "      <td>-</td>\n",
       "    </tr>\n",
       "    <tr>\n",
       "      <th>33</th>\n",
       "      <td></td>\n",
       "      <td>India</td>\n",
       "      <td>2,332,992</td>\n",
       "      <td></td>\n",
       "      <td>2,869</td>\n",
       "      <td>14,003,316</td>\n",
       "    </tr>\n",
       "  </tbody>\n",
       "</table>\n",
       "</div>"
      ],
      "text/plain": [
       "   STATE_RANK                 STATE_NAME STATE_GSDP(18-19) STATE_SHARE  \\\n",
       "0           1                Maharashtra         2,632,792      13.94%   \n",
       "1           2                 Tamil Nadu         1,630,208       8.63%   \n",
       "2           3              Uttar Pradesh         1,584,764       8.39%   \n",
       "3           4                    Gujarat         1,502,899       7.96%   \n",
       "4           5                  Karnataka         1,493,127       7.91%   \n",
       "5           6                West Bengal         1,089,898       5.77%   \n",
       "6           7                  Rajasthan           942,586       4.99%   \n",
       "7           8             Andhra Pradesh           862,957       4.57%   \n",
       "8           9                  Telangana           861,031       4.56%   \n",
       "9          10             Madhya Pradesh           809,592       4.29%   \n",
       "10         11                     Kerala           781,653       4.14%   \n",
       "11         12                      Delhi           774,870       4.10%   \n",
       "12         13                    Haryana           734,163       3.89%   \n",
       "13         14                      Bihar           530,363       2.81%   \n",
       "14         15                     Punjab           526,376       2.79%   \n",
       "15         16                     Odisha           487,805       2.58%   \n",
       "16         17                      Assam           315,881       1.67%   \n",
       "17         18               Chhattisgarh           304,063       1.61%   \n",
       "18         19                  Jharkhand           297,204       1.57%   \n",
       "19         20                Uttarakhand           245,895       1.30%   \n",
       "20         21            Jammu & Kashmir           155,956       0.83%   \n",
       "21         22           Himachal Pradesh           153,845       0.81%   \n",
       "22         23                        Goa            73,170       0.39%   \n",
       "23         24                    Tripura            49,845       0.26%   \n",
       "24         25                 Chandigarh            42,114       0.22%   \n",
       "25         26                 Puducherry            34,433       0.18%   \n",
       "26         27                  Meghalaya            33,481       0.18%   \n",
       "27         28                     Sikkim            28,723       0.15%   \n",
       "28         29                    Manipur            27,870       0.15%   \n",
       "29         30                   Nagaland            27,283       0.14%   \n",
       "30         31          Arunachal Pradesh            24,603       0.13%   \n",
       "31         32                    Mizoram            22,287       0.12%   \n",
       "32         33  Andaman & Nicobar Islands                 -           -   \n",
       "33                                 India         2,332,992               \n",
       "\n",
       "   STATE_GDP($BILLION) STATE_GSDP(19-20)  \n",
       "0              399.921         2,039,074  \n",
       "1              247.629         1,215,307  \n",
       "2              240.726         1,123,982  \n",
       "3              228.290         1,186,379  \n",
       "4              226.806         1,091,077  \n",
       "5              165.556           739,525  \n",
       "6              143.179           677,428  \n",
       "7              131.083           621,301  \n",
       "8              130.791           612,828  \n",
       "9              122.977           522,009  \n",
       "10             118.733           559,412  \n",
       "11             117.703           590,569  \n",
       "12             111.519           531,085  \n",
       "13              80.562           375,651  \n",
       "14              79.957           397,669  \n",
       "15              74.098           376,877  \n",
       "16              47.982           234,048  \n",
       "17              46.187           231,182  \n",
       "18              45.145           224,986  \n",
       "19              37.351           193,273  \n",
       "20              23.690           112,755  \n",
       "21              23.369           117,851  \n",
       "22              11.115            57,787  \n",
       "23               7.571            36,963  \n",
       "24               6.397            31,192  \n",
       "25               5.230            23,013  \n",
       "26               5.086            24,682  \n",
       "27               4.363            18,722  \n",
       "28               4.233            19,300  \n",
       "29               4.144            17,647  \n",
       "30               3.737            16,676  \n",
       "31               3.385            16,478  \n",
       "32                   -                 -  \n",
       "33               2,869        14,003,316  "
      ]
     },
     "execution_count": 90,
     "metadata": {},
     "output_type": "execute_result"
    }
   ],
   "source": [
    "Ind_Gdp_df"
   ]
  },
  {
   "cell_type": "code",
   "execution_count": 91,
   "id": "bde7648c",
   "metadata": {},
   "outputs": [],
   "source": [
    "driver.close()"
   ]
  },
  {
   "cell_type": "markdown",
   "id": "96fcc92b",
   "metadata": {},
   "source": [
    "# 5. Scrape the details of trending repositories on Github.com.\n",
    "Url = https://github.com/\n",
    "You have to find the following details:\n",
    "A) Repository title\n",
    "B) Repository description\n",
    "C) Contributors count\n",
    "D) Language used\n",
    "Note: - From the home page you have to click on the trending option from Explore menu through code"
   ]
  },
  {
   "cell_type": "code",
   "execution_count": 92,
   "id": "e1216a94",
   "metadata": {},
   "outputs": [],
   "source": [
    "# First connect to the driver\n",
    "driver = webdriver.Chrome(\"C:\\\\Users\\\\hp\\Desktop\\\\task\\\\driver\\\\chromedriver.exe\")\n",
    "driver.maximize_window()"
   ]
  },
  {
   "cell_type": "code",
   "execution_count": 93,
   "id": "79ad9904",
   "metadata": {},
   "outputs": [],
   "source": [
    "# opening the github page and automated chrome browser\n",
    "driver.get(\"https://github.com/trending\")\n",
    "time.sleep(5)"
   ]
  },
  {
   "cell_type": "code",
   "execution_count": 166,
   "id": "b86ff857",
   "metadata": {},
   "outputs": [],
   "source": [
    "# create empty list of trending respositories on github\n",
    "\n",
    "Resp_Title=[]\n",
    "Resp_Desc=[]\n",
    "Resp_cont=[]\n",
    "Lang_Used=[]\n",
    "\n"
   ]
  },
  {
   "cell_type": "code",
   "execution_count": 162,
   "id": "fc351352",
   "metadata": {},
   "outputs": [],
   "source": [
    "# collecting Respositories Title\n",
    "try:\n",
    "    \n",
    "    resp_tit=driver.find_elements(By.XPATH, '//span[@class=\"text-normal\"]')\n",
    "    for tit in resp_tit:\n",
    "        Resp_Title.append(tit.text.replace('/', ' ',))\n",
    "        \n",
    "except NoSuchElementException:\n",
    "    Resp_Title.append(\"_\")"
   ]
  },
  {
   "cell_type": "code",
   "execution_count": 120,
   "id": "3df53cd3",
   "metadata": {},
   "outputs": [
    {
     "data": {
      "text/plain": [
       "25"
      ]
     },
     "execution_count": 120,
     "metadata": {},
     "output_type": "execute_result"
    }
   ],
   "source": [
    "len(Resp_Title)"
   ]
  },
  {
   "cell_type": "code",
   "execution_count": 126,
   "id": "42eb7e1c",
   "metadata": {},
   "outputs": [
    {
     "name": "stdout",
     "output_type": "stream",
     "text": [
      "['refinedev  ', 'Sanster  ', 'yangshun  ', 'milanm  ', 'SagerNet  ', 'alirezadir  ', 'NCSC-NL  ', 'jwasham  ', 'jamealg  ', 'Taiga74164  ', 'commaai  ', 'poteto  ', 'remix-run  ', 'openssl  ', 'colmmacc  ', 'TeamNewPipe  ', 'nvm-sh  ', 'facebookresearch  ', 'windows-powertool  ', 'SheerSt  ', 'grafana  ', 'kubernetes  ', 'microsoft  ', 'NVIDIA  ', 'puppeteer  ']\n"
     ]
    }
   ],
   "source": [
    "print(Resp_Title)"
   ]
  },
  {
   "cell_type": "code",
   "execution_count": 122,
   "id": "25065e32",
   "metadata": {},
   "outputs": [],
   "source": [
    "# collecting Respositories Descriotion\n",
    "try:\n",
    "    \n",
    "    resp_des=driver.find_elements(By.XPATH, '//p[@class=\"col-9 color-fg-muted my-1 pr-4\"]')\n",
    "    for ds in resp_des[0:26]:\n",
    "        Resp_Desc.append(ds.text)\n",
    "        \n",
    "except NoSuchElementException:\n",
    "    Resp_Desc.append(\"_\")"
   ]
  },
  {
   "cell_type": "code",
   "execution_count": 123,
   "id": "8bba956c",
   "metadata": {},
   "outputs": [
    {
     "data": {
      "text/plain": [
       "24"
      ]
     },
     "execution_count": 123,
     "metadata": {},
     "output_type": "execute_result"
    }
   ],
   "source": [
    "len(Resp_Desc)"
   ]
  },
  {
   "cell_type": "code",
   "execution_count": 125,
   "id": "bc827858",
   "metadata": {},
   "outputs": [
    {
     "name": "stdout",
     "output_type": "stream",
     "text": [
      "['Build your React-based CRUD applications, without constraints.', 'Image inpainting tool powered by SOTA AI Model. Remove any unwanted object, defect, people from your pictures or erase and replace(powered by stable diffusion) any thing on your pictures.', '💯 Curated coding interview preparation materials for busy software engineers', 'DevOps Roadmap for 2022. with learning resources', 'The universal proxy platform', 'This repo is meant to serve as a guide for Machine Learning/AI technical interviews.', 'Operational information regarding CVE-2022-3602 and CVE-2022-3786, two vulnerabilities in OpenSSL 3', 'A complete computer science study plan to become a software engineer.', 'A hiking and backpacking trail companion progressive web app', 'Akebi Genshin Cheat source for OS/CN 3.0', 'openpilot is an open source driver assistance system. openpilot performs the functions of Automated Lane Centering and Adaptive Cruise Control for over 200 supported car makes and models.', \"⭐️ Companies that don't have a broken hiring process\", 'Build Better Websites. Create modern, resilient user experiences with web fundamentals.', 'TLS/SSL and crypto library', 'A libre lightweight streaming front-end for Android.', 'Node Version Manager - POSIX-compliant bash script to manage multiple active node.js versions', 'Evolutionary Scale Modeling (esm): Pretrained language models for proteins', 'Windows powertool is a windows 10 and 11 utility designed to provide one click solution to reduce and trim down unnecessary burden that comes by default with windows. its used to Improve speed, remove bloatware, protect privacy, eliminate data collection, and so more.', 'PokeWilds - A Gen 2 Game/Engine using libGDX', 'The open and composable observability and data visualization platform. Visualize metrics, logs, and traces from multiple sources like Prometheus, Loki, Elasticsearch, InfluxDB, Postgres and many more.', 'Go client for Kubernetes.', 'Windows system utilities to maximize productivity', 'Deep Learning Examples', 'Headless Chrome Node.js API']\n"
     ]
    }
   ],
   "source": [
    "print(Resp_Desc)"
   ]
  },
  {
   "cell_type": "code",
   "execution_count": 153,
   "id": "d7c2f60d",
   "metadata": {},
   "outputs": [],
   "source": [
    "# collecting Respositories Contribution Count\n",
    "try:\n",
    "    \n",
    "    resp_count=driver.find_elements(By.XPATH, '//span[@class=\"d-inline-block mr-3\"]//a')\n",
    "    for ct in resp_count:\n",
    "        Resp_cont.append(ct.get_attribute('href'))\n",
    "        \n",
    "except NoSuchElementException:\n",
    "    Resp_cont.append(\"_\")"
   ]
  },
  {
   "cell_type": "code",
   "execution_count": 154,
   "id": "8cc05858",
   "metadata": {},
   "outputs": [
    {
     "data": {
      "text/plain": [
       "110"
      ]
     },
     "execution_count": 154,
     "metadata": {},
     "output_type": "execute_result"
    }
   ],
   "source": [
    "len(Resp_cont)"
   ]
  },
  {
   "cell_type": "code",
   "execution_count": 156,
   "id": "a0ef6028",
   "metadata": {},
   "outputs": [
    {
     "name": "stdout",
     "output_type": "stream",
     "text": [
      "['https://github.com/omeraplak', 'https://github.com/refine-bot', 'https://github.com/apps/github-actions', 'https://github.com/salihozdemir', 'https://github.com/necatiozmen', 'https://github.com/Sanster', 'https://github.com/blessedcoolant', 'https://github.com/loretoparisi', 'https://github.com/Niek', 'https://github.com/BedirYilmaz', 'https://github.com/yangshun', 'https://github.com/keanecjy', 'https://github.com/s7u4rt99', 'https://github.com/jeffsieu', 'https://github.com/peironggg', 'https://github.com/milanm', 'https://github.com/davidmpaz', 'https://github.com/freiheit', 'https://github.com/nekohasekai', 'https://github.com/H1JK', 'https://github.com/dyhkwong', 'https://github.com/reeceyng', 'https://github.com/alirezadir', 'https://github.com/mehdizade', 'https://github.com/erjanmx', 'https://github.com/Anirudh257', 'https://github.com/aroraayush', 'https://github.com/pbeij', 'https://github.com/rkokkelk', 'https://github.com/jspaans91', 'https://github.com/sannemaasakkers', 'https://github.com/roycewilliams', 'https://github.com/jwasham', 'https://github.com/Anri-Lombard', 'https://github.com/avizmarlon', 'https://github.com/esaucedof', 'https://github.com/Ilyushin', 'https://github.com/jamealg', 'https://github.com/Taiga74164', 'https://github.com/CallowBlack', 'https://github.com/CPP-Callow', 'https://github.com/harlanx', 'https://github.com/andiabrudan', 'https://github.com/adeebshihadeh', 'https://github.com/pd0wm', 'https://github.com/deanlee', 'https://github.com/sshane', 'https://github.com/HaraldSchafer', 'https://github.com/apps/bors', 'https://github.com/poteto', 'https://github.com/abdusabri', 'https://github.com/trpalmer', 'https://github.com/stansotn', 'https://github.com/mjackson', 'https://github.com/chaance', 'https://github.com/ryanflorence', 'https://github.com/MichaelDeBoey', 'https://github.com/mcansh', 'https://github.com/levitte', 'https://github.com/mattcaswell', 'https://github.com/dot-asm', 'https://github.com/snhenson', 'https://github.com/richsalz', 'https://github.com/colmmacc', 'https://github.com/theScrabi', 'https://github.com/TobiGr', 'https://github.com/Stypox', 'https://github.com/litetex', 'https://github.com/weblate', 'https://github.com/ljharb', 'https://github.com/PeterDaveHello', 'https://github.com/creationix', 'https://github.com/koenpunt', 'https://github.com/lukechilds', 'https://github.com/tomsercu', 'https://github.com/joshim5', 'https://github.com/rmrao', 'https://github.com/liujas000', 'https://github.com/ebetica', 'https://github.com/windows-powertool', 'https://github.com/SheerSt', 'https://github.com/Liminalia', 'https://github.com/MayaSeii', 'https://github.com/leCharade', 'https://github.com/ForeverBurning', 'https://github.com/torkelo', 'https://github.com/bergquist', 'https://github.com/marefr', 'https://github.com/ryantxu', 'https://github.com/daniellee', 'https://github.com/k8s-publishing-bot', 'https://github.com/k8s-publish-robot', 'https://github.com/liggitt', 'https://github.com/caesarxuchao', 'https://github.com/dims', 'https://github.com/crutkas', 'https://github.com/bao-qian', 'https://github.com/qianlifeng', 'https://github.com/jjw24', 'https://github.com/yuyoyuppe', 'https://github.com/nv-kkudrynski', 'https://github.com/nvpstr', 'https://github.com/GrzegorzKarchNV', 'https://github.com/alancucki', 'https://github.com/sharathts', 'https://github.com/aslushnikov', 'https://github.com/jrandolf', 'https://github.com/jackfranklin', 'https://github.com/OrKoN', 'https://github.com/apps/dependabot']\n"
     ]
    }
   ],
   "source": [
    "print(Resp_cont)"
   ]
  },
  {
   "cell_type": "code",
   "execution_count": 167,
   "id": "d9ae017c",
   "metadata": {},
   "outputs": [],
   "source": [
    "# collecting Respositories Language Used\n",
    "try:\n",
    "    \n",
    "    resp_lan=driver.find_elements(By.XPATH, '//span[@class=\"d-inline-block ml-0 mr-3\"]')\n",
    "    for ln in resp_lan:\n",
    "        Lang_Used.append(ln.text)\n",
    "        \n",
    "except NoSuchElementException:\n",
    "    Lang_Used.append(\"_\")"
   ]
  },
  {
   "cell_type": "code",
   "execution_count": 168,
   "id": "f480fbf2",
   "metadata": {},
   "outputs": [
    {
     "data": {
      "text/plain": [
       "21"
      ]
     },
     "execution_count": 168,
     "metadata": {},
     "output_type": "execute_result"
    }
   ],
   "source": [
    "len(Lang_Used)"
   ]
  },
  {
   "cell_type": "code",
   "execution_count": 169,
   "id": "51ef23da",
   "metadata": {},
   "outputs": [
    {
     "name": "stdout",
     "output_type": "stream",
     "text": [
      "['TypeScript', 'Python', 'TypeScript', 'Go', 'Jupyter Notebook', 'JavaScript', 'C++', 'Python', 'JavaScript', 'TypeScript', 'C', 'Python', 'Java', 'Shell', 'Python', 'Assembly', 'TypeScript', 'Go', 'C#', 'Python', 'TypeScript']\n"
     ]
    }
   ],
   "source": [
    "print(Lang_Used)"
   ]
  },
  {
   "cell_type": "code",
   "execution_count": 170,
   "id": "1b3c73d2",
   "metadata": {},
   "outputs": [],
   "source": [
    "driver.close()"
   ]
  },
  {
   "cell_type": "markdown",
   "id": "52d51b73",
   "metadata": {},
   "source": [
    "# 6. Scrape the details of top 100 songs on billiboard.com. Url = https:/www.billboard.com/\n",
    "You have to find the following details:\n",
    "A) Song name\n",
    "B) Artist name\n",
    "C) Last week rank\n",
    "D) Peak rank\n",
    "E) Weeks on board\n",
    "Note: - From the home page you have to click on the charts option then hot 100-page link through code"
   ]
  },
  {
   "cell_type": "code",
   "execution_count": 214,
   "id": "ca1c9d11",
   "metadata": {},
   "outputs": [],
   "source": [
    "# First connect to the driver\n",
    "driver = webdriver.Chrome(\"C:\\\\Users\\\\hp\\Desktop\\\\task\\\\driver\\\\chromedriver.exe\")\n",
    "driver.maximize_window()"
   ]
  },
  {
   "cell_type": "code",
   "execution_count": 215,
   "id": "0100b10f",
   "metadata": {},
   "outputs": [],
   "source": [
    "# opening the billboard.com page and automated chrome browser\n",
    "driver.get(\"https://www.billboard.com/charts/hot-100/\")\n",
    "time.sleep(5)"
   ]
  },
  {
   "cell_type": "code",
   "execution_count": 275,
   "id": "3458d56c",
   "metadata": {},
   "outputs": [],
   "source": [
    "# create empty list\n",
    "\n",
    "Song_N=[]\n",
    "Artist_N=[]\n",
    "Last_week_rank=[]\n",
    "Peak_rank=[]\n",
    "Weeks_on_board=[]"
   ]
  },
  {
   "cell_type": "code",
   "execution_count": 276,
   "id": "c4b84266",
   "metadata": {},
   "outputs": [],
   "source": [
    "# collecting song name\n",
    "try:\n",
    "    \n",
    "    song=driver.find_elements(By.XPATH, '//ul[@class=\"lrv-a-unstyle-list lrv-u-flex lrv-u-height-100p lrv-u-flex-direction-column@mobile-max\"]//h3')\n",
    "    for n in song:\n",
    "        Song_N.append(n.text)\n",
    "        \n",
    "except NoSuchElementException:\n",
    "    Song_N.append(\"_\")"
   ]
  },
  {
   "cell_type": "code",
   "execution_count": 277,
   "id": "4f9a74b9",
   "metadata": {},
   "outputs": [
    {
     "name": "stdout",
     "output_type": "stream",
     "text": [
      "['Anti-Hero', 'Lavender Haze', 'Maroon', 'Snow On The Beach', 'Midnight Rain', 'Bejeweled', 'Question...?', \"You're On Your Own, Kid\", 'Karma', 'Vigilante Shit', 'Unholy', 'Bad Habit', 'Mastermind', 'Labyrinth', 'Sweet Nothing', 'As It Was', 'I Like You (A Happier Song)', \"I Ain't Worried\", 'You Proof', \"Would've, Could've, Should've\", 'Bigger Than The Whole Sky', 'Super Freaky Girl', 'Sunroof', \"I'm Good (Blue)\", 'Under The Influence', 'The Great War', 'Vegas', 'Something In The Orange', 'Wasted On You', 'Jimmy Cooks', 'Wait For U', 'Paris', 'High Infidelity', 'Tomorrow 2', 'Titi Me Pregunto', 'About Damn Time', 'The Kind Of Love We Make', 'Late Night Talking', 'Cuff It', 'She Had Me At Heads Carolina', 'Glitch', 'Me Porto Bonito', 'Die For You', 'California Breeze', 'Dear Reader', 'Forever', 'Hold Me Closer', 'Just Wanna Rock', '5 Foot 9', 'Unstoppable', 'Thank God', 'Fall In Love', 'Rock And A Hard Place', 'Golden Hour', 'Heyy', 'Half Of Me', 'Until I Found You', 'Victoria’s Secret', 'Son Of A Sinner', \"Star Walkin' (League Of Legends Worlds Anthem)\", 'Romantic Homicide', 'What My World Spins Around', 'Real Spill', \"Don't Come Lookin'\", 'Monotonia', 'Stand On It', 'Never Hating', 'Wishful Drinking', 'No Se Va', 'Free Mind', 'Not Finished', 'Music For A Sushi Restaurant', 'Pop Out', 'Staying Alive', 'Poland', 'Whiskey On You', 'Billie Eilish.', 'Betty (Get Money)', '2 Be Loved (Am I Ready)', 'Wait In The Truck', 'All Mine', 'La Bachata', 'Last Last', 'Glimpse Of Us', 'Freestyle', 'Calm Down', 'Gatubela', 'Evergreen', 'Pick Me Up', 'Gotta Move On', 'Perfect Timing', 'Country On', 'Snap', 'She Likes It', 'Made You Look', 'Dark Red', 'From Now On', 'Forget Me', 'Miss You', 'Despecha']\n"
     ]
    }
   ],
   "source": [
    "print(Song_N)"
   ]
  },
  {
   "cell_type": "code",
   "execution_count": 278,
   "id": "cf6df3ec",
   "metadata": {},
   "outputs": [],
   "source": [
    "# collecting Artist name\n",
    "try:\n",
    "    \n",
    "    artist=driver.find_elements(By.XPATH, '//li[4][@class=\"lrv-u-width-100p\"]//li[1]//span')\n",
    "    for a in artist:\n",
    "        Artist_N.append(a.text)\n",
    "        \n",
    "except NoSuchElementException:\n",
    "    Artist_N.append(\"_\")"
   ]
  },
  {
   "cell_type": "code",
   "execution_count": 279,
   "id": "766095c4",
   "metadata": {},
   "outputs": [
    {
     "name": "stdout",
     "output_type": "stream",
     "text": [
      "['Taylor Swift', 'Taylor Swift', 'Taylor Swift', 'Taylor Swift Featuring Lana Del Rey', 'Taylor Swift', 'Taylor Swift', 'Taylor Swift', 'Taylor Swift', 'Taylor Swift', 'Taylor Swift', 'Sam Smith & Kim Petras', 'Steve Lacy', 'Taylor Swift', 'Taylor Swift', 'Taylor Swift', 'Harry Styles', 'Post Malone Featuring Doja Cat', 'OneRepublic', 'Morgan Wallen', 'Taylor Swift', 'Taylor Swift', 'Nicki Minaj', 'Nicky Youre & dazy', 'David Guetta & Bebe Rexha', 'Chris Brown', 'Taylor Swift', 'Doja Cat', 'Zach Bryan', 'Morgan Wallen', 'Drake Featuring 21 Savage', 'Future Featuring Drake & Tems', 'Taylor Swift', 'Taylor Swift', 'GloRilla & Cardi B', 'Bad Bunny', 'Lizzo', 'Luke Combs', 'Harry Styles', 'Beyonce', 'Cole Swindell', 'Taylor Swift', 'Bad Bunny & Chencho Corleone', 'The Weeknd', 'Lil Baby', 'Taylor Swift', 'Lil Baby Featuring Fridayy', 'Elton John & Britney Spears', 'Lil Uzi Vert', 'Tyler Hubbard', 'Sia', 'Kane Brown With Katelyn Brown', 'Bailey Zimmerman', 'Bailey Zimmerman', 'JVKE', 'Lil Baby', 'Thomas Rhett Featuring Riley Green', 'Stephen Sanchez', 'Jax', 'Jelly Roll', 'Lil Nas X', 'd4vd', 'Jordan Davis', 'Lil Baby', 'Jackson Dean', 'Shakira + Ozuna', 'Lil Baby', 'Lil Baby & Young Thug', 'Ingrid Andress With Sam Hunt', 'Grupo Frontera', 'Tems', 'Lil Baby', 'Harry Styles', 'Lil Baby & Nardo Wick', 'DJ Khaled Featuring Drake & Lil Baby', 'Lil Yachty', 'Nate Smith', 'Armani White', 'Yung Gravy', 'Lizzo', 'HARDY Featuring Lainey Wilson', 'Brent Faiyaz', 'Manuel Turizo', 'Burna Boy', 'Joji', 'Lil Baby', 'Rema & Selena Gomez', 'Karol G x Maldy', 'Omar Apollo', 'Gabby Barrett', 'Diddy & Bryson Tiller', 'Lil Baby', 'Luke Bryan', 'Rosa Linn', 'Russell Dickerson & Jake Scott', 'Meghan Trainor', 'Steve Lacy', 'Lil Baby Featuring Future', 'Lewis Capaldi', 'Oliver Tree & Robin Schulz', 'Rosalia']\n"
     ]
    }
   ],
   "source": [
    "print(Artist_N)"
   ]
  },
  {
   "cell_type": "code",
   "execution_count": 280,
   "id": "0cce15eb",
   "metadata": {},
   "outputs": [],
   "source": [
    "# collecting Artist last week rank\n",
    "try:\n",
    "    \n",
    "    lw_rank=driver.find_elements(By.XPATH, '//li[3][@class=\"o-chart-results-list__item // a-chart-color u-width-72 u-width-55@mobile-max u-width-55@tablet-only lrv-u-flex lrv-u-flex-shrink-0 lrv-u-align-items-center lrv-u-justify-content-center lrv-u-border-b-1 u-border-b-0@mobile-max lrv-u-border-color-grey-light u-background-color-white-064@mobile-max lrv-u-flex-grow-1\"]//span')\n",
    "    for lwr in lw_rank:\n",
    "        Last_week_rank.append(lwr.text)\n",
    "        \n",
    "except NoSuchElementException:\n",
    "    Last_week_rank.append(\"_\")"
   ]
  },
  {
   "cell_type": "code",
   "execution_count": 281,
   "id": "5554b898",
   "metadata": {},
   "outputs": [
    {
     "name": "stdout",
     "output_type": "stream",
     "text": [
      "['-', '-', '-', '-', '-', '-', '-', '-', '-', '-', '1', '2', '-', '-', '-', '3', '5', '6', '7', '-', '-', '9', '11', '14', '29', '-', '13', '12', '17', '31', '18', '-', '-', '24', '25', '20', '23', '27', '33', '28', '-', '30', '37', '4', '-', '8', '34', '86', '41', '39', '38', '36', '35', '62', '21', '63', '48', '47', '49', '43', '46', '51', '10', '50', '-', '22', '19', '60', '67', '65', '26', '74', '15', '66', '40', '55', '71', '59', '72', '75', '78', '82', '73', '56', '84', '89', '83', '77', '90', '79', '32', '91', '95', '93', '-', '-', '42', '99', '-', '92']\n"
     ]
    }
   ],
   "source": [
    "print(Last_week_rank)"
   ]
  },
  {
   "cell_type": "code",
   "execution_count": 282,
   "id": "02c4536b",
   "metadata": {},
   "outputs": [],
   "source": [
    "# collecting Artist Peak rank\n",
    "try:\n",
    "    \n",
    "    pk_rank=driver.find_elements(By.XPATH, '//li[@class=\"o-chart-results-list__item // a-chart-bg-color a-chart-color u-width-72 u-width-55@mobile-max u-width-55@tablet-only lrv-u-flex lrv-u-flex-shrink-0 lrv-u-align-items-center lrv-u-justify-content-center lrv-u-background-color-grey-lightest lrv-u-border-b-1 u-border-b-0@mobile-max lrv-u-border-color-grey-light lrv-u-flex-grow-1\"]//span')\n",
    "    for pk in pk_rank:\n",
    "        Peak_rank.append(pk.text)\n",
    "        \n",
    "except NoSuchElementException:\n",
    "    Peak_rank.append(\"_\")"
   ]
  },
  {
   "cell_type": "code",
   "execution_count": 283,
   "id": "ec187988",
   "metadata": {},
   "outputs": [
    {
     "name": "stdout",
     "output_type": "stream",
     "text": [
      "['1', '2', '3', '4', '5', '6', '7', '8', '9', '10', '1', '1', '13', '14', '15', '1', '3', '6', '5', '20', '21', '1', '4', '14', '23', '26', '10', '12', '9', '1', '1', '32', '33', '9', '5', '1', '8', '3', '13', '16', '41', '6', '33', '4', '45', '8', '6', '48', '22', '28', '22', '29', '24', '54', '21', '53', '38', '35', '31', '32', '33', '41', '10', '50', '65', '22', '19', '47', '57', '46', '26', '8', '15', '5', '40', '44', '58', '30', '55', '54', '42', '67', '44', '8', '63', '74', '37', '51', '69', '79', '32', '72', '82', '63', '95', '78', '42', '95', '99', '63']\n"
     ]
    }
   ],
   "source": [
    "print(Peak_rank)"
   ]
  },
  {
   "cell_type": "code",
   "execution_count": 284,
   "id": "8f5f75b9",
   "metadata": {},
   "outputs": [],
   "source": [
    "# collecting Artist  weeks on board rank\n",
    "try:\n",
    "    \n",
    "    wk_brd_rank=driver.find_elements(By.XPATH, '//li[5][@class=\"o-chart-results-list__item // a-chart-color u-width-72 u-width-55@mobile-max u-width-55@tablet-only lrv-u-flex lrv-u-flex-shrink-0 lrv-u-align-items-center lrv-u-justify-content-center lrv-u-border-b-1 u-border-b-0@mobile-max lrv-u-border-color-grey-light u-background-color-white-064@mobile-max lrv-u-flex-grow-1\"]//span')\n",
    "    for brd in wk_brd_rank:\n",
    "        Weeks_on_board.append(brd.text)\n",
    "        \n",
    "except NoSuchElementException:\n",
    "     Weeks_on_board.append(\"_\")"
   ]
  },
  {
   "cell_type": "code",
   "execution_count": 285,
   "id": "a053423c",
   "metadata": {},
   "outputs": [
    {
     "name": "stdout",
     "output_type": "stream",
     "text": [
      "['1', '1', '1', '1', '1', '1', '1', '1', '1', '1', '5', '17', '1', '1', '1', '30', '21', '20', '24', '1', '1', '11', '22', '9', '7', '1', '21', '27', '50', '19', '26', '1', '1', '5', '25', '28', '19', '23', '11', '22', '1', '25', '13', '2', '1', '2', '9', '2', '20', '17', '7', '26', '20', '9', '3', '10', '17', '13', '17', '5', '8', '11', '2', '9', '1', '2', '2', '17', '5', '15', '2', '15', '2', '12', '3', '19', '7', '16', '11', '8', '12', '10', '16', '20', '7', '8', '9', '6', '13', '4', '2', '10', '9', '30', '1', '5', '2', '4', '1', '12']\n"
     ]
    }
   ],
   "source": [
    " print(Weeks_on_board)"
   ]
  },
  {
   "cell_type": "code",
   "execution_count": 286,
   "id": "61539cdb",
   "metadata": {},
   "outputs": [
    {
     "name": "stdout",
     "output_type": "stream",
     "text": [
      "100 100 100 100 100\n"
     ]
    }
   ],
   "source": [
    "print(len(Song_N), len(Artist_N), len(Last_week_rank), len(Peak_rank), len(Weeks_on_board))"
   ]
  },
  {
   "cell_type": "markdown",
   "id": "7395f1eb",
   "metadata": {},
   "source": [
    "MAKING DATA FRAME"
   ]
  },
  {
   "cell_type": "code",
   "execution_count": 287,
   "id": "34e8470b",
   "metadata": {},
   "outputs": [],
   "source": [
    "import pandas as pd"
   ]
  },
  {
   "cell_type": "code",
   "execution_count": 289,
   "id": "52631b7c",
   "metadata": {},
   "outputs": [],
   "source": [
    "songs_100_df=pd.DataFrame({'SONG_NAME':Song_N, 'ARTIST_NAME':Artist_N, 'LAST_WEEK_RANK':Last_week_rank, 'PEAK_RANK':Peak_rank, 'WEEKS_ON_BOARD':Weeks_on_board})"
   ]
  },
  {
   "cell_type": "code",
   "execution_count": 290,
   "id": "7ceb4f8f",
   "metadata": {},
   "outputs": [
    {
     "data": {
      "text/html": [
       "<div>\n",
       "<style scoped>\n",
       "    .dataframe tbody tr th:only-of-type {\n",
       "        vertical-align: middle;\n",
       "    }\n",
       "\n",
       "    .dataframe tbody tr th {\n",
       "        vertical-align: top;\n",
       "    }\n",
       "\n",
       "    .dataframe thead th {\n",
       "        text-align: right;\n",
       "    }\n",
       "</style>\n",
       "<table border=\"1\" class=\"dataframe\">\n",
       "  <thead>\n",
       "    <tr style=\"text-align: right;\">\n",
       "      <th></th>\n",
       "      <th>SONG_NAME</th>\n",
       "      <th>ARTIST_NAME</th>\n",
       "      <th>LAST_WEEK_RANK</th>\n",
       "      <th>PEAK_RANK</th>\n",
       "      <th>WEEKS_ON_BOARD</th>\n",
       "    </tr>\n",
       "  </thead>\n",
       "  <tbody>\n",
       "    <tr>\n",
       "      <th>0</th>\n",
       "      <td>Anti-Hero</td>\n",
       "      <td>Taylor Swift</td>\n",
       "      <td>-</td>\n",
       "      <td>1</td>\n",
       "      <td>1</td>\n",
       "    </tr>\n",
       "    <tr>\n",
       "      <th>1</th>\n",
       "      <td>Lavender Haze</td>\n",
       "      <td>Taylor Swift</td>\n",
       "      <td>-</td>\n",
       "      <td>2</td>\n",
       "      <td>1</td>\n",
       "    </tr>\n",
       "    <tr>\n",
       "      <th>2</th>\n",
       "      <td>Maroon</td>\n",
       "      <td>Taylor Swift</td>\n",
       "      <td>-</td>\n",
       "      <td>3</td>\n",
       "      <td>1</td>\n",
       "    </tr>\n",
       "    <tr>\n",
       "      <th>3</th>\n",
       "      <td>Snow On The Beach</td>\n",
       "      <td>Taylor Swift Featuring Lana Del Rey</td>\n",
       "      <td>-</td>\n",
       "      <td>4</td>\n",
       "      <td>1</td>\n",
       "    </tr>\n",
       "    <tr>\n",
       "      <th>4</th>\n",
       "      <td>Midnight Rain</td>\n",
       "      <td>Taylor Swift</td>\n",
       "      <td>-</td>\n",
       "      <td>5</td>\n",
       "      <td>1</td>\n",
       "    </tr>\n",
       "    <tr>\n",
       "      <th>...</th>\n",
       "      <td>...</td>\n",
       "      <td>...</td>\n",
       "      <td>...</td>\n",
       "      <td>...</td>\n",
       "      <td>...</td>\n",
       "    </tr>\n",
       "    <tr>\n",
       "      <th>95</th>\n",
       "      <td>Dark Red</td>\n",
       "      <td>Steve Lacy</td>\n",
       "      <td>-</td>\n",
       "      <td>78</td>\n",
       "      <td>5</td>\n",
       "    </tr>\n",
       "    <tr>\n",
       "      <th>96</th>\n",
       "      <td>From Now On</td>\n",
       "      <td>Lil Baby Featuring Future</td>\n",
       "      <td>42</td>\n",
       "      <td>42</td>\n",
       "      <td>2</td>\n",
       "    </tr>\n",
       "    <tr>\n",
       "      <th>97</th>\n",
       "      <td>Forget Me</td>\n",
       "      <td>Lewis Capaldi</td>\n",
       "      <td>99</td>\n",
       "      <td>95</td>\n",
       "      <td>4</td>\n",
       "    </tr>\n",
       "    <tr>\n",
       "      <th>98</th>\n",
       "      <td>Miss You</td>\n",
       "      <td>Oliver Tree &amp; Robin Schulz</td>\n",
       "      <td>-</td>\n",
       "      <td>99</td>\n",
       "      <td>1</td>\n",
       "    </tr>\n",
       "    <tr>\n",
       "      <th>99</th>\n",
       "      <td>Despecha</td>\n",
       "      <td>Rosalia</td>\n",
       "      <td>92</td>\n",
       "      <td>63</td>\n",
       "      <td>12</td>\n",
       "    </tr>\n",
       "  </tbody>\n",
       "</table>\n",
       "<p>100 rows × 5 columns</p>\n",
       "</div>"
      ],
      "text/plain": [
       "            SONG_NAME                          ARTIST_NAME LAST_WEEK_RANK  \\\n",
       "0           Anti-Hero                         Taylor Swift              -   \n",
       "1       Lavender Haze                         Taylor Swift              -   \n",
       "2              Maroon                         Taylor Swift              -   \n",
       "3   Snow On The Beach  Taylor Swift Featuring Lana Del Rey              -   \n",
       "4       Midnight Rain                         Taylor Swift              -   \n",
       "..                ...                                  ...            ...   \n",
       "95           Dark Red                           Steve Lacy              -   \n",
       "96        From Now On            Lil Baby Featuring Future             42   \n",
       "97          Forget Me                        Lewis Capaldi             99   \n",
       "98           Miss You           Oliver Tree & Robin Schulz              -   \n",
       "99           Despecha                              Rosalia             92   \n",
       "\n",
       "   PEAK_RANK WEEKS_ON_BOARD  \n",
       "0          1              1  \n",
       "1          2              1  \n",
       "2          3              1  \n",
       "3          4              1  \n",
       "4          5              1  \n",
       "..       ...            ...  \n",
       "95        78              5  \n",
       "96        42              2  \n",
       "97        95              4  \n",
       "98        99              1  \n",
       "99        63             12  \n",
       "\n",
       "[100 rows x 5 columns]"
      ]
     },
     "execution_count": 290,
     "metadata": {},
     "output_type": "execute_result"
    }
   ],
   "source": [
    "songs_100_df"
   ]
  },
  {
   "cell_type": "code",
   "execution_count": 291,
   "id": "8083863c",
   "metadata": {},
   "outputs": [],
   "source": [
    "driver.close()"
   ]
  },
  {
   "cell_type": "markdown",
   "id": "01e7d649",
   "metadata": {},
   "source": [
    "# 7. Scrape the details of Data science recruiters from naukri.com. Url = https://www.naukri.com/\n",
    "You have to find the following details:\n",
    "A) Name\n",
    "B) Designation\n",
    "C) Company\n",
    "D) Skills they hire for\n",
    "E) Location\n",
    "Note: - From naukri.com homepage click on the recruiters option and the on the search pane type Data science and click on search. All this should be done through code"
   ]
  },
  {
   "cell_type": "code",
   "execution_count": 314,
   "id": "1238c464",
   "metadata": {},
   "outputs": [],
   "source": [
    "# First connect to the driver\n",
    "driver = webdriver.Chrome(\"C:\\\\Users\\\\hp\\Desktop\\\\task\\\\driver\\\\chromedriver.exe\")\n",
    "driver.maximize_window()"
   ]
  },
  {
   "cell_type": "code",
   "execution_count": 315,
   "id": "096e86e2",
   "metadata": {},
   "outputs": [],
   "source": [
    "# opening the naukri.com page and automated chrome browser\n",
    "driver.get(\"https://www.naukri.com/\")"
   ]
  },
  {
   "cell_type": "code",
   "execution_count": 316,
   "id": "f37c1963",
   "metadata": {},
   "outputs": [],
   "source": [
    "# entering designation \n",
    "try:\n",
    "    \n",
    "    desig=driver.find_element(By.XPATH, '/html/body/div[1]/div[6]/div/div/div[1]/div/div/div/input')\n",
    "    desig.send_keys('Data Science')\n",
    "    \n",
    "    \n",
    "except NoSuchElementException:\n",
    "    print(\"Exception Raised:  Find element by only class name\")\n",
    "    desig=driver.find_element(By.CLASS_NAME, \"suggestor-input \")\n",
    "    print(desig.text)\n",
    "    "
   ]
  },
  {
   "cell_type": "code",
   "execution_count": 317,
   "id": "e573e7e8",
   "metadata": {},
   "outputs": [],
   "source": [
    "# entering search button\n",
    "try:\n",
    "    \n",
    "    search=driver.find_element(By.XPATH, '/html/body/div[1]/div[6]/div/div/div[6]')\n",
    "    search.click()\n",
    "    \n",
    "    \n",
    "except NoSuchElementException:\n",
    "    print(\"Exception Raised:  Find element by only class name\")\n",
    "    search=driver.find_element(By.CLASS_NAME, \"qsbSubmit\")\n",
    "    print(search.text)"
   ]
  },
  {
   "cell_type": "code",
   "execution_count": 329,
   "id": "2cbec4ed",
   "metadata": {},
   "outputs": [],
   "source": [
    "# create empty list\n",
    "\n",
    "Company_N=[]\n",
    "Designation=[]\n",
    "Hire_skill=[]\n",
    "Location=[]"
   ]
  },
  {
   "cell_type": "code",
   "execution_count": 319,
   "id": "ce31729d",
   "metadata": {},
   "outputs": [],
   "source": [
    "# collecting Company Name\n",
    "try:\n",
    "    \n",
    "    comp=driver.find_elements(By.XPATH, '//a[@class=\"subTitle ellipsis fleft\"]')\n",
    "    for nm in comp:\n",
    "        Company_N.append(nm.text)\n",
    "        \n",
    "except NoSuchElementException:\n",
    "    Company_N.append(\"_\")"
   ]
  },
  {
   "cell_type": "code",
   "execution_count": 320,
   "id": "a2547d4b",
   "metadata": {},
   "outputs": [
    {
     "name": "stdout",
     "output_type": "stream",
     "text": [
      "20 ['Johnson & Johnson', 'Syngenta', 'Visa', 'Paypal', 'Accenture', 'Accenture', 'Triangle Global', 'Triangle Global', 'Koch Industries', 'Ciena', 'Syngenta', 'Accenture', 'Merck Sharp & Dohme (MSD)', 'Xoom Inc', 'Zeta Inc.', 'Huquo Consulting Pvt. Ltd', 'Huquo Consulting Pvt. Ltd', 'Huquo Consulting Pvt. Ltd', 'Huquo Consulting Pvt. Ltd', 'Accenture']\n"
     ]
    }
   ],
   "source": [
    "print(len(Company_N), Company_N)"
   ]
  },
  {
   "cell_type": "code",
   "execution_count": 321,
   "id": "735fc9e3",
   "metadata": {},
   "outputs": [],
   "source": [
    "# collecting Designation\n",
    "try:\n",
    "    \n",
    "    desg=driver.find_elements(By.XPATH, '//a[@class=\"title fw500 ellipsis\"]')\n",
    "    for dg in desg:\n",
    "        Designation.append(dg.text)\n",
    "        \n",
    "except NoSuchElementException:\n",
    "    Designation.append(\"_\")"
   ]
  },
  {
   "cell_type": "code",
   "execution_count": 324,
   "id": "e0118b74",
   "metadata": {},
   "outputs": [
    {
     "name": "stdout",
     "output_type": "stream",
     "text": [
      "20 \n",
      "\n",
      "['Analyst, Data Science', 'Senior Research Scientist - Data Science (Chemistry)', 'Manager , Data Science', 'Data science Manager-Model Risk Control', 'Senior Analyst-Data Science', 'Senior Analyst-Data Science', 'Marketing Analyst - Data Science', 'Marketing Analyst - Data Science', 'Data Science Lead', 'Analyst, Business Intelligence & Data Science - P2b', 'Senior Research Scientist - Data Science', 'ACN - Applied Intelligence - CC - Data Science (IN) - 06', 'Associate Manager Data Science', 'Data science Manager-Model Risk Control', 'Engineering Manager - Data Science', 'Senior Analyst - Data Science - IIT/NIT/IIM/XLRI/FMS', 'Senior Analyst & AI Lead - Data Science', 'Senior Analyst - Data Science - IIT/NIT/IIM/XLRI/FMS', 'Senior Analyst - Data Science', 'Python Programming Language Data Science Practitioner']\n"
     ]
    }
   ],
   "source": [
    "print(len(Designation), '\\n') \n",
    "print(Designation)"
   ]
  },
  {
   "cell_type": "code",
   "execution_count": 330,
   "id": "45c0aae1",
   "metadata": {},
   "outputs": [],
   "source": [
    "# collecting company hiring skill\n",
    "try:\n",
    "    \n",
    "    hir=driver.find_elements(By.XPATH, '//div[@class=\"job-description fs12 grey-text\"]')\n",
    "    for hr in hir:\n",
    "        Hire_skill.append(hr.text)\n",
    "        \n",
    "except NoSuchElementException:\n",
    "    Hire_skill.append(\"_\")"
   ]
  },
  {
   "cell_type": "code",
   "execution_count": 331,
   "id": "0af743fd",
   "metadata": {},
   "outputs": [
    {
     "name": "stdout",
     "output_type": "stream",
     "text": [
      "20 \n",
      "\n",
      "['Bachelor of Science or Bachelor of Engineering at a minimumProficiency in statistical c...', 'Company DescriptionSyngenta is one of the worlds leading agriculture innovation company...', 'Bachelors degree in Economics, Finance, Computer Science, Statistics, or related quanti...', 'Bachelor s or Master s degree in quantitative science or engineering field (Computer Sc...', 'Skill required: Data Science - Machine Learning Designation: Senior Analyst Job Locatio...', 'Skill required: Data Science - Python Programming Language Designation: Senior Analyst ...', 'Market Mix modeling ( MMM) , Media Mix, Funnel Analysis , Campaign budget optimization ...', 'Market Mix modeling ( MMM) , Media Mix, Funnel Analysis , Campaign budget optimization ...', 'Georgia Pacific LLC is looking for a Data Science Leader to join our Decision Analytics...', 'Developer – Analyst, Service Business IntelligenceESSENTIAL DUTIES AND RESPONSIBILITIES...', 'Development and provision of data and data Models supporting management and operational...', 'Requirements: Responsible for taking up day-to-day activities for making deliverables t...', 'This role involves working with our partners in different Therapeutic areas (eg Oncolog...', 'Bachelor s or Master s degree in quantitative science or engineering field (Computer Sc...', 'Building highly-scalable and secure data infrastructure that is used by multiple teams ...', 'Must have strong capabilities in problem solving, managing own work diligently, thoroug...', 'in Computer scienceInformation Technology ECE or other quantitative disciplines from ti...', 'Must have strong capabilities in problem solving, managing own work diligently, thoroug...', 'Must have strong capabilities in problem solving, managing own work diligently, thoroug...', 'Technical Experience : Experience in DevOps practices for machine learning Experience w...']\n"
     ]
    }
   ],
   "source": [
    "print(len(Hire_skill), '\\n') \n",
    "print(Hire_skill)"
   ]
  },
  {
   "cell_type": "code",
   "execution_count": 332,
   "id": "b4ecc223",
   "metadata": {},
   "outputs": [],
   "source": [
    "# collecting company job location\n",
    "try:\n",
    "    \n",
    "    job=driver.find_elements(By.XPATH, '//span[@class=\"ellipsis fleft fs12 lh16 locWdth\"]')\n",
    "    for loc in job:\n",
    "        Location.append(loc.text)\n",
    "        \n",
    "except NoSuchElementException:\n",
    "    Location.append(\"_\")"
   ]
  },
  {
   "cell_type": "code",
   "execution_count": 333,
   "id": "209e745c",
   "metadata": {},
   "outputs": [
    {
     "name": "stdout",
     "output_type": "stream",
     "text": [
      "20 \n",
      "\n",
      "['Bangalore/Bengaluru', 'goa', 'Mumbai', 'Chennai', 'Gurgaon/Gurugram', 'Mumbai', 'Noida, Pune, Bangalore/Bengaluru', 'Noida, Pune, Bangalore/Bengaluru', 'Bangalore/Bengaluru', 'Gurgaon/Gurugram', 'Panaji/Panjim', 'Gurgaon/Gurugram', 'Pune', 'Chennai', 'Bangalore/Bengaluru', 'Gurgaon/Gurugram', 'Faridabad, Gurgaon/Gurugram', 'Gurgaon/Gurugram', 'Gurgaon/Gurugram', 'Bangalore/Bengaluru']\n"
     ]
    }
   ],
   "source": [
    "print(len(Location), '\\n') \n",
    "print(Location)"
   ]
  },
  {
   "cell_type": "code",
   "execution_count": 334,
   "id": "f8af79c8",
   "metadata": {},
   "outputs": [],
   "source": [
    "driver.close()"
   ]
  },
  {
   "cell_type": "markdown",
   "id": "a115f5aa",
   "metadata": {},
   "source": [
    "# 8. Scrape the details of Highest selling novels.\n",
    "Url = https://www.theguardian.com/news/datablog/2012/aug/09/best-selling-books-all-time-fifty-shades-grey- compare/\n",
    "You have to find the following details:\n",
    "A) Book name\n",
    "B) Author name\n",
    "C) Volumes sold\n",
    "D) Publisher\n",
    "E) Genre"
   ]
  },
  {
   "cell_type": "code",
   "execution_count": 335,
   "id": "345b3bca",
   "metadata": {},
   "outputs": [],
   "source": [
    "# First connect to the driver\n",
    "driver = webdriver.Chrome(\"C:\\\\Users\\\\hp\\Desktop\\\\task\\\\driver\\\\chromedriver.exe\")\n",
    "driver.maximize_window()"
   ]
  },
  {
   "cell_type": "code",
   "execution_count": 336,
   "id": "516e1e1b",
   "metadata": {},
   "outputs": [],
   "source": [
    "# opening the theguardian.com page and automated chrome browser\n",
    "driver.get(\"https://www.theguardian.com/news/datablog/2012/aug/09/best-selling-books-all-time-fifty-shades-grey-compare\")"
   ]
  },
  {
   "cell_type": "code",
   "execution_count": 364,
   "id": "ba340dee",
   "metadata": {},
   "outputs": [],
   "source": [
    "# create empty list\n",
    "\n",
    "Book_N=[]\n",
    "Author_N=[]\n",
    "Vol_sold=[]\n",
    "Publisher=[]\n",
    "Genre=[]"
   ]
  },
  {
   "cell_type": "code",
   "execution_count": 365,
   "id": "d7968fcf",
   "metadata": {},
   "outputs": [],
   "source": [
    "# collecting book name\n",
    "try:\n",
    "    \n",
    "    book=driver.find_elements(By.XPATH, '//td[2][@class=\"left\"]')\n",
    "    for bk in book:\n",
    "        Book_N.append(bk.text)\n",
    "        \n",
    "except NoSuchElementException:\n",
    "    Book_N.append(\"_\")"
   ]
  },
  {
   "cell_type": "code",
   "execution_count": 366,
   "id": "4261d867",
   "metadata": {},
   "outputs": [
    {
     "name": "stdout",
     "output_type": "stream",
     "text": [
      "Data Length:  100 \n",
      "\n",
      "\u001b[1mBooks Name : \n",
      " ['Da Vinci Code,The', 'Harry Potter and the Deathly Hallows', \"Harry Potter and the Philosopher's Stone\", 'Harry Potter and the Order of the Phoenix', 'Fifty Shades of Grey', 'Harry Potter and the Goblet of Fire', 'Harry Potter and the Chamber of Secrets', 'Harry Potter and the Prisoner of Azkaban', 'Angels and Demons', \"Harry Potter and the Half-blood Prince:Children's Edition\", 'Fifty Shades Darker', 'Twilight', 'Girl with the Dragon Tattoo,The:Millennium Trilogy', 'Fifty Shades Freed', 'Lost Symbol,The', 'New Moon', 'Deception Point', 'Eclipse', 'Lovely Bones,The', 'Curious Incident of the Dog in the Night-time,The', 'Digital Fortress', 'Short History of Nearly Everything,A', 'Girl Who Played with Fire,The:Millennium Trilogy', 'Breaking Dawn', 'Very Hungry Caterpillar,The:The Very Hungry Caterpillar', 'Gruffalo,The', \"Jamie's 30-Minute Meals\", 'Kite Runner,The', 'One Day', 'Thousand Splendid Suns,A', \"Girl Who Kicked the Hornets' Nest,The:Millennium Trilogy\", \"Time Traveler's Wife,The\", 'Atonement', \"Bridget Jones's Diary:A Novel\", 'World According to Clarkson,The', \"Captain Corelli's Mandolin\", 'Sound of Laughter,The', 'Life of Pi', 'Billy Connolly', 'Child Called It,A', \"Gruffalo's Child,The\", \"Angela's Ashes:A Memoir of a Childhood\", 'Birdsong', 'Northern Lights:His Dark Materials S.', 'Labyrinth', 'Harry Potter and the Half-blood Prince', 'Help,The', 'Man and Boy', 'Memoirs of a Geisha', \"No.1 Ladies' Detective Agency,The:No.1 Ladies' Detective Agency S.\", 'Island,The', 'PS, I Love You', 'You are What You Eat:The Plan That Will Change Your Life', 'Shadow of the Wind,The', 'Tales of Beedle the Bard,The', 'Broker,The', \"Dr. Atkins' New Diet Revolution:The No-hunger, Luxurious Weight Loss P\", 'Subtle Knife,The:His Dark Materials S.', 'Eats, Shoots and Leaves:The Zero Tolerance Approach to Punctuation', \"Delia's How to Cook:(Bk.1)\", 'Chocolat', 'Boy in the Striped Pyjamas,The', \"My Sister's Keeper\", 'Amber Spyglass,The:His Dark Materials S.', 'To Kill a Mockingbird', 'Men are from Mars, Women are from Venus:A Practical Guide for Improvin', 'Dear Fatty', 'Short History of Tractors in Ukrainian,A', 'Hannibal', 'Lord of the Rings,The', 'Stupid White Men:...and Other Sorry Excuses for the State of the Natio', 'Interpretation of Murder,The', 'Sharon Osbourne Extreme:My Autobiography', 'Alchemist,The:A Fable About Following Your Dream', \"At My Mother's Knee ...:and Other Low Joints\", 'Notes from a Small Island', 'Return of the Naked Chef,The', 'Bridget Jones: The Edge of Reason', \"Jamie's Italy\", 'I Can Make You Thin', 'Down Under', 'Summons,The', 'Small Island', 'Nigella Express', 'Brick Lane', \"Memory Keeper's Daughter,The\", 'Room on the Broom', 'About a Boy', 'My Booky Wook', 'God Delusion,The', '\"Beano\" Annual,The', 'White Teeth', 'House at Riverton,The', 'Book Thief,The', 'Nights of Rain and Stars', 'Ghost,The', 'Happy Days with the Naked Chef', 'Hunger Games,The:Hunger Games Trilogy', \"Lost Boy,The:A Foster Child's Search for the Love of a Family\", \"Jamie's Ministry of Food:Anyone Can Learn to Cook in 24 Hours\"]\n"
     ]
    }
   ],
   "source": [
    "print('Data Length: ', len(Book_N), '\\n') \n",
    "print('\\33[1m' + 'Books Name : \\n', Book_N)  "
   ]
  },
  {
   "cell_type": "code",
   "execution_count": 367,
   "id": "20aec7c2",
   "metadata": {},
   "outputs": [],
   "source": [
    "# collecting Author Name\n",
    "try:\n",
    "    \n",
    "    auth=driver.find_elements(By.XPATH, '//td[3][@class=\"left\"]')\n",
    "    for au in auth:\n",
    "        Author_N.append(au.text)\n",
    "        \n",
    "except NoSuchElementException:\n",
    "    Author_N.append(\"_\")"
   ]
  },
  {
   "cell_type": "code",
   "execution_count": 368,
   "id": "937a535c",
   "metadata": {},
   "outputs": [
    {
     "name": "stdout",
     "output_type": "stream",
     "text": [
      "Data Length:  100 \n",
      "\n",
      "Author_Name:  ['Brown, Dan', 'Rowling, J.K.', 'Rowling, J.K.', 'Rowling, J.K.', 'James, E. L.', 'Rowling, J.K.', 'Rowling, J.K.', 'Rowling, J.K.', 'Brown, Dan', 'Rowling, J.K.', 'James, E. L.', 'Meyer, Stephenie', 'Larsson, Stieg', 'James, E. L.', 'Brown, Dan', 'Meyer, Stephenie', 'Brown, Dan', 'Meyer, Stephenie', 'Sebold, Alice', 'Haddon, Mark', 'Brown, Dan', 'Bryson, Bill', 'Larsson, Stieg', 'Meyer, Stephenie', 'Carle, Eric', 'Donaldson, Julia', 'Oliver, Jamie', 'Hosseini, Khaled', 'Nicholls, David', 'Hosseini, Khaled', 'Larsson, Stieg', 'Niffenegger, Audrey', 'McEwan, Ian', 'Fielding, Helen', 'Clarkson, Jeremy', 'Bernieres, Louis de', 'Kay, Peter', 'Martel, Yann', 'Stephenson, Pamela', 'Pelzer, Dave', 'Donaldson, Julia', 'McCourt, Frank', 'Faulks, Sebastian', 'Pullman, Philip', 'Mosse, Kate', 'Rowling, J.K.', 'Stockett, Kathryn', 'Parsons, Tony', 'Golden, Arthur', 'McCall Smith, Alexander', 'Hislop, Victoria', 'Ahern, Cecelia', 'McKeith, Gillian', 'Zafon, Carlos Ruiz', 'Rowling, J.K.', 'Grisham, John', 'Atkins, Robert C.', 'Pullman, Philip', 'Truss, Lynne', 'Smith, Delia', 'Harris, Joanne', 'Boyne, John', 'Picoult, Jodi', 'Pullman, Philip', 'Lee, Harper', 'Gray, John', 'French, Dawn', 'Lewycka, Marina', 'Harris, Thomas', 'Tolkien, J. R. R.', 'Moore, Michael', 'Rubenfeld, Jed', 'Osbourne, Sharon', 'Coelho, Paulo', \"O'Grady, Paul\", 'Bryson, Bill', 'Oliver, Jamie', 'Fielding, Helen', 'Oliver, Jamie', 'McKenna, Paul', 'Bryson, Bill', 'Grisham, John', 'Levy, Andrea', 'Lawson, Nigella', 'Ali, Monica', 'Edwards, Kim', 'Donaldson, Julia', 'Hornby, Nick', 'Brand, Russell', 'Dawkins, Richard', '0', 'Smith, Zadie', 'Morton, Kate', 'Zusak, Markus', 'Binchy, Maeve', 'Harris, Robert', 'Oliver, Jamie', 'Collins, Suzanne', 'Pelzer, Dave', 'Oliver, Jamie']\n"
     ]
    }
   ],
   "source": [
    "print('Data Length: ', len(Author_N), '\\n') \n",
    "print('Author_Name: ', Author_N)"
   ]
  },
  {
   "cell_type": "code",
   "execution_count": 369,
   "id": "bc731cfe",
   "metadata": {},
   "outputs": [],
   "source": [
    "# collecting book sold data\n",
    "try:\n",
    "    \n",
    "    sold=driver.find_elements(By.XPATH, '//td[4][@class=\"left\"]')\n",
    "    for sd in sold:\n",
    "        Vol_sold.append(sd.text)\n",
    "        \n",
    "except NoSuchElementException:\n",
    "    Vol_sold.append(\"_\")"
   ]
  },
  {
   "cell_type": "code",
   "execution_count": 370,
   "id": "2accdd60",
   "metadata": {},
   "outputs": [
    {
     "name": "stdout",
     "output_type": "stream",
     "text": [
      "Data Length:  100 \n",
      "\n",
      "Book sold:  ['5,094,805', '4,475,152', '4,200,654', '4,179,479', '3,758,936', '3,583,215', '3,484,047', '3,377,906', '3,193,946', '2,950,264', '2,479,784', '2,315,405', '2,233,570', '2,193,928', '2,183,031', '2,152,737', '2,062,145', '2,052,876', '2,005,598', '1,979,552', '1,928,900', '1,852,919', '1,814,784', '1,787,118', '1,783,535', '1,781,269', '1,743,266', '1,629,119', '1,616,068', '1,583,992', '1,555,135', '1,546,886', '1,539,428', '1,508,205', '1,489,403', '1,352,318', '1,310,207', '1,310,176', '1,231,957', '1,217,712', '1,208,711', '1,204,058', '1,184,967', '1,181,503', '1,181,093', '1,153,181', '1,132,336', '1,130,802', '1,126,337', '1,115,549', '1,108,328', '1,107,379', '1,104,403', '1,092,349', '1,090,847', '1,087,262', '1,054,196', '1,037,160', '1,023,688', '1,015,956', '1,009,873', '1,004,414', '1,003,780', '1,002,314', '998,213', '992,846', '986,753', '986,115', '970,509', '967,466', '963,353', '962,515', '959,496', '956,114', '945,640', '931,312', '925,425', '924,695', '906,968', '905,086', '890,847', '869,671', '869,659', '862,602', '856,540', '845,858', '842,535', '828,215', '820,563', '816,907', '816,585', '815,586', '814,370', '809,641', '808,900', '807,311', '794,201', '792,187', '791,507', '791,095']\n"
     ]
    }
   ],
   "source": [
    "print('Data Length: ', len(Vol_sold), '\\n') \n",
    "print('Book sold: ', Vol_sold)"
   ]
  },
  {
   "cell_type": "code",
   "execution_count": 371,
   "id": "50ae99f1",
   "metadata": {},
   "outputs": [],
   "source": [
    "# collecting publisher data\n",
    "try:\n",
    "    \n",
    "    pub=driver.find_elements(By.XPATH, '//td[5][@class=\"left\"]')\n",
    "    for pb in pub:\n",
    "        Publisher.append(pb.text)\n",
    "        \n",
    "except NoSuchElementException:\n",
    "    Publisher.append(\"_\")"
   ]
  },
  {
   "cell_type": "code",
   "execution_count": 372,
   "id": "d5838cfb",
   "metadata": {},
   "outputs": [
    {
     "name": "stdout",
     "output_type": "stream",
     "text": [
      "Data Length:  100 \n",
      "\n",
      "PUBLISHER :   ['Transworld', 'Bloomsbury', 'Bloomsbury', 'Bloomsbury', 'Random House', 'Bloomsbury', 'Bloomsbury', 'Bloomsbury', 'Transworld', 'Bloomsbury', 'Random House', 'Little, Brown Book', 'Quercus', 'Random House', 'Transworld', 'Little, Brown Book', 'Transworld', 'Little, Brown Book', 'Pan Macmillan', 'Random House', 'Transworld', 'Transworld', 'Quercus', 'Little, Brown Book', 'Penguin', 'Pan Macmillan', 'Penguin', 'Bloomsbury', 'Hodder & Stoughton', 'Bloomsbury', 'Quercus', 'Random House', 'Random House', 'Pan Macmillan', 'Penguin', 'Random House', 'Random House', 'Canongate', 'HarperCollins', 'Orion', 'Pan Macmillan', 'HarperCollins', 'Random House', 'Scholastic Ltd.', 'Orion', 'Bloomsbury', 'Penguin', 'HarperCollins', 'Random House', 'Little, Brown Book', 'Headline', 'HarperCollins', 'Penguin', 'Orion', 'Bloomsbury', 'Random House', 'Random House', 'Scholastic Ltd.', 'Profile Books Group', 'Random House', 'Transworld', 'Random House Childrens Books G', 'Hodder & Stoughton', 'Scholastic Ltd.', 'Random House', 'HarperCollins', 'Random House', 'Penguin', 'Random House', 'HarperCollins', 'Penguin', 'Headline', 'Little, Brown Book', 'HarperCollins', 'Transworld', 'Transworld', 'Penguin', 'Pan Macmillan', 'Penguin', 'Transworld', 'Transworld', 'Random House', 'Headline', 'Random House', 'Transworld', 'Penguin', 'Pan Macmillan', 'Penguin', 'Hodder & Stoughton', 'Transworld', 'D.C. Thomson', 'Penguin', 'Pan Macmillan', 'Transworld', 'Orion', 'Random House', 'Penguin', 'Scholastic Ltd.', 'Orion', 'Penguin']\n"
     ]
    }
   ],
   "source": [
    "print('Data Length: ', len(Publisher), '\\n') \n",
    "print('PUBLISHER :  ', Publisher)"
   ]
  },
  {
   "cell_type": "code",
   "execution_count": 373,
   "id": "c2005dc0",
   "metadata": {},
   "outputs": [],
   "source": [
    "# collecting Genre data\n",
    "try:\n",
    "    \n",
    "    gen=driver.find_elements(By.XPATH, '//td[@class=\"last left\"]')\n",
    "    for gn in gen:\n",
    "        Genre.append(gn.text)\n",
    "        \n",
    "except NoSuchElementException:\n",
    "    Genre.append(\"_\")"
   ]
  },
  {
   "cell_type": "code",
   "execution_count": 374,
   "id": "b660ff95",
   "metadata": {},
   "outputs": [
    {
     "name": "stdout",
     "output_type": "stream",
     "text": [
      "Data Length:  100 \n",
      "\n",
      "GENRE :   ['Crime, Thriller & Adventure', \"Children's Fiction\", \"Children's Fiction\", \"Children's Fiction\", 'Romance & Sagas', \"Children's Fiction\", \"Children's Fiction\", \"Children's Fiction\", 'Crime, Thriller & Adventure', \"Children's Fiction\", 'Romance & Sagas', 'Young Adult Fiction', 'Crime, Thriller & Adventure', 'Romance & Sagas', 'Crime, Thriller & Adventure', 'Young Adult Fiction', 'Crime, Thriller & Adventure', 'Young Adult Fiction', 'General & Literary Fiction', 'General & Literary Fiction', 'Crime, Thriller & Adventure', 'Popular Science', 'Crime, Thriller & Adventure', 'Young Adult Fiction', 'Picture Books', 'Picture Books', 'Food & Drink: General', 'General & Literary Fiction', 'General & Literary Fiction', 'General & Literary Fiction', 'Crime, Thriller & Adventure', 'General & Literary Fiction', 'General & Literary Fiction', 'General & Literary Fiction', 'Humour: Collections & General', 'General & Literary Fiction', 'Autobiography: General', 'General & Literary Fiction', 'Biography: The Arts', 'Autobiography: General', 'Picture Books', 'Autobiography: General', 'General & Literary Fiction', 'Young Adult Fiction', 'General & Literary Fiction', 'Science Fiction & Fantasy', 'General & Literary Fiction', 'General & Literary Fiction', 'General & Literary Fiction', 'Crime, Thriller & Adventure', 'General & Literary Fiction', 'General & Literary Fiction', 'Fitness & Diet', 'General & Literary Fiction', \"Children's Fiction\", 'Crime, Thriller & Adventure', 'Fitness & Diet', 'Young Adult Fiction', 'Usage & Writing Guides', 'Food & Drink: General', 'General & Literary Fiction', 'Young Adult Fiction', 'General & Literary Fiction', 'Young Adult Fiction', 'General & Literary Fiction', 'Popular Culture & Media: General Interest', 'Autobiography: The Arts', 'General & Literary Fiction', 'Crime, Thriller & Adventure', 'Science Fiction & Fantasy', 'Current Affairs & Issues', 'Crime, Thriller & Adventure', 'Autobiography: The Arts', 'General & Literary Fiction', 'Autobiography: The Arts', 'Travel Writing', 'Food & Drink: General', 'General & Literary Fiction', 'National & Regional Cuisine', 'Fitness & Diet', 'Travel Writing', 'Crime, Thriller & Adventure', 'General & Literary Fiction', 'Food & Drink: General', 'General & Literary Fiction', 'General & Literary Fiction', 'Picture Books', 'General & Literary Fiction', 'Autobiography: The Arts', 'Popular Science', \"Children's Annuals\", 'General & Literary Fiction', 'General & Literary Fiction', 'General & Literary Fiction', 'General & Literary Fiction', 'General & Literary Fiction', 'Food & Drink: General', 'Young Adult Fiction', 'Biography: General', 'Food & Drink: General']\n"
     ]
    }
   ],
   "source": [
    "print('Data Length: ', len(Genre), '\\n') \n",
    "print('GENRE :  ', Genre)"
   ]
  },
  {
   "cell_type": "code",
   "execution_count": 375,
   "id": "cf2ed1a3",
   "metadata": {},
   "outputs": [],
   "source": [
    "driver.close()"
   ]
  },
  {
   "cell_type": "markdown",
   "id": "652ce753",
   "metadata": {},
   "source": [
    "# 9. Scrape the details most watched tv series of all time from imdb.com. Url = https://www.imdb.com/list/ls095964455/\n",
    "You have to find the following details:\n",
    "A) Name\n",
    "B) Year span\n",
    "C) Genre\n",
    "D) Run time\n",
    "E) Ratings\n",
    "F) Votes"
   ]
  },
  {
   "cell_type": "code",
   "execution_count": 376,
   "id": "495b1798",
   "metadata": {},
   "outputs": [],
   "source": [
    "# First connect to the driver\n",
    "driver = webdriver.Chrome(\"C:\\\\Users\\\\hp\\Desktop\\\\task\\\\driver\\\\chromedriver.exe\")\n",
    "driver.maximize_window()"
   ]
  },
  {
   "cell_type": "code",
   "execution_count": 377,
   "id": "fa781888",
   "metadata": {},
   "outputs": [],
   "source": [
    "# opening the imdb.com page and automated chrome browser\n",
    "driver.get(\"https://www.imdb.com/list/ls095964455/\")"
   ]
  },
  {
   "cell_type": "code",
   "execution_count": 410,
   "id": "2ac68e7e",
   "metadata": {},
   "outputs": [],
   "source": [
    "# create empty list\n",
    "\n",
    "Ser_Name=[]\n",
    "Ser_Year=[]\n",
    "Ser_Genre=[]\n",
    "Run_time=[]\n",
    "Rating=[]\n",
    "Votes=[]"
   ]
  },
  {
   "cell_type": "code",
   "execution_count": 398,
   "id": "8266daa0",
   "metadata": {},
   "outputs": [],
   "source": [
    "# collecting shows name from imdb.com\n",
    "try:\n",
    "    \n",
    "    show=driver.find_elements(By.XPATH, '//h3[@class=\"lister-item-header\"]//a')\n",
    "    for sh in show:\n",
    "        Ser_Name.append(sh.text)\n",
    "        \n",
    "except NoSuchElementException:\n",
    "    Ser_Name.append(\"_\")"
   ]
  },
  {
   "cell_type": "code",
   "execution_count": 399,
   "id": "a72675e9",
   "metadata": {},
   "outputs": [
    {
     "name": "stdout",
     "output_type": "stream",
     "text": [
      "Data Length:  100 \n",
      "\n",
      "SERIES NAME :   ['Game of Thrones', 'Stranger Things', 'The Walking Dead', '13 Reasons Why', 'The 100', 'Orange Is the New Black', 'Riverdale', \"Grey's Anatomy\", 'The Flash', 'Arrow', 'Money Heist', 'The Big Bang Theory', 'Black Mirror', 'Sherlock', 'Vikings', 'Pretty Little Liars', 'The Vampire Diaries', 'American Horror Story', 'Breaking Bad', 'Lucifer', 'Supernatural', 'Prison Break', 'How to Get Away with Murder', 'Teen Wolf', 'The Simpsons', 'Once Upon a Time', 'Narcos', 'Daredevil', 'Friends', 'How I Met Your Mother', 'Suits', 'Mr. Robot', 'The Originals', 'Supergirl', 'Gossip Girl', 'Sense8', 'Gotham', 'Westworld', 'Jessica Jones', 'Modern Family', 'Rick and Morty', 'Shadowhunters', 'The End of the F***ing World', 'House of Cards', 'Dark', 'Elite', 'Sex Education', 'Shameless', 'New Girl', 'Agents of S.H.I.E.L.D.', 'You', 'Dexter', 'Fear the Walking Dead', 'Family Guy', 'The Blacklist', 'Lost', 'Peaky Blinders', 'House', 'Quantico', 'Orphan Black', 'Homeland', 'Blindspot', \"DC's Legends of Tomorrow\", \"The Handmaid's Tale\", 'Chilling Adventures of Sabrina', 'The Good Doctor', 'Jane the Virgin', 'Glee', 'South Park', 'Brooklyn Nine-Nine', 'Under the Dome', 'The Umbrella Academy', 'True Detective', 'The OA', 'Desperate Housewives', 'Better Call Saul', 'Bates Motel', 'The Punisher', 'Atypical', 'Dynasty', 'This Is Us', 'The Good Place', 'Iron Fist', 'The Rain', 'Mindhunter', 'Revenge', 'Luke Cage', 'Scandal', 'The Defenders', 'Big Little Lies', 'Insatiable', 'The Mentalist', 'The Crown', 'Chernobyl', 'iZombie', 'Reign', 'A Series of Unfortunate Events', 'Criminal Minds', 'Scream: The TV Series', 'The Haunting of Hill House']\n"
     ]
    }
   ],
   "source": [
    "print('Data Length: ', len(Ser_Name), '\\n') \n",
    "print('SERIES NAME :  ', Ser_Name)"
   ]
  },
  {
   "cell_type": "code",
   "execution_count": 400,
   "id": "a6fb22fb",
   "metadata": {},
   "outputs": [],
   "source": [
    "# collecting shows Year from imdb.com\n",
    "try:\n",
    "    \n",
    "    yar=driver.find_elements(By.XPATH, '//h3[@class=\"lister-item-header\"]//span[2]')\n",
    "    for yr in yar:\n",
    "        Ser_Year.append(yr.text)\n",
    "        \n",
    "except NoSuchElementException:\n",
    "    Ser_Year.append(\"_\")"
   ]
  },
  {
   "cell_type": "code",
   "execution_count": 401,
   "id": "dc67960f",
   "metadata": {},
   "outputs": [
    {
     "name": "stdout",
     "output_type": "stream",
     "text": [
      "Data Length:  100 \n",
      "\n",
      "YEAR :   ['(2011–2019)', '(2016– )', '(2010–2022)', '(2017–2020)', '(2014–2020)', '(2013–2019)', '(2017– )', '(2005– )', '(2014–2023)', '(2012–2020)', '(2017–2021)', '(2007–2019)', '(2011–2019)', '(2010–2017)', '(2013–2020)', '(2010–2017)', '(2009–2017)', '(2011– )', '(2008–2013)', '(2016–2021)', '(2005–2020)', '(2005–2017)', '(2014–2020)', '(2011–2017)', '(1989– )', '(2011–2018)', '(2015–2017)', '(2015–2018)', '(1994–2004)', '(2005–2014)', '(2011–2019)', '(2015–2019)', '(2013–2018)', '(2015–2021)', '(2007–2012)', '(2015–2018)', '(2014–2019)', '(2016– )', '(2015–2019)', '(2009–2020)', '(2013– )', '(2016–2019)', '(2017–2019)', '(2013–2018)', '(2017–2020)', '(2018– )', '(2019– )', '(2011–2021)', '(2011–2018)', '(2013–2020)', '(2018– )', '(2006–2013)', '(2015– )', '(1999– )', '(2013– )', '(2004–2010)', '(2013–2022)', '(2004–2012)', '(2015–2018)', '(2013–2017)', '(2011–2020)', '(2015–2020)', '(2016–2022)', '(2017– )', '(2018–2020)', '(2017– )', '(2014–2019)', '(2009–2015)', '(1997– )', '(2013–2021)', '(2013–2015)', '(2019–2023)', '(2014–2019)', '(2016–2019)', '(2004–2012)', '(2015–2022)', '(2013–2017)', '(2017–2019)', '(2017–2021)', '(2017–2022)', '(2016–2022)', '(2016–2020)', '(2017–2018)', '(2018–2020)', '(2017–2019)', '(2011–2015)', '(2016–2018)', '(2012–2018)', '(2017)', '(2017–2019)', '(2018–2019)', '(2008–2015)', '(2016– )', '(2019)', '(2015–2019)', '(2013–2017)', '(2017–2019)', '(2005–2020)', '(2015–2019)', '(2018)']\n"
     ]
    }
   ],
   "source": [
    "print('Data Length: ', len(Ser_Year), '\\n') \n",
    "print('YEAR :  ', Ser_Year)"
   ]
  },
  {
   "cell_type": "code",
   "execution_count": 402,
   "id": "0ba7c302",
   "metadata": {},
   "outputs": [],
   "source": [
    "# collecting shows Genre from imdb.com\n",
    "try:\n",
    "    \n",
    "    s_gen=driver.find_elements(By.XPATH, '//span[@class=\"genre\"]')\n",
    "    for gr in s_gen:\n",
    "        Ser_Genre.append(gr.text)\n",
    "        \n",
    "except NoSuchElementException:\n",
    "    Ser_Genre.append(\"_\")"
   ]
  },
  {
   "cell_type": "code",
   "execution_count": 403,
   "id": "b8b0b8b8",
   "metadata": {},
   "outputs": [
    {
     "name": "stdout",
     "output_type": "stream",
     "text": [
      "Data Length:  100 \n",
      "\n",
      "GENRE :   ['Action, Adventure, Drama', 'Drama, Fantasy, Horror', 'Drama, Horror, Thriller', 'Drama, Mystery, Thriller', 'Drama, Mystery, Sci-Fi', 'Comedy, Crime, Drama', 'Crime, Drama, Mystery', 'Drama, Romance', 'Action, Adventure, Drama', 'Action, Adventure, Crime', 'Action, Crime, Drama', 'Comedy, Romance', 'Drama, Mystery, Sci-Fi', 'Crime, Drama, Mystery', 'Action, Adventure, Drama', 'Drama, Mystery, Romance', 'Drama, Fantasy, Horror', 'Drama, Horror, Sci-Fi', 'Crime, Drama, Thriller', 'Crime, Drama, Fantasy', 'Drama, Fantasy, Horror', 'Action, Crime, Drama', 'Crime, Drama, Mystery', 'Action, Drama, Fantasy', 'Animation, Comedy', 'Adventure, Fantasy, Romance', 'Biography, Crime, Drama', 'Action, Crime, Drama', 'Comedy, Romance', 'Comedy, Romance', 'Comedy, Drama', 'Crime, Drama, Thriller', 'Drama, Fantasy, Horror', 'Action, Adventure, Drama', 'Drama, Romance', 'Drama, Mystery, Sci-Fi', 'Action, Crime, Drama', 'Drama, Mystery, Sci-Fi', 'Action, Crime, Drama', 'Comedy, Drama, Romance', 'Animation, Adventure, Comedy', 'Action, Drama, Fantasy', 'Adventure, Comedy, Crime', 'Drama', 'Crime, Drama, Mystery', 'Crime, Drama, Thriller', 'Comedy, Drama', 'Comedy, Drama', 'Comedy, Romance', 'Action, Adventure, Drama', 'Crime, Drama, Romance', 'Crime, Drama, Mystery', 'Drama, Horror, Sci-Fi', 'Animation, Comedy', 'Crime, Drama, Mystery', 'Adventure, Drama, Fantasy', 'Crime, Drama', 'Drama, Mystery', 'Crime, Drama, Mystery', 'Drama, Sci-Fi, Thriller', 'Crime, Drama, Mystery', 'Action, Crime, Drama', 'Action, Adventure, Drama', 'Drama, Sci-Fi, Thriller', 'Drama, Fantasy, Horror', 'Drama', 'Comedy', 'Comedy, Drama, Music', 'Animation, Comedy', 'Comedy, Crime', 'Drama, Mystery, Sci-Fi', 'Action, Adventure, Comedy', 'Crime, Drama, Mystery', 'Drama, Fantasy, Mystery', 'Comedy, Drama, Mystery', 'Crime, Drama', 'Drama, Horror, Mystery', 'Action, Crime, Drama', 'Comedy, Drama', 'Drama', 'Comedy, Drama, Romance', 'Comedy, Drama, Fantasy', 'Action, Adventure, Crime', 'Drama, Sci-Fi, Thriller', 'Crime, Drama, Mystery', 'Drama, Mystery, Thriller', 'Action, Crime, Drama', 'Drama, Thriller', 'Action, Adventure, Crime', 'Crime, Drama, Mystery', 'Comedy, Drama, Thriller', 'Crime, Drama, Mystery', 'Biography, Drama, History', 'Drama, History, Thriller', 'Comedy, Crime, Drama', 'Drama', 'Adventure, Comedy, Drama', 'Crime, Drama, Mystery', 'Comedy, Crime, Drama', 'Drama, Horror, Mystery']\n"
     ]
    }
   ],
   "source": [
    "print('Data Length: ', len(Ser_Genre), '\\n') \n",
    "print('GENRE :  ', Ser_Genre)"
   ]
  },
  {
   "cell_type": "code",
   "execution_count": 404,
   "id": "74046f28",
   "metadata": {},
   "outputs": [],
   "source": [
    "# collecting shows Run Time from imdb.com\n",
    "try:\n",
    "    \n",
    "    run=driver.find_elements(By.XPATH, '//span[@class=\"runtime\"]')\n",
    "    for rt in run:\n",
    "        Run_time.append(rt.text)\n",
    "        \n",
    "except NoSuchElementException:\n",
    "    Run_time.append(\"_\")"
   ]
  },
  {
   "cell_type": "code",
   "execution_count": 405,
   "id": "1bdb76aa",
   "metadata": {},
   "outputs": [
    {
     "name": "stdout",
     "output_type": "stream",
     "text": [
      "Data Length:  100 \n",
      "\n",
      "RUN TIME :   ['57 min', '51 min', '44 min', '60 min', '43 min', '59 min', '45 min', '41 min', '43 min', '42 min', '70 min', '22 min', '60 min', '88 min', '44 min', '44 min', '43 min', '60 min', '49 min', '42 min', '44 min', '44 min', '43 min', '41 min', '22 min', '60 min', '49 min', '54 min', '22 min', '22 min', '44 min', '49 min', '45 min', '43 min', '42 min', '60 min', '42 min', '62 min', '56 min', '22 min', '23 min', '42 min', '25 min', '51 min', '60 min', '60 min', '45 min', '46 min', '22 min', '45 min', '45 min', '53 min', '44 min', '22 min', '43 min', '44 min', '60 min', '44 min', '42 min', '44 min', '55 min', '42 min', '42 min', '60 min', '60 min', '41 min', '60 min', '44 min', '22 min', '22 min', '43 min', '60 min', '55 min', '60 min', '45 min', '46 min', '45 min', '53 min', '30 min', '42 min', '45 min', '22 min', '55 min', '45 min', '60 min', '44 min', '55 min', '43 min', '50 min', '60 min', '45 min', '43 min', '58 min', '330 min', '42 min', '42 min', '50 min', '42 min', '45 min', '572 min']\n"
     ]
    }
   ],
   "source": [
    "print('Data Length: ', len(Run_time), '\\n') \n",
    "print('RUN TIME :  ', Run_time)"
   ]
  },
  {
   "cell_type": "code",
   "execution_count": 406,
   "id": "8a7bbb58",
   "metadata": {},
   "outputs": [],
   "source": [
    "# collecting shows Rating from imdb.com\n",
    "try:\n",
    "    \n",
    "    rat=driver.find_elements(By.XPATH, '//div[@class=\"ipl-rating-widget\"]')\n",
    "    for ra in rat:\n",
    "        Rating.append(ra.text.split('\\n'))\n",
    "        \n",
    "except NoSuchElementException:\n",
    "    Rating.append(\"_\")"
   ]
  },
  {
   "cell_type": "code",
   "execution_count": 393,
   "id": "0b1ced20",
   "metadata": {},
   "outputs": [
    {
     "name": "stdout",
     "output_type": "stream",
     "text": [
      "Data Length:  100 \n",
      "\n",
      "RATING :   [['9.2', 'Rate'], ['8.7', 'Rate'], ['8.1', 'Rate'], ['7.5', 'Rate'], ['7.6', 'Rate'], ['8.1', 'Rate'], ['6.6', 'Rate'], ['7.6', 'Rate'], ['7.6', 'Rate'], ['7.5', 'Rate'], ['8.2', 'Rate'], ['8.2', 'Rate'], ['8.8', 'Rate'], ['9.1', 'Rate'], ['8.5', 'Rate'], ['7.4', 'Rate'], ['7.7', 'Rate'], ['8', 'Rate'], ['9.5', 'Rate'], ['8.1', 'Rate'], ['8.4', 'Rate'], ['8.3', 'Rate'], ['8.1', 'Rate'], ['7.7', 'Rate'], ['8.7', 'Rate'], ['7.7', 'Rate'], ['8.8', 'Rate'], ['8.6', 'Rate'], ['8.9', 'Rate'], ['8.3', 'Rate'], ['8.5', 'Rate'], ['8.6', 'Rate'], ['8.3', 'Rate'], ['6.2', 'Rate'], ['7.5', 'Rate'], ['8.2', 'Rate'], ['7.8', 'Rate'], ['8.5', 'Rate'], ['7.9', 'Rate'], ['8.5', 'Rate'], ['9.2', 'Rate'], ['6.5', 'Rate'], ['8.1', 'Rate'], ['8.7', 'Rate'], ['8.7', 'Rate'], ['7.4', 'Rate'], ['8.4', 'Rate'], ['8.6', 'Rate'], ['7.8', 'Rate'], ['7.5', 'Rate'], ['7.7', 'Rate'], ['8.7', 'Rate'], ['6.8', 'Rate'], ['8.2', 'Rate'], ['8', 'Rate'], ['8.3', 'Rate'], ['8.8', 'Rate'], ['8.7', 'Rate'], ['6.7', 'Rate'], ['8.3', 'Rate'], ['8.3', 'Rate'], ['7.3', 'Rate'], ['6.8', 'Rate'], ['8.4', 'Rate'], ['7.4', 'Rate'], ['8.1', 'Rate'], ['7.9', 'Rate'], ['6.8', 'Rate'], ['8.7', 'Rate'], ['8.4', 'Rate'], ['6.5', 'Rate'], ['7.9', 'Rate'], ['8.9', 'Rate'], ['7.8', 'Rate'], ['7.6', 'Rate'], ['8.9', 'Rate'], ['8.1', 'Rate'], ['8.5', 'Rate'], ['8.3', 'Rate'], ['7.2', 'Rate'], ['8.7', 'Rate'], ['8.2', 'Rate'], ['6.4', 'Rate'], ['6.3', 'Rate'], ['8.6', 'Rate'], ['7.8', 'Rate'], ['7.3', 'Rate'], ['7.7', 'Rate'], ['7.2', 'Rate'], ['8.5', 'Rate'], ['6.5', 'Rate'], ['8.1', 'Rate'], ['8.7', 'Rate'], ['9.4', 'Rate'], ['7.8', 'Rate'], ['7.4', 'Rate'], ['7.8', 'Rate'], ['8.1', 'Rate'], ['7.1', 'Rate'], ['8.6', 'Rate']]\n"
     ]
    }
   ],
   "source": [
    "print('Data Length: ', len(Rating), '\\n') \n",
    "print('RATING :  ', Rating)"
   ]
  },
  {
   "cell_type": "code",
   "execution_count": 411,
   "id": "60460912",
   "metadata": {},
   "outputs": [],
   "source": [
    "# collecting shows Voting from imdb.com\n",
    "try:\n",
    "    \n",
    "    vot=driver.find_elements(By.XPATH, '//p[4][@class=\"text-muted text-small\"]')\n",
    "    for vt in vot:\n",
    "        Votes.append(vt.text)\n",
    "        \n",
    "except NoSuchElementException:\n",
    "    Votes.append(\"_\")"
   ]
  },
  {
   "cell_type": "code",
   "execution_count": 412,
   "id": "a963dcca",
   "metadata": {},
   "outputs": [
    {
     "name": "stdout",
     "output_type": "stream",
     "text": [
      "Data Length:  100 \n",
      "\n",
      "VOTING :   ['Votes: 2,077,614', 'Votes: 1,168,003', 'Votes: 979,015', 'Votes: 291,428', 'Votes: 250,514', 'Votes: 301,794', 'Votes: 144,869', 'Votes: 306,644', 'Votes: 345,316', 'Votes: 431,057', 'Votes: 473,239', 'Votes: 803,501', 'Votes: 541,266', 'Votes: 919,326', 'Votes: 528,869', 'Votes: 167,405', 'Votes: 320,605', 'Votes: 317,115', 'Votes: 1,856,484', 'Votes: 322,018', 'Votes: 443,124', 'Votes: 532,765', 'Votes: 151,416', 'Votes: 148,137', 'Votes: 405,612', 'Votes: 224,596', 'Votes: 419,620', 'Votes: 438,569', 'Votes: 986,733', 'Votes: 680,150', 'Votes: 408,736', 'Votes: 385,850', 'Votes: 135,918', 'Votes: 124,100', 'Votes: 174,522', 'Votes: 154,516', 'Votes: 230,267', 'Votes: 501,844', 'Votes: 214,380', 'Votes: 427,791', 'Votes: 513,421', 'Votes: 63,667', 'Votes: 188,881', 'Votes: 503,024', 'Votes: 377,092', 'Votes: 78,178', 'Votes: 277,429', 'Votes: 241,818', 'Votes: 223,582', 'Votes: 217,146', 'Votes: 237,760', 'Votes: 723,367', 'Votes: 129,733', 'Votes: 337,741', 'Votes: 248,088', 'Votes: 551,196', 'Votes: 540,383', 'Votes: 462,161', 'Votes: 61,138', 'Votes: 111,223', 'Votes: 340,842', 'Votes: 74,111', 'Votes: 104,904', 'Votes: 232,655', 'Votes: 94,915', 'Votes: 94,246', 'Votes: 50,614', 'Votes: 148,507', 'Votes: 368,212', 'Votes: 313,214', 'Votes: 106,822', 'Votes: 246,387', 'Votes: 566,988', 'Votes: 104,889', 'Votes: 129,040', 'Votes: 516,687', 'Votes: 108,243', 'Votes: 234,613', 'Votes: 88,485', 'Votes: 22,662', 'Votes: 143,445', 'Votes: 158,961', 'Votes: 131,100', 'Votes: 37,277', 'Votes: 285,953', 'Votes: 120,239', 'Votes: 131,245', 'Votes: 74,036', 'Votes: 107,850', 'Votes: 197,890', 'Votes: 28,890', 'Votes: 184,886', 'Votes: 206,292', 'Votes: 742,018', 'Votes: 68,350', 'Votes: 49,946', 'Votes: 61,074', 'Votes: 196,546', 'Votes: 41,412', 'Votes: 242,518']\n"
     ]
    }
   ],
   "source": [
    "print('Data Length: ', len(Votes), '\\n') \n",
    "print('VOTING :  ', Votes)"
   ]
  },
  {
   "cell_type": "code",
   "execution_count": 413,
   "id": "22d8e7d2",
   "metadata": {},
   "outputs": [],
   "source": [
    "driver.close()"
   ]
  },
  {
   "cell_type": "markdown",
   "id": "fd0d5145",
   "metadata": {},
   "source": [
    "# 10. Details of Datasets from UCI machine learning repositories. Url = https://archive.ics.uci.edu/\n",
    "You have to find the following details:\n",
    "A) Dataset name\n",
    "B) Data type\n",
    "C) Task\n",
    "D) Attribute type\n",
    "E) No of instances\n",
    "F) No of attribute\n",
    "G) Year\n",
    "Note: - from the home page you have to go to the ShowAllDataset page through code"
   ]
  },
  {
   "cell_type": "code",
   "execution_count": 450,
   "id": "503b04aa",
   "metadata": {},
   "outputs": [],
   "source": [
    "# First connect to the driver\n",
    "driver = webdriver.Chrome(\"C:\\\\Users\\\\hp\\Desktop\\\\task\\\\driver\\\\chromedriver.exe\")\n",
    "driver.maximize_window()"
   ]
  },
  {
   "cell_type": "code",
   "execution_count": 451,
   "id": "aea7557a",
   "metadata": {},
   "outputs": [],
   "source": [
    "# opening page and automated chrome browser\n",
    "driver.get(\"https://archive.ics.uci.edu/ml/index.php\")"
   ]
  },
  {
   "cell_type": "code",
   "execution_count": 452,
   "id": "ebe4f67e",
   "metadata": {},
   "outputs": [],
   "source": [
    "search = driver.find_element(By.XPATH, '/html/body/table[1]/tbody/tr/td[2]/span[2]/a')       \n",
    "search.click()\n"
   ]
  },
  {
   "cell_type": "code",
   "execution_count": 486,
   "id": "401a54cb",
   "metadata": {},
   "outputs": [],
   "source": [
    "# empty list\n",
    "Data=[]\n",
    "Data_type=[]\n",
    "Task=[]\n",
    "Attr_type=[]\n",
    "Instance_no=[]\n",
    "Attr_no=[]\n",
    "Year=[]\n"
   ]
  },
  {
   "cell_type": "code",
   "execution_count": 487,
   "id": "3e5b3509",
   "metadata": {},
   "outputs": [],
   "source": [
    "\n",
    "# collecting dataset name\n",
    "\n",
    "try:\n",
    "    \n",
    "    dset=driver.find_elements(By.XPATH, \"/html/body/table[2]/tbody/tr/td[2]/table[2]/tbody/tr/td[1]/table/tbody/tr/td[2]/p/b/a\")\n",
    "    for d in dset:                      \n",
    "        Data.append(d.text)         \n",
    "        \n",
    "except NoSuchElementException:\n",
    "    Data.append(\"_\")"
   ]
  },
  {
   "cell_type": "code",
   "execution_count": 488,
   "id": "715860f8",
   "metadata": {},
   "outputs": [
    {
     "name": "stdout",
     "output_type": "stream",
     "text": [
      "Data Length:  622 \n",
      "\n",
      "DATASETS NAME :   ['Abalone', 'Adult', 'Annealing', 'Anonymous Microsoft Web Data', 'Arrhythmia', 'Artificial Characters', 'Audiology (Original)', 'Audiology (Standardized)', 'Auto MPG', 'Automobile', 'Badges', 'Balance Scale', 'Balloons', 'Breast Cancer', 'Breast Cancer Wisconsin (Original)', 'Breast Cancer Wisconsin (Prognostic)', 'Breast Cancer Wisconsin (Diagnostic)', 'Pittsburgh Bridges', 'Car Evaluation', 'Census Income', 'Chess (King-Rook vs. King-Knight)', 'Chess (King-Rook vs. King-Pawn)', 'Chess (King-Rook vs. King)', 'Chess (Domain Theories)', 'Bach Chorales', 'Connect-4', 'Credit Approval', 'Japanese Credit Screening', 'Computer Hardware', 'Contraceptive Method Choice', 'Covertype', 'Cylinder Bands', 'Dermatology', 'Diabetes', 'DGP2 - The Second Data Generation Program', 'Document Understanding', 'EBL Domain Theories', 'Echocardiogram', 'Ecoli', 'Flags', 'Function Finding', 'Glass Identification', \"Haberman's Survival\", 'Hayes-Roth', 'Heart Disease', 'Hepatitis', 'Horse Colic', 'ICU', 'Image Segmentation', 'Internet Advertisements', 'Ionosphere', 'Iris', 'ISOLET', 'Kinship', 'Labor Relations', 'LED Display Domain', 'Lenses', 'Letter Recognition', 'Liver Disorders', 'Logic Theorist', 'Lung Cancer', 'Lymphography', 'Mechanical Analysis', 'Meta-data', 'Mobile Robots', 'Molecular Biology (Promoter Gene Sequences)', 'Molecular Biology (Protein Secondary Structure)', 'Molecular Biology (Splice-junction Gene Sequences)', \"MONK's Problems\", 'Moral Reasoner', 'Multiple Features', 'Mushroom', 'Musk (Version 1)', 'Musk (Version 2)', 'Nursery', 'Othello Domain Theory', 'Page Blocks Classification', 'Optical Recognition of Handwritten Digits', 'Pen-Based Recognition of Handwritten Digits', 'Post-Operative Patient', 'Primary Tumor', 'Prodigy', 'Qualitative Structure Activity Relationships', 'Quadruped Mammals', 'Servo', 'Shuttle Landing Control', 'Solar Flare', 'Soybean (Large)', 'Soybean (Small)', 'Challenger USA Space Shuttle O-Ring', 'Low Resolution Spectrometer', 'Spambase', 'SPECT Heart', 'SPECTF Heart', 'Sponge', 'Statlog Project', 'Student Loan Relational', 'Teaching Assistant Evaluation', 'Tic-Tac-Toe Endgame', 'Thyroid Disease', 'Trains', 'University', 'Congressional Voting Records', 'Water Treatment Plant', 'Waveform Database Generator (Version 1)', 'Waveform Database Generator (Version 2)', 'Wine', 'Yeast', 'Zoo', 'Undocumented', 'Twenty Newsgroups', 'Australian Sign Language signs', 'Australian Sign Language signs (High Quality)', 'US Census Data (1990)', 'Census-Income (KDD)', 'Coil 1999 Competition Data', 'Corel Image Features', 'E. Coli Genes', 'EEG Database', 'El Nino', 'Entree Chicago Recommendation Data', 'CMU Face Images', 'Insurance Company Benchmark (COIL 2000)', 'Internet Usage Data', 'IPUMS Census Database', 'Japanese Vowels', 'KDD Cup 1998 Data', 'KDD Cup 1999 Data', 'M. Tuberculosis Genes', 'Movie', 'MSNBC.com Anonymous Web Data', 'NSF Research Award Abstracts 1990-2003', 'Pioneer-1 Mobile Robot Data', 'Pseudo Periodic Synthetic Time Series', 'Reuters-21578 Text Categorization Collection', 'Robot Execution Failures', 'Synthetic Control Chart Time Series', 'Syskill and Webert Web Page Ratings', 'UNIX User Data', 'Volcanoes on Venus - JARtool experiment', 'Statlog (Australian Credit Approval)', 'Statlog (German Credit Data)', 'Statlog (Heart)', 'Statlog (Landsat Satellite)', 'Statlog (Image Segmentation)', 'Statlog (Shuttle)', 'Statlog (Vehicle Silhouettes)', 'Connectionist Bench (Nettalk Corpus)', 'Connectionist Bench (Sonar, Mines vs. Rocks)', 'Connectionist Bench (Vowel Recognition - Deterding Data)', 'Economic Sanctions', 'Protein Data', 'Cloud', 'CalIt2 Building People Counts', 'Dodgers Loop Sensor', 'Poker Hand', 'MAGIC Gamma Telescope', 'UJI Pen Characters', 'Mammographic Mass', 'Forest Fires', 'Reuters Transcribed Subset', 'Bag of Words', 'Concrete Compressive Strength', 'Hill-Valley', 'Arcene', 'Dexter', 'Dorothea', 'Gisette', 'Madelon', 'Ozone Level Detection', 'Abscisic Acid Signaling Network', 'Parkinsons', 'Character Trajectories', 'Blood Transfusion Service Center', 'UJI Pen Characters (Version 2)', 'Semeion Handwritten Digit', 'SECOM', 'Plants', 'Libras Movement', 'Concrete Slump Test', 'Communities and Crime', 'Acute Inflammations', 'Wine Quality', 'URL Reputation', 'p53 Mutants', 'Parkinsons Telemonitoring', 'Demospongiae', 'Opinosis Opinion ⁄ Review', 'Breast Tissue', 'Cardiotocography', 'Wall-Following Robot Navigation Data', 'Spoken Arabic Digit', 'Localization Data for Person Activity', 'AutoUniv', 'Steel Plates Faults', 'MiniBooNE particle identification', 'YearPredictionMSD', 'PEMS-SF', 'OpinRank Review Dataset', 'Relative location of CT slices on axial axis', 'Online Handwritten Assamese Characters Dataset', 'PubChem Bioassay Data', 'Record Linkage Comparison Patterns', 'Communities and Crime Unnormalized', 'Vertebral Column', 'EMG Physical Action Data Set', 'Vicon Physical Action Data Set', 'Amazon Commerce reviews set', 'Amazon Access Samples', 'Reuter_50_50', 'Farm Ads', 'DBWorld e-mails', 'KEGG Metabolic Relation Network (Directed)', 'KEGG Metabolic Reaction Network (Undirected)', 'Bank Marketing', 'YouTube Comedy Slam Preference Data', 'Gas Sensor Array Drift Dataset', 'ILPD (Indian Liver Patient Dataset)', 'OPPORTUNITY Activity Recognition', 'Nomao', 'SMS Spam Collection', 'Skin Segmentation', 'Planning Relax', 'PAMAP2 Physical Activity Monitoring', 'Restaurant & consumer data', 'CNAE-9', 'Individual household electric power consumption', 'seeds', 'Northix', 'QtyT40I10D100K', 'Legal Case Reports', 'Human Activity Recognition Using Smartphones', 'One-hundred plant species leaves data set', 'Energy efficiency', 'Yacht Hydrodynamics', 'Fertility', 'Daphnet Freezing of Gait', '3D Road Network (North Jutland, Denmark)', 'ISTANBUL STOCK EXCHANGE', 'Buzz in social media', 'First-order theorem proving', 'Wearable Computing: Classification of Body Postures and Movements (PUC-Rio)', 'Gas sensor arrays in open sampling settings', 'Climate Model Simulation Crashes', 'MicroMass', 'QSAR biodegradation', 'BLOGGER', 'Daily and Sports Activities', 'User Knowledge Modeling', 'Reuters RCV1 RCV2 Multilingual, Multiview Text Categorization Test collection', 'NYSK', 'Turkiye Student Evaluation', \"ser Knowledge Modeling Data (Students' Knowledge Levels on DC Electrical Machines)\", 'EEG Eye State', 'Physicochemical Properties of Protein Tertiary Structure', 'seismic-bumps', 'banknote authentication', 'USPTO Algorithm Challenge, run by NASA-Harvard Tournament Lab and TopCoder Problem: Pat', 'YouTube Multiview Video Games Dataset', 'Gas Sensor Array Drift Dataset at Different Concentrations', 'Activities of Daily Living (ADLs) Recognition Using Binary Sensors', 'SkillCraft1 Master Table Dataset', 'Weight Lifting Exercises monitored with Inertial Measurement Units', 'SML2010', 'Bike Sharing Dataset', 'Predict keywords activities in a online social media', 'Thoracic Surgery Data', 'EMG dataset in Lower Limb', 'SUSY', 'HIGGS', 'Qualitative_Bankruptcy', 'LSVT Voice Rehabilitation', 'Dataset for ADL Recognition with Wrist-worn Accelerometer', 'Wilt', 'User Identification From Walking Activity', 'Activity Recognition from Single Chest-Mounted Accelerometer', 'Leaf', 'Dresses_Attribute_Sales', 'Tamilnadu Electricity Board Hourly Readings', 'Airfoil Self-Noise', 'Wholesale customers', 'Twitter Data set for Arabic Sentiment Analysis', 'Combined Cycle Power Plant', 'Urban Land Cover', 'Diabetes 130-US hospitals for years 1999-2008', 'Bach Choral Harmony', 'StoneFlakes', 'Tennis Major Tournament Match Statistics', 'Parkinson Speech Dataset with Multiple Types of Sound Recordings', 'Gesture Phase Segmentation', 'Perfume Data', 'BlogFeedback', 'REALDISP Activity Recognition Dataset', 'Newspaper and magazine images segmentation dataset', 'AAAI 2014 Accepted Papers', 'Gas sensor array under flow modulation', 'Gas sensor array exposed to turbulent gas mixtures', 'UJIIndoorLoc', 'Sentence Classification', 'Dow Jones Index', 'sEMG for Basic Hand movements', 'AAAI 2013 Accepted Papers', 'Geographical Original of Music', 'Condition Based Maintenance of Naval Propulsion Plants', 'Grammatical Facial Expressions', 'NoisyOffice', 'MHEALTH Dataset', 'Student Performance', 'ElectricityLoadDiagrams20112014', 'Gas sensor array under dynamic gas mixtures', 'microblogPCU', 'Firm-Teacher_Clave-Direction_Classification', 'Dataset for Sensorless Drive Diagnosis', 'TV News Channel Commercial Detection Dataset', 'Phishing Websites', 'Greenhouse Gas Observing Network', 'Diabetic Retinopathy Debrecen Data Set', 'HIV-1 protease cleavage', 'Sentiment Labelled Sentences', 'Online News Popularity', 'Forest type mapping', 'wiki4HE', 'Online Video Characteristics and Transcoding Time Dataset', 'Chronic_Kidney_Disease', 'Machine Learning based ZZAlpha Ltd. Stock Recommendations 2012-2014', 'Folio', 'Taxi Service Trajectory - Prediction Challenge, ECML PKDD 2015', 'Cuff-Less Blood Pressure Estimation', 'Smartphone-Based Recognition of Human Activities and Postural Transitions', 'Mice Protein Expression', 'UJIIndoorLoc-Mag', 'Heterogeneity Activity Recognition', 'Educational Process Mining (EPM): A Learning Analytics Data Set', 'HEPMASS', 'Indoor User Movement Prediction from RSS data', 'Open University Learning Analytics dataset', 'default of credit card clients', 'Mesothelioma’s disease data set', 'Online Retail', 'SIFT10M', 'GPS Trajectories', 'Detect Malacious Executable(AntiVirus)', 'Occupancy Detection', 'Improved Spiral Test Using Digitized Graphics Tablet for Monitoring Parkinson’s Disease', 'News Aggregator', 'Air Quality', 'Twin gas sensor arrays', 'Gas sensors for home activity monitoring', 'Facebook Comment Volume Dataset', 'Smartphone Dataset for Human Activity Recognition (HAR) in Ambient Assisted Living (AAL)', 'Polish companies bankruptcy data', 'Activity Recognition system based on Multisensor data fusion (AReM)', 'Dota2 Games Results', 'Facebook metrics', 'UbiqLog (smartphone lifelogging)', 'NIPS Conference Papers 1987-2015', 'HTRU2', 'Drug consumption (quantified)', 'Appliances energy prediction', 'Miskolc IIS Hybrid IPS', 'KDC-4007 dataset Collection', 'Geo-Magnetic field and WLAN dataset for indoor localisation from wristband and smartphone', 'DrivFace', 'Website Phishing', 'YouTube Spam Collection', 'Beijing PM2.5 Data', 'Cargo 2000 Freight Tracking and Tracing', 'Cervical cancer (Risk Factors)', 'Quality Assessment of Digital Colposcopies', 'KASANDR', 'FMA: A Dataset For Music Analysis', 'Air quality', 'Epileptic Seizure Recognition', 'Devanagari Handwritten Character Dataset', 'Stock portfolio performance', 'MoCap Hand Postures', 'Early biomarkers of Parkinson�s disease based on natural connected speech', 'Data for Software Engineering Teamwork Assessment in Education Setting', 'PM2.5 Data of Five Chinese Cities', 'Parkinson Disease Spiral Drawings Using Digitized Graphics Tablet', 'Sales_Transactions_Dataset_Weekly', 'Las Vegas Strip', 'Eco-hotel', 'MEU-Mobile KSD', 'Crowdsourced Mapping', 'gene expression cancer RNA-Seq', 'Hybrid Indoor Positioning Dataset from WiFi RSSI, Bluetooth and magnetometer', 'chestnut – LARVIC', 'Burst Header Packet (BHP) flooding attack on Optical Burst Switching (OBS) Network', 'Motion Capture Hand Postures', 'Anuran Calls (MFCCs)', 'TTC-3600: Benchmark dataset for Turkish text categorization', 'Gastrointestinal Lesions in Regular Colonoscopy', 'Daily Demand Forecasting Orders', 'Paper Reviews', 'extention of Z-Alizadeh sani dataset', 'Z-Alizadeh Sani', 'Dynamic Features of VirusShare Executables', 'IDA2016Challenge', 'DSRC Vehicle Communications', 'Mturk User-Perceived Clusters over Images', 'Character Font Images', 'DeliciousMIL: A Data Set for Multi-Label Multi-Instance Learning with Instance Labels', 'Autistic Spectrum Disorder Screening Data for Children', 'Autistic Spectrum Disorder Screening Data for Adolescent', 'APS Failure at Scania Trucks', 'Wireless Indoor Localization', 'HCC Survival', 'CSM (Conventional and Social Media Movies) Dataset 2014 and 2015', 'University of Tehran Question Dataset 2016 (UTQD.2016)', 'Autism Screening Adult', 'Activity recognition with healthy older people using a batteryless wearable sensor', 'Immunotherapy Dataset', 'Cryotherapy Dataset', 'OCT data & Color Fundus Images of Left & Right Eyes', 'Discrete Tone Image Dataset', 'News Popularity in Multiple Social Media Platforms', 'Ultrasonic flowmeter diagnostics', 'ICMLA 2014 Accepted Papers Data Set', 'BLE RSSI Dataset for Indoor localization and Navigation', 'Container Crane Controller Data Set', 'Residential Building Data Set', 'Health News in Twitter', 'chipseq', 'SGEMM GPU kernel performance', 'Repeat Consumption Matrices', 'detection_of_IoT_botnet_attacks_N_BaIoT', 'Absenteeism at work', 'SCADI', 'Condition monitoring of hydraulic systems', 'Carbon Nanotubes', 'Optical Interconnection Network', 'Sports articles for objectivity analysis', 'Breast Cancer Coimbra', 'GNFUV Unmanned Surface Vehicles Sensor Data', 'Dishonest Internet users Dataset', 'Victorian Era Authorship Attribution', 'Simulated Falls and Daily Living Activities Data Set', 'Multimodal Damage Identification for Humanitarian Computing', 'EEG Steady-State Visual Evoked Potential Signals', 'Roman Urdu Data Set', 'Avila', 'PANDOR', 'Drug Review Dataset (Druglib.com)', 'Drug Review Dataset (Drugs.com)', 'Physical Unclonable Functions', 'Superconductivty Data', 'WESAD (Wearable Stress and Affect Detection)', 'GNFUV Unmanned Surface Vehicles Sensor Data Set 2', 'Student Academics Performance', 'Online Shoppers Purchasing Intention Dataset', 'PMU-UD', \"Parkinson's Disease Classification\", 'Electrical Grid Stability Simulated Data', 'Caesarian Section Classification Dataset', 'BAUM-1', 'BAUM-2', 'Audit Data', 'BuddyMove Data Set', 'Real estate valuation data set', 'Early biomarkers of Parkinson’s disease based on natural connected speech Data Set', 'Somerville Happiness Survey', '2.4 GHZ Indoor Channel Measurements', 'EMG data for gestures', 'Parking Birmingham', 'Behavior of the urban traffic of the city of Sao Paulo in Brazil', 'Travel Reviews', 'Tarvel Review Ratings', 'Rice Leaf Diseases', 'Gas sensor array temperature modulation', 'Facebook Live Sellers in Thailand', 'Parkinson Dataset with replicated acoustic features', 'Metro Interstate Traffic Volume', 'Query Analytics Workloads Dataset', 'Wave Energy Converters', 'PPG-DaLiA', 'Alcohol QCM Sensor Dataset', 'Divorce Predictors data set', 'Incident management process enriched event log', 'Opinion Corpus for Lebanese Arabic Reviews (OCLAR)', 'MEx', 'Beijing Multi-Site Air-Quality Data', 'Online Retail II', 'Hepatitis C Virus (HCV) for Egyptian patients', 'QSAR fish toxicity', 'QSAR aquatic toxicity', 'Human Activity Recognition from Continuous Ambient Sensor Data', 'WISDM Smartphone and Smartwatch Activity and Biometrics Dataset', 'QSAR oral toxicity', 'QSAR androgen receptor', 'QSAR Bioconcentration classes dataset', 'QSAR fish bioconcentration factor (BCF)', 'A study of Asian Religious and Biblical Texts', 'Real-time Election Results: Portugal 2019', 'Bias correction of numerical prediction model temperature forecast', 'Bar Crawl: Detecting Heavy Drinking', 'Kitsune Network Attack Dataset', 'Shoulder Implant X-Ray Manufacturer Classification', 'Speaker Accent Recognition', 'Heart failure clinical records', 'Deepfakes: Medical Image Tamper Detection', 'selfBACK', 'South German Credit', 'Exasens', 'Swarm Behaviour', 'Crop mapping using fused optical-radar data set', 'BitcoinHeistRansomwareAddressDataset', 'Facebook Large Page-Page Network', 'Amphibians', 'Early stage diabetes risk prediction dataset.', 'Turkish Spam V01', 'Stock keeping units', 'Demand Forecasting for a store', 'Detect Malware Types', 'Wave Energy Converters', 'Youtube cookery channels viewers comments in Hinglish', 'Pedestrian in Traffic Dataset', 'Cervical Cancer Behavior Risk', 'Sattriya_Dance_Single_Hand_Gestures Dataset', 'Divorce Predictors data set', '3W dataset', 'Malware static and dynamic features VxHeaven and Virus Total', 'Internet Firewall Data', 'User Profiling and Abusive Language Detection Dataset', 'Estimation of obesity levels based on eating habits and physical condition', 'Rice (Cammeo and Osmancik)', 'Vehicle routing and scheduling problems', 'Algerian Forest Fires Dataset', 'Breath Metabolomics', 'Horton General Hospital', 'UrbanGB, urban road accidents coordinates labelled by the urban center', 'Gas Turbine CO and NOx Emission Data Set', 'Activity recognition using wearable physiological measurements', 'clickstream data for online shopping', 'CNNpred: CNN-based stock market prediction using a diverse set of variables', 'Apartment for rent classified', ': Simulated Data set of Iraqi tourism places', 'Nasarian CAD Dataset', 'Monolithic Columns in Troad and Mysia Region', 'Bar Crawl: Detecting Heavy Drinking', 'Seoul Bike Sharing Demand', 'Person Classification Gait Data', 'Shill Bidding Dataset', 'Iranian Churn Dataset', 'Unmanned Aerial Vehicle (UAV) Intrusion Detection', 'Bone marrow transplant: children', 'Exasens', 'COVID-19 Surveillance', 'Refractive errors', 'Shoulder Implant X-Ray Manufacturer Classification', 'CLINC150', 'HCV data', 'Taiwanese Bankruptcy Prediction', 'South German Credit (UPDATE)', 'IIWA14-R820-Gazebo-Dataset-10Trajectories', 'Guitar Chords finger positions', 'Russian Corpus of Biographical Texts', 'Codon usage', 'Intelligent Media Accelerometer and Gyroscope (IM-AccGyro) Dataset', 'Myocardial infarction complications', 'Hungarian Chickenpox Cases', 'Simulated data for survival modelling', 'Student Performance on an entrance examination', 'Chemical Composition of Ceramic Samples', 'Labeled Text Forum Threads Dataset', 'Stock keeping units', 'BLE RSSI dataset for Indoor localization', 'Basketball dataset', 'GitHub MUSAE', 'Anticancer peptides', 'Monolithic Columns in Troad and Mysia Region', 'Gender by Name', 'Iranian Churn Dataset', 'Unmanned Aerial Vehicle (UAV) Intrusion Detection', 'Shoulder Implant Manufacture Classification', 'LastFM Asia Social Network', 'Wheat kernels', 'Productivity Prediction of Garment Employees', 'Multi-view Brain Networks', 'LastFM Asia Social Network', 'Wisesight Sentiment Corpus', 'AI4I 2020 Predictive Maintenance Dataset', 'Dry Bean Dataset', 'in-vehicle coupon recommendation', 'Gait Classification', 'Wikipedia Math Essentials', 'Wikipedia Math Essentials', 'Synchronous Machine Data Set', 'Average Localization Error (ALE) in sensor node localization process in WSNs', '9mers from cullpdb', 'TamilSentiMix', 'Accelerometer', 'Synchronous Machine Data Set', 'Pedal Me Bicycle Deliveries', 'Turkish Headlines Dataset', 'Secondary Mushroom Dataset', 'Power consumption of Tetouan city', 'Raisin Dataset', 'Steel Industry Energy Consumption Dataset', 'Gender Gap in Spanish WP', 'Non verbal tourists data', 'Roman Urdu Sentiment Analysis Dataset (RUSAD)', 'TUANDROMD ( Tezpur University Android Malware Dataset)', 'Higher Education Students Performance Evaluation Dataset', 'Risk Factor prediction of Chronic Kidney Disease', 'Lab Test', 'Shoulder Implant Manufacture Classification', 'Rocket League Skillshots Data Set', 'Sepsis survival minimal clinical records', 'Water Quality Prediction', 'Traffic Flow Forecasting', 'sentiment analysis in Saudi Arabia about distance education during Covid-19', 'Kain Tradisional Sambas', 'Image Recognition Task Execution Times in Mobile Edge Computing', 'REWEMA', 'REJAFADA', 'Steel Industry Energy Consumption Dataset', 'Influenza outbreak event prediction via Twitter data', 'Turkish Music Emotion Dataset', 'Maternal Health Risk Data Set', 'Room Occupancy Estimation', 'Image Recognition Task Execution Times in Mobile Edge Computing']\n"
     ]
    }
   ],
   "source": [
    "print('Data Length: ', len(Data), '\\n') \n",
    "print('DATASETS NAME :  ', Data)"
   ]
  },
  {
   "cell_type": "code",
   "execution_count": 489,
   "id": "3f914e39",
   "metadata": {},
   "outputs": [],
   "source": [
    "# collecting data type name\n",
    "\n",
    "try:\n",
    "    \n",
    "    dtyp=driver.find_elements(By.XPATH, \"/html/body/table[2]/tbody/tr/td[2]/table[2]/tbody/tr/td[2]/p\")\n",
    "    for ty in dtyp[1:]:                      \n",
    "        Data_type.append(ty.text)         \n",
    "        \n",
    "except NoSuchElementException:\n",
    "    Data_type.append(\"_\")"
   ]
  },
  {
   "cell_type": "code",
   "execution_count": 490,
   "id": "c7d47d18",
   "metadata": {},
   "outputs": [
    {
     "name": "stdout",
     "output_type": "stream",
     "text": [
      "Data Length:  622 \n",
      "\n",
      "DATA TYPE :   ['Multivariate ', 'Multivariate ', 'Multivariate ', ' ', 'Multivariate ', 'Multivariate ', 'Multivariate ', 'Multivariate ', 'Multivariate ', 'Multivariate ', 'Univariate, Text ', 'Multivariate ', 'Multivariate ', 'Multivariate ', 'Multivariate ', 'Multivariate ', 'Multivariate ', 'Multivariate ', 'Multivariate ', 'Multivariate ', 'Multivariate, Data-Generator ', 'Multivariate ', 'Multivariate ', 'Domain-Theory ', 'Univariate, Time-Series ', 'Multivariate, Spatial ', 'Multivariate ', 'Multivariate, Domain-Theory ', 'Multivariate ', 'Multivariate ', 'Multivariate ', 'Multivariate ', 'Multivariate ', 'Multivariate, Time-Series ', 'Data-Generator ', ' ', ' ', 'Multivariate ', 'Multivariate ', 'Multivariate ', ' ', 'Multivariate ', 'Multivariate ', 'Multivariate ', 'Multivariate ', 'Multivariate ', 'Multivariate ', 'Multivariate, Time-Series ', 'Multivariate ', 'Multivariate ', 'Multivariate ', 'Multivariate ', 'Multivariate ', 'Relational ', 'Multivariate ', 'Multivariate, Data-Generator ', 'Multivariate ', 'Multivariate ', 'Multivariate ', 'Domain-Theory ', 'Multivariate ', 'Multivariate ', 'Multivariate ', 'Multivariate ', 'Domain-Theory ', 'Sequential, Domain-Theory ', 'Sequential ', 'Sequential, Domain-Theory ', 'Multivariate ', 'Domain-Theory ', 'Multivariate ', 'Multivariate ', 'Multivariate ', 'Multivariate ', 'Multivariate ', 'Domain-Theory ', 'Multivariate ', 'Multivariate ', 'Multivariate ', 'Multivariate ', 'Multivariate ', 'Domain-Theory ', 'Domain-Theory ', 'Multivariate, Data-Generator ', 'Multivariate ', 'Multivariate ', 'Multivariate ', 'Multivariate ', 'Multivariate ', 'Multivariate ', 'Multivariate ', 'Multivariate ', 'Multivariate ', 'Multivariate ', 'Multivariate ', ' ', 'Domain-Theory ', 'Multivariate ', 'Multivariate ', 'Multivariate, Domain-Theory ', 'Multivariate ', 'Multivariate ', 'Multivariate ', 'Multivariate ', 'Multivariate, Data-Generator ', 'Multivariate, Data-Generator ', 'Multivariate ', 'Multivariate ', 'Multivariate ', ' ', 'Text ', 'Multivariate, Time-Series ', 'Multivariate, Time-Series ', 'Multivariate ', 'Multivariate ', 'Multivariate ', 'Multivariate ', 'Relational ', 'Multivariate, Time-Series ', 'Spatio-temporal ', 'Transactional, Sequential ', 'Image ', 'Multivariate ', 'Multivariate ', 'Multivariate ', 'Multivariate, Time-Series ', 'Multivariate ', 'Multivariate ', 'Relational ', 'Multivariate, Relational ', 'Sequential ', 'Text ', 'Multivariate, Time-Series ', 'Univariate, Time-Series ', 'Text ', 'Multivariate, Time-Series ', 'Time-Series ', 'Multivariate, Text ', 'Text, Sequential ', 'Image ', 'Multivariate ', 'Multivariate ', 'Multivariate ', 'Multivariate ', 'Multivariate ', 'Multivariate ', 'Multivariate ', 'Multivariate ', 'Multivariate ', ' ', 'Domain-Theory ', ' ', 'Multivariate ', 'Multivariate, Time-Series ', 'Multivariate, Time-Series ', 'Multivariate ', 'Multivariate ', 'Multivariate, Sequential ', 'Multivariate ', 'Multivariate ', 'Text ', 'Text ', 'Multivariate ', 'Sequential ', 'Multivariate ', 'Multivariate ', 'Multivariate ', 'Multivariate ', 'Multivariate ', 'Multivariate, Sequential, Time-Series ', 'Multivariate ', 'Multivariate ', 'Time-Series ', 'Multivariate ', 'Multivariate, Sequential ', 'Multivariate ', 'Multivariate ', 'Multivariate ', 'Multivariate, Sequential ', 'Multivariate ', 'Multivariate ', 'Multivariate ', 'Multivariate ', 'Multivariate, Time-Series ', 'Multivariate ', 'Multivariate ', 'Multivariate ', 'Text ', 'Multivariate ', 'Multivariate ', 'Multivariate, Sequential ', 'Multivariate, Time-Series ', 'Univariate, Sequential, Time-Series ', 'Multivariate ', 'Multivariate ', 'Multivariate ', 'Multivariate ', 'Multivariate, Time-Series ', 'Text ', 'Domain-Theory ', 'Multivariate, Sequential ', 'Multivariate ', 'Multivariate ', 'Multivariate ', 'Multivariate ', 'Time-Series ', 'Time-Series ', 'Multivariate, Text, Domain-Theory ', 'Time-Series, Domain-Theory ', 'Multivariate, Text, Domain-Theory ', 'Text ', 'Text ', 'Multivariate, Univariate, Text ', 'Multivariate, Univariate, Text ', 'Multivariate ', 'Text ', 'Multivariate ', 'Multivariate ', 'Multivariate, Time-Series ', 'Univariate ', 'Multivariate, Text, Domain-Theory ', 'Univariate ', 'Univariate ', 'Multivariate, Time-Series ', 'Multivariate ', 'Multivariate, Text ', 'Multivariate, Time-Series ', 'Multivariate ', 'Multivariate, Univariate, Text ', 'Sequential ', 'Text ', 'Multivariate, Time-Series ', ' ', 'Multivariate ', 'Multivariate ', 'Multivariate ', 'Multivariate, Time-Series ', 'Sequential, Text ', 'Multivariate, Univariate, Time-Series ', 'Time-Series, Multivariate ', 'Multivariate ', 'Sequential ', 'Multivariate, Time-Series ', 'Multivariate ', 'Multivariate ', 'Multivariate ', 'Multivariate ', 'Multivariate, Time-Series ', 'Multivariate ', 'Multivariate ', 'Multivariate, Sequential, Text ', 'Multivariate ', 'Multivariate ', 'Multivariate, Sequential, Time-Series ', 'Multivariate ', 'Multivariate ', 'Multivariate ', 'Domain-Theory ', 'Multivariate, Text ', 'Multivariate, Time-Series ', 'Multivariate, Sequential, Time-Series ', 'Multivariate ', 'Multivariate ', 'Multivariate, Sequential, Time-Series, Text ', 'Univariate ', 'Multivariate, Sequential, Time-Series ', 'Multivariate ', 'Multivariate, Time-Series ', ' ', ' ', 'Multivariate ', 'Multivariate ', 'Multivariate, Time-Series ', 'Multivariate ', 'Univariate, Sequential, Time-Series ', 'Univariate, Sequential, Time-Series ', 'Multivariate ', 'Text ', 'Multivariate ', 'Multivariate ', 'Multivariate ', 'Text ', 'Multivariate ', 'Multivariate ', 'Multivariate ', 'Sequential ', 'Multivariate ', 'Multivariate ', 'Multivariate ', 'Multivariate, Sequential, Time-Series ', 'Univariate, Domain-Theory ', 'Multivariate ', 'Multivariate, Time-Series ', ' ', 'Multivariate ', 'Multivariate, Time-Series ', 'Multivariate, Time-Series ', 'Multivariate ', 'Text ', 'Time-Series ', 'Time-Series ', 'Multivariate ', 'Multivariate ', 'Multivariate ', 'Multivariate, Sequential ', 'Multivariate ', 'Multivariate, Time-Series ', 'Multivariate ', 'Time-Series ', 'Multivariate, Time-Series ', 'Multivariate, Univariate, Sequential, Text ', 'Multivariate ', 'Multivariate ', 'Multivariate ', ' ', 'Multivariate, Time-Series ', 'Multivariate ', 'Multivariate ', 'Text ', 'Multivariate ', 'Multivariate ', 'Multivariate ', 'Multivariate ', 'Multivariate ', 'Sequential, Time-Series ', 'Multivariate ', 'Multivariate, Sequential, Time-Series, Domain-Theory ', 'Multivariate ', 'Multivariate, Time-Series ', 'Multivariate ', 'Multivariate, Sequential, Time-Series ', 'Multivariate, Time-Series ', 'Multivariate, Sequential, Time-Series ', 'Multivariate ', 'Multivariate, Sequential, Time-Series ', 'Multivariate, Sequential, Time-Series ', 'Multivariate ', 'Multivariate ', 'Multivariate, Sequential, Time-Series ', 'Multivariate ', 'Multivariate ', 'Multivariate ', 'Multivariate, Time-Series ', 'Multivariate ', 'Multivariate ', 'Multivariate, Time-Series ', 'Multivariate, Time-Series, Domain-Theory ', 'Multivariate, Time-Series ', 'Multivariate ', 'Time-Series ', 'Multivariate ', 'Multivariate, Sequential, Time-Series ', 'Multivariate ', 'Multivariate ', 'Multivariate ', 'Text ', 'Multivariate ', 'Multivariate ', 'Multivariate, Time-Series ', 'Text ', 'Multivariate, Text ', 'Multivariate, Sequential, Time-Series ', 'Multivariate ', 'Multivariate ', 'Text ', 'Multivariate, Time-Series ', 'Multivariate, Sequential ', 'Multivariate ', 'Multivariate ', 'Multivariate ', 'Multivariate, Time-Series ', 'Multivariate, Time-Series ', 'Multivariate, Time-Series ', ' ', 'Multivariate ', 'Multivariate ', 'Multivariate ', 'Sequential, Time-Series ', 'Multivariate, Time-Series ', 'Multivariate ', 'Multivariate, Time-Series ', ' ', 'Text ', 'Multivariate ', 'Multivariate ', 'Multivariate ', 'Multivariate, Sequential, Time-Series ', ' ', 'Text ', 'Multivariate ', 'Multivariate ', 'Text ', 'Multivariate ', 'Time-Series ', 'Text ', ' ', ' ', 'Multivariate, Time-Series ', 'Multivariate ', 'Sequential, Text ', 'Multivariate, Text ', 'Multivariate ', 'Text ', 'Multivariate ', 'Multivariate ', 'Multivariate ', 'Multivariate ', 'Multivariate ', 'Multivariate ', 'Text ', ' ', 'Sequential ', 'Univariate ', 'Univariate ', 'Multivariate ', 'Multivariate ', 'Multivariate, Time-Series, Text ', 'Multivariate ', 'Multivariate ', 'Multivariate, Sequential, Time-Series ', 'Univariate, Domain-Theory ', 'Multivariate ', 'Text ', 'Sequential ', 'Multivariate ', 'Multivariate ', 'Multivariate, Sequential ', 'Multivariate, Time-Series ', 'Multivariate ', 'Multivariate, Time-Series ', 'Univariate ', 'Multivariate ', 'Multivariate, Text ', 'Multivariate ', 'Multivariate, Time-Series ', 'Multivariate ', 'Text ', 'Time-Series ', 'Multivariate, Text ', 'Multivariate, Time-Series ', 'Text ', 'Multivariate ', 'Multivariate ', 'Multivariate, Text ', 'Multivariate, Text ', 'Multivariate ', 'Multivariate ', 'Multivariate, Time-Series ', 'Multivariate, Sequential, Time-Series ', 'Multivariate ', 'Multivariate ', 'Univariate ', 'Multivariate ', 'Multivariate ', 'Univariate ', 'Time-Series ', 'Time-Series ', 'Multivariate ', 'Multivariate, Text ', 'Multivariate ', 'Multivariate ', ' ', 'Multivariate ', 'Time-Series ', 'Multivariate, Univariate, Sequential, Time-Series ', 'Multivariate, Time-Series ', 'Multivariate, Text ', 'Multivariate, Text ', 'Multivariate ', 'Multivariate, Time-Series ', 'Multivariate ', 'Multivariate ', 'Multivariate, Sequential, Time-Series ', 'Multivariate ', 'Multivariate ', 'Multivariate, Time-Series ', 'Multivariate ', 'Multivariate, Univariate ', 'Multivariate, Sequential ', 'Text ', 'Time-Series ', 'Multivariate, Time-Series ', 'Multivariate, Sequential, Time-Series, Text ', 'Multivariate ', 'Multivariate ', 'Multivariate ', 'Multivariate, Sequential, Time-Series ', 'Multivariate, Time-Series ', 'Multivariate ', 'Multivariate ', 'Multivariate ', 'Multivariate ', 'Multivariate, Text ', 'Multivariate, Time-Series, Text ', 'Multivariate ', 'Multivariate, Time-Series ', 'Multivariate, Sequential, Time-Series ', 'Multivariate ', 'Multivariate ', 'Multivariate ', 'Multivariate ', 'Time-Series ', 'Multivariate ', 'Multivariate ', 'Multivariate ', 'Multivariate, Time-Series ', 'Multivariate, Time-Series ', 'Multivariate ', 'Multivariate ', 'Multivariate ', 'Text ', 'Multivariate ', 'Multivariate ', 'Multivariate, Time-Series, Text ', 'Multivariate ', 'Multivariate, Text ', 'Multivariate, Sequential, Time-Series ', 'Multivariate, Univariate ', 'Multivariate ', 'Multivariate, Univariate ', 'Multivariate, Time-Series ', 'Multivariate ', 'Multivariate ', ' ', 'Multivariate ', 'Multivariate ', 'Multivariate ', 'Multivariate ', 'Multivariate, Time-Series ', 'Multivariate, Time-Series ', 'Univariate ', 'Multivariate ', 'Multivariate ', 'Multivariate, Sequential ', 'Sequential, Time-Series ', 'Multivariate ', 'Multivariate ', 'Multivariate ', 'Multivariate ', 'Multivariate, Time-Series ', 'Multivariate ', 'Multivariate ', 'Multivariate ', 'Multivariate ', 'Multivariate ', 'Multivariate ', 'Multivariate ', 'Multivariate ', 'Multivariate ', 'Multivariate ', 'Text ', 'Multivariate ', 'Multivariate ', 'Multivariate ', ' ', 'Text ', 'Text ', 'Multivariate ', 'Time-Series ', 'Multivariate ', 'Time-Series ', 'Multivariate, Time-Series ', 'Multivariate ', 'Multivariate ', 'Text ', 'Multivariate ', 'Sequential, Time-Series ', 'Time-Series ', 'Multivariate ', 'Sequential ', 'Multivariate ', 'Text ', 'Multivariate ', 'Multivariate ', 'Multivariate ', 'Multivariate ', 'Multivariate ', 'Multivariate, Time-Series ', 'Multivariate ', 'Multivariate ', 'Multivariate, Text ', 'Multivariate, Time-Series ', 'Multivariate ', 'Multivariate ', 'Multivariate ', 'Time-Series ', 'Time-Series ', 'Multivariate ', 'Multivariate ', 'Sequential ', ' ', 'Multivariate ', 'Multivariate ', 'Time-Series ', 'Text ', 'Univariate ', 'Multivariate, Time-Series ', 'Multivariate ', 'Multivariate ', 'Multivariate ', 'Multivariate ', 'Text ', 'Multivariate ', 'Multivariate ', 'Multivariate ', 'Multivariate ', 'Multivariate ', 'Multivariate, Time-Series ', 'Multivariate ', 'Multivariate ', 'Multivariate ', 'Text ', 'Multivariate ', 'Univariate, Sequential, Time-Series ', 'Multivariate ', 'Multivariate ', 'Multivariate ', 'Multivariate ', 'Multivariate ', ' ', 'Multivariate, Time-Series ', 'Univariate ']\n"
     ]
    }
   ],
   "source": [
    "print('Data Length: ', len(Data_type), '\\n') \n",
    "print('DATA TYPE :  ', Data_type)"
   ]
  },
  {
   "cell_type": "code",
   "execution_count": 491,
   "id": "f022c5c5",
   "metadata": {},
   "outputs": [],
   "source": [
    "# collecting default task name\n",
    "\n",
    "try:\n",
    "    \n",
    "    tsk=driver.find_elements(By.XPATH, \"/html/body/table[2]/tbody/tr/td[2]/table[2]/tbody/tr/td[3]/p\")\n",
    "    for ts in tsk[1:]:                      \n",
    "        Task.append(ts.text)         \n",
    "        \n",
    "except NoSuchElementException:\n",
    "    Task.append(\"_\")"
   ]
  },
  {
   "cell_type": "code",
   "execution_count": 492,
   "id": "43103f38",
   "metadata": {},
   "outputs": [
    {
     "name": "stdout",
     "output_type": "stream",
     "text": [
      "Data Length:  622 \n",
      "\n",
      "DEFAULT TASK :   ['Classification ', 'Classification ', 'Classification ', 'Recommender-Systems ', 'Classification ', 'Classification ', 'Classification ', 'Classification ', 'Regression ', 'Regression ', 'Classification ', 'Classification ', 'Classification ', 'Classification ', 'Classification ', 'Classification, Regression ', 'Classification ', 'Classification ', 'Classification ', 'Classification ', 'Classification ', 'Classification ', 'Classification ', ' ', ' ', 'Classification ', 'Classification ', 'Classification ', 'Regression ', 'Classification ', 'Classification ', 'Classification ', 'Classification ', ' ', ' ', ' ', ' ', 'Classification ', 'Classification ', 'Classification ', 'Function-Learning ', 'Classification ', 'Classification ', 'Classification ', 'Classification ', 'Classification ', 'Classification ', ' ', 'Classification ', 'Classification ', 'Classification ', 'Classification ', 'Classification ', 'Relational-Learning ', ' ', 'Classification ', 'Classification ', 'Classification ', ' ', ' ', 'Classification ', 'Classification ', 'Classification ', 'Classification ', ' ', 'Classification ', 'Classification ', 'Classification ', 'Classification ', ' ', 'Classification ', 'Classification ', 'Classification ', 'Classification ', 'Classification ', ' ', 'Classification ', 'Classification ', 'Classification ', 'Classification ', 'Classification ', ' ', ' ', 'Classification ', 'Regression ', 'Classification ', 'Regression ', 'Classification ', 'Classification ', 'Regression ', 'Classification ', 'Classification ', 'Classification ', 'Classification ', 'Clustering ', ' ', ' ', 'Classification ', 'Classification ', 'Classification ', 'Classification ', 'Classification ', 'Classification ', 'Clustering ', 'Classification ', 'Classification ', 'Classification ', 'Classification ', 'Classification ', ' ', ' ', 'Classification ', 'Classification ', 'Clustering ', 'Classification ', ' ', ' ', ' ', ' ', ' ', 'Recommender-Systems ', 'Classification ', 'Regression, Description ', ' ', ' ', 'Classification ', 'Regression ', 'Classification ', ' ', ' ', ' ', ' ', ' ', ' ', 'Classification ', 'Classification ', 'Classification, Clustering ', 'Classification ', ' ', 'Classification ', 'Classification ', 'Classification ', 'Classification ', 'Classification ', 'Classification ', 'Classification ', 'Classification ', ' ', 'Classification ', 'Classification ', ' ', ' ', ' ', ' ', ' ', 'Classification ', 'Classification ', 'Classification ', 'Classification ', 'Regression ', 'Classification ', 'Clustering ', 'Regression ', 'Classification ', 'Classification ', 'Classification ', 'Classification ', 'Classification ', 'Classification ', 'Classification ', 'Causal-Discovery ', 'Classification ', 'Classification, Clustering ', 'Classification ', 'Classification ', 'Classification ', 'Classification, Causal-Discovery ', 'Clustering ', 'Classification, Clustering ', 'Regression ', 'Regression ', 'Classification ', 'Classification, Regression ', 'Classification ', 'Classification ', 'Regression ', 'Classification ', ' ', 'Classification ', 'Classification ', 'Classification ', 'Classification ', 'Classification ', 'Classification ', 'Classification ', 'Classification ', 'Regression ', 'Classification ', ' ', 'Regression ', 'Classification ', 'Classification ', 'Classification ', 'Regression ', 'Classification ', 'Classification ', 'Classification ', 'Classification ', 'Regression, Clustering, Causal-Discovery ', 'Classification, Clustering ', 'Classification ', 'Classification ', 'Classification, Regression, Clustering ', 'Classification, Regression, Clustering ', 'Classification ', 'Classification ', 'Classification ', 'Classification ', 'Classification ', 'Classification ', 'Classification, Clustering ', 'Classification ', 'Classification ', 'Classification ', ' ', 'Classification ', 'Regression, Clustering ', 'Classification, Clustering ', 'Classification ', ' ', 'Classification ', 'Classification, Clustering ', 'Classification ', 'Classification, Regression ', 'Regression ', 'Classification, Regression ', 'Classification ', 'Regression, Clustering ', 'Classification, Regression ', 'Regression, Classification ', 'Classification ', 'Classification ', 'Classification ', 'Classification ', 'Classification ', 'Classification ', 'Classification ', 'Classification, Clustering ', 'Classification, Clustering ', 'Classification ', 'Clustering ', 'Classification, Clustering ', 'Classification ', 'Classification ', 'Regression ', 'Classification ', 'Classification ', 'Classification ', 'Classification, Clustering ', 'Classification, Regression, Clustering, Causa ', 'Classification, Clustering ', 'Regression ', 'Classification ', 'Regression ', 'Regression ', ' ', 'Classification ', ' ', 'Classification ', 'Classification ', 'Classification ', 'Classification ', 'Classification, Clustering ', 'Classification ', 'Classification, Clustering ', 'Classification, Clustering ', 'Classification ', 'Classification, Clustering ', 'Classification, Regression, Clustering ', 'Regression ', 'Classification, Clustering ', 'Classification ', 'Regression ', 'Classification ', 'Classification, Clustering ', 'Classification ', 'Classification, Clustering, Causal-Discovery ', 'Classification, Regression, Clustering ', 'Classification, Regression ', 'Classification, Clustering ', 'Classification, Clustering ', 'Regression ', 'Classification ', 'Classification ', 'Clustering ', 'Classification, Regression ', 'Classification, Regression ', 'Classification, Regression ', 'Classification ', 'Classification, Clustering ', 'Classification ', 'Clustering ', 'Classification, Regression ', 'Regression ', 'Classification, Clustering ', 'Classification, Regression ', 'Classification ', 'Classification, Regression ', 'Regression, Clustering ', 'Classification, Regression ', 'Classification, Causal-Discovery ', 'Classification ', 'Classification ', 'Classification, Clustering ', 'Classification ', 'Regression ', 'Classification ', 'Classification ', 'Classification ', 'Classification, Regression ', 'Classification ', 'Regression, Clustering, Causal-Discovery ', 'Regression ', 'Classification ', 'Classification ', 'Classification, Clustering ', 'Clustering, Causal-Discovery ', 'Classification, Regression ', 'Classification ', 'Classification, Clustering ', 'Classification, Regression, Clustering ', 'Classification, Clustering ', 'Classification, Regression, Clustering ', 'Classification ', 'Classification ', 'Classification, Regression, Clustering ', 'Classification ', 'Classification ', 'Classification, Clustering ', 'Causal-Discovery ', 'Classification, Regression ', 'Classification ', 'Classification ', 'Classification, Regression, Clustering ', 'Classification, Clustering ', 'Regression ', 'Classification, Regression ', 'Classification ', 'Regression ', 'Classification ', 'Classification ', 'Classification ', 'Classification ', 'Regression ', 'Causal-Discovery ', 'Clustering ', 'Classification, Clustering ', 'Classification ', 'Regression ', 'Classification, Clustering, Causal-Discovery ', 'Classification, Regression ', 'Classification, Regression, Clustering ', 'Classification, Regression, Clustering ', 'Classification ', 'Classification ', 'Regression ', 'Classification, Regression ', 'Classification ', 'Classification ', 'Causal-Discovery ', 'Classification, Clustering ', 'Regression ', 'Classification, Clustering ', 'Classification ', 'Regression ', 'Classification, Clustering ', 'Classification, Regression ', 'Classification ', 'Regression ', 'Classification, Regression, Clustering ', 'Clustering ', 'Classification, Regression ', ' ', 'Classification ', 'Classification ', 'Classification, Clustering ', 'Classification ', 'Classification, Clustering ', 'Classification ', 'Classification, Clustering ', 'Classification, Clustering ', 'Classification, Clustering ', 'Classification ', 'Regression ', 'Classification, Regression ', 'Classification ', 'Classification ', 'Classification, Regression ', 'Classification ', 'Clustering ', 'Clustering ', 'Classification ', 'Classification ', 'Classification ', 'Classification ', 'Classification ', 'Classification ', 'Classification ', 'Classification, Regression ', 'Classification ', 'Classification ', 'Classification ', 'Classification ', 'Classification ', 'Classification ', 'Classification ', 'Regression ', 'Classification ', 'Classification, Clustering ', 'Classification, Clustering ', 'Classification, Regression ', 'Regression ', 'Clustering ', 'Classification ', 'Regression ', 'Clustering ', 'Classification, Clustering ', 'Classification, Clustering ', 'Classification, Clustering ', 'Classification, Regression ', 'Regression ', 'Classification, Regression ', 'Classification ', 'Classification ', 'Regression ', 'Classification, Clustering ', 'Classification ', 'Classification ', 'Classification ', 'Classification, Regression ', 'Classification ', 'Classification ', 'Recommendation ', 'Classification, Regression, Clustering ', 'Classification, Regression, Clustering ', 'Classification ', 'Regression ', 'Classification, Regression ', 'Regression ', 'Classification ', 'Classification, Clustering ', 'Classification ', 'Classification ', 'Classification, Regression ', 'Classification ', 'Classification ', 'Classification ', 'Classification ', 'Classification, Clustering ', 'Regression ', 'Classification ', 'Classification ', 'Classification ', 'Classification ', 'Classification, Regression, Clustering ', 'Classification, Regression ', 'Classification, Clustering ', 'Classification, Clustering ', 'Classification ', 'Classification, Regression ', 'Clustering ', 'Classification ', 'Regression ', 'Regression, Clustering ', 'Regression ', 'Regression ', 'Classification, Regression, Clustering ', 'Classification ', 'Regression, Clustering ', 'Classification ', 'Classification, Clustering ', 'Regression ', 'Classification, Regression, Clustering ', 'Classification ', 'Regression ', 'Regression ', 'Classification ', 'Classification ', 'Classification ', 'Classification ', 'Classification, Regression ', 'Regression ', 'Classification, Clustering ', 'Regression ', 'Regression ', 'Classification, Regression ', 'Classification, Clustering, Causal-Discovery ', 'Classification ', 'Classification ', 'Classification, Regression, Clustering ', 'Classification ', 'Classification, Clustering ', 'Classification, Regression, Clustering ', 'Classification, Clustering ', 'Classification ', 'Classification ', 'Classification, Clustering ', 'Classification ', 'Classification ', 'Classification ', 'Classification ', 'Clustering ', 'Regression ', 'Classification ', 'Regression ', 'Classification ', 'Classification, Regression, Causal-Discovery ', 'Classification, Clustering ', 'Classification ', 'Classification ', 'Classification, Clustering ', 'Classification ', 'Classification ', 'Classification ', 'Classification, Regression, Clustering ', 'Classification ', 'Clustering ', 'Classification, Regression ', 'Classification, Clustering ', 'Causal-Discovery ', 'Clustering ', 'Regression, Clustering ', 'Classification ', 'Classification, Regression, Clustering ', 'Classification, Regression ', 'Classification, Regression, Clustering ', 'Classification, Clustering ', 'Classification ', 'Classification ', 'Classification, Regression ', 'Regression ', 'Classification ', 'Classification, Clustering ', 'Classification, Regression ', 'Classification ', 'Classification, Regression ', 'Classification, Clustering ', 'Classification ', 'Classification ', 'Classification ', 'Classification ', 'Classification, Clustering ', 'Classification ', 'Classification, Regression, Clustering ', 'Regression ', 'Classification ', 'Classification ', 'Classification, Clustering ', 'Classification ', 'Classification ', 'Regression ', 'Regression ', 'Classification ', 'Classification, Clustering ', 'Classification ', 'Clustering ', 'Classification ', 'Classification ', 'Classification ', 'Classification ', 'Classification ', 'Classification, Clustering ', 'Classification, Regression ', 'Classification ', 'Classification ', 'Classification ', 'Classification ', 'Classification, Regression ', 'Classification, Clustering ', 'Classification ', 'Classification ', 'Classification, Regression, Causal-Discovery ', 'Classification ', 'Classification ', 'Classification ', 'Regression ', 'Regression ', 'Regression ', 'Regression ', 'Classification, Regression ', 'Classification ', 'Classification, Regression ', 'Regression ', 'Regression ', 'Classification, Clustering ', 'Classification ', 'Regression ', 'Classification ', 'Regression ', 'Classification ', 'Classification, Clustering ', 'Classification ', 'Classification ', 'Classification ', 'Classification, Regression ', 'Classification, Regression, Clustering ', 'Classification ', 'Classification ', 'Classification ', 'Regression ', 'Regression ', 'Classification ', 'Classification, Clustering ', 'Regression ', 'Classification ', 'Classification ', 'Regression ', 'Classification ', 'Classification ', 'Classification ', 'Classification ', 'Regression ']\n"
     ]
    }
   ],
   "source": [
    "print('Data Length: ', len(Task), '\\n') \n",
    "print('DEFAULT TASK :  ', Task)"
   ]
  },
  {
   "cell_type": "code",
   "execution_count": 493,
   "id": "f42c65a9",
   "metadata": {},
   "outputs": [],
   "source": [
    "# collecting Attribute type name\n",
    "\n",
    "try:\n",
    "    \n",
    "    attr=driver.find_elements(By.XPATH, \"/html/body/table[2]/tbody/tr/td[2]/table[2]/tbody/tr/td[4]/p\")\n",
    "    for at in attr[1:]:                      \n",
    "        Attr_type.append(at.text)         \n",
    "        \n",
    "except NoSuchElementException:\n",
    "    Attr_type.append(\"_\")"
   ]
  },
  {
   "cell_type": "code",
   "execution_count": 494,
   "id": "feb30954",
   "metadata": {},
   "outputs": [
    {
     "name": "stdout",
     "output_type": "stream",
     "text": [
      "Data Length:  622 \n",
      "\n",
      "ATTRIBUTE TYPE :   ['Categorical, Integer, Real ', 'Categorical, Integer ', 'Categorical, Integer, Real ', 'Categorical ', 'Categorical, Integer, Real ', 'Categorical, Integer, Real ', 'Categorical ', 'Categorical ', 'Categorical, Real ', 'Categorical, Integer, Real ', ' ', 'Categorical ', 'Categorical ', 'Categorical ', 'Integer ', 'Real ', 'Real ', 'Categorical, Integer ', 'Categorical ', 'Categorical, Integer ', 'Categorical, Integer ', 'Categorical ', 'Categorical, Integer ', ' ', 'Categorical, Integer ', 'Categorical ', 'Categorical, Integer, Real ', 'Categorical, Real, Integer ', 'Integer ', 'Categorical, Integer ', 'Categorical, Integer ', 'Categorical, Integer, Real ', 'Categorical, Integer ', 'Categorical, Integer ', 'Real ', ' ', ' ', 'Categorical, Integer, Real ', 'Real ', 'Categorical, Integer ', 'Real ', 'Real ', 'Integer ', 'Categorical ', 'Categorical, Integer, Real ', 'Categorical, Integer, Real ', 'Categorical, Integer, Real ', 'Real ', 'Real ', 'Categorical, Integer, Real ', 'Integer, Real ', 'Real ', 'Real ', 'Categorical ', 'Categorical, Integer, Real ', 'Categorical ', 'Categorical ', 'Integer ', 'Categorical, Integer, Real ', ' ', 'Integer ', 'Categorical ', 'Categorical, Integer, Real ', 'Categorical, Integer, Real ', 'Categorical, Integer, Real ', 'Categorical ', 'Categorical ', 'Categorical ', 'Categorical ', ' ', 'Integer, Real ', 'Categorical ', 'Integer ', 'Integer ', 'Categorical ', ' ', 'Integer, Real ', 'Integer ', 'Integer ', 'Categorical, Integer ', 'Categorical ', ' ', ' ', 'Real ', 'Categorical, Integer ', 'Categorical ', 'Categorical ', 'Categorical ', 'Categorical ', 'Integer ', 'Integer, Real ', 'Integer, Real ', 'Categorical ', 'Integer ', 'Categorical, Integer ', ' ', ' ', 'Categorical, Integer ', 'Categorical ', 'Categorical, Real ', 'Categorical ', 'Categorical, Integer ', 'Categorical ', 'Integer, Real ', 'Real ', 'Real ', 'Integer, Real ', 'Real ', 'Categorical, Integer ', ' ', ' ', 'Categorical, Real ', 'Real ', 'Categorical ', 'Categorical, Integer ', 'Categorical, Real ', 'Real ', ' ', 'Categorical, Integer, Real ', 'Integer, Real ', 'Categorical ', 'Integer ', 'Categorical, Integer ', 'Categorical, Integer ', 'Categorical, Integer ', 'Real ', 'Categorical, Integer ', 'Categorical, Integer ', ' ', ' ', 'Categorical ', ' ', 'Categorical, Real ', ' ', 'Categorical ', 'Integer ', 'Real ', 'Categorical ', ' ', ' ', 'Categorical, Integer, Real ', 'Categorical, Integer ', 'Categorical, Real ', 'Integer ', 'Real ', 'Integer ', 'Integer ', 'Categorical ', 'Real ', 'Real ', ' ', ' ', 'Real ', 'Categorical, Integer ', 'Categorical, Integer ', 'Categorical, Integer ', 'Real ', 'Integer ', 'Integer ', 'Real ', ' ', 'Integer ', 'Real ', 'Real ', 'Real ', 'Integer ', 'Integer ', 'Integer ', 'Real ', 'Real ', 'Integer ', 'Real ', 'Real ', 'Real ', 'Integer ', 'Integer ', 'Real ', 'Categorical ', 'Real ', 'Real ', 'Real ', 'Categorical, Integer ', 'Real ', 'Integer, Real ', 'Real ', 'Integer, Real ', 'Integer ', ' ', 'Real ', 'Real ', 'Real ', 'Real ', 'Real ', 'Categorical, Integer, Real ', 'Integer, Real ', 'Real ', 'Real ', 'Real ', ' ', 'Real ', 'Integer ', 'Integer, Real ', 'Real ', 'Real ', 'Real ', 'Real ', 'Real ', 'Real ', ' ', 'Real ', ' ', ' ', 'Integer, Real ', 'Integer, Real ', 'Real ', ' ', 'Real ', 'Integer, Real ', 'Real ', 'Real ', 'Real ', 'Real ', 'Real ', 'Real ', ' ', 'Integer ', 'Real ', 'Real ', 'Integer, Real ', 'Integer ', ' ', ' ', 'Real ', 'Integer, Real ', 'Real ', 'Real ', 'Real ', 'Real ', 'Real ', 'Integer, Real ', 'Real ', 'Integer, Real ', 'Real ', 'Real ', 'Real ', 'Integer, Real ', ' ', 'Real ', 'Integer ', 'Real ', ' ', ' ', 'Real ', 'Integer, Real ', 'Real ', 'Real ', 'Real ', 'Integer ', 'Integer, Real ', 'Real ', ' ', 'Integer, Real ', 'Real ', 'Real ', 'Integer, Real ', 'Integer, Real ', 'Integer, Real ', 'Real ', 'Real ', 'Real ', ' ', 'Real ', ' ', ' ', 'Real ', 'Real ', 'Real ', ' ', 'Real ', 'Real ', 'Integer ', ' ', 'Real ', ' ', 'Integer ', ' ', 'Real ', 'Integer, Real ', 'Integer, Real ', 'Real ', 'Integer ', 'Integer, Real ', 'Real ', ' ', ' ', 'Real ', 'Real ', 'Integer, Real ', 'Integer ', 'Integer, Real ', 'Real ', ' ', 'Real ', 'Real ', 'Real ', 'Real ', 'Real ', 'Integer ', 'Real ', 'Real ', 'Integer, Real ', ' ', 'Real ', 'Real ', 'Integer ', 'Real ', 'Integer, Real ', 'Categorical ', ' ', 'Integer, Real ', ' ', ' ', 'Integer, Real ', 'Real ', 'Real ', ' ', 'Real ', 'Real ', 'Real ', 'Real ', 'Integer, Real ', 'Real ', 'Integer ', 'Real ', 'Real ', 'Integer ', 'Integer, Real ', 'Real ', 'Integer, Real ', 'Integer ', 'Real ', 'Real ', 'Real ', 'Real ', ' ', 'Real ', 'Real ', 'Real ', 'Integer, Real ', 'Real ', 'Real ', 'Real ', ' ', 'Integer ', ' ', 'Integer ', 'Real ', 'Real ', 'Real ', 'Integer ', 'Integer ', 'Integer, Real ', 'Real ', 'Integer ', ' ', 'Integer, Real ', 'Integer ', 'Integer, Real ', 'Real ', 'Integer ', 'Real ', 'Real ', 'Integer, Real ', 'Integer ', 'Real ', 'Integer, Real ', 'Integer, Real ', 'Integer, Real ', 'Integer, Real ', 'Integer ', 'Integer, Real ', 'Integer ', ' ', 'Integer, Real ', ' ', 'Real ', 'Real ', ' ', 'Integer ', 'Real ', 'Real ', 'Integer ', 'Real ', 'Integer ', 'Integer ', 'Integer, Real ', 'Integer, Real ', 'Integer ', 'Integer ', 'Real ', 'Integer ', 'Integer, Real ', 'Integer ', 'Integer ', 'Integer ', 'Integer, Real ', 'Real ', 'Integer, Real ', 'Integer ', ' ', 'Integer ', 'Real ', 'Integer, Real ', 'Integer, Real ', 'Real ', ' ', 'Integer, Real ', 'Real ', ' ', 'Integer ', 'Real ', 'Real ', 'Real ', 'Integer ', 'Integer ', 'Real ', 'Real ', 'Integer, Real ', ' ', 'Real ', 'Real ', 'Integer, Real ', 'Integer ', 'Integer ', 'Real ', ' ', ' ', 'Integer ', 'Integer ', 'Integer ', ' ', 'Real ', 'Categorical ', 'Integer ', 'Integer ', 'Integer ', 'Real ', 'Real ', 'Real ', ' ', 'Integer, Real ', ' ', 'Integer, Real ', 'Real ', 'Integer ', ' ', ' ', 'Real ', 'Real ', 'Integer, Real ', 'Real ', 'Integer ', 'Real ', 'Real ', 'Real ', 'Integer, Real ', 'Real ', 'Real ', 'Integer ', 'Real ', 'Integer ', ' ', 'Integer, Real ', 'Real ', 'Real ', 'Real ', 'Real ', 'Integer ', 'Integer ', 'Integer ', 'Real ', 'Integer, Real ', 'Integer, Real ', 'Integer, Real ', 'Real ', 'Real ', 'Integer, Real ', 'Real ', ' ', ' ', ' ', 'Integer, Real ', 'Integer ', 'Integer, Real ', 'Real ', 'Real ', 'Real ', 'Real ', 'Real ', 'Integer, Real ', 'Real ', 'Real ', 'Integer, Real ', 'Integer ', 'Real ', 'Real ', 'Integer, Real ', ' ', 'Integer, Real ', ' ', ' ', 'Integer, Real ', 'Integer ', ' ', 'Real ', ' ', 'Real ', 'Integer ', ' ', 'Integer ', 'Integer, Real ', 'Integer, Real ', ' ', ' ', 'Integer ', 'Real ', 'Integer, Real ', 'Real ', 'Real ', 'Integer ', 'Real ', 'Real ', 'Real ', 'Integer, Real ', 'Real ', ' ', ' ', ' ', 'Real ', 'Real ', 'Integer, Real ', 'Real ', ' ', 'Integer ', 'Real ', 'Integer, Real ', 'Integer ', ' ', 'Integer ', 'Real ', ' ', 'Integer, Real ', 'Integer ', 'Integer, Real ', 'Integer ', ' ', ' ', ' ', 'Real ', 'Real ', 'Real ', 'Integer, Real ', ' ', 'Real ', 'Integer ', 'Integer, Real ', 'Integer ', 'Integer ', ' ', ' ', 'Real ', ' ', 'Integer ', 'Real ', ' ', ' ', 'Real ', 'Integer, Real ', 'Integer ', ' ', ' ', 'Real ', 'Integer, Real ', ' ', 'Real ', 'Real ', 'Real ', 'Real ', 'Real ', 'Real ', ' ', 'Integer, Real ', 'Real ', 'Real ', ' ', 'Real ', 'Integer, Real ', 'Integer, Real ', ' ', 'Integer, Real ', 'Integer, Real ', ' ', 'Integer ', 'Integer ', 'Real ', ' ', ' ', 'Real ', 'Integer ', 'Real ', 'Real ', 'Integer ', ' ', 'Real ', 'Integer ', 'Integer ', 'Integer ', 'Integer, Real ', 'Integer, Real ', ' ', 'Real ', 'Real ']\n"
     ]
    }
   ],
   "source": [
    "print('Data Length: ', len(Attr_type), '\\n') \n",
    "print('ATTRIBUTE TYPE :  ', Attr_type)"
   ]
  },
  {
   "cell_type": "code",
   "execution_count": 495,
   "id": "e680ea9b",
   "metadata": {},
   "outputs": [],
   "source": [
    "# collecting Instances number\n",
    "\n",
    "try:\n",
    "    \n",
    "    inst=driver.find_elements(By.XPATH, \"/html/body/table[2]/tbody/tr/td[2]/table[2]/tbody/tr/td[5]/p\")\n",
    "    for ins in inst[1:]:                      \n",
    "        Instance_no.append(ins.text)         \n",
    "        \n",
    "except NoSuchElementException:\n",
    "    Instance_no.append(\"_\")"
   ]
  },
  {
   "cell_type": "code",
   "execution_count": 496,
   "id": "b6e9f0c3",
   "metadata": {},
   "outputs": [
    {
     "name": "stdout",
     "output_type": "stream",
     "text": [
      "Data Length:  622 \n",
      "\n",
      "INSTANCES :   ['4177 ', '48842 ', '798 ', '37711 ', '452 ', '6000 ', '226 ', '226 ', '398 ', '205 ', '294 ', '625 ', '16 ', '286 ', '699 ', '198 ', '569 ', '108 ', '1728 ', '48842 ', ' ', '3196 ', '28056 ', ' ', '100 ', '67557 ', '690 ', '125 ', '209 ', '1473 ', '581012 ', '512 ', '366 ', ' ', ' ', ' ', ' ', '132 ', '336 ', '194 ', '352 ', '214 ', '306 ', '160 ', '303 ', '155 ', '368 ', ' ', '2310 ', '3279 ', '351 ', '150 ', '7797 ', '104 ', '57 ', ' ', '24 ', '20000 ', '345 ', ' ', '32 ', '148 ', '209 ', '528 ', ' ', '106 ', '128 ', '3190 ', '432 ', '202 ', '2000 ', '8124 ', '476 ', '6598 ', '12960 ', ' ', '5473 ', '5620 ', '10992 ', '90 ', '339 ', ' ', ' ', ' ', '167 ', '15 ', '1389 ', '307 ', '47 ', '23 ', '531 ', '4601 ', '267 ', '267 ', '76 ', ' ', '1000 ', '151 ', '958 ', '7200 ', '10 ', '285 ', '435 ', '527 ', '5000 ', '5000 ', '178 ', '1484 ', '101 ', ' ', '20000 ', '6650 ', '2565 ', '2458285 ', '299285 ', '340 ', '68040 ', ' ', '122 ', '178080 ', '50672 ', '640 ', '9000 ', '10104 ', '256932 ', '640 ', '191779 ', '4000000 ', ' ', '10000 ', '989818 ', '129000 ', ' ', '100000 ', '21578 ', '463 ', '600 ', '332 ', ' ', ' ', '690 ', '1000 ', '270 ', '6435 ', '2310 ', '58000 ', '946 ', '20008 ', '208 ', '528 ', ' ', ' ', '1024 ', '10080 ', '50400 ', '1025010 ', '19020 ', '1364 ', '961 ', '517 ', '200 ', '8000000 ', '1030 ', '606 ', '900 ', '2600 ', '1950 ', '13500 ', '4400 ', '2536 ', '300 ', '197 ', '2858 ', '748 ', '11640 ', '1593 ', '1567 ', '22632 ', '360 ', '103 ', '1994 ', '120 ', '4898 ', '2396130 ', '16772 ', '5875 ', '503 ', '51 ', '106 ', '2126 ', '5456 ', '8800 ', '164860 ', ' ', '1941 ', '130065 ', '515345 ', '440 ', ' ', '53500 ', '8235 ', ' ', '5749132 ', '2215 ', '310 ', '10000 ', '3000 ', '1500 ', '30000 ', '2500 ', '4143 ', '64 ', '53414 ', '65554 ', '45211 ', '1138562 ', '13910 ', '583 ', '2551 ', '34465 ', '5574 ', '245057 ', '182 ', '3850505 ', '138 ', '1080 ', '2075259 ', '210 ', '115 ', '3960456 ', ' ', '10299 ', '1600 ', '768 ', '308 ', '100 ', '237 ', '434874 ', '536 ', '140000 ', '6118 ', '165632 ', '18000 ', '540 ', '931 ', '1055 ', '100 ', '9120 ', '403 ', '111740 ', '10421 ', '5820 ', '403 ', '14980 ', '45730 ', '2584 ', '1372 ', '306 ', '120000 ', '13910 ', '2747 ', '3395 ', '39242 ', '4137 ', '17389 ', '51 ', '470 ', '132 ', '5000000 ', '11000000 ', '250 ', '126 ', ' ', '4889 ', ' ', ' ', '340 ', '501 ', '45781 ', '1503 ', '440 ', '2000 ', '9568 ', '168 ', '100000 ', '5665 ', '79 ', '127 ', '1040 ', '9900 ', '560 ', '60021 ', '1419 ', '101 ', '399 ', '58 ', '180 ', '21048 ', ' ', '750 ', '3000 ', '150 ', '1059 ', '11934 ', '27965 ', '216 ', '120 ', '649 ', '370 ', '4178504 ', '221579 ', '10800 ', '58509 ', '129685 ', '2456 ', '2921 ', '1151 ', '6590 ', '3000 ', '39797 ', '326 ', '913 ', '168286 ', '400 ', '314080 ', '637 ', '1710671 ', '12000 ', '10929 ', '1080 ', '40000 ', '43930257 ', '230318 ', '10500000 ', '13197 ', ' ', '30000 ', '324 ', '541909 ', '11164866 ', '163 ', '373 ', '20560 ', '40 ', '422937 ', '9358 ', '640 ', '919438 ', '40949 ', '5744 ', '10503 ', '42240 ', '102944 ', '500 ', '9782222 ', '11463 ', '17898 ', '1885 ', '19735 ', '1540 ', '4007 ', '153540 ', '606 ', '1353 ', '1956 ', '43824 ', '3942 ', '858 ', '287 ', '17764280 ', '106574 ', '9358 ', '11500 ', '92000 ', '315 ', '78095 ', '130 ', '74 ', '52854 ', '77 ', '811 ', '504 ', '401 ', '2856 ', '10546 ', '801 ', '1540 ', '1451 ', '1075 ', '78095 ', '7195 ', '3600 ', '76 ', '60 ', '405 ', '303 ', '303 ', '107888 ', '76000 ', '10000 ', '180 ', '745000 ', '12234 ', '292 ', '104 ', '60000 ', '2000 ', '165 ', '217 ', '1175 ', '704 ', '75128 ', '90 ', '90 ', '50 ', '71 ', '93239 ', '540 ', '105 ', '6611 ', '15 ', '372 ', '58000 ', '4960 ', '241600 ', '130000 ', '7062606 ', '740 ', '70 ', '2205 ', '10721 ', '640 ', '1000 ', '116 ', '1672 ', '322 ', '93600 ', '3060 ', '5879 ', '9200 ', '20000 ', '20867 ', ' ', '4143 ', '215063 ', '6000000 ', '21263 ', '63000000 ', '10190 ', '300 ', '12330 ', '5180 ', '756 ', '10000 ', '80 ', '1184 ', '1047 ', '777 ', '249 ', '414 ', ' ', '143 ', '7840 ', '30000 ', '35717 ', '135 ', '980 ', '5456 ', '120 ', '4095000 ', '7051 ', '240 ', '48204 ', '260000 ', '288000 ', '8300000 ', '125 ', '170 ', '141712 ', '3916 ', '6262 ', '420768 ', '1067371 ', '1385 ', '908 ', '546 ', '13956534 ', '15630426 ', '8992 ', '1687 ', '779 ', '1056 ', '590 ', '21643 ', '7750 ', '14057567 ', '27170754 ', '597 ', '329 ', '299 ', '20000 ', '26136 ', '1000 ', '399 ', '24017 ', '325834 ', '2916697 ', '22470 ', '189 ', '520 ', '826 ', '2279 ', '28764 ', '7107 ', '288000 ', '9800 ', '4760 ', '72 ', '1450 ', '170 ', '1984 ', '2955 ', '65532 ', '65919 ', '2111 ', '3810 ', '18 ', '244 ', '104 ', '139 ', '360177 ', '36733 ', '4480 ', '165474 ', '1985 ', '10000 ', '232 ', '150 ', '11 ', '14057567 ', '8760 ', '48 ', '6321 ', '3150 ', '17256 ', '187 ', '399 ', '14 ', '467 ', '597 ', '23700 ', '615 ', '6819 ', '1000 ', ' ', '2633 ', '200 ', '13028 ', '800 ', '1700 ', '521 ', '120000 ', '666 ', '88 ', '200 ', '2279 ', '23570 ', '10000 ', '37700 ', '1850 ', '11 ', '147270 ', '3150 ', '17256 ', '597 ', '7624 ', '314 ', '1197 ', '70 ', '7624 ', '26737 ', '10000 ', '13611 ', '12684 ', '48 ', '731 ', '731 ', '557 ', '107 ', '158716 ', '15744 ', '153000 ', '557 ', '36 ', '4200 ', '61069 ', '52417 ', '900 ', '35040 ', '4746 ', '73 ', '11000 ', '4465 ', '145 ', '202 ', '221 ', '597 ', '298 ', '110341 ', '705 ', '2101 ', '1765 ', '150 ', '4000 ', '6272 ', '1996 ', '35040 ', '75840 ', '400 ', '1014 ', '10129 ', '4000 ']\n"
     ]
    }
   ],
   "source": [
    "print('Data Length: ', len(Instance_no), '\\n') \n",
    "print('INSTANCES :  ', Instance_no)"
   ]
  },
  {
   "cell_type": "code",
   "execution_count": 497,
   "id": "3e1ca1c8",
   "metadata": {},
   "outputs": [],
   "source": [
    "# collecting Attribute number\n",
    "\n",
    "try:\n",
    "    \n",
    "    atr_no=driver.find_elements(By.XPATH, \"/html/body/table[2]/tbody/tr/td[2]/table[2]/tbody/tr/td[6]/p\")\n",
    "    for a in atr_no[1:]:                      \n",
    "        Attr_no.append(a.text)         \n",
    "        \n",
    "except NoSuchElementException:\n",
    "    Attr_no.append(\"_\")"
   ]
  },
  {
   "cell_type": "code",
   "execution_count": 498,
   "id": "d908ad9c",
   "metadata": {},
   "outputs": [
    {
     "name": "stdout",
     "output_type": "stream",
     "text": [
      "Data Length:  622 \n",
      "\n",
      "ATTRIBUTE NUMBER :   ['8 ', '14 ', '38 ', '294 ', '279 ', '7 ', ' ', '69 ', '8 ', '26 ', '1 ', '4 ', '4 ', '9 ', '10 ', '34 ', '32 ', '13 ', '6 ', '14 ', '22 ', '36 ', '6 ', ' ', '6 ', '42 ', '15 ', ' ', '9 ', '9 ', '54 ', '39 ', '33 ', '20 ', ' ', ' ', ' ', '12 ', '8 ', '30 ', ' ', '10 ', '3 ', '5 ', '75 ', '19 ', '27 ', ' ', '19 ', '1558 ', '34 ', '4 ', '617 ', '12 ', '16 ', '7 ', '4 ', '16 ', '7 ', ' ', '56 ', '18 ', '8 ', '22 ', ' ', '58 ', ' ', '61 ', '7 ', ' ', '649 ', '22 ', '168 ', '168 ', '8 ', ' ', '10 ', '64 ', '16 ', '8 ', '17 ', ' ', ' ', '72 ', '4 ', '6 ', '10 ', '35 ', '35 ', '4 ', '102 ', '57 ', '22 ', '44 ', '45 ', ' ', ' ', '5 ', '9 ', '21 ', '32 ', '17 ', '16 ', '38 ', '21 ', '40 ', '13 ', '8 ', '17 ', ' ', ' ', '15 ', '22 ', '68 ', '40 ', '17 ', '89 ', ' ', '4 ', '12 ', ' ', ' ', '86 ', '72 ', '61 ', '12 ', '481 ', '42 ', ' ', ' ', ' ', ' ', ' ', ' ', '5 ', '90 ', ' ', '5 ', ' ', ' ', '14 ', '20 ', '13 ', '36 ', '19 ', '9 ', '18 ', '4 ', '60 ', '10 ', ' ', ' ', '10 ', '4 ', '3 ', '11 ', '11 ', ' ', '6 ', '13 ', ' ', '100000 ', '9 ', '101 ', '10000 ', '20000 ', '100000 ', '5000 ', '500 ', '73 ', '43 ', '23 ', '3 ', '5 ', ' ', '256 ', '591 ', '70 ', '91 ', '10 ', '128 ', '6 ', '12 ', '3231961 ', '5409 ', '26 ', ' ', ' ', '10 ', '23 ', '24 ', '13 ', '8 ', ' ', '27 ', '50 ', '90 ', '138672 ', ' ', '386 ', ' ', ' ', '12 ', '147 ', '6 ', '8 ', '27 ', '10000 ', '20000 ', '10000 ', '54877 ', '4702 ', '24 ', '29 ', '17 ', '3 ', '128 ', '10 ', '242 ', '120 ', ' ', '4 ', '13 ', '52 ', '47 ', '857 ', '9 ', '7 ', '200 ', '4 ', ' ', '561 ', '64 ', '8 ', '7 ', '10 ', '9 ', '4 ', '8 ', '77 ', '51 ', '18 ', '1950000 ', '18 ', '1300 ', '41 ', '6 ', '5625 ', '5 ', ' ', '7 ', '33 ', '5 ', '15 ', '9 ', '19 ', '5 ', '5 ', '1000000 ', '129 ', ' ', '20 ', '152 ', '24 ', '16 ', '35 ', '17 ', '5 ', '18 ', '28 ', '7 ', '309 ', '3 ', '6 ', ' ', ' ', '16 ', '13 ', '5 ', '6 ', '8 ', '2 ', '4 ', '148 ', '55 ', '17 ', '8 ', '42 ', '26 ', '50 ', '2 ', '281 ', '120 ', ' ', '6 ', '120432 ', '150000 ', '529 ', ' ', '16 ', '2500 ', '5 ', '68 ', '16 ', '100 ', '216 ', '23 ', '33 ', '140256 ', '19 ', '20 ', '20 ', '49 ', '12 ', '30 ', '5232 ', '20 ', '1 ', ' ', '61 ', '27 ', '53 ', '11 ', '25 ', '0 ', '20 ', '9 ', '3 ', '561 ', '82 ', '13 ', '16 ', '13 ', '28 ', '4 ', ' ', '24 ', '34 ', '8 ', '128 ', '15 ', '513 ', '7 ', '7 ', '5 ', '15 ', '480000 ', '11 ', '54 ', '561 ', '64 ', '6 ', '116 ', '19 ', ' ', '5812 ', '9 ', '32 ', '29 ', '67 ', ' ', '25 ', '6400 ', '10 ', '5 ', '13 ', '98 ', '36 ', '69 ', '2158859 ', '518 ', '15 ', '179 ', ' ', '12 ', '38 ', '65 ', '102 ', '86 ', '7 ', '53 ', '20 ', '1 ', '71 ', '29 ', '20531 ', '65 ', '3 ', '22 ', '38 ', '22 ', '4814 ', '698 ', '13 ', '10 ', '59 ', '56 ', '482 ', '171 ', '5 ', '500 ', '411 ', '8519 ', '21 ', '21 ', '171 ', '7 ', '49 ', '12 ', '3 ', '21 ', '9 ', '8 ', '7 ', '2 ', '11 ', '11 ', '173 ', '5 ', '15 ', '3 ', '105 ', '25000 ', ' ', '18 ', '21000 ', '115 ', '21 ', '206 ', '43680 ', '8 ', '10 ', '59 ', '10 ', '5 ', '5 ', '1000 ', '138 ', ' ', '16 ', '2 ', '10 ', ' ', '8 ', '6 ', '129 ', '81 ', '12 ', '6 ', '22 ', '18 ', '9 ', '754 ', '14 ', '5 ', ' ', ' ', '18 ', '7 ', '7 ', ' ', '7 ', '5 ', '6 ', '4 ', '18 ', '11 ', '25 ', ' ', '20 ', '12 ', '46 ', '9 ', '8 ', '49 ', '11 ', '8 ', '54 ', '36 ', '3916 ', '710 ', '18 ', '8 ', '29 ', '7 ', '9 ', '37 ', '6 ', '1024 ', '1024 ', '14 ', '7 ', '8265 ', '29 ', '25 ', '3 ', '115 ', '1 ', '12 ', '13 ', '200000 ', '6 ', '21 ', '4 ', '2400 ', '175 ', '10 ', '4714 ', '23 ', '17 ', '2 ', '9 ', '8 ', '280 ', '49 ', '3 ', '14 ', '19 ', ' ', '54 ', '8 ', '1087 ', '12 ', '3 ', '17 ', '8 ', '9 ', '12 ', '1656 ', '6 ', '2 ', '11 ', '533 ', '14 ', '84 ', '22 ', '16 ', '52 ', '19 ', '3 ', '14 ', '321 ', '13 ', '13 ', '55 ', '39 ', '4 ', '7 ', '79 ', '1 ', ' ', '14 ', '96 ', '21 ', ' ', '5 ', '2 ', '69 ', '9 ', '124 ', '20 ', '25 ', '11 ', '19 ', '9 ', '9 ', '5 ', '7 ', '4006 ', '2 ', '19 ', '4 ', '13 ', '55 ', '1 ', '7842 ', '15 ', '15 ', '70 ', '7842 ', '4 ', '14 ', '17 ', '23 ', '321 ', '1068 ', '1068 ', '5 ', '6 ', '4 ', ' ', '5 ', '5 ', '15 ', '7 ', '21 ', '9 ', '8 ', '11 ', '21 ', '22 ', '2 ', '241 ', '33 ', '29 ', '7 ', '1 ', ' ', '4 ', '11 ', '47 ', '10 ', '3 ', '2 ', '632 ', '6826 ', '11 ', '525 ', '50 ', '7 ', '16 ', '2 ']\n"
     ]
    }
   ],
   "source": [
    "print('Data Length: ', len(Attr_no), '\\n') \n",
    "print('ATTRIBUTE NUMBER :  ', Attr_no)"
   ]
  },
  {
   "cell_type": "code",
   "execution_count": 499,
   "id": "56b7f604",
   "metadata": {},
   "outputs": [],
   "source": [
    "# collecting Data Sets Year\n",
    "\n",
    "try:\n",
    "    \n",
    "    ds_yr=driver.find_elements(By.XPATH, \"/html/body/table[2]/tbody/tr/td[2]/table[2]/tbody/tr/td[7]/p\")\n",
    "    for ds in ds_yr[1:]:                      \n",
    "        Year.append(ds.text)         \n",
    "        \n",
    "except NoSuchElementException:\n",
    "    Year.append(\"_\")"
   ]
  },
  {
   "cell_type": "code",
   "execution_count": 500,
   "id": "ea4578c1",
   "metadata": {},
   "outputs": [
    {
     "name": "stdout",
     "output_type": "stream",
     "text": [
      "Data Length:  622 \n",
      "\n",
      "DATASETS YEAR:   ['1995 ', '1996 ', ' ', '1998 ', '1998 ', '1992 ', '1987 ', '1992 ', '1993 ', '1987 ', '1994 ', '1994 ', ' ', '1988 ', '1992 ', '1995 ', '1995 ', '1990 ', '1997 ', '1996 ', '1988 ', '1989 ', '1994 ', ' ', ' ', '1995 ', ' ', '1992 ', '1987 ', '1997 ', '1998 ', '1995 ', '1998 ', ' ', ' ', '1994 ', ' ', '1989 ', '1996 ', '1990 ', '1990 ', '1987 ', '1999 ', '1989 ', '1988 ', '1988 ', '1989 ', ' ', '1990 ', '1998 ', '1989 ', '1988 ', '1994 ', '1990 ', '1988 ', '1988 ', '1990 ', '1991 ', '1990 ', ' ', '1992 ', '1988 ', '1990 ', '1996 ', '1995 ', '1990 ', ' ', '1992 ', '1992 ', '1994 ', ' ', '1987 ', '1994 ', '1994 ', '1997 ', '1991 ', '1995 ', '1998 ', '1998 ', '1993 ', '1988 ', ' ', ' ', '1992 ', '1993 ', '1988 ', '1989 ', '1988 ', '1987 ', '1993 ', '1988 ', '1999 ', '2001 ', '2001 ', ' ', '1992 ', '1993 ', '1997 ', '1991 ', '1987 ', '1994 ', '1988 ', '1987 ', '1993 ', '1988 ', '1988 ', '1991 ', '1996 ', '1990 ', ' ', '1999 ', '1999 ', '2002 ', ' ', '2000 ', '1999 ', '1999 ', '2001 ', '1999 ', '1999 ', '2000 ', '1999 ', '2000 ', '1999 ', '1999 ', ' ', '1998 ', '1999 ', '2001 ', '1999 ', ' ', '2003 ', '1999 ', '1999 ', '1997 ', '1999 ', '1999 ', '1998 ', ' ', ' ', ' ', '1994 ', ' ', '1993 ', '1990 ', ' ', ' ', ' ', ' ', ' ', ' ', ' ', '1989 ', '2006 ', '2006 ', '2007 ', '2007 ', '2007 ', '2007 ', '2008 ', '2008 ', '2008 ', '2007 ', '2008 ', '2008 ', '2008 ', '2008 ', '2008 ', '2008 ', '2008 ', '2008 ', '2008 ', '2008 ', '2008 ', '2009 ', '2008 ', '2008 ', '2008 ', '2009 ', '2009 ', '2009 ', '2009 ', '2009 ', '2009 ', '2010 ', '2009 ', '2010 ', '2010 ', '2010 ', '2010 ', '2010 ', '2010 ', '2010 ', '2010 ', '2010 ', '2010 ', '2011 ', '2011 ', '2011 ', '2011 ', '2011 ', '2011 ', '2011 ', '2011 ', '2011 ', '2011 ', '2011 ', '2011 ', '2011 ', '2011 ', '2011 ', '2011 ', '2011 ', '2011 ', '2012 ', '2012 ', '2012 ', '2012 ', '2012 ', '2012 ', '2012 ', '2012 ', '2012 ', '2012 ', '2012 ', '2012 ', '2012 ', '2012 ', '2012 ', '2012 ', '2012 ', '2012 ', '2012 ', '2012 ', '2013 ', '2013 ', '2013 ', '2013 ', '2013 ', '2013 ', '2013 ', '2013 ', '2013 ', '2013 ', '2013 ', '2013 ', '2013 ', '2013 ', '2013 ', '2013 ', '2013 ', '2013 ', '2013 ', '2013 ', '2013 ', '2013 ', '2013 ', '2013 ', '2013 ', '2013 ', '2013 ', '2013 ', '2013 ', '2014 ', '2013 ', '2013 ', '2013 ', '2014 ', '2014 ', '2014 ', '2014 ', '2014 ', '2014 ', '2014 ', '2014 ', '2014 ', '2014 ', '2014 ', '2013 ', '2014 ', '2014 ', '2014 ', '2014 ', '2014 ', '2014 ', '2014 ', '2014 ', '2014 ', '2014 ', '2014 ', '2014 ', '2014 ', '2014 ', '2014 ', '2014 ', '2014 ', '2014 ', '2014 ', '2014 ', '2014 ', '2014 ', '2014 ', '2014 ', '2014 ', '2014 ', '2015 ', '2014 ', '2014 ', '2015 ', '2015 ', '2015 ', '2015 ', '2015 ', '2015 ', '2015 ', '2015 ', '2014 ', '2015 ', '2015 ', '2015 ', '2015 ', '2015 ', '2015 ', '2015 ', '2015 ', '2015 ', '2015 ', '2015 ', '2015 ', '2015 ', '2015 ', '2015 ', '2015 ', '2016 ', '2016 ', '2015 ', '2016 ', '2016 ', '2015 ', '2016 ', '2016 ', '2016 ', '2016 ', '2016 ', '2016 ', '2016 ', '2016 ', '2016 ', '2016 ', '2016 ', '2016 ', '2016 ', '2016 ', '2016 ', '2016 ', '2016 ', '2017 ', '2016 ', '2017 ', '2016 ', '2017 ', '2017 ', '2016 ', '2016 ', '2017 ', '2017 ', '2016 ', '2017 ', '2017 ', '2017 ', '2017 ', '2016 ', '2017 ', '2016 ', '2016 ', '2016 ', '2017 ', '2017 ', '2017 ', '2017 ', '2017 ', '2017 ', '2017 ', '2016 ', '2016 ', '2016 ', '2016 ', '2017 ', '2017 ', '2017 ', '2017 ', '2017 ', '2016 ', '2017 ', '2017 ', '2017 ', '2017 ', '2017 ', '2017 ', '2017 ', '2016 ', '2016 ', '2016 ', '2017 ', '2017 ', '2017 ', '2017 ', '2017 ', '2017 ', '2017 ', '2017 ', '2016 ', '2018 ', '2018 ', '2016 ', '2018 ', '2018 ', '2018 ', '2018 ', '2018 ', '2018 ', '2018 ', '2018 ', '2018 ', '2018 ', '2018 ', '2018 ', '2018 ', '2018 ', '2018 ', '2018 ', '2018 ', '2018 ', '2018 ', '2018 ', '2018 ', '2018 ', '2018 ', '2018 ', '2018 ', '2018 ', '2018 ', '2018 ', '2018 ', '2018 ', '2018 ', '2018 ', '2018 ', '2018 ', '2018 ', '2018 ', '2018 ', '2018 ', '2018 ', '2018 ', '2018 ', '2018 ', '2018 ', '2018 ', '2018 ', '2018 ', '2018 ', '2018 ', '2019 ', '2019 ', '2018 ', '2018 ', '2018 ', '2019 ', '2019 ', '2019 ', '2019 ', '2019 ', '2019 ', '2019 ', '2019 ', '2019 ', '2019 ', '2019 ', '2019 ', '2019 ', '2019 ', '2019 ', '2019 ', '2019 ', '2019 ', '2019 ', '2019 ', '2019 ', '2019 ', '2019 ', '2019 ', '2019 ', '2019 ', '2020 ', '2020 ', '2019 ', '2020 ', '2020 ', '2020 ', '2020 ', '2020 ', '2019 ', '2020 ', '2020 ', '2020 ', '2020 ', '2020 ', '2020 ', '2020 ', '2019 ', '2019 ', '2019 ', '2019 ', '2019 ', '2019 ', '2019 ', '2019 ', '2019 ', '2019 ', '2019 ', '2019 ', '2019 ', '2019 ', '2019 ', '2019 ', '2019 ', '2019 ', '2019 ', '2019 ', '2019 ', '2019 ', '2019 ', '2019 ', '2019 ', '2019 ', '2020 ', '2020 ', '2020 ', '2020 ', '2020 ', '2020 ', '2020 ', '2020 ', '2020 ', '2020 ', '2020 ', '2020 ', '2020 ', '2020 ', '2020 ', '2020 ', '2020 ', '2020 ', '2020 ', '2020 ', '2020 ', '2020 ', '2020 ', '2020 ', '2021 ', '2018 ', '2018 ', '2019 ', '2019 ', '2019 ', '2019 ', '2019 ', '2019 ', '2019 ', '2020 ', '2020 ', '2020 ', '2020 ', '2020 ', '2020 ', '2020 ', '2020 ', '2020 ', '2020 ', '2020 ', '2020 ', '2020 ', '2020 ', '2020 ', '2021 ', '2021 ', '2021 ', '2021 ', '2021 ', '2021 ', '2021 ', '2021 ', '2021 ', '2021 ', '2021 ', '2021 ', '2021 ', '2021 ', '2021 ', '2021 ', '2021 ', '2021 ', '2021 ', '2021 ', '2021 ', '2020 ', '2020 ', '2020 ', '2020 ', '2020 ', '2020 ', '2020 ', '2020 ', '2020 ', '2020 ', '2020 ', '2020 ', '2020 ', '2020 ', '2021 ', '2021 ']\n"
     ]
    }
   ],
   "source": [
    "print('Data Length: ', len(Year), '\\n') \n",
    "print('DATASETS YEAR:  ', Year)"
   ]
  },
  {
   "cell_type": "markdown",
   "id": "991ee58a",
   "metadata": {},
   "source": [
    "MAKING DATA FRAME"
   ]
  },
  {
   "cell_type": "code",
   "execution_count": 501,
   "id": "17475a78",
   "metadata": {},
   "outputs": [],
   "source": [
    "import pandas as pd"
   ]
  },
  {
   "cell_type": "code",
   "execution_count": 502,
   "id": "38237a7e",
   "metadata": {},
   "outputs": [],
   "source": [
    "Data_sets_df=pd.DataFrame({'NAME':Data, 'DATA TYPES':Data_type, 'DEFAULT TASK':Task, 'ATTRIBUTE TYPES':Attr_type,\n",
    "                          'INSTANCES':Instance_no, 'ATTRIBUTES':Attr_no, 'YEAR':Year})"
   ]
  },
  {
   "cell_type": "code",
   "execution_count": 503,
   "id": "871d1a9c",
   "metadata": {},
   "outputs": [
    {
     "data": {
      "text/html": [
       "<div>\n",
       "<style scoped>\n",
       "    .dataframe tbody tr th:only-of-type {\n",
       "        vertical-align: middle;\n",
       "    }\n",
       "\n",
       "    .dataframe tbody tr th {\n",
       "        vertical-align: top;\n",
       "    }\n",
       "\n",
       "    .dataframe thead th {\n",
       "        text-align: right;\n",
       "    }\n",
       "</style>\n",
       "<table border=\"1\" class=\"dataframe\">\n",
       "  <thead>\n",
       "    <tr style=\"text-align: right;\">\n",
       "      <th></th>\n",
       "      <th>NAME</th>\n",
       "      <th>DATA TYPES</th>\n",
       "      <th>DEFAULT TASK</th>\n",
       "      <th>ATTRIBUTE TYPES</th>\n",
       "      <th>INSTANCES</th>\n",
       "      <th>ATTRIBUTES</th>\n",
       "      <th>YEAR</th>\n",
       "    </tr>\n",
       "  </thead>\n",
       "  <tbody>\n",
       "    <tr>\n",
       "      <th>0</th>\n",
       "      <td>Abalone</td>\n",
       "      <td>Multivariate</td>\n",
       "      <td>Classification</td>\n",
       "      <td>Categorical, Integer, Real</td>\n",
       "      <td>4177</td>\n",
       "      <td>8</td>\n",
       "      <td>1995</td>\n",
       "    </tr>\n",
       "    <tr>\n",
       "      <th>1</th>\n",
       "      <td>Adult</td>\n",
       "      <td>Multivariate</td>\n",
       "      <td>Classification</td>\n",
       "      <td>Categorical, Integer</td>\n",
       "      <td>48842</td>\n",
       "      <td>14</td>\n",
       "      <td>1996</td>\n",
       "    </tr>\n",
       "    <tr>\n",
       "      <th>2</th>\n",
       "      <td>Annealing</td>\n",
       "      <td>Multivariate</td>\n",
       "      <td>Classification</td>\n",
       "      <td>Categorical, Integer, Real</td>\n",
       "      <td>798</td>\n",
       "      <td>38</td>\n",
       "      <td></td>\n",
       "    </tr>\n",
       "    <tr>\n",
       "      <th>3</th>\n",
       "      <td>Anonymous Microsoft Web Data</td>\n",
       "      <td></td>\n",
       "      <td>Recommender-Systems</td>\n",
       "      <td>Categorical</td>\n",
       "      <td>37711</td>\n",
       "      <td>294</td>\n",
       "      <td>1998</td>\n",
       "    </tr>\n",
       "    <tr>\n",
       "      <th>4</th>\n",
       "      <td>Arrhythmia</td>\n",
       "      <td>Multivariate</td>\n",
       "      <td>Classification</td>\n",
       "      <td>Categorical, Integer, Real</td>\n",
       "      <td>452</td>\n",
       "      <td>279</td>\n",
       "      <td>1998</td>\n",
       "    </tr>\n",
       "    <tr>\n",
       "      <th>...</th>\n",
       "      <td>...</td>\n",
       "      <td>...</td>\n",
       "      <td>...</td>\n",
       "      <td>...</td>\n",
       "      <td>...</td>\n",
       "      <td>...</td>\n",
       "      <td>...</td>\n",
       "    </tr>\n",
       "    <tr>\n",
       "      <th>617</th>\n",
       "      <td>Influenza outbreak event prediction via Twitte...</td>\n",
       "      <td>Multivariate</td>\n",
       "      <td>Classification</td>\n",
       "      <td>Integer, Real</td>\n",
       "      <td>75840</td>\n",
       "      <td>525</td>\n",
       "      <td>2020</td>\n",
       "    </tr>\n",
       "    <tr>\n",
       "      <th>618</th>\n",
       "      <td>Turkish Music Emotion Dataset</td>\n",
       "      <td>Multivariate</td>\n",
       "      <td>Classification</td>\n",
       "      <td>Integer, Real</td>\n",
       "      <td>400</td>\n",
       "      <td>50</td>\n",
       "      <td>2020</td>\n",
       "    </tr>\n",
       "    <tr>\n",
       "      <th>619</th>\n",
       "      <td>Maternal Health Risk Data Set</td>\n",
       "      <td></td>\n",
       "      <td>Classification</td>\n",
       "      <td></td>\n",
       "      <td>1014</td>\n",
       "      <td>7</td>\n",
       "      <td>2020</td>\n",
       "    </tr>\n",
       "    <tr>\n",
       "      <th>620</th>\n",
       "      <td>Room Occupancy Estimation</td>\n",
       "      <td>Multivariate, Time-Series</td>\n",
       "      <td>Classification</td>\n",
       "      <td>Real</td>\n",
       "      <td>10129</td>\n",
       "      <td>16</td>\n",
       "      <td>2021</td>\n",
       "    </tr>\n",
       "    <tr>\n",
       "      <th>621</th>\n",
       "      <td>Image Recognition Task Execution Times in Mobi...</td>\n",
       "      <td>Univariate</td>\n",
       "      <td>Regression</td>\n",
       "      <td>Real</td>\n",
       "      <td>4000</td>\n",
       "      <td>2</td>\n",
       "      <td>2021</td>\n",
       "    </tr>\n",
       "  </tbody>\n",
       "</table>\n",
       "<p>622 rows × 7 columns</p>\n",
       "</div>"
      ],
      "text/plain": [
       "                                                  NAME  \\\n",
       "0                                              Abalone   \n",
       "1                                                Adult   \n",
       "2                                            Annealing   \n",
       "3                         Anonymous Microsoft Web Data   \n",
       "4                                           Arrhythmia   \n",
       "..                                                 ...   \n",
       "617  Influenza outbreak event prediction via Twitte...   \n",
       "618                      Turkish Music Emotion Dataset   \n",
       "619                      Maternal Health Risk Data Set   \n",
       "620                          Room Occupancy Estimation   \n",
       "621  Image Recognition Task Execution Times in Mobi...   \n",
       "\n",
       "                     DATA TYPES          DEFAULT TASK  \\\n",
       "0                 Multivariate        Classification    \n",
       "1                 Multivariate        Classification    \n",
       "2                 Multivariate        Classification    \n",
       "3                                Recommender-Systems    \n",
       "4                 Multivariate        Classification    \n",
       "..                          ...                   ...   \n",
       "617               Multivariate        Classification    \n",
       "618               Multivariate        Classification    \n",
       "619                                   Classification    \n",
       "620  Multivariate, Time-Series        Classification    \n",
       "621                 Univariate            Regression    \n",
       "\n",
       "                 ATTRIBUTE TYPES INSTANCES ATTRIBUTES   YEAR  \n",
       "0    Categorical, Integer, Real      4177          8   1995   \n",
       "1          Categorical, Integer     48842         14   1996   \n",
       "2    Categorical, Integer, Real       798         38          \n",
       "3                   Categorical     37711        294   1998   \n",
       "4    Categorical, Integer, Real       452        279   1998   \n",
       "..                           ...       ...        ...    ...  \n",
       "617               Integer, Real     75840        525   2020   \n",
       "618               Integer, Real       400         50   2020   \n",
       "619                                  1014          7   2020   \n",
       "620                        Real     10129         16   2021   \n",
       "621                        Real      4000          2   2021   \n",
       "\n",
       "[622 rows x 7 columns]"
      ]
     },
     "execution_count": 503,
     "metadata": {},
     "output_type": "execute_result"
    }
   ],
   "source": [
    "Data_sets_df"
   ]
  },
  {
   "cell_type": "code",
   "execution_count": 504,
   "id": "361dcdd9",
   "metadata": {},
   "outputs": [],
   "source": [
    "# convert into csv file\n",
    "\n",
    "Data_sets_df.to_csv('uci_ml_resp_dataset')"
   ]
  },
  {
   "cell_type": "code",
   "execution_count": 505,
   "id": "65378bc2",
   "metadata": {},
   "outputs": [
    {
     "data": {
      "text/html": [
       "<div>\n",
       "<style scoped>\n",
       "    .dataframe tbody tr th:only-of-type {\n",
       "        vertical-align: middle;\n",
       "    }\n",
       "\n",
       "    .dataframe tbody tr th {\n",
       "        vertical-align: top;\n",
       "    }\n",
       "\n",
       "    .dataframe thead th {\n",
       "        text-align: right;\n",
       "    }\n",
       "</style>\n",
       "<table border=\"1\" class=\"dataframe\">\n",
       "  <thead>\n",
       "    <tr style=\"text-align: right;\">\n",
       "      <th></th>\n",
       "      <th>Unnamed: 0</th>\n",
       "      <th>NAME</th>\n",
       "      <th>DATA TYPES</th>\n",
       "      <th>DEFAULT TASK</th>\n",
       "      <th>ATTRIBUTE TYPES</th>\n",
       "      <th>INSTANCES</th>\n",
       "      <th>ATTRIBUTES</th>\n",
       "      <th>YEAR</th>\n",
       "    </tr>\n",
       "  </thead>\n",
       "  <tbody>\n",
       "    <tr>\n",
       "      <th>0</th>\n",
       "      <td>0</td>\n",
       "      <td>Abalone</td>\n",
       "      <td>Multivariate</td>\n",
       "      <td>Classification</td>\n",
       "      <td>Categorical, Integer, Real</td>\n",
       "      <td>4177</td>\n",
       "      <td>8</td>\n",
       "      <td>1995</td>\n",
       "    </tr>\n",
       "    <tr>\n",
       "      <th>1</th>\n",
       "      <td>1</td>\n",
       "      <td>Adult</td>\n",
       "      <td>Multivariate</td>\n",
       "      <td>Classification</td>\n",
       "      <td>Categorical, Integer</td>\n",
       "      <td>48842</td>\n",
       "      <td>14</td>\n",
       "      <td>1996</td>\n",
       "    </tr>\n",
       "    <tr>\n",
       "      <th>2</th>\n",
       "      <td>2</td>\n",
       "      <td>Annealing</td>\n",
       "      <td>Multivariate</td>\n",
       "      <td>Classification</td>\n",
       "      <td>Categorical, Integer, Real</td>\n",
       "      <td>798</td>\n",
       "      <td>38</td>\n",
       "      <td></td>\n",
       "    </tr>\n",
       "    <tr>\n",
       "      <th>3</th>\n",
       "      <td>3</td>\n",
       "      <td>Anonymous Microsoft Web Data</td>\n",
       "      <td></td>\n",
       "      <td>Recommender-Systems</td>\n",
       "      <td>Categorical</td>\n",
       "      <td>37711</td>\n",
       "      <td>294</td>\n",
       "      <td>1998</td>\n",
       "    </tr>\n",
       "    <tr>\n",
       "      <th>4</th>\n",
       "      <td>4</td>\n",
       "      <td>Arrhythmia</td>\n",
       "      <td>Multivariate</td>\n",
       "      <td>Classification</td>\n",
       "      <td>Categorical, Integer, Real</td>\n",
       "      <td>452</td>\n",
       "      <td>279</td>\n",
       "      <td>1998</td>\n",
       "    </tr>\n",
       "    <tr>\n",
       "      <th>...</th>\n",
       "      <td>...</td>\n",
       "      <td>...</td>\n",
       "      <td>...</td>\n",
       "      <td>...</td>\n",
       "      <td>...</td>\n",
       "      <td>...</td>\n",
       "      <td>...</td>\n",
       "      <td>...</td>\n",
       "    </tr>\n",
       "    <tr>\n",
       "      <th>617</th>\n",
       "      <td>617</td>\n",
       "      <td>Influenza outbreak event prediction via Twitte...</td>\n",
       "      <td>Multivariate</td>\n",
       "      <td>Classification</td>\n",
       "      <td>Integer, Real</td>\n",
       "      <td>75840</td>\n",
       "      <td>525</td>\n",
       "      <td>2020</td>\n",
       "    </tr>\n",
       "    <tr>\n",
       "      <th>618</th>\n",
       "      <td>618</td>\n",
       "      <td>Turkish Music Emotion Dataset</td>\n",
       "      <td>Multivariate</td>\n",
       "      <td>Classification</td>\n",
       "      <td>Integer, Real</td>\n",
       "      <td>400</td>\n",
       "      <td>50</td>\n",
       "      <td>2020</td>\n",
       "    </tr>\n",
       "    <tr>\n",
       "      <th>619</th>\n",
       "      <td>619</td>\n",
       "      <td>Maternal Health Risk Data Set</td>\n",
       "      <td></td>\n",
       "      <td>Classification</td>\n",
       "      <td></td>\n",
       "      <td>1014</td>\n",
       "      <td>7</td>\n",
       "      <td>2020</td>\n",
       "    </tr>\n",
       "    <tr>\n",
       "      <th>620</th>\n",
       "      <td>620</td>\n",
       "      <td>Room Occupancy Estimation</td>\n",
       "      <td>Multivariate, Time-Series</td>\n",
       "      <td>Classification</td>\n",
       "      <td>Real</td>\n",
       "      <td>10129</td>\n",
       "      <td>16</td>\n",
       "      <td>2021</td>\n",
       "    </tr>\n",
       "    <tr>\n",
       "      <th>621</th>\n",
       "      <td>621</td>\n",
       "      <td>Image Recognition Task Execution Times in Mobi...</td>\n",
       "      <td>Univariate</td>\n",
       "      <td>Regression</td>\n",
       "      <td>Real</td>\n",
       "      <td>4000</td>\n",
       "      <td>2</td>\n",
       "      <td>2021</td>\n",
       "    </tr>\n",
       "  </tbody>\n",
       "</table>\n",
       "<p>622 rows × 8 columns</p>\n",
       "</div>"
      ],
      "text/plain": [
       "     Unnamed: 0                                               NAME  \\\n",
       "0             0                                            Abalone   \n",
       "1             1                                              Adult   \n",
       "2             2                                          Annealing   \n",
       "3             3                       Anonymous Microsoft Web Data   \n",
       "4             4                                         Arrhythmia   \n",
       "..          ...                                                ...   \n",
       "617         617  Influenza outbreak event prediction via Twitte...   \n",
       "618         618                      Turkish Music Emotion Dataset   \n",
       "619         619                      Maternal Health Risk Data Set   \n",
       "620         620                          Room Occupancy Estimation   \n",
       "621         621  Image Recognition Task Execution Times in Mobi...   \n",
       "\n",
       "                     DATA TYPES          DEFAULT TASK  \\\n",
       "0                 Multivariate        Classification    \n",
       "1                 Multivariate        Classification    \n",
       "2                 Multivariate        Classification    \n",
       "3                                Recommender-Systems    \n",
       "4                 Multivariate        Classification    \n",
       "..                          ...                   ...   \n",
       "617               Multivariate        Classification    \n",
       "618               Multivariate        Classification    \n",
       "619                                   Classification    \n",
       "620  Multivariate, Time-Series        Classification    \n",
       "621                 Univariate            Regression    \n",
       "\n",
       "                 ATTRIBUTE TYPES INSTANCES ATTRIBUTES   YEAR  \n",
       "0    Categorical, Integer, Real      4177          8   1995   \n",
       "1          Categorical, Integer     48842         14   1996   \n",
       "2    Categorical, Integer, Real       798         38          \n",
       "3                   Categorical     37711        294   1998   \n",
       "4    Categorical, Integer, Real       452        279   1998   \n",
       "..                           ...       ...        ...    ...  \n",
       "617               Integer, Real     75840        525   2020   \n",
       "618               Integer, Real       400         50   2020   \n",
       "619                                  1014          7   2020   \n",
       "620                        Real     10129         16   2021   \n",
       "621                        Real      4000          2   2021   \n",
       "\n",
       "[622 rows x 8 columns]"
      ]
     },
     "execution_count": 505,
     "metadata": {},
     "output_type": "execute_result"
    }
   ],
   "source": [
    "# read csv file \n",
    "\n",
    "df_rd = pd.read_csv('uci_ml_resp_dataset')\n",
    "df_rd"
   ]
  },
  {
   "cell_type": "code",
   "execution_count": 506,
   "id": "5e2dcc9a",
   "metadata": {},
   "outputs": [],
   "source": [
    "driver.close()"
   ]
  },
  {
   "cell_type": "code",
   "execution_count": null,
   "id": "84d5c47f",
   "metadata": {},
   "outputs": [],
   "source": []
  }
 ],
 "metadata": {
  "kernelspec": {
   "display_name": "Python 3 (ipykernel)",
   "language": "python",
   "name": "python3"
  },
  "language_info": {
   "codemirror_mode": {
    "name": "ipython",
    "version": 3
   },
   "file_extension": ".py",
   "mimetype": "text/x-python",
   "name": "python",
   "nbconvert_exporter": "python",
   "pygments_lexer": "ipython3",
   "version": "3.9.7"
  }
 },
 "nbformat": 4,
 "nbformat_minor": 5
}
